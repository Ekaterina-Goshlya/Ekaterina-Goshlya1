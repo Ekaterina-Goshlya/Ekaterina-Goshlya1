{
 "cells": [
  {
   "cell_type": "markdown",
   "metadata": {
    "id": "-VFbjcb3Awb7"
   },
   "source": [
    "# Исследование объявлений о продаже квартир\n",
    "\n",
    "В нашем распоряжении данные сервиса Яндекс Недвижимость — архив объявлений о продаже квартир в Санкт-Петербурге и соседних населённых пунктах за несколько лет. Нам нужно научиться определять рыночную стоимость объектов недвижимости. Для этого проведём исследовательский анализ данных и установим параметры, влияющие на цену объектов. Это позволит построить автоматизированную систему: она отследит аномалии и мошенническую деятельность.\n",
    "\n",
    "По каждой квартире на продажу доступны два вида данных. Первые вписаны пользователем, вторые — получены автоматически на основе картографических данных. Например, расстояние до центра, аэропорта и других объектов — эти данные автоматически получены из геосервисов. Количество парков и водоёмов также заполняется без участия пользователя."
   ]
  },
  {
   "cell_type": "markdown",
   "metadata": {},
   "source": [
    "**План работы:**\n",
    "1. Изучить общую информацию файла с данными \n",
    "2. Предоработака данных: \n",
    "    - найти пропуски и заменить \n",
    "    - рассмотреть и заменить(если нужно) тип данных\n",
    "    - изучить уникальные значения и устранить неявные дубликаты\n",
    "3. Добавить в таблицу столбцы \n",
    "4. Исследовательский анализ данных \n",
    "    - изучить и построить гистограммы по параметрам (общая пл., жилая пл., пл. кухни, цена объекта, кол-во комнат, высота потолков, тип этажа квартиры, общее кол-во этажей в доме, расстояние до центра, расстояние до парка)\n",
    "    - изучить как быстро продавались квартиры (гистограмма, среднее и медиана)\n",
    "    - зависит ли цена от( общ. площ., жилой площ., площ. кухни, кол-ва комнат, этажа, даты размещения)\n",
    "    - средняя цена 1-го кв.м. в 10 насел. пунктах \n",
    "    - средняя стоим. квартир в Санкт-Петербурге на разном удалении от центра.\n",
    "5. Общий вывод"
   ]
  },
  {
   "cell_type": "markdown",
   "metadata": {
    "id": "aeFLH07FAwb9"
   },
   "source": [
    "### Откроем файл с данными и изучим общую информацию"
   ]
  },
  {
   "cell_type": "code",
   "execution_count": 1,
   "metadata": {
    "id": "7MZxY65pAwb9"
   },
   "outputs": [
    {
     "data": {
      "text/html": [
       "<div>\n",
       "<style scoped>\n",
       "    .dataframe tbody tr th:only-of-type {\n",
       "        vertical-align: middle;\n",
       "    }\n",
       "\n",
       "    .dataframe tbody tr th {\n",
       "        vertical-align: top;\n",
       "    }\n",
       "\n",
       "    .dataframe thead th {\n",
       "        text-align: right;\n",
       "    }\n",
       "</style>\n",
       "<table border=\"1\" class=\"dataframe\">\n",
       "  <thead>\n",
       "    <tr style=\"text-align: right;\">\n",
       "      <th></th>\n",
       "      <th>total_images</th>\n",
       "      <th>last_price</th>\n",
       "      <th>total_area</th>\n",
       "      <th>first_day_exposition</th>\n",
       "      <th>rooms</th>\n",
       "      <th>ceiling_height</th>\n",
       "      <th>floors_total</th>\n",
       "      <th>living_area</th>\n",
       "      <th>floor</th>\n",
       "      <th>is_apartment</th>\n",
       "      <th>...</th>\n",
       "      <th>kitchen_area</th>\n",
       "      <th>balcony</th>\n",
       "      <th>locality_name</th>\n",
       "      <th>airports_nearest</th>\n",
       "      <th>cityCenters_nearest</th>\n",
       "      <th>parks_around3000</th>\n",
       "      <th>parks_nearest</th>\n",
       "      <th>ponds_around3000</th>\n",
       "      <th>ponds_nearest</th>\n",
       "      <th>days_exposition</th>\n",
       "    </tr>\n",
       "  </thead>\n",
       "  <tbody>\n",
       "    <tr>\n",
       "      <th>0</th>\n",
       "      <td>20</td>\n",
       "      <td>13000000.0</td>\n",
       "      <td>108.00</td>\n",
       "      <td>2019-03-07T00:00:00</td>\n",
       "      <td>3</td>\n",
       "      <td>2.70</td>\n",
       "      <td>16.0</td>\n",
       "      <td>51.0</td>\n",
       "      <td>8</td>\n",
       "      <td>NaN</td>\n",
       "      <td>...</td>\n",
       "      <td>25.00</td>\n",
       "      <td>NaN</td>\n",
       "      <td>Санкт-Петербург</td>\n",
       "      <td>18863.0</td>\n",
       "      <td>16028.0</td>\n",
       "      <td>1.0</td>\n",
       "      <td>482.0</td>\n",
       "      <td>2.0</td>\n",
       "      <td>755.0</td>\n",
       "      <td>NaN</td>\n",
       "    </tr>\n",
       "    <tr>\n",
       "      <th>1</th>\n",
       "      <td>7</td>\n",
       "      <td>3350000.0</td>\n",
       "      <td>40.40</td>\n",
       "      <td>2018-12-04T00:00:00</td>\n",
       "      <td>1</td>\n",
       "      <td>NaN</td>\n",
       "      <td>11.0</td>\n",
       "      <td>18.6</td>\n",
       "      <td>1</td>\n",
       "      <td>NaN</td>\n",
       "      <td>...</td>\n",
       "      <td>11.00</td>\n",
       "      <td>2.0</td>\n",
       "      <td>посёлок Шушары</td>\n",
       "      <td>12817.0</td>\n",
       "      <td>18603.0</td>\n",
       "      <td>0.0</td>\n",
       "      <td>NaN</td>\n",
       "      <td>0.0</td>\n",
       "      <td>NaN</td>\n",
       "      <td>81.0</td>\n",
       "    </tr>\n",
       "    <tr>\n",
       "      <th>2</th>\n",
       "      <td>10</td>\n",
       "      <td>5196000.0</td>\n",
       "      <td>56.00</td>\n",
       "      <td>2015-08-20T00:00:00</td>\n",
       "      <td>2</td>\n",
       "      <td>NaN</td>\n",
       "      <td>5.0</td>\n",
       "      <td>34.3</td>\n",
       "      <td>4</td>\n",
       "      <td>NaN</td>\n",
       "      <td>...</td>\n",
       "      <td>8.30</td>\n",
       "      <td>0.0</td>\n",
       "      <td>Санкт-Петербург</td>\n",
       "      <td>21741.0</td>\n",
       "      <td>13933.0</td>\n",
       "      <td>1.0</td>\n",
       "      <td>90.0</td>\n",
       "      <td>2.0</td>\n",
       "      <td>574.0</td>\n",
       "      <td>558.0</td>\n",
       "    </tr>\n",
       "    <tr>\n",
       "      <th>3</th>\n",
       "      <td>0</td>\n",
       "      <td>64900000.0</td>\n",
       "      <td>159.00</td>\n",
       "      <td>2015-07-24T00:00:00</td>\n",
       "      <td>3</td>\n",
       "      <td>NaN</td>\n",
       "      <td>14.0</td>\n",
       "      <td>NaN</td>\n",
       "      <td>9</td>\n",
       "      <td>NaN</td>\n",
       "      <td>...</td>\n",
       "      <td>NaN</td>\n",
       "      <td>0.0</td>\n",
       "      <td>Санкт-Петербург</td>\n",
       "      <td>28098.0</td>\n",
       "      <td>6800.0</td>\n",
       "      <td>2.0</td>\n",
       "      <td>84.0</td>\n",
       "      <td>3.0</td>\n",
       "      <td>234.0</td>\n",
       "      <td>424.0</td>\n",
       "    </tr>\n",
       "    <tr>\n",
       "      <th>4</th>\n",
       "      <td>2</td>\n",
       "      <td>10000000.0</td>\n",
       "      <td>100.00</td>\n",
       "      <td>2018-06-19T00:00:00</td>\n",
       "      <td>2</td>\n",
       "      <td>3.03</td>\n",
       "      <td>14.0</td>\n",
       "      <td>32.0</td>\n",
       "      <td>13</td>\n",
       "      <td>NaN</td>\n",
       "      <td>...</td>\n",
       "      <td>41.00</td>\n",
       "      <td>NaN</td>\n",
       "      <td>Санкт-Петербург</td>\n",
       "      <td>31856.0</td>\n",
       "      <td>8098.0</td>\n",
       "      <td>2.0</td>\n",
       "      <td>112.0</td>\n",
       "      <td>1.0</td>\n",
       "      <td>48.0</td>\n",
       "      <td>121.0</td>\n",
       "    </tr>\n",
       "    <tr>\n",
       "      <th>...</th>\n",
       "      <td>...</td>\n",
       "      <td>...</td>\n",
       "      <td>...</td>\n",
       "      <td>...</td>\n",
       "      <td>...</td>\n",
       "      <td>...</td>\n",
       "      <td>...</td>\n",
       "      <td>...</td>\n",
       "      <td>...</td>\n",
       "      <td>...</td>\n",
       "      <td>...</td>\n",
       "      <td>...</td>\n",
       "      <td>...</td>\n",
       "      <td>...</td>\n",
       "      <td>...</td>\n",
       "      <td>...</td>\n",
       "      <td>...</td>\n",
       "      <td>...</td>\n",
       "      <td>...</td>\n",
       "      <td>...</td>\n",
       "      <td>...</td>\n",
       "    </tr>\n",
       "    <tr>\n",
       "      <th>23694</th>\n",
       "      <td>9</td>\n",
       "      <td>9700000.0</td>\n",
       "      <td>133.81</td>\n",
       "      <td>2017-03-21T00:00:00</td>\n",
       "      <td>3</td>\n",
       "      <td>3.70</td>\n",
       "      <td>5.0</td>\n",
       "      <td>73.3</td>\n",
       "      <td>3</td>\n",
       "      <td>NaN</td>\n",
       "      <td>...</td>\n",
       "      <td>13.83</td>\n",
       "      <td>NaN</td>\n",
       "      <td>Санкт-Петербург</td>\n",
       "      <td>24665.0</td>\n",
       "      <td>4232.0</td>\n",
       "      <td>1.0</td>\n",
       "      <td>796.0</td>\n",
       "      <td>3.0</td>\n",
       "      <td>381.0</td>\n",
       "      <td>NaN</td>\n",
       "    </tr>\n",
       "    <tr>\n",
       "      <th>23695</th>\n",
       "      <td>14</td>\n",
       "      <td>3100000.0</td>\n",
       "      <td>59.00</td>\n",
       "      <td>2018-01-15T00:00:00</td>\n",
       "      <td>3</td>\n",
       "      <td>NaN</td>\n",
       "      <td>5.0</td>\n",
       "      <td>38.0</td>\n",
       "      <td>4</td>\n",
       "      <td>NaN</td>\n",
       "      <td>...</td>\n",
       "      <td>8.50</td>\n",
       "      <td>NaN</td>\n",
       "      <td>Тосно</td>\n",
       "      <td>NaN</td>\n",
       "      <td>NaN</td>\n",
       "      <td>NaN</td>\n",
       "      <td>NaN</td>\n",
       "      <td>NaN</td>\n",
       "      <td>NaN</td>\n",
       "      <td>45.0</td>\n",
       "    </tr>\n",
       "    <tr>\n",
       "      <th>23696</th>\n",
       "      <td>18</td>\n",
       "      <td>2500000.0</td>\n",
       "      <td>56.70</td>\n",
       "      <td>2018-02-11T00:00:00</td>\n",
       "      <td>2</td>\n",
       "      <td>NaN</td>\n",
       "      <td>3.0</td>\n",
       "      <td>29.7</td>\n",
       "      <td>1</td>\n",
       "      <td>NaN</td>\n",
       "      <td>...</td>\n",
       "      <td>NaN</td>\n",
       "      <td>NaN</td>\n",
       "      <td>село Рождествено</td>\n",
       "      <td>NaN</td>\n",
       "      <td>NaN</td>\n",
       "      <td>NaN</td>\n",
       "      <td>NaN</td>\n",
       "      <td>NaN</td>\n",
       "      <td>NaN</td>\n",
       "      <td>NaN</td>\n",
       "    </tr>\n",
       "    <tr>\n",
       "      <th>23697</th>\n",
       "      <td>13</td>\n",
       "      <td>11475000.0</td>\n",
       "      <td>76.75</td>\n",
       "      <td>2017-03-28T00:00:00</td>\n",
       "      <td>2</td>\n",
       "      <td>3.00</td>\n",
       "      <td>17.0</td>\n",
       "      <td>NaN</td>\n",
       "      <td>12</td>\n",
       "      <td>NaN</td>\n",
       "      <td>...</td>\n",
       "      <td>23.30</td>\n",
       "      <td>2.0</td>\n",
       "      <td>Санкт-Петербург</td>\n",
       "      <td>39140.0</td>\n",
       "      <td>10364.0</td>\n",
       "      <td>2.0</td>\n",
       "      <td>173.0</td>\n",
       "      <td>3.0</td>\n",
       "      <td>196.0</td>\n",
       "      <td>602.0</td>\n",
       "    </tr>\n",
       "    <tr>\n",
       "      <th>23698</th>\n",
       "      <td>4</td>\n",
       "      <td>1350000.0</td>\n",
       "      <td>32.30</td>\n",
       "      <td>2017-07-21T00:00:00</td>\n",
       "      <td>1</td>\n",
       "      <td>2.50</td>\n",
       "      <td>5.0</td>\n",
       "      <td>12.3</td>\n",
       "      <td>1</td>\n",
       "      <td>NaN</td>\n",
       "      <td>...</td>\n",
       "      <td>9.00</td>\n",
       "      <td>NaN</td>\n",
       "      <td>поселок Новый Учхоз</td>\n",
       "      <td>NaN</td>\n",
       "      <td>NaN</td>\n",
       "      <td>NaN</td>\n",
       "      <td>NaN</td>\n",
       "      <td>NaN</td>\n",
       "      <td>NaN</td>\n",
       "      <td>NaN</td>\n",
       "    </tr>\n",
       "  </tbody>\n",
       "</table>\n",
       "<p>23699 rows × 22 columns</p>\n",
       "</div>"
      ],
      "text/plain": [
       "       total_images  last_price  total_area first_day_exposition  rooms  \\\n",
       "0                20  13000000.0      108.00  2019-03-07T00:00:00      3   \n",
       "1                 7   3350000.0       40.40  2018-12-04T00:00:00      1   \n",
       "2                10   5196000.0       56.00  2015-08-20T00:00:00      2   \n",
       "3                 0  64900000.0      159.00  2015-07-24T00:00:00      3   \n",
       "4                 2  10000000.0      100.00  2018-06-19T00:00:00      2   \n",
       "...             ...         ...         ...                  ...    ...   \n",
       "23694             9   9700000.0      133.81  2017-03-21T00:00:00      3   \n",
       "23695            14   3100000.0       59.00  2018-01-15T00:00:00      3   \n",
       "23696            18   2500000.0       56.70  2018-02-11T00:00:00      2   \n",
       "23697            13  11475000.0       76.75  2017-03-28T00:00:00      2   \n",
       "23698             4   1350000.0       32.30  2017-07-21T00:00:00      1   \n",
       "\n",
       "       ceiling_height  floors_total  living_area  floor is_apartment  ...  \\\n",
       "0                2.70          16.0         51.0      8          NaN  ...   \n",
       "1                 NaN          11.0         18.6      1          NaN  ...   \n",
       "2                 NaN           5.0         34.3      4          NaN  ...   \n",
       "3                 NaN          14.0          NaN      9          NaN  ...   \n",
       "4                3.03          14.0         32.0     13          NaN  ...   \n",
       "...               ...           ...          ...    ...          ...  ...   \n",
       "23694            3.70           5.0         73.3      3          NaN  ...   \n",
       "23695             NaN           5.0         38.0      4          NaN  ...   \n",
       "23696             NaN           3.0         29.7      1          NaN  ...   \n",
       "23697            3.00          17.0          NaN     12          NaN  ...   \n",
       "23698            2.50           5.0         12.3      1          NaN  ...   \n",
       "\n",
       "       kitchen_area  balcony        locality_name  airports_nearest  \\\n",
       "0             25.00      NaN      Санкт-Петербург           18863.0   \n",
       "1             11.00      2.0       посёлок Шушары           12817.0   \n",
       "2              8.30      0.0      Санкт-Петербург           21741.0   \n",
       "3               NaN      0.0      Санкт-Петербург           28098.0   \n",
       "4             41.00      NaN      Санкт-Петербург           31856.0   \n",
       "...             ...      ...                  ...               ...   \n",
       "23694         13.83      NaN      Санкт-Петербург           24665.0   \n",
       "23695          8.50      NaN                Тосно               NaN   \n",
       "23696           NaN      NaN     село Рождествено               NaN   \n",
       "23697         23.30      2.0      Санкт-Петербург           39140.0   \n",
       "23698          9.00      NaN  поселок Новый Учхоз               NaN   \n",
       "\n",
       "      cityCenters_nearest  parks_around3000  parks_nearest  ponds_around3000  \\\n",
       "0                 16028.0               1.0          482.0               2.0   \n",
       "1                 18603.0               0.0            NaN               0.0   \n",
       "2                 13933.0               1.0           90.0               2.0   \n",
       "3                  6800.0               2.0           84.0               3.0   \n",
       "4                  8098.0               2.0          112.0               1.0   \n",
       "...                   ...               ...            ...               ...   \n",
       "23694              4232.0               1.0          796.0               3.0   \n",
       "23695                 NaN               NaN            NaN               NaN   \n",
       "23696                 NaN               NaN            NaN               NaN   \n",
       "23697             10364.0               2.0          173.0               3.0   \n",
       "23698                 NaN               NaN            NaN               NaN   \n",
       "\n",
       "       ponds_nearest  days_exposition  \n",
       "0              755.0              NaN  \n",
       "1                NaN             81.0  \n",
       "2              574.0            558.0  \n",
       "3              234.0            424.0  \n",
       "4               48.0            121.0  \n",
       "...              ...              ...  \n",
       "23694          381.0              NaN  \n",
       "23695            NaN             45.0  \n",
       "23696            NaN              NaN  \n",
       "23697          196.0            602.0  \n",
       "23698            NaN              NaN  \n",
       "\n",
       "[23699 rows x 22 columns]"
      ]
     },
     "execution_count": 1,
     "metadata": {},
     "output_type": "execute_result"
    }
   ],
   "source": [
    "#Импортируем библиотеку и читаем файл\n",
    "import pandas as pd\n",
    "import matplotlib.pyplot as plt\n",
    "\n",
    "data = pd.read_csv('/datasets/real_estate_data.csv', sep='\\t')\n",
    "data"
   ]
  },
  {
   "cell_type": "code",
   "execution_count": 2,
   "metadata": {},
   "outputs": [
    {
     "name": "stdout",
     "output_type": "stream",
     "text": [
      "<class 'pandas.core.frame.DataFrame'>\n",
      "RangeIndex: 23699 entries, 0 to 23698\n",
      "Data columns (total 22 columns):\n",
      " #   Column                Non-Null Count  Dtype  \n",
      "---  ------                --------------  -----  \n",
      " 0   total_images          23699 non-null  int64  \n",
      " 1   last_price            23699 non-null  float64\n",
      " 2   total_area            23699 non-null  float64\n",
      " 3   first_day_exposition  23699 non-null  object \n",
      " 4   rooms                 23699 non-null  int64  \n",
      " 5   ceiling_height        14504 non-null  float64\n",
      " 6   floors_total          23613 non-null  float64\n",
      " 7   living_area           21796 non-null  float64\n",
      " 8   floor                 23699 non-null  int64  \n",
      " 9   is_apartment          2775 non-null   object \n",
      " 10  studio                23699 non-null  bool   \n",
      " 11  open_plan             23699 non-null  bool   \n",
      " 12  kitchen_area          21421 non-null  float64\n",
      " 13  balcony               12180 non-null  float64\n",
      " 14  locality_name         23650 non-null  object \n",
      " 15  airports_nearest      18157 non-null  float64\n",
      " 16  cityCenters_nearest   18180 non-null  float64\n",
      " 17  parks_around3000      18181 non-null  float64\n",
      " 18  parks_nearest         8079 non-null   float64\n",
      " 19  ponds_around3000      18181 non-null  float64\n",
      " 20  ponds_nearest         9110 non-null   float64\n",
      " 21  days_exposition       20518 non-null  float64\n",
      "dtypes: bool(2), float64(14), int64(3), object(3)\n",
      "memory usage: 3.7+ MB\n"
     ]
    }
   ],
   "source": [
    "#Смотрим информацию о данных\n",
    "data.info()"
   ]
  },
  {
   "cell_type": "code",
   "execution_count": 3,
   "metadata": {},
   "outputs": [
    {
     "data": {
      "text/plain": [
       "0"
      ]
     },
     "execution_count": 3,
     "metadata": {},
     "output_type": "execute_result"
    }
   ],
   "source": [
    "#Уточняем количество явных дубликатов в DataFrame\n",
    "data.duplicated().sum()"
   ]
  },
  {
   "cell_type": "code",
   "execution_count": 4,
   "metadata": {},
   "outputs": [
    {
     "data": {
      "text/plain": [
       "array([[<AxesSubplot:title={'center':'total_images'}>,\n",
       "        <AxesSubplot:title={'center':'last_price'}>,\n",
       "        <AxesSubplot:title={'center':'total_area'}>,\n",
       "        <AxesSubplot:title={'center':'rooms'}>],\n",
       "       [<AxesSubplot:title={'center':'ceiling_height'}>,\n",
       "        <AxesSubplot:title={'center':'floors_total'}>,\n",
       "        <AxesSubplot:title={'center':'living_area'}>,\n",
       "        <AxesSubplot:title={'center':'floor'}>],\n",
       "       [<AxesSubplot:title={'center':'kitchen_area'}>,\n",
       "        <AxesSubplot:title={'center':'balcony'}>,\n",
       "        <AxesSubplot:title={'center':'airports_nearest'}>,\n",
       "        <AxesSubplot:title={'center':'cityCenters_nearest'}>],\n",
       "       [<AxesSubplot:title={'center':'parks_around3000'}>,\n",
       "        <AxesSubplot:title={'center':'parks_nearest'}>,\n",
       "        <AxesSubplot:title={'center':'ponds_around3000'}>,\n",
       "        <AxesSubplot:title={'center':'ponds_nearest'}>],\n",
       "       [<AxesSubplot:title={'center':'days_exposition'}>, <AxesSubplot:>,\n",
       "        <AxesSubplot:>, <AxesSubplot:>]], dtype=object)"
      ]
     },
     "execution_count": 4,
     "metadata": {},
     "output_type": "execute_result"
    },
    {
     "data": {
      "image/png": "[encoded data removed]",
      "text/plain": [
       "<Figure size 1080x1440 with 20 Axes>"
      ]
     },
     "metadata": {
      "needs_background": "light"
     },
     "output_type": "display_data"
    }
   ],
   "source": [
    "#Выводим гистрограммы \n",
    "data.hist(figsize=(15, 20))\n"
   ]
  },
  {
   "cell_type": "code",
   "execution_count": 5,
   "metadata": {},
   "outputs": [
    {
     "name": "stdout",
     "output_type": "stream",
     "text": [
      "DataFrame Shape : (23699, 22)\n",
      "rows_number : 23699\n",
      "columns_number : 22\n"
     ]
    }
   ],
   "source": [
    "shape = data.shape \n",
    "print('DataFrame Shape :', shape) \n",
    "print('rows_number :', shape[0]) \n",
    "print('columns_number :', shape[1])"
   ]
  },
  {
   "cell_type": "markdown",
   "metadata": {},
   "source": [
    "**Вывод**: В данных 23699 записи. Для целого ряда столбцов, есть пропущенные значения и некорректный тип данных. По гисторгаммам видно, что в данных есть аномальные значения. Явные дубликаты отсутствуют. Данные признаны полными и достаточными для исследования."
   ]
  },
  {
   "cell_type": "markdown",
   "metadata": {
    "id": "-O5NtivEAwb9"
   },
   "source": [
    "### Выполним предобработку данных"
   ]
  },
  {
   "cell_type": "code",
   "execution_count": 6,
   "metadata": {
    "id": "7v3vAeTuAwb-"
   },
   "outputs": [
    {
     "data": {
      "text/plain": [
       "total_images                0\n",
       "last_price                  0\n",
       "total_area                  0\n",
       "first_day_exposition        0\n",
       "rooms                       0\n",
       "ceiling_height           9195\n",
       "floors_total               86\n",
       "living_area              1903\n",
       "floor                       0\n",
       "is_apartment            20924\n",
       "studio                      0\n",
       "open_plan                   0\n",
       "kitchen_area             2278\n",
       "balcony                 11519\n",
       "locality_name              49\n",
       "airports_nearest         5542\n",
       "cityCenters_nearest      5519\n",
       "parks_around3000         5518\n",
       "parks_nearest           15620\n",
       "ponds_around3000         5518\n",
       "ponds_nearest           14589\n",
       "days_exposition          3181\n",
       "dtype: int64"
      ]
     },
     "execution_count": 6,
     "metadata": {},
     "output_type": "execute_result"
    }
   ],
   "source": [
    "#Уточняем количество пропусков \n",
    "data.isna().sum()"
   ]
  },
  {
   "cell_type": "markdown",
   "metadata": {},
   "source": [
    "Переименуем название столбца cityCenters_nearest на city_centers_nearest"
   ]
  },
  {
   "cell_type": "code",
   "execution_count": 7,
   "metadata": {},
   "outputs": [
    {
     "data": {
      "text/html": [
       "<div>\n",
       "<style scoped>\n",
       "    .dataframe tbody tr th:only-of-type {\n",
       "        vertical-align: middle;\n",
       "    }\n",
       "\n",
       "    .dataframe tbody tr th {\n",
       "        vertical-align: top;\n",
       "    }\n",
       "\n",
       "    .dataframe thead th {\n",
       "        text-align: right;\n",
       "    }\n",
       "</style>\n",
       "<table border=\"1\" class=\"dataframe\">\n",
       "  <thead>\n",
       "    <tr style=\"text-align: right;\">\n",
       "      <th></th>\n",
       "      <th>total_images</th>\n",
       "      <th>last_price</th>\n",
       "      <th>total_area</th>\n",
       "      <th>first_day_exposition</th>\n",
       "      <th>rooms</th>\n",
       "      <th>ceiling_height</th>\n",
       "      <th>floors_total</th>\n",
       "      <th>living_area</th>\n",
       "      <th>floor</th>\n",
       "      <th>is_apartment</th>\n",
       "      <th>...</th>\n",
       "      <th>kitchen_area</th>\n",
       "      <th>balcony</th>\n",
       "      <th>locality_name</th>\n",
       "      <th>airports_nearest</th>\n",
       "      <th>city_centers_nearest</th>\n",
       "      <th>parks_around3000</th>\n",
       "      <th>parks_nearest</th>\n",
       "      <th>ponds_around3000</th>\n",
       "      <th>ponds_nearest</th>\n",
       "      <th>days_exposition</th>\n",
       "    </tr>\n",
       "  </thead>\n",
       "  <tbody>\n",
       "    <tr>\n",
       "      <th>0</th>\n",
       "      <td>20</td>\n",
       "      <td>13000000.0</td>\n",
       "      <td>108.0</td>\n",
       "      <td>2019-03-07T00:00:00</td>\n",
       "      <td>3</td>\n",
       "      <td>2.70</td>\n",
       "      <td>16.0</td>\n",
       "      <td>51.0</td>\n",
       "      <td>8</td>\n",
       "      <td>NaN</td>\n",
       "      <td>...</td>\n",
       "      <td>25.0</td>\n",
       "      <td>NaN</td>\n",
       "      <td>Санкт-Петербург</td>\n",
       "      <td>18863.0</td>\n",
       "      <td>16028.0</td>\n",
       "      <td>1.0</td>\n",
       "      <td>482.0</td>\n",
       "      <td>2.0</td>\n",
       "      <td>755.0</td>\n",
       "      <td>NaN</td>\n",
       "    </tr>\n",
       "    <tr>\n",
       "      <th>1</th>\n",
       "      <td>7</td>\n",
       "      <td>3350000.0</td>\n",
       "      <td>40.4</td>\n",
       "      <td>2018-12-04T00:00:00</td>\n",
       "      <td>1</td>\n",
       "      <td>NaN</td>\n",
       "      <td>11.0</td>\n",
       "      <td>18.6</td>\n",
       "      <td>1</td>\n",
       "      <td>NaN</td>\n",
       "      <td>...</td>\n",
       "      <td>11.0</td>\n",
       "      <td>2.0</td>\n",
       "      <td>посёлок Шушары</td>\n",
       "      <td>12817.0</td>\n",
       "      <td>18603.0</td>\n",
       "      <td>0.0</td>\n",
       "      <td>NaN</td>\n",
       "      <td>0.0</td>\n",
       "      <td>NaN</td>\n",
       "      <td>81.0</td>\n",
       "    </tr>\n",
       "    <tr>\n",
       "      <th>2</th>\n",
       "      <td>10</td>\n",
       "      <td>5196000.0</td>\n",
       "      <td>56.0</td>\n",
       "      <td>2015-08-20T00:00:00</td>\n",
       "      <td>2</td>\n",
       "      <td>NaN</td>\n",
       "      <td>5.0</td>\n",
       "      <td>34.3</td>\n",
       "      <td>4</td>\n",
       "      <td>NaN</td>\n",
       "      <td>...</td>\n",
       "      <td>8.3</td>\n",
       "      <td>0.0</td>\n",
       "      <td>Санкт-Петербург</td>\n",
       "      <td>21741.0</td>\n",
       "      <td>13933.0</td>\n",
       "      <td>1.0</td>\n",
       "      <td>90.0</td>\n",
       "      <td>2.0</td>\n",
       "      <td>574.0</td>\n",
       "      <td>558.0</td>\n",
       "    </tr>\n",
       "    <tr>\n",
       "      <th>3</th>\n",
       "      <td>0</td>\n",
       "      <td>64900000.0</td>\n",
       "      <td>159.0</td>\n",
       "      <td>2015-07-24T00:00:00</td>\n",
       "      <td>3</td>\n",
       "      <td>NaN</td>\n",
       "      <td>14.0</td>\n",
       "      <td>NaN</td>\n",
       "      <td>9</td>\n",
       "      <td>NaN</td>\n",
       "      <td>...</td>\n",
       "      <td>NaN</td>\n",
       "      <td>0.0</td>\n",
       "      <td>Санкт-Петербург</td>\n",
       "      <td>28098.0</td>\n",
       "      <td>6800.0</td>\n",
       "      <td>2.0</td>\n",
       "      <td>84.0</td>\n",
       "      <td>3.0</td>\n",
       "      <td>234.0</td>\n",
       "      <td>424.0</td>\n",
       "    </tr>\n",
       "    <tr>\n",
       "      <th>4</th>\n",
       "      <td>2</td>\n",
       "      <td>10000000.0</td>\n",
       "      <td>100.0</td>\n",
       "      <td>2018-06-19T00:00:00</td>\n",
       "      <td>2</td>\n",
       "      <td>3.03</td>\n",
       "      <td>14.0</td>\n",
       "      <td>32.0</td>\n",
       "      <td>13</td>\n",
       "      <td>NaN</td>\n",
       "      <td>...</td>\n",
       "      <td>41.0</td>\n",
       "      <td>NaN</td>\n",
       "      <td>Санкт-Петербург</td>\n",
       "      <td>31856.0</td>\n",
       "      <td>8098.0</td>\n",
       "      <td>2.0</td>\n",
       "      <td>112.0</td>\n",
       "      <td>1.0</td>\n",
       "      <td>48.0</td>\n",
       "      <td>121.0</td>\n",
       "    </tr>\n",
       "  </tbody>\n",
       "</table>\n",
       "<p>5 rows × 22 columns</p>\n",
       "</div>"
      ],
      "text/plain": [
       "   total_images  last_price  total_area first_day_exposition  rooms  \\\n",
       "0            20  13000000.0       108.0  2019-03-07T00:00:00      3   \n",
       "1             7   3350000.0        40.4  2018-12-04T00:00:00      1   \n",
       "2            10   5196000.0        56.0  2015-08-20T00:00:00      2   \n",
       "3             0  64900000.0       159.0  2015-07-24T00:00:00      3   \n",
       "4             2  10000000.0       100.0  2018-06-19T00:00:00      2   \n",
       "\n",
       "   ceiling_height  floors_total  living_area  floor is_apartment  ...  \\\n",
       "0            2.70          16.0         51.0      8          NaN  ...   \n",
       "1             NaN          11.0         18.6      1          NaN  ...   \n",
       "2             NaN           5.0         34.3      4          NaN  ...   \n",
       "3             NaN          14.0          NaN      9          NaN  ...   \n",
       "4            3.03          14.0         32.0     13          NaN  ...   \n",
       "\n",
       "   kitchen_area  balcony    locality_name  airports_nearest  \\\n",
       "0          25.0      NaN  Санкт-Петербург           18863.0   \n",
       "1          11.0      2.0   посёлок Шушары           12817.0   \n",
       "2           8.3      0.0  Санкт-Петербург           21741.0   \n",
       "3           NaN      0.0  Санкт-Петербург           28098.0   \n",
       "4          41.0      NaN  Санкт-Петербург           31856.0   \n",
       "\n",
       "  city_centers_nearest  parks_around3000  parks_nearest  ponds_around3000  \\\n",
       "0              16028.0               1.0          482.0               2.0   \n",
       "1              18603.0               0.0            NaN               0.0   \n",
       "2              13933.0               1.0           90.0               2.0   \n",
       "3               6800.0               2.0           84.0               3.0   \n",
       "4               8098.0               2.0          112.0               1.0   \n",
       "\n",
       "   ponds_nearest  days_exposition  \n",
       "0          755.0              NaN  \n",
       "1            NaN             81.0  \n",
       "2          574.0            558.0  \n",
       "3          234.0            424.0  \n",
       "4           48.0            121.0  \n",
       "\n",
       "[5 rows x 22 columns]"
      ]
     },
     "execution_count": 7,
     "metadata": {},
     "output_type": "execute_result"
    }
   ],
   "source": [
    "data = data.rename(columns = {'cityCenters_nearest':'city_centers_nearest'})\n",
    "data.head()"
   ]
  },
  {
   "cell_type": "code",
   "execution_count": 8,
   "metadata": {},
   "outputs": [],
   "source": [
    "#last_price - цена на момент снятия с публикации\n",
    "data['last_price'] = data['last_price'].astype('int')"
   ]
  },
  {
   "cell_type": "code",
   "execution_count": 9,
   "metadata": {},
   "outputs": [
    {
     "data": {
      "text/plain": [
       "array(['2019-03-07T00:00:00', '2018-12-04T00:00:00',\n",
       "       '2015-08-20T00:00:00', ..., '2014-12-29T00:00:00',\n",
       "       '2016-09-12T00:00:00', '2015-07-19T00:00:00'], dtype=object)"
      ]
     },
     "execution_count": 9,
     "metadata": {},
     "output_type": "execute_result"
    }
   ],
   "source": [
    "#first_day_exposition - дата публикации\n",
    "data['first_day_exposition'].unique()"
   ]
  },
  {
   "cell_type": "code",
   "execution_count": 10,
   "metadata": {},
   "outputs": [
    {
     "data": {
      "text/plain": [
       "array(['2019-03-07T00:00:00.000000000', '2018-12-04T00:00:00.000000000',\n",
       "       '2015-08-20T00:00:00.000000000', ...,\n",
       "       '2014-12-29T00:00:00.000000000', '2016-09-12T00:00:00.000000000',\n",
       "       '2015-07-19T00:00:00.000000000'], dtype='datetime64[ns]')"
      ]
     },
     "execution_count": 10,
     "metadata": {},
     "output_type": "execute_result"
    }
   ],
   "source": [
    "#Преобразуем формат даты \n",
    "data['first_day_exposition'] = pd.to_datetime(data['first_day_exposition'], format='%Y-%m-%dT%H:%M:%S')\n",
    "data['first_day_exposition'].unique()"
   ]
  },
  {
   "cell_type": "code",
   "execution_count": 11,
   "metadata": {},
   "outputs": [
    {
     "data": {
      "text/plain": [
       "22869    100.0\n",
       "3148      32.0\n",
       "22336     32.0\n",
       "21377     27.5\n",
       "4876      27.0\n",
       "17857     27.0\n",
       "5246      27.0\n",
       "20478     27.0\n",
       "22938     27.0\n",
       "5807      27.0\n",
       "21824     27.0\n",
       "10773     27.0\n",
       "5669      26.0\n",
       "18545     25.0\n",
       "4643      25.0\n",
       "9379      25.0\n",
       "11285     25.0\n",
       "14382     25.0\n",
       "355       25.0\n",
       "6246      25.0\n",
       "5076      24.0\n",
       "20507     22.6\n",
       "17496     20.0\n",
       "15061     14.0\n",
       "22309     10.3\n",
       "5863       8.3\n",
       "3474       8.0\n",
       "15743      8.0\n",
       "17442      8.0\n",
       "20264      6.0\n",
       "Name: ceiling_height, dtype: float64"
      ]
     },
     "execution_count": 11,
     "metadata": {},
     "output_type": "execute_result"
    }
   ],
   "source": [
    "#ceiling_height - высота потолков\n",
    "#Замена NaN на медианное значение в ceiling_height\n",
    "data['ceiling_height'] = data['ceiling_height'].fillna(data['ceiling_height'].median())\n",
    "data['ceiling_height'].sort_values(ascending=False).head(30)"
   ]
  },
  {
   "cell_type": "code",
   "execution_count": 12,
   "metadata": {},
   "outputs": [
    {
     "data": {
      "text/plain": [
       "15061    14.00\n",
       "22309    10.30\n",
       "22869    10.00\n",
       "5863      8.30\n",
       "17442     8.00\n",
       "15743     8.00\n",
       "3474      8.00\n",
       "20264     6.00\n",
       "21227     5.80\n",
       "1388      5.60\n",
       "7578      5.50\n",
       "1026      5.30\n",
       "12628     5.30\n",
       "464       5.20\n",
       "1053      5.00\n",
       "21923     4.90\n",
       "2802      4.80\n",
       "19142     4.70\n",
       "1300      4.70\n",
       "12401     4.65\n",
       "6802      4.50\n",
       "14519     4.50\n",
       "13224     4.50\n",
       "10159     4.50\n",
       "2823      4.50\n",
       "9783      4.50\n",
       "3067      4.50\n",
       "8018      4.45\n",
       "7521      4.45\n",
       "6728      4.40\n",
       "Name: ceiling_height, dtype: float64"
      ]
     },
     "execution_count": 12,
     "metadata": {},
     "output_type": "execute_result"
    }
   ],
   "source": [
    "#Замена явных ошибок ceiling_height - высота потолков \n",
    "data.loc[data['ceiling_height'] >= 20.0, 'ceiling_height'] = data['ceiling_height']/10\n",
    "data['ceiling_height'].sort_values(ascending=False).head(30)"
   ]
  },
  {
   "cell_type": "code",
   "execution_count": 13,
   "metadata": {},
   "outputs": [],
   "source": [
    "data.dropna(subset=['floors_total'],inplace=True)"
   ]
  },
  {
   "cell_type": "code",
   "execution_count": 14,
   "metadata": {},
   "outputs": [],
   "source": [
    "data['floors_total'] = data['floors_total'].astype(int)"
   ]
  },
  {
   "cell_type": "code",
   "execution_count": 15,
   "metadata": {},
   "outputs": [
    {
     "data": {
      "text/plain": [
       "0.018018018018018018"
      ]
     },
     "execution_count": 15,
     "metadata": {},
     "output_type": "execute_result"
    }
   ],
   "source": [
    "#is_apartment - аппартаменты\n",
    "data['is_apartment'].mean()"
   ]
  },
  {
   "cell_type": "markdown",
   "metadata": {},
   "source": [
    "Среднее указывает, что аппартаментов около 2 % что ближе к действительности, а следовательно при заполнении анкеты их просто неуказали, заполним знечение на False"
   ]
  },
  {
   "cell_type": "code",
   "execution_count": 16,
   "metadata": {},
   "outputs": [],
   "source": [
    "data['is_apartment'] = data['is_apartment'].fillna(False)\n",
    "# Заменяем тип данных на \"bool\"\n",
    "data['is_apartment'] = data['is_apartment'].astype(bool)"
   ]
  },
  {
   "cell_type": "code",
   "execution_count": 17,
   "metadata": {},
   "outputs": [],
   "source": [
    "#kitchen_area - площадь кухни\n",
    "#living_area - жилая площадь\n",
    "# Заменяем пустые значения жилой площади и площади кухни\n",
    "living_ratio = data['living_area'].mean() / data['total_area'].mean()\n",
    "kitchen_ratio = data['kitchen_area'].mean() / data['total_area'].mean()\n",
    "data['living_area'].fillna(living_ratio * data['total_area'], inplace=True)\n",
    "data['kitchen_area'].fillna(kitchen_ratio * data['total_area'], inplace=True)"
   ]
  },
  {
   "cell_type": "code",
   "execution_count": 18,
   "metadata": {},
   "outputs": [],
   "source": [
    "#balcony - балконы\n",
    "#Возможно собственники не указали наличие балконов, т.к. их нет.\n",
    "#Заменим значение на 0\n",
    "#Заменим тип данных \n",
    "data['balcony'] = data['balcony'].fillna(0)\n",
    "data['is_apartment'] = data['is_apartment'].astype(int)"
   ]
  },
  {
   "cell_type": "code",
   "execution_count": 19,
   "metadata": {},
   "outputs": [
    {
     "data": {
      "text/plain": [
       "{'69-й километр',\n",
       " nan,\n",
       " 'агалатово',\n",
       " 'александровская',\n",
       " 'алексеевка',\n",
       " 'аннино',\n",
       " 'аро',\n",
       " 'барышево',\n",
       " 'батово',\n",
       " 'бегуницы',\n",
       " 'белогорка',\n",
       " 'белоостров',\n",
       " 'бокситогорск',\n",
       " 'большая вруда',\n",
       " 'большая ижора',\n",
       " 'большая пустомержа',\n",
       " 'большие колпаны',\n",
       " 'большое рейзино',\n",
       " 'большой сабск',\n",
       " 'бор',\n",
       " 'борисова грива',\n",
       " 'бугры',\n",
       " 'ваганово',\n",
       " 'важины',\n",
       " 'вартемяги',\n",
       " 'вахнова кара',\n",
       " 'вещево',\n",
       " 'вознесенье',\n",
       " 'возрождение',\n",
       " 'войсковицы',\n",
       " 'войскорово',\n",
       " 'володарское',\n",
       " 'волосово',\n",
       " 'волхов',\n",
       " 'всеволожск',\n",
       " 'выборг',\n",
       " 'вырица',\n",
       " 'выскатка',\n",
       " 'высокоключевой',\n",
       " 'высоцк',\n",
       " 'гаврилово',\n",
       " 'гарболово',\n",
       " 'гатчина',\n",
       " 'гладкое',\n",
       " 'глажево',\n",
       " 'глебычево',\n",
       " 'глинка',\n",
       " 'гончарово',\n",
       " 'горбунки',\n",
       " 'городской большая ижора',\n",
       " 'городской будогощь',\n",
       " 'городской виллози',\n",
       " 'городской лесогорский',\n",
       " 'городской мга',\n",
       " 'городской назия',\n",
       " 'городской новоселье',\n",
       " 'городской павлово',\n",
       " 'городской рощино',\n",
       " 'городской свирьстрой',\n",
       " 'городской советский',\n",
       " 'городской федоровское',\n",
       " 'городской янино-1',\n",
       " 'гостилицы',\n",
       " 'громово',\n",
       " 'дзержинского',\n",
       " 'дружная горка',\n",
       " 'дружноселье',\n",
       " 'дубровка',\n",
       " 'елизаветино',\n",
       " 'ефимовский',\n",
       " 'жилгородок',\n",
       " 'жилпоселок',\n",
       " 'житково',\n",
       " 'заводской',\n",
       " 'заклинье',\n",
       " 'заневка',\n",
       " 'запорожское',\n",
       " 'зеленогорск',\n",
       " 'зеленый бор',\n",
       " 'зимитицы',\n",
       " 'ивангород',\n",
       " 'извара',\n",
       " 'ильичево',\n",
       " 'имени морозова',\n",
       " 'имени свердлова',\n",
       " 'иссад',\n",
       " 'калитино',\n",
       " 'каложицы',\n",
       " 'кальтино',\n",
       " 'каменногорск',\n",
       " 'камышовка',\n",
       " 'каськово',\n",
       " 'келози',\n",
       " 'кикерино',\n",
       " 'кингисепп',\n",
       " 'кингисеппский',\n",
       " 'кипень',\n",
       " 'кириши',\n",
       " 'кировск',\n",
       " 'кирпичное',\n",
       " 'кисельня',\n",
       " 'кобралово',\n",
       " 'кобринское',\n",
       " 'колпино',\n",
       " 'колтуши',\n",
       " 'коммунар',\n",
       " 'коммунары',\n",
       " 'кондратьево',\n",
       " 'копорье',\n",
       " 'коркино',\n",
       " 'корнево',\n",
       " 'коробицыно',\n",
       " 'котельский',\n",
       " 'котлы',\n",
       " 'коттеджный кивеннапа север',\n",
       " 'коттеджный лесное',\n",
       " 'коттеджный счастье',\n",
       " 'красная долина',\n",
       " 'красное село',\n",
       " 'красносельское',\n",
       " 'красный бор',\n",
       " 'кривко',\n",
       " 'кронштадт',\n",
       " 'кудрово',\n",
       " 'кузнечное',\n",
       " 'кузьмолово',\n",
       " 'кузьмоловский',\n",
       " 'курковицы',\n",
       " 'куровицы',\n",
       " 'куттузи',\n",
       " 'лаврики',\n",
       " 'лаголово',\n",
       " 'лампово',\n",
       " 'лебяжье',\n",
       " 'левашово',\n",
       " 'ленинское',\n",
       " 'лесколово',\n",
       " 'лесная поляна',\n",
       " 'лесное',\n",
       " 'лесогорский',\n",
       " 'лисий нос',\n",
       " 'лодейное поле',\n",
       " 'ломоносов',\n",
       " 'лопухинка',\n",
       " 'луга',\n",
       " 'лужайка',\n",
       " 'лукаши',\n",
       " 'лупполово',\n",
       " 'любань',\n",
       " 'малая романовка',\n",
       " 'малое верево',\n",
       " 'малое карлино',\n",
       " 'малые колпаны',\n",
       " 'мануйлово',\n",
       " 'мга',\n",
       " 'мельниково',\n",
       " 'меньково',\n",
       " 'металлострой',\n",
       " 'мины',\n",
       " 'мистолово',\n",
       " 'мичуринское',\n",
       " 'молодежное',\n",
       " 'молодцово',\n",
       " 'мурино',\n",
       " 'мыза-ивановка',\n",
       " 'назия',\n",
       " 'ненимяки',\n",
       " 'нижние осельки',\n",
       " 'нижняя',\n",
       " 'низино',\n",
       " 'никольский',\n",
       " 'никольское',\n",
       " 'новая ладога',\n",
       " 'новая ропша',\n",
       " 'новогорелово',\n",
       " 'новое девяткино',\n",
       " 'новолисино',\n",
       " 'новый свет',\n",
       " 'новый учхоз',\n",
       " 'нурма',\n",
       " 'оредеж',\n",
       " 'оржицы',\n",
       " 'отрадное',\n",
       " 'павлово',\n",
       " 'павловск',\n",
       " 'парголово',\n",
       " 'парицы',\n",
       " 'паша',\n",
       " 'пельгора',\n",
       " 'пеники',\n",
       " 'первомайское',\n",
       " 'перово',\n",
       " 'песочный',\n",
       " 'петергоф',\n",
       " 'петро-славянка',\n",
       " 'петровское',\n",
       " 'пижма',\n",
       " 'пикалево',\n",
       " 'пикколово',\n",
       " 'плодовое',\n",
       " 'плоское',\n",
       " 'победа',\n",
       " 'подпорожье',\n",
       " 'поляны',\n",
       " 'понтонный',\n",
       " 'почап',\n",
       " 'починок',\n",
       " 'приветнинское',\n",
       " 'пригородный',\n",
       " 'приладожский',\n",
       " 'приморск',\n",
       " 'приозерск',\n",
       " 'пудомяги',\n",
       " 'пудость',\n",
       " 'пустынка',\n",
       " 'путилово',\n",
       " 'пушкин',\n",
       " 'пушное',\n",
       " 'пчева',\n",
       " 'пчевжа',\n",
       " 'рабитицы',\n",
       " 'разбегаево',\n",
       " 'раздолье',\n",
       " 'разметелево',\n",
       " 'рапполово',\n",
       " 'рахья',\n",
       " 'реброво',\n",
       " 'репино',\n",
       " 'рождествено',\n",
       " 'романовка',\n",
       " 'ромашки',\n",
       " 'ропша',\n",
       " 'рощино',\n",
       " 'русско',\n",
       " 'русско-высоцкое',\n",
       " 'рябово',\n",
       " 'садко',\n",
       " 'санкт-петербург',\n",
       " 'саперное',\n",
       " 'саперный',\n",
       " 'светогорск',\n",
       " 'свирь',\n",
       " 'севастьяново',\n",
       " 'селезнево',\n",
       " 'сельцо',\n",
       " 'семиозерье',\n",
       " 'семрино',\n",
       " 'серебрянский',\n",
       " 'сертолово',\n",
       " 'сестрорецк',\n",
       " 'сиверский',\n",
       " 'сижно',\n",
       " 'синявино',\n",
       " 'сланцы',\n",
       " 'снегиревка',\n",
       " 'советский',\n",
       " 'совхозный',\n",
       " 'сосново',\n",
       " 'сосновый бор',\n",
       " 'старая',\n",
       " 'старая ладога',\n",
       " 'старая малукса',\n",
       " 'старая пустошь',\n",
       " 'старое хинколово',\n",
       " 'старополье',\n",
       " 'старосиверская',\n",
       " 'старые бегуницы',\n",
       " 'стеклянный',\n",
       " 'стрельна',\n",
       " 'суйда',\n",
       " 'сумино',\n",
       " 'суоранда',\n",
       " 'суходолье',\n",
       " 'сяськелево',\n",
       " 'сясьстрой',\n",
       " 'тайцы',\n",
       " 'тарасово',\n",
       " 'тельмана',\n",
       " 'терволово',\n",
       " 'терпилицы',\n",
       " 'тесово-4',\n",
       " 'тихвин',\n",
       " 'тихковицы',\n",
       " 'тойворово',\n",
       " 'токсово',\n",
       " 'торковичи',\n",
       " 'торосово',\n",
       " 'торошковичи',\n",
       " 'торфяное',\n",
       " 'тосно',\n",
       " 'трубников бор',\n",
       " 'углово',\n",
       " 'ульяновка',\n",
       " 'усть-ижора',\n",
       " 'усть-луга',\n",
       " 'ушаки',\n",
       " 'фалилеево',\n",
       " 'федоровское',\n",
       " 'форносово',\n",
       " 'форт красная горка',\n",
       " 'хапо-ое',\n",
       " 'хязельки',\n",
       " 'цвелодубово',\n",
       " 'цвылево',\n",
       " 'чудской бор',\n",
       " 'шлиссельбург',\n",
       " 'шпаньково',\n",
       " 'шугозеро',\n",
       " 'шум',\n",
       " 'шушары',\n",
       " 'щеглово',\n",
       " 'юкки',\n",
       " 'ялгино',\n",
       " 'яльгелево',\n",
       " 'ям-тесово'}"
      ]
     },
     "execution_count": 19,
     "metadata": {},
     "output_type": "execute_result"
    }
   ],
   "source": [
    "#locality_name - населенный пункт\n",
    "#Перевод в строчные буквы\n",
    "data['locality_name'] = data['locality_name'].str.lower()\n",
    "\n",
    "#Оставим только названия\n",
    "data['locality_name'] = (\n",
    "    data['locality_name']\n",
    "    .str.replace('ё','е')\n",
    "    .replace(['поселок ','при железнодорожной станции ', 'платформа ', 'садоводческое некоммерческое товарищество ',\n",
    "             'садовое товарищество ', 'станции ', 'село ', 'пансионат ', 'городского типа ',\n",
    "             'деревня ', 'городской поселок '], '', regex=True)\n",
    ")\n",
    "# Уникальные значения в алфавитном порядке\n",
    "set(data['locality_name'].unique())"
   ]
  },
  {
   "cell_type": "markdown",
   "metadata": {},
   "source": [
    "Считаю верным решением заменить пропущенные значения на unknown"
   ]
  },
  {
   "cell_type": "code",
   "execution_count": 20,
   "metadata": {},
   "outputs": [],
   "source": [
    "data.dropna(subset=['locality_name'],inplace=True)"
   ]
  },
  {
   "cell_type": "code",
   "execution_count": 21,
   "metadata": {},
   "outputs": [
    {
     "data": {
      "text/plain": [
       "0        18863.0\n",
       "1        12817.0\n",
       "2        21741.0\n",
       "3        28098.0\n",
       "4        31856.0\n",
       "          ...   \n",
       "23694    24665.0\n",
       "23695        NaN\n",
       "23696        NaN\n",
       "23697    39140.0\n",
       "23698        NaN\n",
       "Name: airports_nearest, Length: 23565, dtype: float64"
      ]
     },
     "execution_count": 21,
     "metadata": {},
     "output_type": "execute_result"
    }
   ],
   "source": [
    "#airports_nearest - расстояние до ближайшего аэропорта (м)\n",
    "data['airports_nearest']"
   ]
  },
  {
   "cell_type": "markdown",
   "metadata": {},
   "source": [
    "Незаполненные пропуски скорее всего, указывают, что аэропорта либо нет в данном городе, либо он находится очень далеко.\n",
    "Оставим значения неизменным."
   ]
  },
  {
   "cell_type": "code",
   "execution_count": 22,
   "metadata": {},
   "outputs": [
    {
     "data": {
      "text/plain": [
       "0        16028.0\n",
       "1        18603.0\n",
       "2        13933.0\n",
       "3         6800.0\n",
       "4         8098.0\n",
       "          ...   \n",
       "23694     4232.0\n",
       "23695        NaN\n",
       "23696        NaN\n",
       "23697    10364.0\n",
       "23698        NaN\n",
       "Name: city_centers_nearest, Length: 23565, dtype: float64"
      ]
     },
     "execution_count": 22,
     "metadata": {},
     "output_type": "execute_result"
    }
   ],
   "source": [
    "#citycenters_nearest - расстояние до центра города (м)\n",
    "data['city_centers_nearest']"
   ]
  },
  {
   "cell_type": "markdown",
   "metadata": {},
   "source": [
    "Незаполненные пропуски скорее всего, указывают,что объект продажи находится не в городе.\n",
    "Оставим значения неизменным."
   ]
  },
  {
   "cell_type": "markdown",
   "metadata": {},
   "source": [
    "parks_around3000 - количество парков в радиусе 3 км. Оставим значения неизменным."
   ]
  },
  {
   "cell_type": "code",
   "execution_count": 23,
   "metadata": {},
   "outputs": [
    {
     "data": {
      "text/plain": [
       "0        482.0\n",
       "1          NaN\n",
       "2         90.0\n",
       "3         84.0\n",
       "4        112.0\n",
       "         ...  \n",
       "23694    796.0\n",
       "23695      NaN\n",
       "23696      NaN\n",
       "23697    173.0\n",
       "23698      NaN\n",
       "Name: parks_nearest, Length: 23565, dtype: float64"
      ]
     },
     "execution_count": 23,
     "metadata": {},
     "output_type": "execute_result"
    }
   ],
   "source": [
    "#parks_nearest - расстояние до ближайшего парка (м)\n",
    "data['parks_nearest']"
   ]
  },
  {
   "cell_type": "markdown",
   "metadata": {},
   "source": [
    "Незаполненные пропуски скорее всего, указывают,что объект продажи находится далеко от парка.\n",
    "Оставим значения неизменным."
   ]
  },
  {
   "cell_type": "markdown",
   "metadata": {},
   "source": [
    "ponds_around3000 - число водоёмов в радиусе 3 км. Оставим значения неизменным. "
   ]
  },
  {
   "cell_type": "code",
   "execution_count": 24,
   "metadata": {},
   "outputs": [
    {
     "data": {
      "text/plain": [
       "0        755.0\n",
       "1          NaN\n",
       "2        574.0\n",
       "3        234.0\n",
       "4         48.0\n",
       "         ...  \n",
       "23694    381.0\n",
       "23695      NaN\n",
       "23696      NaN\n",
       "23697    196.0\n",
       "23698      NaN\n",
       "Name: ponds_nearest, Length: 23565, dtype: float64"
      ]
     },
     "execution_count": 24,
     "metadata": {},
     "output_type": "execute_result"
    }
   ],
   "source": [
    "#ponds_nearest - расстояние до ближайшего водоёма (м)\n",
    "data['ponds_nearest']"
   ]
  },
  {
   "cell_type": "markdown",
   "metadata": {},
   "source": [
    "Незаполненные пропуски скорее всего, указывают,что объект продажи находится далеко от водоема.\n",
    "Оставим значения неизменным."
   ]
  },
  {
   "cell_type": "markdown",
   "metadata": {},
   "source": [
    "days_exposition - сколько дней было размещено объявление (от публикации до снятия)\n",
    "Незаполненные пропуски скорее всего, указывают, что объект не продан. Оставим пока столбец неизменным."
   ]
  },
  {
   "cell_type": "code",
   "execution_count": 25,
   "metadata": {},
   "outputs": [
    {
     "data": {
      "text/plain": [
       "total_images                0\n",
       "last_price                  0\n",
       "total_area                  0\n",
       "first_day_exposition        0\n",
       "rooms                       0\n",
       "ceiling_height              0\n",
       "floors_total                0\n",
       "living_area                 0\n",
       "floor                       0\n",
       "is_apartment                0\n",
       "studio                      0\n",
       "open_plan                   0\n",
       "kitchen_area                0\n",
       "balcony                     0\n",
       "locality_name               0\n",
       "airports_nearest         5524\n",
       "city_centers_nearest     5501\n",
       "parks_around3000         5500\n",
       "parks_nearest           15535\n",
       "ponds_around3000         5500\n",
       "ponds_nearest           14529\n",
       "days_exposition          3171\n",
       "dtype: int64"
      ]
     },
     "execution_count": 25,
     "metadata": {},
     "output_type": "execute_result"
    }
   ],
   "source": [
    "data.isna().sum()"
   ]
  },
  {
   "cell_type": "code",
   "execution_count": 26,
   "metadata": {},
   "outputs": [
    {
     "name": "stdout",
     "output_type": "stream",
     "text": [
      "<class 'pandas.core.frame.DataFrame'>\n",
      "Int64Index: 23565 entries, 0 to 23698\n",
      "Data columns (total 22 columns):\n",
      " #   Column                Non-Null Count  Dtype         \n",
      "---  ------                --------------  -----         \n",
      " 0   total_images          23565 non-null  int64         \n",
      " 1   last_price            23565 non-null  int64         \n",
      " 2   total_area            23565 non-null  float64       \n",
      " 3   first_day_exposition  23565 non-null  datetime64[ns]\n",
      " 4   rooms                 23565 non-null  int64         \n",
      " 5   ceiling_height        23565 non-null  float64       \n",
      " 6   floors_total          23565 non-null  int64         \n",
      " 7   living_area           23565 non-null  float64       \n",
      " 8   floor                 23565 non-null  int64         \n",
      " 9   is_apartment          23565 non-null  int64         \n",
      " 10  studio                23565 non-null  bool          \n",
      " 11  open_plan             23565 non-null  bool          \n",
      " 12  kitchen_area          23565 non-null  float64       \n",
      " 13  balcony               23565 non-null  float64       \n",
      " 14  locality_name         23565 non-null  object        \n",
      " 15  airports_nearest      18041 non-null  float64       \n",
      " 16  city_centers_nearest  18064 non-null  float64       \n",
      " 17  parks_around3000      18065 non-null  float64       \n",
      " 18  parks_nearest         8030 non-null   float64       \n",
      " 19  ponds_around3000      18065 non-null  float64       \n",
      " 20  ponds_nearest         9036 non-null   float64       \n",
      " 21  days_exposition       20394 non-null  float64       \n",
      "dtypes: bool(2), datetime64[ns](1), float64(12), int64(6), object(1)\n",
      "memory usage: 3.8+ MB\n"
     ]
    }
   ],
   "source": [
    "data.info()"
   ]
  },
  {
   "cell_type": "markdown",
   "metadata": {},
   "source": [
    "**Вывод**:\n",
    "\n",
    "    Мы выполнили предобработку данных и уменьшили количество пропусков в таблице\n",
    "    Основными причинами пропусков могли стать:\n",
    "    1) Человеческий фактор\n",
    "    2) Возможны программные сбои\n",
    "    3) Ранее введенные данные не откорректированы\n",
    "    \n",
    "    В процессе предобработки данных:\n",
    "    1) Переименовали название столбца cityCenters_nearest на city_centers_nearest.\n",
    "    2) Заполнили явные пропуски в таблице.\n",
    "    3) Изменили тип данных, в соответствии с данными находяшимися в столбцах.\n",
    "    В столбцах last_price, floors_total, balcony тип данных должны быть целочисленными, is_apartment - булевым, а first_day_exposition - тип даты и времени\n",
    "    "
   ]
  },
  {
   "cell_type": "markdown",
   "metadata": {
    "id": "QCcvyY6YAwb-"
   },
   "source": [
    "### Добавим в таблицу новые столбцы"
   ]
  },
  {
   "cell_type": "code",
   "execution_count": 27,
   "metadata": {},
   "outputs": [
    {
     "data": {
      "text/plain": [
       "array([120370.37,  82920.79,  92785.71, ...,  44091.71, 149511.4 ,\n",
       "        41795.67])"
      ]
     },
     "execution_count": 27,
     "metadata": {},
     "output_type": "execute_result"
    }
   ],
   "source": [
    "#Добавим столбец price_square_meter с ценой одного квадратного метра объекта с точностью до двух знаков после запятой\n",
    "data['price_square_meter'] = (data['last_price'] / data['total_area']).round(2)\n",
    "data['price_square_meter'].unique()"
   ]
  },
  {
   "cell_type": "code",
   "execution_count": 28,
   "metadata": {},
   "outputs": [
    {
     "data": {
      "text/plain": [
       "array([3, 1, 4, 0, 2, 6, 5])"
      ]
     },
     "execution_count": 28,
     "metadata": {},
     "output_type": "execute_result"
    }
   ],
   "source": [
    "#Добавим столбец day_publication день недели публикации объявления (0 — понедельник, 1 — вторник и так далее)\n",
    "data['day_publication'] = data['first_day_exposition'].dt.weekday \n",
    "data['day_publication'].unique()"
   ]
  },
  {
   "cell_type": "code",
   "execution_count": 29,
   "metadata": {},
   "outputs": [
    {
     "data": {
      "text/plain": [
       "array([ 3, 12,  8,  7,  6,  9, 11,  4,  5,  2,  1, 10])"
      ]
     },
     "execution_count": 29,
     "metadata": {},
     "output_type": "execute_result"
    }
   ],
   "source": [
    "#Добавим столбец month_publication месяц публикации объявления\n",
    "data['month_publication'] = data['first_day_exposition'].dt.month \n",
    "data['month_publication'].unique()"
   ]
  },
  {
   "cell_type": "code",
   "execution_count": 30,
   "metadata": {},
   "outputs": [
    {
     "data": {
      "text/plain": [
       "array([2019, 2018, 2015, 2017, 2016, 2014])"
      ]
     },
     "execution_count": 30,
     "metadata": {},
     "output_type": "execute_result"
    }
   ],
   "source": [
    "#Добавим столбец year_publication год публикации объявления\n",
    "data['year_publication'] = data['first_day_exposition'].dt.year \n",
    "data['year_publication'].unique()"
   ]
  },
  {
   "cell_type": "code",
   "execution_count": 31,
   "metadata": {},
   "outputs": [
    {
     "data": {
      "text/plain": [
       "array(['другой', 'первый', 'последний'], dtype=object)"
      ]
     },
     "execution_count": 31,
     "metadata": {},
     "output_type": "execute_result"
    }
   ],
   "source": [
    "#Добавим столбец type_apartment_floor тип этажа квартиры (значения — «первый», «последний», «другой»)\n",
    "# Определим функцию\n",
    "def floor(row):\n",
    "    if row['floor'] == 1:\n",
    "        return 'первый'\n",
    "    if row['floor'] == row['floors_total']:\n",
    "        return 'последний'\n",
    "    else:\n",
    "        return 'другой'\n",
    "\n",
    "data['type_apartment_floor'] = data.apply(floor, axis=1) \n",
    "data['type_apartment_floor'].unique()"
   ]
  },
  {
   "cell_type": "code",
   "execution_count": 32,
   "metadata": {},
   "outputs": [
    {
     "data": {
      "text/plain": [
       "array([16., 19., 14.,  7.,  8., nan, 12., 15., 52., 33., 31., 11., 13.,\n",
       "       10.,  2., 32.,  4., 17., 30.,  5., 51., 50., 24., 18.,  9., 28.,\n",
       "        3.,  6., 27., 21., 49., 35., 36., 34.,  1., 29., 26., 53., 22.,\n",
       "       55., 20., 23., 25.,  0., 66., 47., 40., 57., 37., 41., 43., 48.,\n",
       "       62., 60., 39., 42., 65., 54., 59., 45., 61., 63.])"
      ]
     },
     "execution_count": 32,
     "metadata": {},
     "output_type": "execute_result"
    }
   ],
   "source": [
    "#Добавим столбец distance_city_center расстояние до центра города в километрах (переведём из м в км и округлим до ближайших целых значений)\n",
    "data['distance_city_center'] = (data['city_centers_nearest'] / 1000).round(0)\n",
    "data['distance_city_center'].unique()"
   ]
  },
  {
   "cell_type": "code",
   "execution_count": 33,
   "metadata": {},
   "outputs": [
    {
     "data": {
      "text/html": [
       "<div>\n",
       "<style scoped>\n",
       "    .dataframe tbody tr th:only-of-type {\n",
       "        vertical-align: middle;\n",
       "    }\n",
       "\n",
       "    .dataframe tbody tr th {\n",
       "        vertical-align: top;\n",
       "    }\n",
       "\n",
       "    .dataframe thead th {\n",
       "        text-align: right;\n",
       "    }\n",
       "</style>\n",
       "<table border=\"1\" class=\"dataframe\">\n",
       "  <thead>\n",
       "    <tr style=\"text-align: right;\">\n",
       "      <th></th>\n",
       "      <th>total_images</th>\n",
       "      <th>last_price</th>\n",
       "      <th>total_area</th>\n",
       "      <th>first_day_exposition</th>\n",
       "      <th>rooms</th>\n",
       "      <th>ceiling_height</th>\n",
       "      <th>floors_total</th>\n",
       "      <th>living_area</th>\n",
       "      <th>floor</th>\n",
       "      <th>is_apartment</th>\n",
       "      <th>...</th>\n",
       "      <th>parks_nearest</th>\n",
       "      <th>ponds_around3000</th>\n",
       "      <th>ponds_nearest</th>\n",
       "      <th>days_exposition</th>\n",
       "      <th>price_square_meter</th>\n",
       "      <th>day_publication</th>\n",
       "      <th>month_publication</th>\n",
       "      <th>year_publication</th>\n",
       "      <th>type_apartment_floor</th>\n",
       "      <th>distance_city_center</th>\n",
       "    </tr>\n",
       "  </thead>\n",
       "  <tbody>\n",
       "    <tr>\n",
       "      <th>0</th>\n",
       "      <td>20</td>\n",
       "      <td>13000000</td>\n",
       "      <td>108.00</td>\n",
       "      <td>2019-03-07</td>\n",
       "      <td>3</td>\n",
       "      <td>2.70</td>\n",
       "      <td>16</td>\n",
       "      <td>51.000000</td>\n",
       "      <td>8</td>\n",
       "      <td>0</td>\n",
       "      <td>...</td>\n",
       "      <td>482.0</td>\n",
       "      <td>2.0</td>\n",
       "      <td>755.0</td>\n",
       "      <td>NaN</td>\n",
       "      <td>120370.37</td>\n",
       "      <td>3</td>\n",
       "      <td>3</td>\n",
       "      <td>2019</td>\n",
       "      <td>другой</td>\n",
       "      <td>16.0</td>\n",
       "    </tr>\n",
       "    <tr>\n",
       "      <th>1</th>\n",
       "      <td>7</td>\n",
       "      <td>3350000</td>\n",
       "      <td>40.40</td>\n",
       "      <td>2018-12-04</td>\n",
       "      <td>1</td>\n",
       "      <td>2.65</td>\n",
       "      <td>11</td>\n",
       "      <td>18.600000</td>\n",
       "      <td>1</td>\n",
       "      <td>0</td>\n",
       "      <td>...</td>\n",
       "      <td>NaN</td>\n",
       "      <td>0.0</td>\n",
       "      <td>NaN</td>\n",
       "      <td>81.0</td>\n",
       "      <td>82920.79</td>\n",
       "      <td>1</td>\n",
       "      <td>12</td>\n",
       "      <td>2018</td>\n",
       "      <td>первый</td>\n",
       "      <td>19.0</td>\n",
       "    </tr>\n",
       "    <tr>\n",
       "      <th>2</th>\n",
       "      <td>10</td>\n",
       "      <td>5196000</td>\n",
       "      <td>56.00</td>\n",
       "      <td>2015-08-20</td>\n",
       "      <td>2</td>\n",
       "      <td>2.65</td>\n",
       "      <td>5</td>\n",
       "      <td>34.300000</td>\n",
       "      <td>4</td>\n",
       "      <td>0</td>\n",
       "      <td>...</td>\n",
       "      <td>90.0</td>\n",
       "      <td>2.0</td>\n",
       "      <td>574.0</td>\n",
       "      <td>558.0</td>\n",
       "      <td>92785.71</td>\n",
       "      <td>3</td>\n",
       "      <td>8</td>\n",
       "      <td>2015</td>\n",
       "      <td>другой</td>\n",
       "      <td>14.0</td>\n",
       "    </tr>\n",
       "    <tr>\n",
       "      <th>3</th>\n",
       "      <td>0</td>\n",
       "      <td>64900000</td>\n",
       "      <td>159.00</td>\n",
       "      <td>2015-07-24</td>\n",
       "      <td>3</td>\n",
       "      <td>2.65</td>\n",
       "      <td>14</td>\n",
       "      <td>90.810749</td>\n",
       "      <td>9</td>\n",
       "      <td>0</td>\n",
       "      <td>...</td>\n",
       "      <td>84.0</td>\n",
       "      <td>3.0</td>\n",
       "      <td>234.0</td>\n",
       "      <td>424.0</td>\n",
       "      <td>408176.10</td>\n",
       "      <td>4</td>\n",
       "      <td>7</td>\n",
       "      <td>2015</td>\n",
       "      <td>другой</td>\n",
       "      <td>7.0</td>\n",
       "    </tr>\n",
       "    <tr>\n",
       "      <th>4</th>\n",
       "      <td>2</td>\n",
       "      <td>10000000</td>\n",
       "      <td>100.00</td>\n",
       "      <td>2018-06-19</td>\n",
       "      <td>2</td>\n",
       "      <td>3.03</td>\n",
       "      <td>14</td>\n",
       "      <td>32.000000</td>\n",
       "      <td>13</td>\n",
       "      <td>0</td>\n",
       "      <td>...</td>\n",
       "      <td>112.0</td>\n",
       "      <td>1.0</td>\n",
       "      <td>48.0</td>\n",
       "      <td>121.0</td>\n",
       "      <td>100000.00</td>\n",
       "      <td>1</td>\n",
       "      <td>6</td>\n",
       "      <td>2018</td>\n",
       "      <td>другой</td>\n",
       "      <td>8.0</td>\n",
       "    </tr>\n",
       "    <tr>\n",
       "      <th>...</th>\n",
       "      <td>...</td>\n",
       "      <td>...</td>\n",
       "      <td>...</td>\n",
       "      <td>...</td>\n",
       "      <td>...</td>\n",
       "      <td>...</td>\n",
       "      <td>...</td>\n",
       "      <td>...</td>\n",
       "      <td>...</td>\n",
       "      <td>...</td>\n",
       "      <td>...</td>\n",
       "      <td>...</td>\n",
       "      <td>...</td>\n",
       "      <td>...</td>\n",
       "      <td>...</td>\n",
       "      <td>...</td>\n",
       "      <td>...</td>\n",
       "      <td>...</td>\n",
       "      <td>...</td>\n",
       "      <td>...</td>\n",
       "      <td>...</td>\n",
       "    </tr>\n",
       "    <tr>\n",
       "      <th>23694</th>\n",
       "      <td>9</td>\n",
       "      <td>9700000</td>\n",
       "      <td>133.81</td>\n",
       "      <td>2017-03-21</td>\n",
       "      <td>3</td>\n",
       "      <td>3.70</td>\n",
       "      <td>5</td>\n",
       "      <td>73.300000</td>\n",
       "      <td>3</td>\n",
       "      <td>0</td>\n",
       "      <td>...</td>\n",
       "      <td>796.0</td>\n",
       "      <td>3.0</td>\n",
       "      <td>381.0</td>\n",
       "      <td>NaN</td>\n",
       "      <td>72490.85</td>\n",
       "      <td>1</td>\n",
       "      <td>3</td>\n",
       "      <td>2017</td>\n",
       "      <td>другой</td>\n",
       "      <td>4.0</td>\n",
       "    </tr>\n",
       "    <tr>\n",
       "      <th>23695</th>\n",
       "      <td>14</td>\n",
       "      <td>3100000</td>\n",
       "      <td>59.00</td>\n",
       "      <td>2018-01-15</td>\n",
       "      <td>3</td>\n",
       "      <td>2.65</td>\n",
       "      <td>5</td>\n",
       "      <td>38.000000</td>\n",
       "      <td>4</td>\n",
       "      <td>0</td>\n",
       "      <td>...</td>\n",
       "      <td>NaN</td>\n",
       "      <td>NaN</td>\n",
       "      <td>NaN</td>\n",
       "      <td>45.0</td>\n",
       "      <td>52542.37</td>\n",
       "      <td>0</td>\n",
       "      <td>1</td>\n",
       "      <td>2018</td>\n",
       "      <td>другой</td>\n",
       "      <td>NaN</td>\n",
       "    </tr>\n",
       "    <tr>\n",
       "      <th>23696</th>\n",
       "      <td>18</td>\n",
       "      <td>2500000</td>\n",
       "      <td>56.70</td>\n",
       "      <td>2018-02-11</td>\n",
       "      <td>2</td>\n",
       "      <td>2.65</td>\n",
       "      <td>3</td>\n",
       "      <td>29.700000</td>\n",
       "      <td>1</td>\n",
       "      <td>0</td>\n",
       "      <td>...</td>\n",
       "      <td>NaN</td>\n",
       "      <td>NaN</td>\n",
       "      <td>NaN</td>\n",
       "      <td>NaN</td>\n",
       "      <td>44091.71</td>\n",
       "      <td>6</td>\n",
       "      <td>2</td>\n",
       "      <td>2018</td>\n",
       "      <td>первый</td>\n",
       "      <td>NaN</td>\n",
       "    </tr>\n",
       "    <tr>\n",
       "      <th>23697</th>\n",
       "      <td>13</td>\n",
       "      <td>11475000</td>\n",
       "      <td>76.75</td>\n",
       "      <td>2017-03-28</td>\n",
       "      <td>2</td>\n",
       "      <td>3.00</td>\n",
       "      <td>17</td>\n",
       "      <td>43.834748</td>\n",
       "      <td>12</td>\n",
       "      <td>0</td>\n",
       "      <td>...</td>\n",
       "      <td>173.0</td>\n",
       "      <td>3.0</td>\n",
       "      <td>196.0</td>\n",
       "      <td>602.0</td>\n",
       "      <td>149511.40</td>\n",
       "      <td>1</td>\n",
       "      <td>3</td>\n",
       "      <td>2017</td>\n",
       "      <td>другой</td>\n",
       "      <td>10.0</td>\n",
       "    </tr>\n",
       "    <tr>\n",
       "      <th>23698</th>\n",
       "      <td>4</td>\n",
       "      <td>1350000</td>\n",
       "      <td>32.30</td>\n",
       "      <td>2017-07-21</td>\n",
       "      <td>1</td>\n",
       "      <td>2.50</td>\n",
       "      <td>5</td>\n",
       "      <td>12.300000</td>\n",
       "      <td>1</td>\n",
       "      <td>0</td>\n",
       "      <td>...</td>\n",
       "      <td>NaN</td>\n",
       "      <td>NaN</td>\n",
       "      <td>NaN</td>\n",
       "      <td>NaN</td>\n",
       "      <td>41795.67</td>\n",
       "      <td>4</td>\n",
       "      <td>7</td>\n",
       "      <td>2017</td>\n",
       "      <td>первый</td>\n",
       "      <td>NaN</td>\n",
       "    </tr>\n",
       "  </tbody>\n",
       "</table>\n",
       "<p>23565 rows × 28 columns</p>\n",
       "</div>"
      ],
      "text/plain": [
       "       total_images  last_price  total_area first_day_exposition  rooms  \\\n",
       "0                20    13000000      108.00           2019-03-07      3   \n",
       "1                 7     3350000       40.40           2018-12-04      1   \n",
       "2                10     5196000       56.00           2015-08-20      2   \n",
       "3                 0    64900000      159.00           2015-07-24      3   \n",
       "4                 2    10000000      100.00           2018-06-19      2   \n",
       "...             ...         ...         ...                  ...    ...   \n",
       "23694             9     9700000      133.81           2017-03-21      3   \n",
       "23695            14     3100000       59.00           2018-01-15      3   \n",
       "23696            18     2500000       56.70           2018-02-11      2   \n",
       "23697            13    11475000       76.75           2017-03-28      2   \n",
       "23698             4     1350000       32.30           2017-07-21      1   \n",
       "\n",
       "       ceiling_height  floors_total  living_area  floor  is_apartment  ...  \\\n",
       "0                2.70            16    51.000000      8             0  ...   \n",
       "1                2.65            11    18.600000      1             0  ...   \n",
       "2                2.65             5    34.300000      4             0  ...   \n",
       "3                2.65            14    90.810749      9             0  ...   \n",
       "4                3.03            14    32.000000     13             0  ...   \n",
       "...               ...           ...          ...    ...           ...  ...   \n",
       "23694            3.70             5    73.300000      3             0  ...   \n",
       "23695            2.65             5    38.000000      4             0  ...   \n",
       "23696            2.65             3    29.700000      1             0  ...   \n",
       "23697            3.00            17    43.834748     12             0  ...   \n",
       "23698            2.50             5    12.300000      1             0  ...   \n",
       "\n",
       "       parks_nearest  ponds_around3000  ponds_nearest  days_exposition  \\\n",
       "0              482.0               2.0          755.0              NaN   \n",
       "1                NaN               0.0            NaN             81.0   \n",
       "2               90.0               2.0          574.0            558.0   \n",
       "3               84.0               3.0          234.0            424.0   \n",
       "4              112.0               1.0           48.0            121.0   \n",
       "...              ...               ...            ...              ...   \n",
       "23694          796.0               3.0          381.0              NaN   \n",
       "23695            NaN               NaN            NaN             45.0   \n",
       "23696            NaN               NaN            NaN              NaN   \n",
       "23697          173.0               3.0          196.0            602.0   \n",
       "23698            NaN               NaN            NaN              NaN   \n",
       "\n",
       "      price_square_meter  day_publication  month_publication  \\\n",
       "0              120370.37                3                  3   \n",
       "1               82920.79                1                 12   \n",
       "2               92785.71                3                  8   \n",
       "3              408176.10                4                  7   \n",
       "4              100000.00                1                  6   \n",
       "...                  ...              ...                ...   \n",
       "23694           72490.85                1                  3   \n",
       "23695           52542.37                0                  1   \n",
       "23696           44091.71                6                  2   \n",
       "23697          149511.40                1                  3   \n",
       "23698           41795.67                4                  7   \n",
       "\n",
       "       year_publication  type_apartment_floor  distance_city_center  \n",
       "0                  2019                другой                  16.0  \n",
       "1                  2018                первый                  19.0  \n",
       "2                  2015                другой                  14.0  \n",
       "3                  2015                другой                   7.0  \n",
       "4                  2018                другой                   8.0  \n",
       "...                 ...                   ...                   ...  \n",
       "23694              2017                другой                   4.0  \n",
       "23695              2018                другой                   NaN  \n",
       "23696              2018                первый                   NaN  \n",
       "23697              2017                другой                  10.0  \n",
       "23698              2017                первый                   NaN  \n",
       "\n",
       "[23565 rows x 28 columns]"
      ]
     },
     "execution_count": 33,
     "metadata": {},
     "output_type": "execute_result"
    }
   ],
   "source": [
    "data"
   ]
  },
  {
   "cell_type": "markdown",
   "metadata": {},
   "source": [
    "**Вывод**: Добавлены новые столбцы в таблицу для проведения следующего этапа:\n",
    "    \n",
    "    - price_square_meter - цена квадратного метра объекта с точностью до двух знаков после запятой.\n",
    "    - day_publication - день недели публикации объявления (0 — понедельник, 1 — вторник и так далее).\n",
    "    - month_publication - месяц публикации объявления.\n",
    "    - year_publication - год публикации объявления.\n",
    "    - type_apartment_floor - тип этажа квартиры (значения — «первый», «последний», «другой»).\n",
    "    - distance_city_center - расстояние до центра города в целых километрах."
   ]
  },
  {
   "cell_type": "markdown",
   "metadata": {
    "id": "pPyxrKWTAwb-"
   },
   "source": [
    "### Проведём исследовательский анализ данных"
   ]
  },
  {
   "cell_type": "markdown",
   "metadata": {
    "id": "V2f0D3kLAwb-"
   },
   "source": [
    "# Анализ общей площади"
   ]
  },
  {
   "cell_type": "code",
   "execution_count": 34,
   "metadata": {},
   "outputs": [
    {
     "name": "stdout",
     "output_type": "stream",
     "text": [
      "DataFrame Shape : (23565, 28)\n",
      "rows_number : 23565\n",
      "columns_number : 28\n"
     ]
    }
   ],
   "source": [
    "shape = data.shape \n",
    "print('DataFrame Shape :', shape) \n",
    "print('rows_number :', shape[0]) \n",
    "print('columns_number :', shape[1])"
   ]
  },
  {
   "cell_type": "code",
   "execution_count": 35,
   "metadata": {},
   "outputs": [
    {
     "data": {
      "text/plain": [
       "count    23565.000000\n",
       "mean        60.322824\n",
       "std         35.657060\n",
       "min         12.000000\n",
       "25%         40.000000\n",
       "50%         52.000000\n",
       "75%         69.700000\n",
       "max        900.000000\n",
       "Name: total_area, dtype: float64"
      ]
     },
     "execution_count": 35,
     "metadata": {},
     "output_type": "execute_result"
    }
   ],
   "source": [
    "data['total_area'].describe()"
   ]
  },
  {
   "cell_type": "code",
   "execution_count": 36,
   "metadata": {},
   "outputs": [
    {
     "data": {
      "image/png": "[encoded data removed]",
      "text/plain": [
       "<Figure size 432x288 with 1 Axes>"
      ]
     },
     "metadata": {
      "needs_background": "light"
     },
     "output_type": "display_data"
    }
   ],
   "source": [
    "#Оставим значения от минимального 12 до 100 кв. метров построим гистограмму\n",
    "plt.hist(data['total_area'], bins=100, range=(12,100))\n",
    "plt.title('Зависимость квартир в продаже от площади квартир')\n",
    "plt.xlabel('Квадратные метры')\n",
    "plt.ylabel('Количество квартир')\n",
    "plt.show()"
   ]
  },
  {
   "cell_type": "markdown",
   "metadata": {},
   "source": [
    "**Вывод**: На рынке самое большое предложение квартир с общей площадью от 40 до 69 кв. метров с максимумом около 52 кв. метров."
   ]
  },
  {
   "cell_type": "markdown",
   "metadata": {},
   "source": [
    "# Анализ жилой площади"
   ]
  },
  {
   "cell_type": "code",
   "execution_count": 37,
   "metadata": {},
   "outputs": [
    {
     "data": {
      "text/plain": [
       "count    23565.000000\n",
       "mean        34.592091\n",
       "std         22.373512\n",
       "min          2.000000\n",
       "25%         19.000000\n",
       "50%         30.000000\n",
       "75%         42.100000\n",
       "max        409.700000\n",
       "Name: living_area, dtype: float64"
      ]
     },
     "execution_count": 37,
     "metadata": {},
     "output_type": "execute_result"
    }
   ],
   "source": [
    "data['living_area'].describe()"
   ]
  },
  {
   "cell_type": "code",
   "execution_count": 38,
   "metadata": {},
   "outputs": [
    {
     "data": {
      "image/png": "[encoded data removed]",
      "text/plain": [
       "<Figure size 432x288 with 1 Axes>"
      ]
     },
     "metadata": {
      "needs_background": "light"
     },
     "output_type": "display_data"
    }
   ],
   "source": [
    "#Оставим значения от минимального 12 до 42 кв. метров\n",
    "plt.hist(data['living_area'], bins=100, range=(12,42))\n",
    "plt.title('Зависимость квартир в продаже от жилой площади')\n",
    "plt.xlabel('Квадратные метры')\n",
    "plt.ylabel('Количество квартир')\n",
    "plt.show()"
   ]
  },
  {
   "cell_type": "markdown",
   "metadata": {},
   "source": [
    "**Вывод**: Больше всего продают квартир с жилой площадью около 18 кв. м и 30 кв. метров при этом прослеживается спад предложений в средней зоне 23 кв. метра."
   ]
  },
  {
   "cell_type": "markdown",
   "metadata": {},
   "source": [
    "# Анализ площади кухни"
   ]
  },
  {
   "cell_type": "code",
   "execution_count": 39,
   "metadata": {},
   "outputs": [
    {
     "data": {
      "text/plain": [
       "count    23565.000000\n",
       "mean        10.499898\n",
       "std          6.037750\n",
       "min          1.300000\n",
       "25%          7.000000\n",
       "50%          9.000000\n",
       "75%         12.000000\n",
       "max        112.000000\n",
       "Name: kitchen_area, dtype: float64"
      ]
     },
     "execution_count": 39,
     "metadata": {},
     "output_type": "execute_result"
    }
   ],
   "source": [
    "data['kitchen_area'].describe()"
   ]
  },
  {
   "cell_type": "code",
   "execution_count": 40,
   "metadata": {},
   "outputs": [
    {
     "data": {
      "image/png": "[encoded data removed]",
      "text/plain": [
       "<Figure size 432x288 with 1 Axes>"
      ]
     },
     "metadata": {
      "needs_background": "light"
     },
     "output_type": "display_data"
    }
   ],
   "source": [
    "#Оставим значения от 6 до 12 кв. метров\n",
    "plt.hist(data['kitchen_area'], bins=100, range=(6,12))\n",
    "plt.title('Зависимость квартир в продаже от площади кухни')\n",
    "plt.xlabel('Квадратные метры')\n",
    "plt.ylabel('Количество квартир')\n",
    "plt.show()"
   ]
  },
  {
   "cell_type": "markdown",
   "metadata": {},
   "source": [
    "**Вывод**: Прослеживается тенденция, что больше всего предложений с площадью кухни в 6 метров затем 10 и чередом 7,8,9 кв. метров, при этом в анкетах заметны явные всплески на целых числах."
   ]
  },
  {
   "cell_type": "markdown",
   "metadata": {},
   "source": [
    "# Анализ цены "
   ]
  },
  {
   "cell_type": "code",
   "execution_count": 41,
   "metadata": {},
   "outputs": [
    {
     "data": {
      "text/plain": [
       "count    2.356500e+04\n",
       "mean     6.540058e+06\n",
       "std      1.091093e+07\n",
       "min      1.219000e+04\n",
       "25%      3.400000e+06\n",
       "50%      4.646000e+06\n",
       "75%      6.790000e+06\n",
       "max      7.630000e+08\n",
       "Name: last_price, dtype: float64"
      ]
     },
     "execution_count": 41,
     "metadata": {},
     "output_type": "execute_result"
    }
   ],
   "source": [
    "data['last_price'].describe()"
   ]
  },
  {
   "cell_type": "code",
   "execution_count": 42,
   "metadata": {},
   "outputs": [
    {
     "data": {
      "image/png": "[encoded data removed]",
      "text/plain": [
       "<Figure size 432x288 with 1 Axes>"
      ]
     },
     "metadata": {
      "needs_background": "light"
     },
     "output_type": "display_data"
    }
   ],
   "source": [
    "plt.hist(data['last_price'], bins=100, range=(1.219000e+04,9.00000e+06))\n",
    "plt.title('Зависимость квартир в продаже от цены на момент снятия с публикации')\n",
    "plt.xlabel('Цена в млн. руб.')\n",
    "plt.ylabel('Количество квартир')\n",
    "plt.show()"
   ]
  },
  {
   "cell_type": "markdown",
   "metadata": {},
   "source": [
    "**Вывод**: Из гисторгаммы следует, что наиболее часто цена объекта составляет 3,8 - 4,2 млн. руб."
   ]
  },
  {
   "cell_type": "markdown",
   "metadata": {},
   "source": [
    "# Количество комнат"
   ]
  },
  {
   "cell_type": "code",
   "execution_count": 43,
   "metadata": {},
   "outputs": [
    {
     "data": {
      "image/png": "[encoded data removed]",
      "text/plain": [
       "<Figure size 432x288 with 1 Axes>"
      ]
     },
     "metadata": {
      "needs_background": "light"
     },
     "output_type": "display_data"
    }
   ],
   "source": [
    "plt.hist(data['rooms'], bins=7, range=(0,7))\n",
    "plt.title('Зависимость квартир в продаже от комнат')\n",
    "plt.xlabel('Количество комнат')\n",
    "plt.ylabel('Количество квартир')\n",
    "plt.show()"
   ]
  },
  {
   "cell_type": "markdown",
   "metadata": {},
   "source": [
    "**Вывод**: Среди предложений больше всего однокомнатных квартир. С увеличением комнат количество предложений снижается почти линейно."
   ]
  },
  {
   "cell_type": "markdown",
   "metadata": {},
   "source": [
    "# Высота потолков \n"
   ]
  },
  {
   "cell_type": "code",
   "execution_count": 44,
   "metadata": {},
   "outputs": [
    {
     "data": {
      "text/plain": [
       "count    23565.000000\n",
       "mean         2.698746\n",
       "std          0.253630\n",
       "min          1.000000\n",
       "25%          2.600000\n",
       "50%          2.650000\n",
       "75%          2.700000\n",
       "max         14.000000\n",
       "Name: ceiling_height, dtype: float64"
      ]
     },
     "execution_count": 44,
     "metadata": {},
     "output_type": "execute_result"
    }
   ],
   "source": [
    "data['ceiling_height'].describe()"
   ]
  },
  {
   "cell_type": "code",
   "execution_count": 45,
   "metadata": {},
   "outputs": [
    {
     "data": {
      "image/png": "[encoded data removed]",
      "text/plain": [
       "<Figure size 432x288 with 1 Axes>"
      ]
     },
     "metadata": {
      "needs_background": "light"
     },
     "output_type": "display_data"
    }
   ],
   "source": [
    "plt.hist(data.query('(ceiling_height > 2) & (ceiling_height < 4)')['ceiling_height'], bins=50, range=(2.4,3))\n",
    "plt.title('Зависимость квартир в продаже от высоты потолков')\n",
    "plt.xlabel('Метры')\n",
    "plt.ylabel('Количество квартир')\n",
    "plt.show()"
   ]
  },
  {
   "cell_type": "markdown",
   "metadata": {},
   "source": [
    "**Вывод**: Среди большинства предложений высота составляет: 2.65 метров, далее: 2.5, 2.6, 2.7, 2.55 метров."
   ]
  },
  {
   "cell_type": "markdown",
   "metadata": {},
   "source": [
    "# Тип этажа квартиры («первый», «последний», «другой»)"
   ]
  },
  {
   "cell_type": "code",
   "execution_count": 46,
   "metadata": {},
   "outputs": [
    {
     "data": {
      "image/png": "[encoded data removed]",
      "text/plain": [
       "<Figure size 360x360 with 1 Axes>"
      ]
     },
     "metadata": {
      "needs_background": "light"
     },
     "output_type": "display_data"
    }
   ],
   "source": [
    "(\n",
    "    data.pivot_table(index='type_apartment_floor', values='last_price', aggfunc='median').sort_values(by='last_price', ascending=False)\n",
    "    .plot(grid=True, style='o-', figsize=(5, 5), title='Зависимость цены от этажа расположения квартиры')\n",
    ")\n",
    "plt.xlabel('Расположение квартиры по этажам ')\n",
    "plt.ylabel('Цена')\n",
    "plt.show()"
   ]
  },
  {
   "cell_type": "code",
   "execution_count": 47,
   "metadata": {},
   "outputs": [
    {
     "data": {
      "image/png": "[encoded data removed]",
      "text/plain": [
       "<Figure size 720x504 with 1 Axes>"
      ]
     },
     "metadata": {},
     "output_type": "display_data"
    }
   ],
   "source": [
    "data.pivot_table(index='type_apartment_floor',values='last_price',aggfunc='count') \\\n",
    "  .plot.pie(y='last_price', figsize=(10,7), label='', title='Диаграмма количественного отношения распределения предложений в зависимости от этажа')\n",
    "\n",
    "plt.show()"
   ]
  },
  {
   "cell_type": "markdown",
   "metadata": {},
   "source": [
    "**Вывод**: Менее ценными считаются квартиры на \"Первом\" и \"Последнем\" этаже. На круговой диаграмме заметно, что общее количество предложений \"Первого\" и \"Последнего\" этажа составляет чуть больше 25% от общего количества предложений, значит люди хотят сьехать с этих этажей."
   ]
  },
  {
   "cell_type": "markdown",
   "metadata": {},
   "source": [
    "# Общее количество этажей в доме"
   ]
  },
  {
   "cell_type": "code",
   "execution_count": 48,
   "metadata": {},
   "outputs": [
    {
     "data": {
      "text/plain": [
       "count    23565.000000\n",
       "mean        10.675875\n",
       "std          6.594823\n",
       "min          1.000000\n",
       "25%          5.000000\n",
       "50%          9.000000\n",
       "75%         16.000000\n",
       "max         60.000000\n",
       "Name: floors_total, dtype: float64"
      ]
     },
     "execution_count": 48,
     "metadata": {},
     "output_type": "execute_result"
    }
   ],
   "source": [
    "data['floors_total'].describe()"
   ]
  },
  {
   "cell_type": "code",
   "execution_count": 49,
   "metadata": {},
   "outputs": [
    {
     "data": {
      "image/png": "[encoded data removed]",
      "text/plain": [
       "<Figure size 432x288 with 1 Axes>"
      ]
     },
     "metadata": {
      "needs_background": "light"
     },
     "output_type": "display_data"
    }
   ],
   "source": [
    "plt.hist(data['floors_total'], bins=100, range=(1,30))\n",
    "plt.title('Зависимость квартир в продаже от общего количество этажей в доме')\n",
    "plt.xlabel('Этаж')\n",
    "plt.ylabel('Количество квартир')\n",
    "plt.show()"
   ]
  },
  {
   "cell_type": "markdown",
   "metadata": {},
   "source": [
    "**Вывод**: Больше всего предложений о продаже квартир в пятиэтажных домах, а потом в девятиэтажках."
   ]
  },
  {
   "cell_type": "markdown",
   "metadata": {},
   "source": [
    "# Расстояние до центра города в метрах"
   ]
  },
  {
   "cell_type": "code",
   "execution_count": 50,
   "metadata": {},
   "outputs": [
    {
     "data": {
      "text/plain": [
       "count    18064.000000\n",
       "mean     14192.656056\n",
       "std       8613.348153\n",
       "min        181.000000\n",
       "25%       9238.000000\n",
       "50%      13096.500000\n",
       "75%      16285.000000\n",
       "max      65968.000000\n",
       "Name: city_centers_nearest, dtype: float64"
      ]
     },
     "execution_count": 50,
     "metadata": {},
     "output_type": "execute_result"
    }
   ],
   "source": [
    "data['city_centers_nearest'].describe()"
   ]
  },
  {
   "cell_type": "code",
   "execution_count": 51,
   "metadata": {},
   "outputs": [
    {
     "data": {
      "image/png": "[encoded data removed]",
      "text/plain": [
       "<Figure size 432x288 with 1 Axes>"
      ]
     },
     "metadata": {
      "needs_background": "light"
     },
     "output_type": "display_data"
    }
   ],
   "source": [
    "plt.hist(data['city_centers_nearest'], bins=100, range=(0,25000))\n",
    "plt.title('Зависимость квартир в продаже от центра удаленности от центра города')\n",
    "plt.xlabel('Расстояние до центра города (метров)')\n",
    "plt.ylabel('Количество квартир')\n",
    "plt.show()"
   ]
  },
  {
   "cell_type": "markdown",
   "metadata": {},
   "source": [
    "**Вывод**: Больше всего предложений о продаже в спальных районах на окраинах города (на расстоянии 12000 -15000 метров)), и значительным всплеском на расстоянии в 5000 метров от центра города."
   ]
  },
  {
   "cell_type": "markdown",
   "metadata": {},
   "source": [
    "# Расстояние до ближайшего парка "
   ]
  },
  {
   "cell_type": "code",
   "execution_count": 52,
   "metadata": {},
   "outputs": [
    {
     "data": {
      "text/plain": [
       "count    8030.000000\n",
       "mean      490.580448\n",
       "std       341.572956\n",
       "min         1.000000\n",
       "25%       288.000000\n",
       "50%       455.000000\n",
       "75%       612.000000\n",
       "max      3190.000000\n",
       "Name: parks_nearest, dtype: float64"
      ]
     },
     "execution_count": 52,
     "metadata": {},
     "output_type": "execute_result"
    }
   ],
   "source": [
    "data['parks_nearest'].describe()"
   ]
  },
  {
   "cell_type": "code",
   "execution_count": 53,
   "metadata": {},
   "outputs": [
    {
     "data": {
      "image/png": "[encoded data removed]",
      "text/plain": [
       "<Figure size 432x288 with 1 Axes>"
      ]
     },
     "metadata": {
      "needs_background": "light"
     },
     "output_type": "display_data"
    }
   ],
   "source": [
    "plt.hist(data['parks_nearest'], bins=100, range=(100,800))\n",
    "plt.title('Зависимость квартир в продаже от удаленности от парка')\n",
    "plt.xlabel('Расстояние до марка (метров)')\n",
    "plt.ylabel('Количество квартир')\n",
    "plt.show()"
   ]
  },
  {
   "cell_type": "markdown",
   "metadata": {},
   "source": [
    "**Вывод**: Количество предложений не сильно зависит от удаленности от ближайшего парка. Среднее расстояние до парка премерно составляет 200 - 700 метров."
   ]
  },
  {
   "cell_type": "markdown",
   "metadata": {},
   "source": [
    "**Общий вывод по разделу**:\n",
    "\n",
    "    1) На рынке самое большое предложение квартир с общей площадью от 40 до 69 кв. метров с максимумом около 52 кв. метров.\n",
    "    2) Больше всего продают квартир с жилой площадью около 18 кв. м и 30 кв. метров при этом прослеживается спад предложений в средней зоне 23 кв. метра.\n",
    "    3) Прослеживается тенденция что больше всего предложений с площадью кухни в 6 метров затем 10 и чередом 7,8,9 кв. метров, при этом в анкетах заметны явные всплески на целых числах.\n",
    "    4) Из гисторгаммы следует, что наиболее часто цена объекта составляет 3,8 - 4,2 млн. руб..\n",
    "    5) Среди предложений больше всего однокомнатных квартир. С увеличением комнат количество предложений снижается почти линейно.\n",
    "    6) Среди большинства предложений высота составляет 2.65 метров, далее 2.5, 2.6, 2.7, 2.55 метров.\n",
    "    7) Менее ценными считаются квартиры на \"первом\" этаже. На круговой диаграмме заметно, что общее количество предложений \"первого\" и \"последнего\" этажа составляет почти 25% от общего количества, значит люди хотят сьехать с этих этажей.\n",
    "    8) Больше всего предложений о продаже квартир в пятиэтажных домах, а потом в девятиэтажках.\n",
    "    9) Больше всего предложений о продаже в спальных районах на окраинах города (на расстоянии 12000 -15000 метров), и значительным всплеском на расстоянии в 5000 метров от центра города.\n",
    "    10) Количество предложений не сильно зависит от удаленности от ближайшего парка. Среднее расстояние до парка премерно составляет 200 - 700 метров.\n",
    "    В заключении: Среднестатистическое предложение, это квартира в пятиэтажном доме средней площадью 52 кв. метра с кухней в 6 кв. метров, высотой потолков 2,65 метра, скорее всего однокомнатная или двухкомнатная с маленькими комнатками, на удалении 13 км. отцентра города."
   ]
  },
  {
   "cell_type": "markdown",
   "metadata": {},
   "source": [
    "# Изучаем, как быстро продавались квартиры"
   ]
  },
  {
   "cell_type": "code",
   "execution_count": 54,
   "metadata": {},
   "outputs": [
    {
     "name": "stdout",
     "output_type": "stream",
     "text": [
      "count    20394.000000\n",
      "mean       180.741395\n",
      "std        219.732782\n",
      "min          1.000000\n",
      "25%         45.000000\n",
      "50%         95.000000\n",
      "75%        231.000000\n",
      "max       1580.000000\n",
      "Name: days_exposition, dtype: float64\n"
     ]
    }
   ],
   "source": [
    "#Рассчитаем показатели \n",
    "print(data['days_exposition'].describe())"
   ]
  },
  {
   "cell_type": "code",
   "execution_count": 55,
   "metadata": {},
   "outputs": [
    {
     "name": "stdout",
     "output_type": "stream",
     "text": [
      "Время продаж\n"
     ]
    },
    {
     "data": {
      "image/png": "[encoded data removed]",
      "text/plain": [
       "<Figure size 720x360 with 1 Axes>"
      ]
     },
     "metadata": {
      "needs_background": "light"
     },
     "output_type": "display_data"
    }
   ],
   "source": [
    "print('Время продаж')\n",
    "data.boxplot('days_exposition', figsize=(10,5))\n",
    "plt.ylabel('Время продажи квартиры')\n",
    "plt.show()"
   ]
  },
  {
   "cell_type": "code",
   "execution_count": 56,
   "metadata": {},
   "outputs": [],
   "source": [
    "data = data.query('days_exposition < 250')"
   ]
  },
  {
   "cell_type": "code",
   "execution_count": 57,
   "metadata": {},
   "outputs": [
    {
     "name": "stdout",
     "output_type": "stream",
     "text": [
      "Время продаж\n"
     ]
    },
    {
     "data": {
      "image/png": "[encoded data removed]",
      "text/plain": [
       "<Figure size 576x360 with 1 Axes>"
      ]
     },
     "metadata": {
      "needs_background": "light"
     },
     "output_type": "display_data"
    }
   ],
   "source": [
    "print('Время продаж')\n",
    "data.boxplot('days_exposition', figsize=(8,5))\n",
    "plt.ylabel('Время продажи квартиры')\n",
    "plt.show()"
   ]
  },
  {
   "cell_type": "code",
   "execution_count": 58,
   "metadata": {},
   "outputs": [
    {
     "data": {
      "image/png": "[encoded data removed]",
      "text/plain": [
       "<Figure size 432x288 with 1 Axes>"
      ]
     },
     "metadata": {
      "needs_background": "light"
     },
     "output_type": "display_data"
    },
    {
     "name": "stdout",
     "output_type": "stream",
     "text": [
      "Среднее время продажи квартиры: 83.15474517818367\n",
      "Медианное время продажи квартиры: 63.0\n"
     ]
    }
   ],
   "source": [
    "plt.hist(data['days_exposition'], bins=100, range=(0,250))\n",
    "plt.title('Распределение количества продаж по времени')\n",
    "plt.xlabel('Сколько дней было размещено объявление (от публикации до снятия)')\n",
    "plt.ylabel('Количество объявлений')\n",
    "plt.show()\n",
    "print('Среднее время продажи квартиры:', data['days_exposition'].mean())\n",
    "print('Медианное время продажи квартиры:', data['days_exposition'].median())"
   ]
  },
  {
   "cell_type": "markdown",
   "metadata": {},
   "source": [
    "**Вывод**: \n",
    "    \n",
    "    1) По времени продаж квартир: Среднее значение продажи составляет 180 дня, при этом медианное значение составляет 95 дня, оно более точно характеризует среднее время продажи, так как не зависит от выбрасов и нестандартных значений.\n",
    "    2) В среднем продажа среднестатистичекой квартиры занимает 2-3 месяца в зависимотсти от сопутствующих факторов(площади, цены, удалённости от центра).\n",
    "    3) Быстрыми продажами можно считать продажи состоявшиеся за 45 дней (в первом квартиле), а долгие продажи после 3 квартиля, которые вообще могут быть не проданными.\n",
    "    "
   ]
  },
  {
   "cell_type": "markdown",
   "metadata": {},
   "source": [
    "# Факторы влияния на стоимость \n"
   ]
  },
  {
   "cell_type": "code",
   "execution_count": 59,
   "metadata": {},
   "outputs": [
    {
     "name": "stdout",
     "output_type": "stream",
     "text": [
      "Корреляция: \n",
      "\n",
      "                   day_publication  kitchen_area  last_price  living_area  \\\n",
      "day_publication           1.000000      0.657584    0.075838    -0.047594   \n",
      "kitchen_area              0.657584      1.000000    0.457623     0.284104   \n",
      "last_price                0.075838      0.457623    1.000000     0.657705   \n",
      "living_area              -0.047594      0.284104    0.657705     1.000000   \n",
      "month_publication         0.482826     -0.125355   -0.085347    -0.142040   \n",
      "rooms                    -0.113772      0.280472    0.493761     0.918552   \n",
      "total_area                0.184914      0.564403    0.757541     0.936515   \n",
      "year_publication         -0.283846     -0.439312   -0.100977    -0.269511   \n",
      "\n",
      "                   month_publication     rooms  total_area  year_publication  \n",
      "day_publication             0.482826 -0.113772    0.184914         -0.283846  \n",
      "kitchen_area               -0.125355  0.280472    0.564403         -0.439312  \n",
      "last_price                 -0.085347  0.493761    0.757541         -0.100977  \n",
      "living_area                -0.142040  0.918552    0.936515         -0.269511  \n",
      "month_publication           1.000000 -0.391062   -0.094135          0.040909  \n",
      "rooms                      -0.391062  1.000000    0.841802         -0.135442  \n",
      "total_area                 -0.094135  0.841802    1.000000         -0.294293  \n",
      "year_publication            0.040909 -0.135442   -0.294293          1.000000   \n",
      "\n"
     ]
    }
   ],
   "source": [
    "print('Корреляция:','\\n')\n",
    "print(data.pivot_table(index='floor', values=['last_price','total_area','living_area','kitchen_area','rooms','day_publication','month_publication','year_publication']).corr(),'\\n')"
   ]
  },
  {
   "cell_type": "code",
   "execution_count": 60,
   "metadata": {},
   "outputs": [
    {
     "name": "stdout",
     "output_type": "stream",
     "text": [
      "Корреляция: \n",
      "\n",
      "              kitchen_area  last_price  living_area     rooms  total_area\n",
      "kitchen_area      1.000000    0.457623     0.284104  0.280472    0.564403\n",
      "last_price        0.457623    1.000000     0.657705  0.493761    0.757541\n",
      "living_area       0.284104    0.657705     1.000000  0.918552    0.936515\n",
      "rooms             0.280472    0.493761     0.918552  1.000000    0.841802\n",
      "total_area        0.564403    0.757541     0.936515  0.841802    1.000000 \n",
      "\n"
     ]
    }
   ],
   "source": [
    "print('Корреляция:','\\n')\n",
    "print(data.pivot_table(index='floor', values=['last_price','total_area','living_area','kitchen_area','rooms']).corr(),'\\n')"
   ]
  },
  {
   "cell_type": "markdown",
   "metadata": {},
   "source": [
    "Корреляция по данным указывает, прямой зависимости среди данных нет. Возможно это произошло из за наличия большого количества редких и выбивающихся значений.\n",
    "Проведем обработку этих значений."
   ]
  },
  {
   "cell_type": "code",
   "execution_count": 61,
   "metadata": {},
   "outputs": [
    {
     "name": "stderr",
     "output_type": "stream",
     "text": [
      "/tmp/ipykernel_175/3554228294.py:11: SettingWithCopyWarning: \n",
      "A value is trying to be set on a copy of a slice from a DataFrame.\n",
      "Try using .loc[row_indexer,col_indexer] = value instead\n",
      "\n",
      "See the caveats in the documentation: https://pandas.pydata.org/pandas-docs/stable/user_guide/indexing.html#returning-a-view-versus-a-copy\n",
      "  data[col] = quartile_range(data, col)\n",
      "/tmp/ipykernel_175/3554228294.py:11: SettingWithCopyWarning: \n",
      "A value is trying to be set on a copy of a slice from a DataFrame.\n",
      "Try using .loc[row_indexer,col_indexer] = value instead\n",
      "\n",
      "See the caveats in the documentation: https://pandas.pydata.org/pandas-docs/stable/user_guide/indexing.html#returning-a-view-versus-a-copy\n",
      "  data[col] = quartile_range(data, col)\n",
      "/tmp/ipykernel_175/3554228294.py:11: SettingWithCopyWarning: \n",
      "A value is trying to be set on a copy of a slice from a DataFrame.\n",
      "Try using .loc[row_indexer,col_indexer] = value instead\n",
      "\n",
      "See the caveats in the documentation: https://pandas.pydata.org/pandas-docs/stable/user_guide/indexing.html#returning-a-view-versus-a-copy\n",
      "  data[col] = quartile_range(data, col)\n",
      "/tmp/ipykernel_175/3554228294.py:11: SettingWithCopyWarning: \n",
      "A value is trying to be set on a copy of a slice from a DataFrame.\n",
      "Try using .loc[row_indexer,col_indexer] = value instead\n",
      "\n",
      "See the caveats in the documentation: https://pandas.pydata.org/pandas-docs/stable/user_guide/indexing.html#returning-a-view-versus-a-copy\n",
      "  data[col] = quartile_range(data, col)\n",
      "/tmp/ipykernel_175/3554228294.py:11: SettingWithCopyWarning: \n",
      "A value is trying to be set on a copy of a slice from a DataFrame.\n",
      "Try using .loc[row_indexer,col_indexer] = value instead\n",
      "\n",
      "See the caveats in the documentation: https://pandas.pydata.org/pandas-docs/stable/user_guide/indexing.html#returning-a-view-versus-a-copy\n",
      "  data[col] = quartile_range(data, col)\n",
      "/tmp/ipykernel_175/3554228294.py:11: SettingWithCopyWarning: \n",
      "A value is trying to be set on a copy of a slice from a DataFrame.\n",
      "Try using .loc[row_indexer,col_indexer] = value instead\n",
      "\n",
      "See the caveats in the documentation: https://pandas.pydata.org/pandas-docs/stable/user_guide/indexing.html#returning-a-view-versus-a-copy\n",
      "  data[col] = quartile_range(data, col)\n"
     ]
    }
   ],
   "source": [
    "# Функция для подсчёта границ с учетом 1.5 размаха\n",
    "def quartile_range(data, column):\n",
    "    q1 = data[column].quantile(0.25)\n",
    "    q3 = data[column].quantile(0.75)\n",
    "    iqr = q3 - q1\n",
    "    q = data.loc[(data[column] < q3 + 1.5*iqr) & (data[column] > q1 - 1.5*iqr), column]\n",
    "    return q\n",
    "# Столбцы с выбросами\n",
    "list_features = ['last_price', 'total_area', 'living_area', 'kitchen_area', 'rooms', 'ceiling_height' ]\n",
    "for col in list_features:\n",
    "    data[col] = quartile_range(data, col)"
   ]
  },
  {
   "cell_type": "code",
   "execution_count": 62,
   "metadata": {},
   "outputs": [
    {
     "name": "stdout",
     "output_type": "stream",
     "text": [
      "Корреляция: \n",
      "\n",
      "              kitchen_area  last_price  living_area     rooms  total_area\n",
      "kitchen_area      1.000000    0.795317     0.406431  0.158085    0.630011\n",
      "last_price        0.795317    1.000000     0.820584  0.712108    0.965112\n",
      "living_area       0.406431    0.820584     1.000000  0.920266    0.929410\n",
      "rooms             0.158085    0.712108     0.920266  1.000000    0.832994\n",
      "total_area        0.630011    0.965112     0.929410  0.832994    1.000000 \n",
      "\n"
     ]
    }
   ],
   "source": [
    "print('Корреляция:','\\n')\n",
    "print(data.pivot_table(index='floor', values=['last_price','total_area','living_area','kitchen_area','rooms']).corr(),'\\n')"
   ]
  },
  {
   "cell_type": "code",
   "execution_count": 63,
   "metadata": {},
   "outputs": [
    {
     "data": {
      "image/png": "[encoded data removed]",
      "text/plain": [
       "<Figure size 360x360 with 1 Axes>"
      ]
     },
     "metadata": {
      "needs_background": "light"
     },
     "output_type": "display_data"
    },
    {
     "name": "stdout",
     "output_type": "stream",
     "text": [
      "Корреляция Пирсона: 0.6727545811457804\n"
     ]
    }
   ],
   "source": [
    "(\n",
    "    data.pivot_table(index='total_area', values='last_price')\n",
    "    .plot(grid=True, style='o', figsize=(5, 5))\n",
    ")\n",
    "plt.title('Зависимость цены от общей площади')\n",
    "plt.xlabel('Общая площадь')\n",
    "plt.ylabel('Цена')\n",
    "plt.show()\n",
    "print('Корреляция Пирсона:', data['total_area'].corr(data['last_price']))"
   ]
  },
  {
   "cell_type": "code",
   "execution_count": 64,
   "metadata": {},
   "outputs": [
    {
     "data": {
      "image/png": "[encoded data removed]",
      "text/plain": [
       "<Figure size 360x360 with 1 Axes>"
      ]
     },
     "metadata": {
      "needs_background": "light"
     },
     "output_type": "display_data"
    },
    {
     "name": "stdout",
     "output_type": "stream",
     "text": [
      "Корреляция Пирсона: 0.5529827551451848\n"
     ]
    }
   ],
   "source": [
    "(\n",
    "    data.pivot_table(index='living_area', values='last_price')\n",
    "    .plot(grid=True, style='o', figsize=(5, 5))\n",
    ")\n",
    "plt.title('Зависимость цены от жилой площади')\n",
    "plt.xlabel('Жилая площадь')\n",
    "plt.ylabel('Цена')\n",
    "plt.show()\n",
    "print('Корреляция Пирсона:', data['living_area'].corr(data['last_price']))"
   ]
  },
  {
   "cell_type": "code",
   "execution_count": 65,
   "metadata": {},
   "outputs": [
    {
     "data": {
      "image/png": "[encoded data removed]",
      "text/plain": [
       "<Figure size 360x360 with 1 Axes>"
      ]
     },
     "metadata": {
      "needs_background": "light"
     },
     "output_type": "display_data"
    },
    {
     "name": "stdout",
     "output_type": "stream",
     "text": [
      "Корреляция Пирсона: 0.47692432372738813\n"
     ]
    }
   ],
   "source": [
    "(\n",
    "    data.pivot_table(index='kitchen_area', values='last_price')\n",
    "    .plot(grid=True, style='o', figsize=(5, 5))\n",
    ")\n",
    "plt.title('Зависимость цены от площади кухни')\n",
    "plt.xlabel('Площадь кухни')\n",
    "plt.ylabel('Цена')\n",
    "plt.show()\n",
    "print('Корреляция Пирсона:', data['kitchen_area'].corr(data['last_price']))"
   ]
  },
  {
   "cell_type": "code",
   "execution_count": 66,
   "metadata": {},
   "outputs": [
    {
     "data": {
      "image/png": "[encoded data removed]",
      "text/plain": [
       "<Figure size 360x360 with 1 Axes>"
      ]
     },
     "metadata": {
      "needs_background": "light"
     },
     "output_type": "display_data"
    },
    {
     "name": "stdout",
     "output_type": "stream",
     "text": [
      "Корреляция Пирсона: 0.4411310138229856\n"
     ]
    }
   ],
   "source": [
    "(\n",
    "    data.pivot_table(index='rooms', values='last_price')\n",
    "    .plot(grid=True, style='o-', figsize=(5, 5))\n",
    ")\n",
    "plt.title('Зависимость цены от числа комнат')\n",
    "plt.xlabel('Число комнат')\n",
    "plt.ylabel('Цена')\n",
    "plt.show()\n",
    "print('Корреляция Пирсона:', data['rooms'].corr(data['last_price']))"
   ]
  },
  {
   "cell_type": "code",
   "execution_count": 67,
   "metadata": {},
   "outputs": [
    {
     "data": {
      "image/png": "[encoded data removed]",
      "text/plain": [
       "<Figure size 360x360 with 1 Axes>"
      ]
     },
     "metadata": {
      "needs_background": "light"
     },
     "output_type": "display_data"
    }
   ],
   "source": [
    "(\n",
    "    data.pivot_table(index='type_apartment_floor', values='last_price')\n",
    "    .plot(grid=True, style='o-', figsize=(5, 5))\n",
    ")\n",
    "plt.title('Зависимость цены типа этажа расположения')\n",
    "plt.xlabel('Этаж, где расположена квартира')\n",
    "plt.ylabel('Цена')\n",
    "plt.show()"
   ]
  },
  {
   "cell_type": "code",
   "execution_count": 68,
   "metadata": {},
   "outputs": [
    {
     "data": {
      "image/png": "[encoded data removed]",
      "text/plain": [
       "<Figure size 360x360 with 1 Axes>"
      ]
     },
     "metadata": {
      "needs_background": "light"
     },
     "output_type": "display_data"
    }
   ],
   "source": [
    "(\n",
    "    data.pivot_table(index='day_publication', values='last_price')\n",
    "    .plot(grid=True, style='o-', figsize=(5, 5))\n",
    ")\n",
    "plt.title('Зависимость цены от дня публикации')\n",
    "plt.xlabel('День публикации')\n",
    "plt.ylabel('Цена')\n",
    "plt.show()"
   ]
  },
  {
   "cell_type": "code",
   "execution_count": 69,
   "metadata": {},
   "outputs": [
    {
     "data": {
      "image/png": "[encoded data removed]",
      "text/plain": [
       "<Figure size 360x360 with 1 Axes>"
      ]
     },
     "metadata": {
      "needs_background": "light"
     },
     "output_type": "display_data"
    }
   ],
   "source": [
    "(\n",
    "    data.pivot_table(index='month_publication', values='last_price')\n",
    "    .plot(grid=True, style='o-', figsize=(5, 5))\n",
    ")\n",
    "plt.title('Зависимость цены от месяца публикации')\n",
    "plt.xlabel('Месяц публикации')\n",
    "plt.ylabel('Цена')\n",
    "plt.show()"
   ]
  },
  {
   "cell_type": "code",
   "execution_count": 70,
   "metadata": {},
   "outputs": [
    {
     "data": {
      "image/png": "[encoded data removed]",
      "text/plain": [
       "<Figure size 360x360 with 1 Axes>"
      ]
     },
     "metadata": {
      "needs_background": "light"
     },
     "output_type": "display_data"
    }
   ],
   "source": [
    "(\n",
    "    data.pivot_table(index='year_publication', values='last_price')\n",
    "    .plot(grid=True, style='o-', figsize=(5, 5))\n",
    ")\n",
    "plt.title('Зависимость цены от года публикации')\n",
    "plt.xlabel('Год публикации')\n",
    "plt.ylabel('Цена')\n",
    "plt.show()"
   ]
  },
  {
   "cell_type": "markdown",
   "metadata": {},
   "source": [
    "**Вывод**: \n",
    "\n",
    "    1) Чем больше общая площадь, тем выше стоимость. Корреляция этих параметров крайне высокая.\n",
    "    2) Число комнат влияет на цену (больше комнат -> больше жилая площадь -> больше цена), однако зависимость ниже, чем у площади, так как бывают квартиры с большими по площади комнатами и квартиры в центре состоят из малого числа комнат, но стоят достаточно высоко.\n",
    "    3) Первый этаж непосредственно влияет на стоимость квартиры - в среднем квартиры на 1-м этаже значительно дешевле. Чуть дороже последний этаж. Наибольшая стоимость у квартир, расположенных не на 1-м и не на последнем этаже.\n",
    "    4) Прослеживается слабая зависимость между: ценой и днем публикации; ценой и площадью кухни."
   ]
  },
  {
   "cell_type": "markdown",
   "metadata": {},
   "source": [
    "# Посчитаем среднюю цену одного квадратного метра в 10 населённых пунктах с наибольшим числом объявлений"
   ]
  },
  {
   "cell_type": "code",
   "execution_count": 71,
   "metadata": {},
   "outputs": [
    {
     "data": {
      "text/html": [
       "<div>\n",
       "<style scoped>\n",
       "    .dataframe tbody tr th:only-of-type {\n",
       "        vertical-align: middle;\n",
       "    }\n",
       "\n",
       "    .dataframe tbody tr th {\n",
       "        vertical-align: top;\n",
       "    }\n",
       "\n",
       "    .dataframe thead th {\n",
       "        text-align: right;\n",
       "    }\n",
       "</style>\n",
       "<table border=\"1\" class=\"dataframe\">\n",
       "  <thead>\n",
       "    <tr style=\"text-align: right;\">\n",
       "      <th></th>\n",
       "      <th>count</th>\n",
       "      <th>price_square_meter</th>\n",
       "    </tr>\n",
       "    <tr>\n",
       "      <th>locality_name</th>\n",
       "      <th></th>\n",
       "      <th></th>\n",
       "    </tr>\n",
       "  </thead>\n",
       "  <tbody>\n",
       "    <tr>\n",
       "      <th>санкт-петербург</th>\n",
       "      <td>9246</td>\n",
       "      <td>110979.31</td>\n",
       "    </tr>\n",
       "    <tr>\n",
       "      <th>пушкин</th>\n",
       "      <td>208</td>\n",
       "      <td>100732.82</td>\n",
       "    </tr>\n",
       "    <tr>\n",
       "      <th>кудрово</th>\n",
       "      <td>349</td>\n",
       "      <td>95019.57</td>\n",
       "    </tr>\n",
       "    <tr>\n",
       "      <th>парголово</th>\n",
       "      <td>241</td>\n",
       "      <td>88995.69</td>\n",
       "    </tr>\n",
       "    <tr>\n",
       "      <th>мурино</th>\n",
       "      <td>457</td>\n",
       "      <td>86223.33</td>\n",
       "    </tr>\n",
       "    <tr>\n",
       "      <th>шушары</th>\n",
       "      <td>331</td>\n",
       "      <td>78120.13</td>\n",
       "    </tr>\n",
       "    <tr>\n",
       "      <th>колпино</th>\n",
       "      <td>255</td>\n",
       "      <td>74896.62</td>\n",
       "    </tr>\n",
       "    <tr>\n",
       "      <th>всеволожск</th>\n",
       "      <td>247</td>\n",
       "      <td>69346.78</td>\n",
       "    </tr>\n",
       "    <tr>\n",
       "      <th>гатчина</th>\n",
       "      <td>199</td>\n",
       "      <td>68489.45</td>\n",
       "    </tr>\n",
       "    <tr>\n",
       "      <th>выборг</th>\n",
       "      <td>163</td>\n",
       "      <td>57382.43</td>\n",
       "    </tr>\n",
       "  </tbody>\n",
       "</table>\n",
       "</div>"
      ],
      "text/plain": [
       "                 count  price_square_meter\n",
       "locality_name                             \n",
       "санкт-петербург   9246           110979.31\n",
       "пушкин             208           100732.82\n",
       "кудрово            349            95019.57\n",
       "парголово          241            88995.69\n",
       "мурино             457            86223.33\n",
       "шушары             331            78120.13\n",
       "колпино            255            74896.62\n",
       "всеволожск         247            69346.78\n",
       "гатчина            199            68489.45\n",
       "выборг             163            57382.43"
      ]
     },
     "execution_count": 71,
     "metadata": {},
     "output_type": "execute_result"
    }
   ],
   "source": [
    "price_sm_name = data.pivot_table(index='locality_name', values='last_price', aggfunc=['count'])\n",
    "price_sm_name.columns = ['count']\n",
    "price_sm_name = price_sm_name.sort_values(by='count', ascending=False).head(10)\n",
    "price_sm_name['price_square_meter'] = data.pivot_table(index='locality_name', values='price_square_meter').round(2)\n",
    "price_sm_name.sort_values(by='price_square_meter', ascending=False)"
   ]
  },
  {
   "cell_type": "markdown",
   "metadata": {},
   "source": [
    "**Вывод**:\n",
    "Наибольшая средняя стоимость квадратного метра, как и ожидалось, в Санкт-Петербурге. Затем идёт Пушкин, что, вероятно, вызвано хорошей застройкой и большим количеством парков. Затем идут районы, фактически являющиеся Санкт-Петербургом и непосредственно к нему примыкают. Из топ-10 наименьшая стоимость в Гатчине и Всеволожске, из которых далеко ехать до Санкт-Петербурга, а также небольшой по численности населения Выборг, расположенный на большом расстоянии от Санкт-Петербурга."
   ]
  },
  {
   "cell_type": "markdown",
   "metadata": {},
   "source": [
    "**Выделим квартиры в Санкт-Петербурге с помощью столбца locality_name и вычислим их среднюю стоимость на разном удалении от центра**"
   ]
  },
  {
   "cell_type": "code",
   "execution_count": 72,
   "metadata": {},
   "outputs": [
    {
     "data": {
      "text/plain": [
       "count    10388.000000\n",
       "mean        11.965826\n",
       "std          4.644468\n",
       "min          0.000000\n",
       "25%          9.000000\n",
       "50%         13.000000\n",
       "75%         15.000000\n",
       "max         29.000000\n",
       "Name: distance_city_center, dtype: float64"
      ]
     },
     "execution_count": 72,
     "metadata": {},
     "output_type": "execute_result"
    }
   ],
   "source": [
    "data.query('locality_name == \"санкт-петербург\"')['distance_city_center'].describe()"
   ]
  },
  {
   "cell_type": "code",
   "execution_count": 73,
   "metadata": {},
   "outputs": [
    {
     "data": {
      "image/png": "[encoded data removed]",
      "text/plain": [
       "<Figure size 720x360 with 1 Axes>"
      ]
     },
     "metadata": {
      "needs_background": "light"
     },
     "output_type": "display_data"
    },
    {
     "name": "stdout",
     "output_type": "stream",
     "text": [
      "Таблица средней стоимость квартир в зависимости от удаления центра города Санкт-Петербург\n"
     ]
    },
    {
     "data": {
      "text/html": [
       "<div>\n",
       "<style scoped>\n",
       "    .dataframe tbody tr th:only-of-type {\n",
       "        vertical-align: middle;\n",
       "    }\n",
       "\n",
       "    .dataframe tbody tr th {\n",
       "        vertical-align: top;\n",
       "    }\n",
       "\n",
       "    .dataframe thead th {\n",
       "        text-align: right;\n",
       "    }\n",
       "</style>\n",
       "<table border=\"1\" class=\"dataframe\">\n",
       "  <thead>\n",
       "    <tr style=\"text-align: right;\">\n",
       "      <th></th>\n",
       "      <th>last_price</th>\n",
       "    </tr>\n",
       "    <tr>\n",
       "      <th>distance_city_center</th>\n",
       "      <th></th>\n",
       "    </tr>\n",
       "  </thead>\n",
       "  <tbody>\n",
       "    <tr>\n",
       "      <th>0.0</th>\n",
       "      <td>7.181667e+06</td>\n",
       "    </tr>\n",
       "    <tr>\n",
       "      <th>1.0</th>\n",
       "      <td>7.403292e+06</td>\n",
       "    </tr>\n",
       "    <tr>\n",
       "      <th>2.0</th>\n",
       "      <td>7.414423e+06</td>\n",
       "    </tr>\n",
       "    <tr>\n",
       "      <th>3.0</th>\n",
       "      <td>6.639053e+06</td>\n",
       "    </tr>\n",
       "    <tr>\n",
       "      <th>4.0</th>\n",
       "      <td>6.829605e+06</td>\n",
       "    </tr>\n",
       "    <tr>\n",
       "      <th>5.0</th>\n",
       "      <td>6.848766e+06</td>\n",
       "    </tr>\n",
       "    <tr>\n",
       "      <th>6.0</th>\n",
       "      <td>6.536550e+06</td>\n",
       "    </tr>\n",
       "    <tr>\n",
       "      <th>7.0</th>\n",
       "      <td>6.163286e+06</td>\n",
       "    </tr>\n",
       "    <tr>\n",
       "      <th>8.0</th>\n",
       "      <td>6.003142e+06</td>\n",
       "    </tr>\n",
       "    <tr>\n",
       "      <th>9.0</th>\n",
       "      <td>5.299503e+06</td>\n",
       "    </tr>\n",
       "    <tr>\n",
       "      <th>10.0</th>\n",
       "      <td>5.036494e+06</td>\n",
       "    </tr>\n",
       "    <tr>\n",
       "      <th>11.0</th>\n",
       "      <td>5.025528e+06</td>\n",
       "    </tr>\n",
       "    <tr>\n",
       "      <th>12.0</th>\n",
       "      <td>5.109606e+06</td>\n",
       "    </tr>\n",
       "    <tr>\n",
       "      <th>13.0</th>\n",
       "      <td>5.229254e+06</td>\n",
       "    </tr>\n",
       "  </tbody>\n",
       "</table>\n",
       "</div>"
      ],
      "text/plain": [
       "                        last_price\n",
       "distance_city_center              \n",
       "0.0                   7.181667e+06\n",
       "1.0                   7.403292e+06\n",
       "2.0                   7.414423e+06\n",
       "3.0                   6.639053e+06\n",
       "4.0                   6.829605e+06\n",
       "5.0                   6.848766e+06\n",
       "6.0                   6.536550e+06\n",
       "7.0                   6.163286e+06\n",
       "8.0                   6.003142e+06\n",
       "9.0                   5.299503e+06\n",
       "10.0                  5.036494e+06\n",
       "11.0                  5.025528e+06\n",
       "12.0                  5.109606e+06\n",
       "13.0                  5.229254e+06"
      ]
     },
     "execution_count": 73,
     "metadata": {},
     "output_type": "execute_result"
    }
   ],
   "source": [
    "(\n",
    "    data.query('locality_name == \"санкт-петербург\"')\n",
    "    .pivot_table(index='distance_city_center', values='last_price')\n",
    "    .plot(grid=True, style='o-', xlim=(0,15), figsize=(10, 5))\n",
    ")\n",
    "plt.title('Зависимость цены от удаления от центра города в Санкт-Петербурге')\n",
    "plt.xlabel('Расстояние от центра города (километр)')\n",
    "plt.ylabel('Цена (млн. руб.)')\n",
    "plt.show()\n",
    "print('Таблица средней стоимость квартир в зависимости от удаления центра города Санкт-Петербург')\n",
    "data.query('locality_name == \"санкт-петербург\" and distance_city_center<=13').pivot_table(values='last_price', index='distance_city_center')"
   ]
  },
  {
   "cell_type": "markdown",
   "metadata": {},
   "source": [
    "**Вывод**: Самые дорогие квартиры в центре города и их стоимость уменьшается c увеличением расстояния от центра города до 9 километров, далее стоимость не зависит от удаления."
   ]
  },
  {
   "cell_type": "markdown",
   "metadata": {
    "id": "h7VpzkIDAwb-"
   },
   "source": [
    "### Напишем общий вывод"
   ]
  },
  {
   "cell_type": "markdown",
   "metadata": {
    "id": "3H4lnp_KAwb-"
   },
   "source": [
    "**Общий вывод**:\n",
    "\n",
    "В процессе исследования объявлений о продаже квартир были выполнены следующие этапы и сделаны выводы:\n",
    "1) Изучили общую информацию о данных:\n",
    "    \n",
    "    В данных 23699 записи. Для целого ряда столбцов, есть пропущенные значения и некорректный тип данных. По гисторгаммам видно, что в данных есть аномальные значения. Явные дубликаты отсутствуют. Данные признаны полными и достаточными для исследования.\n",
    "2) Выполнена предобработка данных:\n",
    "\n",
    "    Основными причинами пропусков могли стать:\n",
    "    - Человеческий фактор\n",
    "    - Возможны программные сбои\n",
    "    - Ранее введенные данные не откорректированы\n",
    "\n",
    "    В процессе предобработки данных:\n",
    "    - Переименовали название столбца cityCenters_nearest на city_centers_nearest.\n",
    "    - Заполнили явные пропуски в таблице.\n",
    "    - Изменили тип данных, в соответствии с данными находяшимися в столбцах.\n",
    "    - В столбцах last_price, floors_total, balcony, parks_around3000, ponds_around3000 тип данных должны быть целочисленными, is_apartment - булевым, а first_day_exposition - тип даты и времени\n",
    "\n",
    "3) Добавлены новые столбцы в таблицу для проведения следующего этапа:\n",
    "    \n",
    "    - price_square_meter - цена квадратного метра объекта с точностью до двух знаков после запятой.\n",
    "    - day_publication - день недели публикации объявления (0 — понедельник, 1 — вторник и так далее).\n",
    "    - month_publication - месяц публикации объявления.\n",
    "    - year_publication - год публикации объявления.\n",
    "    - type_apartment_floor - тип этажа квартиры (значения — «первый», «последний», «другой»).\n",
    "    - distance_city_center - расстояние до центра города в целых километрах.\n",
    "4) Проведен исследовательский анализ данных: \n",
    "    \n",
    "    - Изучены и описаны параметры:\n",
    "    Среднестатистическое предложение, это квартира в пятиэтажном доме средней площадью 52 кв. метра с кухней в 6 кв. метров, высотой потолков 2,65 метра, скорее всего однокомнатная или двухкомнатная с маленькими комнатками, на удалении 13 км. или 5 км. от центра города.\n",
    "    - Изучено, как быстро продавались квартиы:\n",
    "    Среднее значение продажи составляет 180 дня, при этом медианное значение составляет 95 дня, оно более точно характеризует среднее время продажи, так как не зависит от выбросов и нестандартных значений.\n",
    "    В среднем продажа средне статистической квартиры занимает 2-3 месяца в зависимости от сопутствующих факторов(площади, цены, удалённости от центра).\n",
    "    Быстрыми продажами можно считать продажи состоявшиеся за 45 дней (в первом квартиле), а долгие продажи после 3 квартиля, которые могут совсем не продаваться.\n",
    "    - Определены факторы, которые больше всего влияют на общую (полную) стоимость объекта:\n",
    "    Чем больше общая площадь, тем выше стоимость. Корреляция этих параметров крайне высокая.\n",
    "    Число комнат влияет на цену (больше комнат -> больше жилая площадь -> больше цена), однако зависимость ниже, чем у площади, так как бывают квартиры с большими по площади комнатами и квартиры в центре состоят из малого числа комнат, но стоят достаточно высоко.\n",
    "    Первый этаж непосредственно влияет на стоимость квартиры - в среднем квартиры на 1-м этаже значительно дешевле. Чуть дороже последний этаж. Наибольшая стоимость у квартир, расположенных не на 1-м и не на последнем этаже.\n",
    "    Прослеживается слабая зависимость между: ценой и днем публикации; ценой и площадью кухни.\n",
    "    - Посчитана средняя цена одного квадратного метра в 10 населённых пунктах с наибольшим числом объявлений: \n",
    "    Наибольшая средняя стоимость квадратного метра, как и ожидалось, в Санкт-Петербурге. Затем идёт Пушкин, что, вероятно, вызвано хорошей застройкой и большим количеством парков. Затем идут районы, фактически являющиеся Санкт-Петербургом и непосредственно к нему примыкают. Из топ-10 наименьшая стоимость в Гатчине и Всеволожске, из которых далеко ехать до Санкт-Петербурга, а также небольшой по численности населения Выборг, расположенный на большом расстоянии от Санкт-Петербурга.\n",
    "    - Вычислена средняя стоимость квартиры на разном удалении от центра Санкт-Петербурга:\n",
    "    Самые дорогие квартиры в центре города и их стоимость уменьшается c увеличением расстояния от центра города до 9 километров, далее стоимость не зависит от удаления"
   ]
  }
 ],
 "metadata": {
  "ExecuteTimeLog": [
   {
    "duration": 182,
    "start_time": "2024-03-04T12:19:36.665Z"
   },
   {
    "duration": 599,
    "start_time": "2024-03-04T12:19:48.107Z"
   },
   {
    "duration": 95,
    "start_time": "2024-03-04T12:19:49.653Z"
   },
   {
    "duration": 97,
    "start_time": "2024-03-04T12:19:56.009Z"
   },
   {
    "duration": 88,
    "start_time": "2024-03-04T12:22:25.299Z"
   },
   {
    "duration": 103,
    "start_time": "2024-03-04T12:26:18.043Z"
   },
   {
    "duration": 524,
    "start_time": "2024-03-05T09:34:24.216Z"
   },
   {
    "duration": 89,
    "start_time": "2024-03-05T09:34:30.395Z"
   },
   {
    "duration": 116,
    "start_time": "2024-03-05T09:34:50.609Z"
   },
   {
    "duration": 0,
    "start_time": "2024-03-05T09:34:50.726Z"
   },
   {
    "duration": 482,
    "start_time": "2024-03-05T09:35:28.932Z"
   },
   {
    "duration": 98,
    "start_time": "2024-03-05T09:48:24.076Z"
   },
   {
    "duration": 117,
    "start_time": "2024-03-05T09:49:03.975Z"
   },
   {
    "duration": 132,
    "start_time": "2024-03-05T09:49:20.484Z"
   },
   {
    "duration": 2385,
    "start_time": "2024-03-05T09:50:35.586Z"
   },
   {
    "duration": 15,
    "start_time": "2024-03-05T09:54:41.135Z"
   },
   {
    "duration": 118,
    "start_time": "2024-03-05T09:55:57.791Z"
   },
   {
    "duration": 78,
    "start_time": "2024-03-05T10:10:58.499Z"
   },
   {
    "duration": 12,
    "start_time": "2024-03-05T10:11:07.617Z"
   },
   {
    "duration": 447,
    "start_time": "2024-03-05T10:15:21.101Z"
   },
   {
    "duration": 5,
    "start_time": "2024-03-05T10:17:53.247Z"
   },
   {
    "duration": 4,
    "start_time": "2024-03-05T10:17:55.119Z"
   },
   {
    "duration": 25,
    "start_time": "2024-03-05T10:18:29.491Z"
   },
   {
    "duration": 4,
    "start_time": "2024-03-05T10:23:50.011Z"
   },
   {
    "duration": 52,
    "start_time": "2024-03-05T10:23:58.937Z"
   },
   {
    "duration": 9,
    "start_time": "2024-03-05T10:24:32.665Z"
   },
   {
    "duration": 4,
    "start_time": "2024-03-05T10:25:02.875Z"
   },
   {
    "duration": 4,
    "start_time": "2024-03-05T10:26:19.677Z"
   },
   {
    "duration": 23,
    "start_time": "2024-03-05T10:34:31.559Z"
   },
   {
    "duration": 7,
    "start_time": "2024-03-05T10:34:59.664Z"
   },
   {
    "duration": 3,
    "start_time": "2024-03-05T10:49:40.423Z"
   },
   {
    "duration": 6,
    "start_time": "2024-03-05T10:52:23.560Z"
   },
   {
    "duration": 9,
    "start_time": "2024-03-05T10:52:47.834Z"
   },
   {
    "duration": 9,
    "start_time": "2024-03-05T11:03:30.544Z"
   },
   {
    "duration": 25,
    "start_time": "2024-03-05T11:04:31.595Z"
   },
   {
    "duration": 11,
    "start_time": "2024-03-05T11:06:18.910Z"
   },
   {
    "duration": 33,
    "start_time": "2024-03-05T11:06:35.239Z"
   },
   {
    "duration": 321,
    "start_time": "2024-03-05T11:11:49.989Z"
   },
   {
    "duration": 52,
    "start_time": "2024-03-05T11:12:41.153Z"
   },
   {
    "duration": 43,
    "start_time": "2024-03-05T11:12:59.350Z"
   },
   {
    "duration": 34,
    "start_time": "2024-03-05T11:13:19.574Z"
   },
   {
    "duration": 34,
    "start_time": "2024-03-05T11:13:34.742Z"
   },
   {
    "duration": 25,
    "start_time": "2024-03-05T11:13:52.903Z"
   },
   {
    "duration": 144,
    "start_time": "2024-03-05T11:35:12.427Z"
   },
   {
    "duration": 257,
    "start_time": "2024-03-05T11:40:42.775Z"
   },
   {
    "duration": 42,
    "start_time": "2024-03-05T11:43:05.552Z"
   },
   {
    "duration": 4,
    "start_time": "2024-03-05T11:44:50.550Z"
   },
   {
    "duration": 5,
    "start_time": "2024-03-05T11:45:00.612Z"
   },
   {
    "duration": 5,
    "start_time": "2024-03-05T11:45:05.888Z"
   },
   {
    "duration": 10,
    "start_time": "2024-03-05T11:45:17.338Z"
   },
   {
    "duration": 13,
    "start_time": "2024-03-05T11:52:40.145Z"
   },
   {
    "duration": 8,
    "start_time": "2024-03-05T11:53:14.124Z"
   },
   {
    "duration": 8,
    "start_time": "2024-03-05T11:53:27.874Z"
   },
   {
    "duration": 7,
    "start_time": "2024-03-05T11:56:15.676Z"
   },
   {
    "duration": 29,
    "start_time": "2024-03-05T11:56:28.728Z"
   },
   {
    "duration": 3,
    "start_time": "2024-03-05T11:56:32.595Z"
   },
   {
    "duration": 4,
    "start_time": "2024-03-05T11:56:36.620Z"
   },
   {
    "duration": 1564,
    "start_time": "2024-03-05T11:59:53.598Z"
   },
   {
    "duration": 1621,
    "start_time": "2024-03-05T12:00:04.060Z"
   },
   {
    "duration": 1582,
    "start_time": "2024-03-05T12:00:33.312Z"
   },
   {
    "duration": 577,
    "start_time": "2024-03-05T12:00:42.417Z"
   },
   {
    "duration": 23,
    "start_time": "2024-03-05T12:00:42.996Z"
   },
   {
    "duration": 2241,
    "start_time": "2024-03-05T12:00:43.022Z"
   },
   {
    "duration": 10,
    "start_time": "2024-03-05T12:00:45.266Z"
   },
   {
    "duration": 44,
    "start_time": "2024-03-05T12:00:45.278Z"
   },
   {
    "duration": 5,
    "start_time": "2024-03-05T12:00:45.324Z"
   },
   {
    "duration": 10,
    "start_time": "2024-03-05T12:00:45.331Z"
   },
   {
    "duration": 14,
    "start_time": "2024-03-05T12:00:45.342Z"
   },
   {
    "duration": 16,
    "start_time": "2024-03-05T12:00:45.358Z"
   },
   {
    "duration": 10,
    "start_time": "2024-03-05T12:00:45.376Z"
   },
   {
    "duration": 364,
    "start_time": "2024-03-05T12:00:45.399Z"
   },
   {
    "duration": 12,
    "start_time": "2024-03-05T12:00:45.764Z"
   },
   {
    "duration": 6,
    "start_time": "2024-03-05T12:00:45.777Z"
   },
   {
    "duration": 53,
    "start_time": "2024-03-05T12:00:45.785Z"
   },
   {
    "duration": 4,
    "start_time": "2024-03-05T12:00:45.839Z"
   },
   {
    "duration": 334,
    "start_time": "2024-03-05T12:00:45.845Z"
   },
   {
    "duration": 7,
    "start_time": "2024-03-05T12:00:46.181Z"
   },
   {
    "duration": 7,
    "start_time": "2024-03-05T12:01:35.524Z"
   },
   {
    "duration": 10,
    "start_time": "2024-03-05T12:05:33.211Z"
   },
   {
    "duration": 76,
    "start_time": "2024-03-05T12:08:19.933Z"
   },
   {
    "duration": 37,
    "start_time": "2024-03-05T12:08:32.376Z"
   },
   {
    "duration": 7,
    "start_time": "2024-03-05T12:09:29.745Z"
   },
   {
    "duration": 3,
    "start_time": "2024-03-05T12:09:53.282Z"
   },
   {
    "duration": 4,
    "start_time": "2024-03-05T12:09:56.193Z"
   },
   {
    "duration": 40,
    "start_time": "2024-03-05T12:10:00.963Z"
   },
   {
    "duration": 3,
    "start_time": "2024-03-05T12:10:25.282Z"
   },
   {
    "duration": 8,
    "start_time": "2024-03-05T12:12:36.018Z"
   },
   {
    "duration": 4,
    "start_time": "2024-03-05T12:12:52.351Z"
   },
   {
    "duration": 279,
    "start_time": "2024-03-05T12:14:47.991Z"
   },
   {
    "duration": 9,
    "start_time": "2024-03-05T12:15:30.462Z"
   },
   {
    "duration": 7,
    "start_time": "2024-03-05T12:15:55.344Z"
   },
   {
    "duration": 5,
    "start_time": "2024-03-05T12:16:10.824Z"
   },
   {
    "duration": 7,
    "start_time": "2024-03-05T12:21:06.842Z"
   },
   {
    "duration": 6,
    "start_time": "2024-03-05T12:23:02.139Z"
   },
   {
    "duration": 5,
    "start_time": "2024-03-05T12:24:29.667Z"
   },
   {
    "duration": 6,
    "start_time": "2024-03-05T12:24:50.450Z"
   },
   {
    "duration": 4,
    "start_time": "2024-03-05T12:25:46.851Z"
   },
   {
    "duration": 7,
    "start_time": "2024-03-05T12:26:10.221Z"
   },
   {
    "duration": 2,
    "start_time": "2024-03-05T12:28:50.536Z"
   },
   {
    "duration": 7,
    "start_time": "2024-03-05T12:28:52.646Z"
   },
   {
    "duration": 9,
    "start_time": "2024-03-05T12:28:58.519Z"
   },
   {
    "duration": 26,
    "start_time": "2024-03-05T12:33:01.289Z"
   },
   {
    "duration": 559,
    "start_time": "2024-03-05T12:33:12.886Z"
   },
   {
    "duration": 15,
    "start_time": "2024-03-05T12:33:13.448Z"
   },
   {
    "duration": 36,
    "start_time": "2024-03-05T12:33:13.465Z"
   },
   {
    "duration": 2175,
    "start_time": "2024-03-05T12:33:13.504Z"
   },
   {
    "duration": 10,
    "start_time": "2024-03-05T12:33:15.681Z"
   },
   {
    "duration": 35,
    "start_time": "2024-03-05T12:33:15.693Z"
   },
   {
    "duration": 6,
    "start_time": "2024-03-05T12:33:15.729Z"
   },
   {
    "duration": 5,
    "start_time": "2024-03-05T12:33:15.737Z"
   },
   {
    "duration": 10,
    "start_time": "2024-03-05T12:33:15.743Z"
   },
   {
    "duration": 10,
    "start_time": "2024-03-05T12:33:15.755Z"
   },
   {
    "duration": 42,
    "start_time": "2024-03-05T12:33:15.766Z"
   },
   {
    "duration": 389,
    "start_time": "2024-03-05T12:33:15.809Z"
   },
   {
    "duration": 15,
    "start_time": "2024-03-05T12:33:16.199Z"
   },
   {
    "duration": 9,
    "start_time": "2024-03-05T12:33:16.216Z"
   },
   {
    "duration": 35,
    "start_time": "2024-03-05T12:33:16.227Z"
   },
   {
    "duration": 3,
    "start_time": "2024-03-05T12:33:16.263Z"
   },
   {
    "duration": 314,
    "start_time": "2024-03-05T12:33:16.267Z"
   },
   {
    "duration": 6,
    "start_time": "2024-03-05T12:33:16.583Z"
   },
   {
    "duration": 7,
    "start_time": "2024-03-05T12:33:16.599Z"
   },
   {
    "duration": 34,
    "start_time": "2024-03-05T12:33:16.607Z"
   },
   {
    "duration": 3,
    "start_time": "2024-03-05T12:33:16.642Z"
   },
   {
    "duration": 9,
    "start_time": "2024-03-05T12:33:16.646Z"
   },
   {
    "duration": 288,
    "start_time": "2024-03-05T12:33:16.656Z"
   },
   {
    "duration": 5,
    "start_time": "2024-03-05T12:33:16.946Z"
   },
   {
    "duration": 7,
    "start_time": "2024-03-05T12:33:16.952Z"
   },
   {
    "duration": 5,
    "start_time": "2024-03-05T12:33:16.961Z"
   },
   {
    "duration": 5,
    "start_time": "2024-03-05T12:33:16.968Z"
   },
   {
    "duration": 25,
    "start_time": "2024-03-05T12:33:16.976Z"
   },
   {
    "duration": 6,
    "start_time": "2024-03-05T12:33:17.004Z"
   },
   {
    "duration": 8,
    "start_time": "2024-03-05T12:33:17.012Z"
   },
   {
    "duration": 3,
    "start_time": "2024-03-05T12:33:17.022Z"
   },
   {
    "duration": 9,
    "start_time": "2024-03-05T12:33:17.026Z"
   },
   {
    "duration": 6,
    "start_time": "2024-03-05T12:51:03.017Z"
   },
   {
    "duration": 4,
    "start_time": "2024-03-05T12:51:53.041Z"
   },
   {
    "duration": 4,
    "start_time": "2024-03-05T13:52:21.650Z"
   },
   {
    "duration": 13,
    "start_time": "2024-03-05T13:52:55.574Z"
   },
   {
    "duration": 545,
    "start_time": "2024-03-05T13:54:53.002Z"
   },
   {
    "duration": 14,
    "start_time": "2024-03-05T13:54:53.548Z"
   },
   {
    "duration": 21,
    "start_time": "2024-03-05T13:54:53.564Z"
   },
   {
    "duration": 2124,
    "start_time": "2024-03-05T13:54:53.587Z"
   },
   {
    "duration": 12,
    "start_time": "2024-03-05T13:54:55.713Z"
   },
   {
    "duration": 30,
    "start_time": "2024-03-05T13:54:55.727Z"
   },
   {
    "duration": 6,
    "start_time": "2024-03-05T13:54:55.758Z"
   },
   {
    "duration": 5,
    "start_time": "2024-03-05T13:54:55.766Z"
   },
   {
    "duration": 9,
    "start_time": "2024-03-05T13:54:55.772Z"
   },
   {
    "duration": 11,
    "start_time": "2024-03-05T13:54:55.799Z"
   },
   {
    "duration": 12,
    "start_time": "2024-03-05T13:54:55.811Z"
   },
   {
    "duration": 379,
    "start_time": "2024-03-05T13:54:55.824Z"
   },
   {
    "duration": 11,
    "start_time": "2024-03-05T13:54:56.205Z"
   },
   {
    "duration": 8,
    "start_time": "2024-03-05T13:54:56.217Z"
   },
   {
    "duration": 33,
    "start_time": "2024-03-05T13:54:56.227Z"
   },
   {
    "duration": 4,
    "start_time": "2024-03-05T13:54:56.261Z"
   },
   {
    "duration": 302,
    "start_time": "2024-03-05T13:54:56.267Z"
   },
   {
    "duration": 5,
    "start_time": "2024-03-05T13:54:56.571Z"
   },
   {
    "duration": 8,
    "start_time": "2024-03-05T13:54:56.577Z"
   },
   {
    "duration": 45,
    "start_time": "2024-03-05T13:54:56.586Z"
   },
   {
    "duration": 3,
    "start_time": "2024-03-05T13:54:56.632Z"
   },
   {
    "duration": 5,
    "start_time": "2024-03-05T13:54:56.636Z"
   },
   {
    "duration": 287,
    "start_time": "2024-03-05T13:54:56.642Z"
   },
   {
    "duration": 7,
    "start_time": "2024-03-05T13:54:56.930Z"
   },
   {
    "duration": 8,
    "start_time": "2024-03-05T13:54:56.939Z"
   },
   {
    "duration": 7,
    "start_time": "2024-03-05T13:54:56.948Z"
   },
   {
    "duration": 5,
    "start_time": "2024-03-05T13:54:56.956Z"
   },
   {
    "duration": 5,
    "start_time": "2024-03-05T13:54:56.963Z"
   },
   {
    "duration": 29,
    "start_time": "2024-03-05T13:54:56.970Z"
   },
   {
    "duration": 7,
    "start_time": "2024-03-05T13:54:57.001Z"
   },
   {
    "duration": 3,
    "start_time": "2024-03-05T13:54:57.010Z"
   },
   {
    "duration": 10,
    "start_time": "2024-03-05T13:54:57.015Z"
   },
   {
    "duration": 12,
    "start_time": "2024-03-05T13:54:57.027Z"
   },
   {
    "duration": 3,
    "start_time": "2024-03-05T14:05:33.075Z"
   },
   {
    "duration": 53,
    "start_time": "2024-03-05T14:05:38.311Z"
   },
   {
    "duration": 43,
    "start_time": "2024-03-05T14:05:57.460Z"
   },
   {
    "duration": 4,
    "start_time": "2024-03-05T14:06:06.477Z"
   },
   {
    "duration": 5,
    "start_time": "2024-03-05T14:12:06.847Z"
   },
   {
    "duration": 6,
    "start_time": "2024-03-05T14:12:07.993Z"
   },
   {
    "duration": 5,
    "start_time": "2024-03-05T14:12:08.404Z"
   },
   {
    "duration": 67,
    "start_time": "2024-03-05T14:12:09.087Z"
   },
   {
    "duration": 389,
    "start_time": "2024-03-05T14:12:15.386Z"
   },
   {
    "duration": 5,
    "start_time": "2024-03-05T14:12:24.850Z"
   },
   {
    "duration": 36,
    "start_time": "2024-03-05T14:12:33.161Z"
   },
   {
    "duration": 37,
    "start_time": "2024-03-05T14:17:23.717Z"
   },
   {
    "duration": 557,
    "start_time": "2024-03-05T14:18:19.297Z"
   },
   {
    "duration": 15,
    "start_time": "2024-03-05T14:18:19.856Z"
   },
   {
    "duration": 31,
    "start_time": "2024-03-05T14:18:19.872Z"
   },
   {
    "duration": 2098,
    "start_time": "2024-03-05T14:18:19.905Z"
   },
   {
    "duration": 8,
    "start_time": "2024-03-05T14:18:22.005Z"
   },
   {
    "duration": 25,
    "start_time": "2024-03-05T14:18:22.015Z"
   },
   {
    "duration": 6,
    "start_time": "2024-03-05T14:18:22.042Z"
   },
   {
    "duration": 6,
    "start_time": "2024-03-05T14:18:22.050Z"
   },
   {
    "duration": 12,
    "start_time": "2024-03-05T14:18:22.057Z"
   },
   {
    "duration": 11,
    "start_time": "2024-03-05T14:18:22.101Z"
   },
   {
    "duration": 11,
    "start_time": "2024-03-05T14:18:22.113Z"
   },
   {
    "duration": 356,
    "start_time": "2024-03-05T14:18:22.126Z"
   },
   {
    "duration": 17,
    "start_time": "2024-03-05T14:18:22.484Z"
   },
   {
    "duration": 7,
    "start_time": "2024-03-05T14:18:22.503Z"
   },
   {
    "duration": 32,
    "start_time": "2024-03-05T14:18:22.511Z"
   },
   {
    "duration": 3,
    "start_time": "2024-03-05T14:18:22.544Z"
   },
   {
    "duration": 306,
    "start_time": "2024-03-05T14:18:22.549Z"
   },
   {
    "duration": 6,
    "start_time": "2024-03-05T14:18:22.857Z"
   },
   {
    "duration": 6,
    "start_time": "2024-03-05T14:18:22.864Z"
   },
   {
    "duration": 44,
    "start_time": "2024-03-05T14:18:22.871Z"
   },
   {
    "duration": 3,
    "start_time": "2024-03-05T14:18:22.916Z"
   },
   {
    "duration": 7,
    "start_time": "2024-03-05T14:18:22.921Z"
   },
   {
    "duration": 259,
    "start_time": "2024-03-05T14:18:22.929Z"
   },
   {
    "duration": 13,
    "start_time": "2024-03-05T14:18:23.189Z"
   },
   {
    "duration": 6,
    "start_time": "2024-03-05T14:18:23.203Z"
   },
   {
    "duration": 7,
    "start_time": "2024-03-05T14:18:23.211Z"
   },
   {
    "duration": 5,
    "start_time": "2024-03-05T14:18:23.219Z"
   },
   {
    "duration": 6,
    "start_time": "2024-03-05T14:18:23.227Z"
   },
   {
    "duration": 6,
    "start_time": "2024-03-05T14:18:23.234Z"
   },
   {
    "duration": 7,
    "start_time": "2024-03-05T14:18:23.242Z"
   },
   {
    "duration": 3,
    "start_time": "2024-03-05T14:18:23.250Z"
   },
   {
    "duration": 48,
    "start_time": "2024-03-05T14:18:23.255Z"
   },
   {
    "duration": 20,
    "start_time": "2024-03-05T14:18:23.305Z"
   },
   {
    "duration": 5,
    "start_time": "2024-03-05T14:18:23.327Z"
   },
   {
    "duration": 6,
    "start_time": "2024-03-05T14:18:23.334Z"
   },
   {
    "duration": 6,
    "start_time": "2024-03-05T14:18:23.341Z"
   },
   {
    "duration": 6,
    "start_time": "2024-03-05T14:18:23.348Z"
   },
   {
    "duration": 402,
    "start_time": "2024-03-05T14:18:23.355Z"
   },
   {
    "duration": 45,
    "start_time": "2024-03-05T14:18:23.758Z"
   },
   {
    "duration": 45,
    "start_time": "2024-03-06T10:49:27.605Z"
   },
   {
    "duration": 639,
    "start_time": "2024-03-06T10:50:36.883Z"
   },
   {
    "duration": 14,
    "start_time": "2024-03-06T10:50:37.524Z"
   },
   {
    "duration": 38,
    "start_time": "2024-03-06T10:50:37.540Z"
   },
   {
    "duration": 2484,
    "start_time": "2024-03-06T10:50:37.580Z"
   },
   {
    "duration": 10,
    "start_time": "2024-03-06T10:50:40.065Z"
   },
   {
    "duration": 51,
    "start_time": "2024-03-06T10:50:40.077Z"
   },
   {
    "duration": 5,
    "start_time": "2024-03-06T10:50:40.130Z"
   },
   {
    "duration": 18,
    "start_time": "2024-03-06T10:50:40.136Z"
   },
   {
    "duration": 36,
    "start_time": "2024-03-06T10:50:40.156Z"
   },
   {
    "duration": 11,
    "start_time": "2024-03-06T10:50:40.194Z"
   },
   {
    "duration": 18,
    "start_time": "2024-03-06T10:50:40.207Z"
   },
   {
    "duration": 361,
    "start_time": "2024-03-06T10:50:40.227Z"
   },
   {
    "duration": 11,
    "start_time": "2024-03-06T10:50:40.590Z"
   },
   {
    "duration": 17,
    "start_time": "2024-03-06T10:50:40.602Z"
   },
   {
    "duration": 54,
    "start_time": "2024-03-06T10:50:40.620Z"
   },
   {
    "duration": 4,
    "start_time": "2024-03-06T10:50:40.675Z"
   },
   {
    "duration": 348,
    "start_time": "2024-03-06T10:50:40.680Z"
   },
   {
    "duration": 6,
    "start_time": "2024-03-06T10:50:41.029Z"
   },
   {
    "duration": 32,
    "start_time": "2024-03-06T10:50:41.036Z"
   },
   {
    "duration": 45,
    "start_time": "2024-03-06T10:50:41.070Z"
   },
   {
    "duration": 3,
    "start_time": "2024-03-06T10:50:41.116Z"
   },
   {
    "duration": 37,
    "start_time": "2024-03-06T10:50:41.121Z"
   },
   {
    "duration": 258,
    "start_time": "2024-03-06T10:50:41.159Z"
   },
   {
    "duration": 6,
    "start_time": "2024-03-06T10:50:41.418Z"
   },
   {
    "duration": 10,
    "start_time": "2024-03-06T10:50:41.427Z"
   },
   {
    "duration": 17,
    "start_time": "2024-03-06T10:50:41.439Z"
   },
   {
    "duration": 15,
    "start_time": "2024-03-06T10:50:41.458Z"
   },
   {
    "duration": 12,
    "start_time": "2024-03-06T10:50:41.475Z"
   },
   {
    "duration": 8,
    "start_time": "2024-03-06T10:50:41.489Z"
   },
   {
    "duration": 6,
    "start_time": "2024-03-06T10:50:41.499Z"
   },
   {
    "duration": 5,
    "start_time": "2024-03-06T10:50:41.507Z"
   },
   {
    "duration": 32,
    "start_time": "2024-03-06T10:50:41.513Z"
   },
   {
    "duration": 16,
    "start_time": "2024-03-06T10:50:41.546Z"
   },
   {
    "duration": 10,
    "start_time": "2024-03-06T10:50:41.564Z"
   },
   {
    "duration": 13,
    "start_time": "2024-03-06T10:50:41.575Z"
   },
   {
    "duration": 15,
    "start_time": "2024-03-06T10:50:41.589Z"
   },
   {
    "duration": 6,
    "start_time": "2024-03-06T10:50:41.605Z"
   },
   {
    "duration": 334,
    "start_time": "2024-03-06T10:50:41.612Z"
   },
   {
    "duration": 44,
    "start_time": "2024-03-06T10:50:41.948Z"
   },
   {
    "duration": 8,
    "start_time": "2024-03-06T10:50:41.994Z"
   },
   {
    "duration": 75,
    "start_time": "2024-03-06T10:51:25.498Z"
   },
   {
    "duration": 847,
    "start_time": "2024-03-06T10:52:45.177Z"
   },
   {
    "duration": 14,
    "start_time": "2024-03-06T10:52:46.026Z"
   },
   {
    "duration": 32,
    "start_time": "2024-03-06T10:52:46.041Z"
   },
   {
    "duration": 1965,
    "start_time": "2024-03-06T10:52:46.075Z"
   },
   {
    "duration": 10,
    "start_time": "2024-03-06T10:52:48.042Z"
   },
   {
    "duration": 52,
    "start_time": "2024-03-06T10:52:48.054Z"
   },
   {
    "duration": 7,
    "start_time": "2024-03-06T10:52:48.107Z"
   },
   {
    "duration": 21,
    "start_time": "2024-03-06T10:52:48.116Z"
   },
   {
    "duration": 33,
    "start_time": "2024-03-06T10:52:48.139Z"
   },
   {
    "duration": 17,
    "start_time": "2024-03-06T10:52:48.174Z"
   },
   {
    "duration": 16,
    "start_time": "2024-03-06T10:52:48.192Z"
   },
   {
    "duration": 349,
    "start_time": "2024-03-06T10:52:48.210Z"
   },
   {
    "duration": 10,
    "start_time": "2024-03-06T10:52:48.560Z"
   },
   {
    "duration": 30,
    "start_time": "2024-03-06T10:52:48.572Z"
   },
   {
    "duration": 58,
    "start_time": "2024-03-06T10:52:48.603Z"
   },
   {
    "duration": 3,
    "start_time": "2024-03-06T10:52:48.663Z"
   },
   {
    "duration": 299,
    "start_time": "2024-03-06T10:52:48.667Z"
   },
   {
    "duration": 5,
    "start_time": "2024-03-06T10:52:48.968Z"
   },
   {
    "duration": 14,
    "start_time": "2024-03-06T10:52:48.974Z"
   },
   {
    "duration": 60,
    "start_time": "2024-03-06T10:52:48.990Z"
   },
   {
    "duration": 4,
    "start_time": "2024-03-06T10:52:49.051Z"
   },
   {
    "duration": 10,
    "start_time": "2024-03-06T10:52:49.056Z"
   },
   {
    "duration": 274,
    "start_time": "2024-03-06T10:52:49.068Z"
   },
   {
    "duration": 5,
    "start_time": "2024-03-06T10:52:49.344Z"
   },
   {
    "duration": 9,
    "start_time": "2024-03-06T10:52:49.350Z"
   },
   {
    "duration": 19,
    "start_time": "2024-03-06T10:52:49.361Z"
   },
   {
    "duration": 7,
    "start_time": "2024-03-06T10:52:49.382Z"
   },
   {
    "duration": 6,
    "start_time": "2024-03-06T10:52:49.392Z"
   },
   {
    "duration": 32,
    "start_time": "2024-03-06T10:52:49.399Z"
   },
   {
    "duration": 21,
    "start_time": "2024-03-06T10:52:49.433Z"
   },
   {
    "duration": 9,
    "start_time": "2024-03-06T10:52:49.455Z"
   },
   {
    "duration": 12,
    "start_time": "2024-03-06T10:52:49.465Z"
   },
   {
    "duration": 13,
    "start_time": "2024-03-06T10:52:49.479Z"
   },
   {
    "duration": 7,
    "start_time": "2024-03-06T10:52:49.494Z"
   },
   {
    "duration": 13,
    "start_time": "2024-03-06T10:52:49.502Z"
   },
   {
    "duration": 11,
    "start_time": "2024-03-06T10:52:49.516Z"
   },
   {
    "duration": 21,
    "start_time": "2024-03-06T10:52:49.528Z"
   },
   {
    "duration": 412,
    "start_time": "2024-03-06T10:52:49.550Z"
   },
   {
    "duration": 44,
    "start_time": "2024-03-06T10:52:49.963Z"
   },
   {
    "duration": 8,
    "start_time": "2024-03-06T10:52:50.009Z"
   },
   {
    "duration": 258,
    "start_time": "2024-03-06T10:52:50.018Z"
   },
   {
    "duration": 47,
    "start_time": "2024-03-06T10:55:49.315Z"
   },
   {
    "duration": 761,
    "start_time": "2024-03-06T10:55:54.953Z"
   },
   {
    "duration": 13,
    "start_time": "2024-03-06T10:55:55.716Z"
   },
   {
    "duration": 61,
    "start_time": "2024-03-06T10:55:55.731Z"
   },
   {
    "duration": 1854,
    "start_time": "2024-03-06T10:55:55.794Z"
   },
   {
    "duration": 9,
    "start_time": "2024-03-06T10:55:57.650Z"
   },
   {
    "duration": 60,
    "start_time": "2024-03-06T10:55:57.660Z"
   },
   {
    "duration": 5,
    "start_time": "2024-03-06T10:55:57.722Z"
   },
   {
    "duration": 19,
    "start_time": "2024-03-06T10:55:57.729Z"
   },
   {
    "duration": 14,
    "start_time": "2024-03-06T10:55:57.749Z"
   },
   {
    "duration": 30,
    "start_time": "2024-03-06T10:55:57.766Z"
   },
   {
    "duration": 10,
    "start_time": "2024-03-06T10:55:57.797Z"
   },
   {
    "duration": 330,
    "start_time": "2024-03-06T10:55:57.808Z"
   },
   {
    "duration": 11,
    "start_time": "2024-03-06T10:55:58.140Z"
   },
   {
    "duration": 7,
    "start_time": "2024-03-06T10:55:58.152Z"
   },
   {
    "duration": 53,
    "start_time": "2024-03-06T10:55:58.160Z"
   },
   {
    "duration": 3,
    "start_time": "2024-03-06T10:55:58.215Z"
   },
   {
    "duration": 303,
    "start_time": "2024-03-06T10:55:58.220Z"
   },
   {
    "duration": 7,
    "start_time": "2024-03-06T10:55:58.525Z"
   },
   {
    "duration": 15,
    "start_time": "2024-03-06T10:55:58.533Z"
   },
   {
    "duration": 45,
    "start_time": "2024-03-06T10:55:58.550Z"
   },
   {
    "duration": 4,
    "start_time": "2024-03-06T10:55:58.597Z"
   },
   {
    "duration": 16,
    "start_time": "2024-03-06T10:55:58.603Z"
   },
   {
    "duration": 252,
    "start_time": "2024-03-06T10:55:58.621Z"
   },
   {
    "duration": 14,
    "start_time": "2024-03-06T10:55:58.875Z"
   },
   {
    "duration": 12,
    "start_time": "2024-03-06T10:55:58.891Z"
   },
   {
    "duration": 14,
    "start_time": "2024-03-06T10:55:58.905Z"
   },
   {
    "duration": 6,
    "start_time": "2024-03-06T10:55:58.921Z"
   },
   {
    "duration": 5,
    "start_time": "2024-03-06T10:55:58.931Z"
   },
   {
    "duration": 6,
    "start_time": "2024-03-06T10:55:58.937Z"
   },
   {
    "duration": 9,
    "start_time": "2024-03-06T10:55:58.944Z"
   },
   {
    "duration": 5,
    "start_time": "2024-03-06T10:55:58.954Z"
   },
   {
    "duration": 8,
    "start_time": "2024-03-06T10:55:58.987Z"
   },
   {
    "duration": 14,
    "start_time": "2024-03-06T10:55:58.997Z"
   },
   {
    "duration": 5,
    "start_time": "2024-03-06T10:55:59.013Z"
   },
   {
    "duration": 8,
    "start_time": "2024-03-06T10:55:59.019Z"
   },
   {
    "duration": 6,
    "start_time": "2024-03-06T10:55:59.028Z"
   },
   {
    "duration": 11,
    "start_time": "2024-03-06T10:55:59.036Z"
   },
   {
    "duration": 378,
    "start_time": "2024-03-06T10:55:59.087Z"
   },
   {
    "duration": 42,
    "start_time": "2024-03-06T10:55:59.466Z"
   },
   {
    "duration": 9,
    "start_time": "2024-03-06T10:55:59.509Z"
   },
   {
    "duration": 253,
    "start_time": "2024-03-06T10:55:59.519Z"
   },
   {
    "duration": 18,
    "start_time": "2024-03-06T10:55:59.773Z"
   },
   {
    "duration": 232,
    "start_time": "2024-03-06T10:57:38.649Z"
   },
   {
    "duration": 10,
    "start_time": "2024-03-06T10:59:23.513Z"
   },
   {
    "duration": 273,
    "start_time": "2024-03-06T11:00:04.322Z"
   },
   {
    "duration": 9,
    "start_time": "2024-03-06T11:01:23.361Z"
   },
   {
    "duration": 245,
    "start_time": "2024-03-06T11:03:34.769Z"
   },
   {
    "duration": 97,
    "start_time": "2024-03-06T11:04:02.465Z"
   },
   {
    "duration": 215,
    "start_time": "2024-03-06T11:05:26.018Z"
   },
   {
    "duration": 9,
    "start_time": "2024-03-06T11:06:16.468Z"
   },
   {
    "duration": 183,
    "start_time": "2024-03-06T11:06:37.934Z"
   },
   {
    "duration": 156,
    "start_time": "2024-03-06T11:07:46.764Z"
   },
   {
    "duration": 166,
    "start_time": "2024-03-06T11:08:08.258Z"
   },
   {
    "duration": 10,
    "start_time": "2024-03-06T11:09:09.319Z"
   },
   {
    "duration": 256,
    "start_time": "2024-03-06T11:09:35.846Z"
   },
   {
    "duration": 10,
    "start_time": "2024-03-06T11:11:12.236Z"
   },
   {
    "duration": 260,
    "start_time": "2024-03-06T11:11:45.185Z"
   },
   {
    "duration": 10,
    "start_time": "2024-03-06T11:13:10.006Z"
   },
   {
    "duration": 250,
    "start_time": "2024-03-06T11:13:34.831Z"
   },
   {
    "duration": 98,
    "start_time": "2024-03-06T11:13:56.213Z"
   },
   {
    "duration": 9,
    "start_time": "2024-03-06T11:19:42.793Z"
   },
   {
    "duration": 10,
    "start_time": "2024-03-06T11:21:30.724Z"
   },
   {
    "duration": 315,
    "start_time": "2024-03-06T11:22:06.122Z"
   },
   {
    "duration": 243,
    "start_time": "2024-03-06T11:56:02.929Z"
   },
   {
    "duration": 264,
    "start_time": "2024-03-06T11:56:23.490Z"
   },
   {
    "duration": 84,
    "start_time": "2024-03-06T12:00:50.767Z"
   },
   {
    "duration": 136,
    "start_time": "2024-03-06T12:00:57.577Z"
   },
   {
    "duration": 10,
    "start_time": "2024-03-06T12:01:18.111Z"
   },
   {
    "duration": 9,
    "start_time": "2024-03-06T12:01:45.209Z"
   },
   {
    "duration": 116,
    "start_time": "2024-03-06T12:01:46.337Z"
   },
   {
    "duration": 24,
    "start_time": "2024-03-06T12:12:34.465Z"
   },
   {
    "duration": 17,
    "start_time": "2024-03-06T12:12:54.686Z"
   },
   {
    "duration": 30,
    "start_time": "2024-03-06T12:15:34.852Z"
   },
   {
    "duration": 37,
    "start_time": "2024-03-06T12:15:43.856Z"
   },
   {
    "duration": 15,
    "start_time": "2024-03-06T12:16:05.281Z"
   },
   {
    "duration": 28,
    "start_time": "2024-03-06T12:16:38.846Z"
   },
   {
    "duration": 28,
    "start_time": "2024-03-06T12:17:15.900Z"
   },
   {
    "duration": 5,
    "start_time": "2024-03-06T12:20:46.726Z"
   },
   {
    "duration": 22,
    "start_time": "2024-03-06T12:20:59.467Z"
   },
   {
    "duration": 37,
    "start_time": "2024-03-06T12:21:10.725Z"
   },
   {
    "duration": 17,
    "start_time": "2024-03-06T12:22:22.581Z"
   },
   {
    "duration": 104,
    "start_time": "2024-03-06T12:22:50.360Z"
   },
   {
    "duration": 12,
    "start_time": "2024-03-06T12:23:06.541Z"
   },
   {
    "duration": 9,
    "start_time": "2024-03-06T12:23:37.125Z"
   },
   {
    "duration": 12,
    "start_time": "2024-03-06T12:38:52.162Z"
   },
   {
    "duration": 831,
    "start_time": "2024-03-06T12:39:14.680Z"
   },
   {
    "duration": 14,
    "start_time": "2024-03-06T12:39:15.513Z"
   },
   {
    "duration": 28,
    "start_time": "2024-03-06T12:39:15.529Z"
   },
   {
    "duration": 1925,
    "start_time": "2024-03-06T12:39:15.559Z"
   },
   {
    "duration": 9,
    "start_time": "2024-03-06T12:39:17.485Z"
   },
   {
    "duration": 62,
    "start_time": "2024-03-06T12:39:17.496Z"
   },
   {
    "duration": 6,
    "start_time": "2024-03-06T12:39:17.559Z"
   },
   {
    "duration": 24,
    "start_time": "2024-03-06T12:39:17.566Z"
   },
   {
    "duration": 29,
    "start_time": "2024-03-06T12:39:17.592Z"
   },
   {
    "duration": 14,
    "start_time": "2024-03-06T12:39:17.624Z"
   },
   {
    "duration": 64,
    "start_time": "2024-03-06T12:39:17.640Z"
   },
   {
    "duration": 357,
    "start_time": "2024-03-06T12:39:17.705Z"
   },
   {
    "duration": 11,
    "start_time": "2024-03-06T12:39:18.064Z"
   },
   {
    "duration": 16,
    "start_time": "2024-03-06T12:39:18.076Z"
   },
   {
    "duration": 54,
    "start_time": "2024-03-06T12:39:18.094Z"
   },
   {
    "duration": 3,
    "start_time": "2024-03-06T12:39:18.150Z"
   },
   {
    "duration": 312,
    "start_time": "2024-03-06T12:39:18.154Z"
   },
   {
    "duration": 5,
    "start_time": "2024-03-06T12:39:18.468Z"
   },
   {
    "duration": 23,
    "start_time": "2024-03-06T12:39:18.474Z"
   },
   {
    "duration": 42,
    "start_time": "2024-03-06T12:39:18.499Z"
   },
   {
    "duration": 3,
    "start_time": "2024-03-06T12:39:18.542Z"
   },
   {
    "duration": 9,
    "start_time": "2024-03-06T12:39:18.547Z"
   },
   {
    "duration": 246,
    "start_time": "2024-03-06T12:39:18.557Z"
   },
   {
    "duration": 5,
    "start_time": "2024-03-06T12:39:18.806Z"
   },
   {
    "duration": 15,
    "start_time": "2024-03-06T12:39:18.813Z"
   },
   {
    "duration": 16,
    "start_time": "2024-03-06T12:39:18.830Z"
   },
   {
    "duration": 13,
    "start_time": "2024-03-06T12:39:18.847Z"
   },
   {
    "duration": 5,
    "start_time": "2024-03-06T12:39:18.864Z"
   },
   {
    "duration": 30,
    "start_time": "2024-03-06T12:39:18.871Z"
   },
   {
    "duration": 25,
    "start_time": "2024-03-06T12:39:18.903Z"
   },
   {
    "duration": 24,
    "start_time": "2024-03-06T12:39:18.929Z"
   },
   {
    "duration": 17,
    "start_time": "2024-03-06T12:39:18.954Z"
   },
   {
    "duration": 14,
    "start_time": "2024-03-06T12:39:18.972Z"
   },
   {
    "duration": 4,
    "start_time": "2024-03-06T12:39:18.987Z"
   },
   {
    "duration": 8,
    "start_time": "2024-03-06T12:39:18.993Z"
   },
   {
    "duration": 13,
    "start_time": "2024-03-06T12:39:19.003Z"
   },
   {
    "duration": 14,
    "start_time": "2024-03-06T12:39:19.017Z"
   },
   {
    "duration": 401,
    "start_time": "2024-03-06T12:39:19.032Z"
   },
   {
    "duration": 43,
    "start_time": "2024-03-06T12:39:19.435Z"
   },
   {
    "duration": 8,
    "start_time": "2024-03-06T12:39:19.488Z"
   },
   {
    "duration": 258,
    "start_time": "2024-03-06T12:39:19.497Z"
   },
   {
    "duration": 8,
    "start_time": "2024-03-06T12:39:19.757Z"
   },
   {
    "duration": 254,
    "start_time": "2024-03-06T12:39:19.767Z"
   },
   {
    "duration": 11,
    "start_time": "2024-03-06T12:39:20.022Z"
   },
   {
    "duration": 255,
    "start_time": "2024-03-06T12:39:20.034Z"
   },
   {
    "duration": 8,
    "start_time": "2024-03-06T12:39:20.291Z"
   },
   {
    "duration": 259,
    "start_time": "2024-03-06T12:39:20.301Z"
   },
   {
    "duration": 237,
    "start_time": "2024-03-06T12:39:20.562Z"
   },
   {
    "duration": 9,
    "start_time": "2024-03-06T12:39:20.800Z"
   },
   {
    "duration": 198,
    "start_time": "2024-03-06T12:39:20.810Z"
   },
   {
    "duration": 152,
    "start_time": "2024-03-06T12:39:21.010Z"
   },
   {
    "duration": 184,
    "start_time": "2024-03-06T12:39:21.164Z"
   },
   {
    "duration": 8,
    "start_time": "2024-03-06T12:39:21.350Z"
   },
   {
    "duration": 279,
    "start_time": "2024-03-06T12:39:21.360Z"
   },
   {
    "duration": 9,
    "start_time": "2024-03-06T12:39:21.640Z"
   },
   {
    "duration": 300,
    "start_time": "2024-03-06T12:39:21.651Z"
   },
   {
    "duration": 9,
    "start_time": "2024-03-06T12:39:21.953Z"
   },
   {
    "duration": 296,
    "start_time": "2024-03-06T12:39:21.963Z"
   },
   {
    "duration": 8,
    "start_time": "2024-03-06T12:39:22.261Z"
   },
   {
    "duration": 258,
    "start_time": "2024-03-06T12:39:22.271Z"
   },
   {
    "duration": 8,
    "start_time": "2024-03-06T12:39:22.530Z"
   },
   {
    "duration": 126,
    "start_time": "2024-03-06T12:39:22.539Z"
   },
   {
    "duration": 268,
    "start_time": "2024-03-06T12:39:22.666Z"
   },
   {
    "duration": 1769,
    "start_time": "2024-03-06T12:39:22.936Z"
   },
   {
    "duration": 1805,
    "start_time": "2024-03-06T12:42:28.000Z"
   },
   {
    "duration": 865,
    "start_time": "2024-03-06T12:43:17.765Z"
   },
   {
    "duration": 18,
    "start_time": "2024-03-06T12:43:18.632Z"
   },
   {
    "duration": 42,
    "start_time": "2024-03-06T12:43:18.652Z"
   },
   {
    "duration": 1987,
    "start_time": "2024-03-06T12:43:18.697Z"
   },
   {
    "duration": 13,
    "start_time": "2024-03-06T12:43:20.686Z"
   },
   {
    "duration": 37,
    "start_time": "2024-03-06T12:43:20.701Z"
   },
   {
    "duration": 6,
    "start_time": "2024-03-06T12:43:20.739Z"
   },
   {
    "duration": 21,
    "start_time": "2024-03-06T12:43:20.746Z"
   },
   {
    "duration": 31,
    "start_time": "2024-03-06T12:43:20.769Z"
   },
   {
    "duration": 25,
    "start_time": "2024-03-06T12:43:20.802Z"
   },
   {
    "duration": 38,
    "start_time": "2024-03-06T12:43:20.828Z"
   },
   {
    "duration": 352,
    "start_time": "2024-03-06T12:43:20.867Z"
   },
   {
    "duration": 12,
    "start_time": "2024-03-06T12:43:21.220Z"
   },
   {
    "duration": 25,
    "start_time": "2024-03-06T12:43:21.234Z"
   },
   {
    "duration": 60,
    "start_time": "2024-03-06T12:43:21.261Z"
   },
   {
    "duration": 7,
    "start_time": "2024-03-06T12:43:21.322Z"
   },
   {
    "duration": 326,
    "start_time": "2024-03-06T12:43:21.330Z"
   },
   {
    "duration": 6,
    "start_time": "2024-03-06T12:43:21.658Z"
   },
   {
    "duration": 29,
    "start_time": "2024-03-06T12:43:21.665Z"
   },
   {
    "duration": 87,
    "start_time": "2024-03-06T12:43:21.696Z"
   },
   {
    "duration": 5,
    "start_time": "2024-03-06T12:43:21.785Z"
   },
   {
    "duration": 26,
    "start_time": "2024-03-06T12:43:21.791Z"
   },
   {
    "duration": 280,
    "start_time": "2024-03-06T12:43:21.818Z"
   },
   {
    "duration": 5,
    "start_time": "2024-03-06T12:43:22.099Z"
   },
   {
    "duration": 39,
    "start_time": "2024-03-06T12:43:22.106Z"
   },
   {
    "duration": 59,
    "start_time": "2024-03-06T12:43:22.147Z"
   },
   {
    "duration": 55,
    "start_time": "2024-03-06T12:43:22.208Z"
   },
   {
    "duration": 35,
    "start_time": "2024-03-06T12:43:22.267Z"
   },
   {
    "duration": 54,
    "start_time": "2024-03-06T12:43:22.304Z"
   },
   {
    "duration": 35,
    "start_time": "2024-03-06T12:43:22.360Z"
   },
   {
    "duration": 36,
    "start_time": "2024-03-06T12:43:22.397Z"
   },
   {
    "duration": 41,
    "start_time": "2024-03-06T12:43:22.435Z"
   },
   {
    "duration": 15,
    "start_time": "2024-03-06T12:43:22.477Z"
   },
   {
    "duration": 17,
    "start_time": "2024-03-06T12:43:22.494Z"
   },
   {
    "duration": 44,
    "start_time": "2024-03-06T12:43:22.513Z"
   },
   {
    "duration": 37,
    "start_time": "2024-03-06T12:43:22.559Z"
   },
   {
    "duration": 38,
    "start_time": "2024-03-06T12:43:22.598Z"
   },
   {
    "duration": 423,
    "start_time": "2024-03-06T12:43:22.637Z"
   },
   {
    "duration": 43,
    "start_time": "2024-03-06T12:43:23.062Z"
   },
   {
    "duration": 9,
    "start_time": "2024-03-06T12:43:23.106Z"
   },
   {
    "duration": 268,
    "start_time": "2024-03-06T12:43:23.116Z"
   },
   {
    "duration": 8,
    "start_time": "2024-03-06T12:43:23.388Z"
   },
   {
    "duration": 274,
    "start_time": "2024-03-06T12:43:23.398Z"
   },
   {
    "duration": 15,
    "start_time": "2024-03-06T12:43:23.673Z"
   },
   {
    "duration": 280,
    "start_time": "2024-03-06T12:43:23.690Z"
   },
   {
    "duration": 18,
    "start_time": "2024-03-06T12:43:23.971Z"
   },
   {
    "duration": 287,
    "start_time": "2024-03-06T12:43:23.990Z"
   },
   {
    "duration": 258,
    "start_time": "2024-03-06T12:43:24.279Z"
   },
   {
    "duration": 9,
    "start_time": "2024-03-06T12:43:24.538Z"
   },
   {
    "duration": 197,
    "start_time": "2024-03-06T12:43:24.549Z"
   },
   {
    "duration": 148,
    "start_time": "2024-03-06T12:43:24.748Z"
   },
   {
    "duration": 172,
    "start_time": "2024-03-06T12:43:24.898Z"
   },
   {
    "duration": 17,
    "start_time": "2024-03-06T12:43:25.072Z"
   },
   {
    "duration": 255,
    "start_time": "2024-03-06T12:43:25.091Z"
   },
   {
    "duration": 9,
    "start_time": "2024-03-06T12:43:25.348Z"
   },
   {
    "duration": 282,
    "start_time": "2024-03-06T12:43:25.358Z"
   },
   {
    "duration": 10,
    "start_time": "2024-03-06T12:43:25.641Z"
   },
   {
    "duration": 278,
    "start_time": "2024-03-06T12:43:25.652Z"
   },
   {
    "duration": 8,
    "start_time": "2024-03-06T12:43:25.931Z"
   },
   {
    "duration": 254,
    "start_time": "2024-03-06T12:43:25.941Z"
   },
   {
    "duration": 8,
    "start_time": "2024-03-06T12:43:26.196Z"
   },
   {
    "duration": 123,
    "start_time": "2024-03-06T12:43:26.206Z"
   },
   {
    "duration": 247,
    "start_time": "2024-03-06T12:43:26.331Z"
   },
   {
    "duration": 1774,
    "start_time": "2024-03-06T12:43:26.587Z"
   },
   {
    "duration": 1667,
    "start_time": "2024-03-06T12:43:58.467Z"
   },
   {
    "duration": 36,
    "start_time": "2024-03-06T12:44:17.344Z"
   },
   {
    "duration": 1747,
    "start_time": "2024-03-06T12:44:53.096Z"
   },
   {
    "duration": 1757,
    "start_time": "2024-03-06T12:46:18.048Z"
   },
   {
    "duration": 9,
    "start_time": "2024-03-06T12:49:25.162Z"
   },
   {
    "duration": 20,
    "start_time": "2024-03-06T12:49:34.961Z"
   },
   {
    "duration": 16,
    "start_time": "2024-03-06T12:49:50.413Z"
   },
   {
    "duration": 141,
    "start_time": "2024-03-06T12:50:11.874Z"
   },
   {
    "duration": 148,
    "start_time": "2024-03-06T12:50:40.758Z"
   },
   {
    "duration": 179,
    "start_time": "2024-03-06T12:52:44.828Z"
   },
   {
    "duration": 199,
    "start_time": "2024-03-06T12:53:54.416Z"
   },
   {
    "duration": 263,
    "start_time": "2024-03-06T12:59:04.626Z"
   },
   {
    "duration": 172,
    "start_time": "2024-03-06T13:00:38.570Z"
   },
   {
    "duration": 163,
    "start_time": "2024-03-06T13:02:11.568Z"
   },
   {
    "duration": 27,
    "start_time": "2024-03-06T14:06:06.165Z"
   },
   {
    "duration": 172,
    "start_time": "2024-03-06T14:18:36.993Z"
   },
   {
    "duration": 159,
    "start_time": "2024-03-06T14:18:55.262Z"
   },
   {
    "duration": 159,
    "start_time": "2024-03-06T14:18:59.501Z"
   },
   {
    "duration": 140,
    "start_time": "2024-03-06T14:19:56.504Z"
   },
   {
    "duration": 149,
    "start_time": "2024-03-06T14:20:39.094Z"
   },
   {
    "duration": 137,
    "start_time": "2024-03-06T14:20:57.814Z"
   },
   {
    "duration": 157,
    "start_time": "2024-03-06T14:21:19.120Z"
   },
   {
    "duration": 519,
    "start_time": "2024-03-06T14:23:55.776Z"
   },
   {
    "duration": 14,
    "start_time": "2024-03-06T14:24:54.094Z"
   },
   {
    "duration": 843,
    "start_time": "2024-03-06T14:27:22.465Z"
   },
   {
    "duration": 15,
    "start_time": "2024-03-06T14:27:23.311Z"
   },
   {
    "duration": 31,
    "start_time": "2024-03-06T14:27:23.328Z"
   },
   {
    "duration": 1935,
    "start_time": "2024-03-06T14:27:23.362Z"
   },
   {
    "duration": 11,
    "start_time": "2024-03-06T14:27:25.299Z"
   },
   {
    "duration": 28,
    "start_time": "2024-03-06T14:27:25.312Z"
   },
   {
    "duration": 6,
    "start_time": "2024-03-06T14:27:25.342Z"
   },
   {
    "duration": 40,
    "start_time": "2024-03-06T14:27:25.350Z"
   },
   {
    "duration": 29,
    "start_time": "2024-03-06T14:27:25.392Z"
   },
   {
    "duration": 61,
    "start_time": "2024-03-06T14:27:25.424Z"
   },
   {
    "duration": 37,
    "start_time": "2024-03-06T14:27:25.487Z"
   },
   {
    "duration": 334,
    "start_time": "2024-03-06T14:27:25.525Z"
   },
   {
    "duration": 10,
    "start_time": "2024-03-06T14:27:25.861Z"
   },
   {
    "duration": 16,
    "start_time": "2024-03-06T14:27:25.872Z"
   },
   {
    "duration": 44,
    "start_time": "2024-03-06T14:27:25.890Z"
   },
   {
    "duration": 3,
    "start_time": "2024-03-06T14:27:25.936Z"
   },
   {
    "duration": 300,
    "start_time": "2024-03-06T14:27:25.940Z"
   },
   {
    "duration": 5,
    "start_time": "2024-03-06T14:27:26.242Z"
   },
   {
    "duration": 20,
    "start_time": "2024-03-06T14:27:26.248Z"
   },
   {
    "duration": 53,
    "start_time": "2024-03-06T14:27:26.269Z"
   },
   {
    "duration": 3,
    "start_time": "2024-03-06T14:27:26.323Z"
   },
   {
    "duration": 12,
    "start_time": "2024-03-06T14:27:26.327Z"
   },
   {
    "duration": 305,
    "start_time": "2024-03-06T14:27:26.340Z"
   },
   {
    "duration": 4,
    "start_time": "2024-03-06T14:27:26.647Z"
   },
   {
    "duration": 17,
    "start_time": "2024-03-06T14:27:26.652Z"
   },
   {
    "duration": 9,
    "start_time": "2024-03-06T14:27:26.670Z"
   },
   {
    "duration": 4,
    "start_time": "2024-03-06T14:27:26.688Z"
   },
   {
    "duration": 9,
    "start_time": "2024-03-06T14:27:26.695Z"
   },
   {
    "duration": 18,
    "start_time": "2024-03-06T14:27:26.706Z"
   },
   {
    "duration": 25,
    "start_time": "2024-03-06T14:27:26.726Z"
   },
   {
    "duration": 24,
    "start_time": "2024-03-06T14:27:26.752Z"
   },
   {
    "duration": 15,
    "start_time": "2024-03-06T14:27:26.788Z"
   },
   {
    "duration": 15,
    "start_time": "2024-03-06T14:27:26.804Z"
   },
   {
    "duration": 4,
    "start_time": "2024-03-06T14:27:26.820Z"
   },
   {
    "duration": 22,
    "start_time": "2024-03-06T14:27:26.825Z"
   },
   {
    "duration": 13,
    "start_time": "2024-03-06T14:27:26.849Z"
   },
   {
    "duration": 6,
    "start_time": "2024-03-06T14:27:26.887Z"
   },
   {
    "duration": 383,
    "start_time": "2024-03-06T14:27:26.895Z"
   },
   {
    "duration": 39,
    "start_time": "2024-03-06T14:27:27.279Z"
   },
   {
    "duration": 8,
    "start_time": "2024-03-06T14:27:27.320Z"
   },
   {
    "duration": 270,
    "start_time": "2024-03-06T14:27:27.329Z"
   },
   {
    "duration": 10,
    "start_time": "2024-03-06T14:27:27.601Z"
   },
   {
    "duration": 270,
    "start_time": "2024-03-06T14:27:27.613Z"
   },
   {
    "duration": 8,
    "start_time": "2024-03-06T14:27:27.885Z"
   },
   {
    "duration": 253,
    "start_time": "2024-03-06T14:27:27.895Z"
   },
   {
    "duration": 9,
    "start_time": "2024-03-06T14:27:28.150Z"
   },
   {
    "duration": 251,
    "start_time": "2024-03-06T14:27:28.160Z"
   },
   {
    "duration": 225,
    "start_time": "2024-03-06T14:27:28.413Z"
   },
   {
    "duration": 8,
    "start_time": "2024-03-06T14:27:28.640Z"
   },
   {
    "duration": 206,
    "start_time": "2024-03-06T14:27:28.650Z"
   },
   {
    "duration": 156,
    "start_time": "2024-03-06T14:27:28.857Z"
   },
   {
    "duration": 165,
    "start_time": "2024-03-06T14:27:29.014Z"
   },
   {
    "duration": 12,
    "start_time": "2024-03-06T14:27:29.181Z"
   },
   {
    "duration": 249,
    "start_time": "2024-03-06T14:27:29.195Z"
   },
   {
    "duration": 9,
    "start_time": "2024-03-06T14:27:29.445Z"
   },
   {
    "duration": 247,
    "start_time": "2024-03-06T14:27:29.456Z"
   },
   {
    "duration": 8,
    "start_time": "2024-03-06T14:27:29.705Z"
   },
   {
    "duration": 287,
    "start_time": "2024-03-06T14:27:29.715Z"
   },
   {
    "duration": 10,
    "start_time": "2024-03-06T14:27:30.004Z"
   },
   {
    "duration": 274,
    "start_time": "2024-03-06T14:27:30.016Z"
   },
   {
    "duration": 10,
    "start_time": "2024-03-06T14:27:30.291Z"
   },
   {
    "duration": 177,
    "start_time": "2024-03-06T14:27:30.302Z"
   },
   {
    "duration": 249,
    "start_time": "2024-03-06T14:27:30.481Z"
   },
   {
    "duration": 168,
    "start_time": "2024-03-06T14:27:30.732Z"
   },
   {
    "duration": 164,
    "start_time": "2024-03-06T14:27:30.901Z"
   },
   {
    "duration": 155,
    "start_time": "2024-03-06T14:27:31.066Z"
   },
   {
    "duration": 170,
    "start_time": "2024-03-06T14:27:31.222Z"
   },
   {
    "duration": 651,
    "start_time": "2024-03-06T14:27:31.394Z"
   },
   {
    "duration": 154,
    "start_time": "2024-03-06T14:28:10.016Z"
   },
   {
    "duration": 161,
    "start_time": "2024-03-06T14:28:14.802Z"
   },
   {
    "duration": 241,
    "start_time": "2024-03-06T14:29:28.289Z"
   },
   {
    "duration": 148,
    "start_time": "2024-03-06T14:31:21.395Z"
   },
   {
    "duration": 164,
    "start_time": "2024-03-06T14:31:30.780Z"
   },
   {
    "duration": 816,
    "start_time": "2024-03-06T14:32:42.676Z"
   },
   {
    "duration": 15,
    "start_time": "2024-03-06T14:32:43.494Z"
   },
   {
    "duration": 26,
    "start_time": "2024-03-06T14:32:43.511Z"
   },
   {
    "duration": 2014,
    "start_time": "2024-03-06T14:32:43.538Z"
   },
   {
    "duration": 11,
    "start_time": "2024-03-06T14:32:45.553Z"
   },
   {
    "duration": 46,
    "start_time": "2024-03-06T14:32:45.566Z"
   },
   {
    "duration": 7,
    "start_time": "2024-03-06T14:32:45.613Z"
   },
   {
    "duration": 61,
    "start_time": "2024-03-06T14:32:45.621Z"
   },
   {
    "duration": 79,
    "start_time": "2024-03-06T14:32:45.684Z"
   },
   {
    "duration": 33,
    "start_time": "2024-03-06T14:32:45.766Z"
   },
   {
    "duration": 34,
    "start_time": "2024-03-06T14:32:45.800Z"
   },
   {
    "duration": 369,
    "start_time": "2024-03-06T14:32:45.835Z"
   },
   {
    "duration": 10,
    "start_time": "2024-03-06T14:32:46.206Z"
   },
   {
    "duration": 8,
    "start_time": "2024-03-06T14:32:46.218Z"
   },
   {
    "duration": 70,
    "start_time": "2024-03-06T14:32:46.227Z"
   },
   {
    "duration": 3,
    "start_time": "2024-03-06T14:32:46.299Z"
   },
   {
    "duration": 314,
    "start_time": "2024-03-06T14:32:46.304Z"
   },
   {
    "duration": 6,
    "start_time": "2024-03-06T14:32:46.619Z"
   },
   {
    "duration": 36,
    "start_time": "2024-03-06T14:32:46.627Z"
   },
   {
    "duration": 60,
    "start_time": "2024-03-06T14:32:46.665Z"
   },
   {
    "duration": 3,
    "start_time": "2024-03-06T14:32:46.727Z"
   },
   {
    "duration": 27,
    "start_time": "2024-03-06T14:32:46.732Z"
   },
   {
    "duration": 291,
    "start_time": "2024-03-06T14:32:46.761Z"
   },
   {
    "duration": 5,
    "start_time": "2024-03-06T14:32:47.054Z"
   },
   {
    "duration": 24,
    "start_time": "2024-03-06T14:32:47.061Z"
   },
   {
    "duration": 31,
    "start_time": "2024-03-06T14:32:47.087Z"
   },
   {
    "duration": 14,
    "start_time": "2024-03-06T14:32:47.119Z"
   },
   {
    "duration": 27,
    "start_time": "2024-03-06T14:32:47.137Z"
   },
   {
    "duration": 21,
    "start_time": "2024-03-06T14:32:47.166Z"
   },
   {
    "duration": 19,
    "start_time": "2024-03-06T14:32:47.189Z"
   },
   {
    "duration": 11,
    "start_time": "2024-03-06T14:32:47.210Z"
   },
   {
    "duration": 24,
    "start_time": "2024-03-06T14:32:47.223Z"
   },
   {
    "duration": 24,
    "start_time": "2024-03-06T14:32:47.249Z"
   },
   {
    "duration": 16,
    "start_time": "2024-03-06T14:32:47.275Z"
   },
   {
    "duration": 7,
    "start_time": "2024-03-06T14:32:47.293Z"
   },
   {
    "duration": 7,
    "start_time": "2024-03-06T14:32:47.301Z"
   },
   {
    "duration": 26,
    "start_time": "2024-03-06T14:32:47.310Z"
   },
   {
    "duration": 447,
    "start_time": "2024-03-06T14:32:47.338Z"
   },
   {
    "duration": 40,
    "start_time": "2024-03-06T14:32:47.787Z"
   },
   {
    "duration": 9,
    "start_time": "2024-03-06T14:32:47.829Z"
   },
   {
    "duration": 290,
    "start_time": "2024-03-06T14:32:47.839Z"
   },
   {
    "duration": 9,
    "start_time": "2024-03-06T14:32:48.130Z"
   },
   {
    "duration": 261,
    "start_time": "2024-03-06T14:32:48.140Z"
   },
   {
    "duration": 8,
    "start_time": "2024-03-06T14:32:48.403Z"
   },
   {
    "duration": 268,
    "start_time": "2024-03-06T14:32:48.413Z"
   },
   {
    "duration": 9,
    "start_time": "2024-03-06T14:32:48.682Z"
   },
   {
    "duration": 269,
    "start_time": "2024-03-06T14:32:48.692Z"
   },
   {
    "duration": 230,
    "start_time": "2024-03-06T14:32:48.962Z"
   },
   {
    "duration": 9,
    "start_time": "2024-03-06T14:32:49.193Z"
   },
   {
    "duration": 218,
    "start_time": "2024-03-06T14:32:49.204Z"
   },
   {
    "duration": 149,
    "start_time": "2024-03-06T14:32:49.424Z"
   },
   {
    "duration": 176,
    "start_time": "2024-03-06T14:32:49.574Z"
   },
   {
    "duration": 9,
    "start_time": "2024-03-06T14:32:49.752Z"
   },
   {
    "duration": 289,
    "start_time": "2024-03-06T14:32:49.762Z"
   },
   {
    "duration": 9,
    "start_time": "2024-03-06T14:32:50.053Z"
   },
   {
    "duration": 265,
    "start_time": "2024-03-06T14:32:50.064Z"
   },
   {
    "duration": 10,
    "start_time": "2024-03-06T14:32:50.331Z"
   },
   {
    "duration": 266,
    "start_time": "2024-03-06T14:32:50.343Z"
   },
   {
    "duration": 7,
    "start_time": "2024-03-06T14:32:50.611Z"
   },
   {
    "duration": 235,
    "start_time": "2024-03-06T14:32:50.620Z"
   },
   {
    "duration": 8,
    "start_time": "2024-03-06T14:32:50.856Z"
   },
   {
    "duration": 131,
    "start_time": "2024-03-06T14:32:50.866Z"
   },
   {
    "duration": 253,
    "start_time": "2024-03-06T14:32:50.999Z"
   },
   {
    "duration": 162,
    "start_time": "2024-03-06T14:32:51.254Z"
   },
   {
    "duration": 172,
    "start_time": "2024-03-06T14:32:51.418Z"
   },
   {
    "duration": 150,
    "start_time": "2024-03-06T14:32:51.592Z"
   },
   {
    "duration": 158,
    "start_time": "2024-03-06T14:32:51.743Z"
   },
   {
    "duration": 600,
    "start_time": "2024-03-06T14:32:51.903Z"
   },
   {
    "duration": 0,
    "start_time": "2024-03-06T14:32:52.505Z"
   },
   {
    "duration": 0,
    "start_time": "2024-03-06T14:32:52.507Z"
   },
   {
    "duration": 0,
    "start_time": "2024-03-06T14:32:52.508Z"
   },
   {
    "duration": 157,
    "start_time": "2024-03-06T14:33:16.939Z"
   },
   {
    "duration": 143,
    "start_time": "2024-03-06T14:33:20.177Z"
   },
   {
    "duration": 167,
    "start_time": "2024-03-06T14:33:23.153Z"
   },
   {
    "duration": 268,
    "start_time": "2024-03-06T14:34:44.950Z"
   },
   {
    "duration": 148,
    "start_time": "2024-03-06T14:34:49.569Z"
   },
   {
    "duration": 162,
    "start_time": "2024-03-06T14:34:52.846Z"
   },
   {
    "duration": 161,
    "start_time": "2024-03-06T14:34:56.072Z"
   },
   {
    "duration": 416,
    "start_time": "2024-03-06T14:48:33.631Z"
   },
   {
    "duration": 25,
    "start_time": "2024-03-06T14:48:59.544Z"
   },
   {
    "duration": 14,
    "start_time": "2024-03-06T14:50:09.691Z"
   },
   {
    "duration": 182,
    "start_time": "2024-03-06T14:51:18.639Z"
   },
   {
    "duration": 1124,
    "start_time": "2024-03-06T19:19:00.966Z"
   },
   {
    "duration": 15,
    "start_time": "2024-03-06T19:19:02.093Z"
   },
   {
    "duration": 33,
    "start_time": "2024-03-06T19:19:02.109Z"
   },
   {
    "duration": 1859,
    "start_time": "2024-03-06T19:19:02.144Z"
   },
   {
    "duration": 9,
    "start_time": "2024-03-06T19:19:04.005Z"
   },
   {
    "duration": 25,
    "start_time": "2024-03-06T19:19:04.016Z"
   },
   {
    "duration": 5,
    "start_time": "2024-03-06T19:19:04.043Z"
   },
   {
    "duration": 5,
    "start_time": "2024-03-06T19:19:04.049Z"
   },
   {
    "duration": 10,
    "start_time": "2024-03-06T19:19:04.055Z"
   },
   {
    "duration": 9,
    "start_time": "2024-03-06T19:19:04.066Z"
   },
   {
    "duration": 41,
    "start_time": "2024-03-06T19:19:04.077Z"
   },
   {
    "duration": 334,
    "start_time": "2024-03-06T19:19:04.120Z"
   },
   {
    "duration": 11,
    "start_time": "2024-03-06T19:19:04.457Z"
   },
   {
    "duration": 7,
    "start_time": "2024-03-06T19:19:04.471Z"
   },
   {
    "duration": 49,
    "start_time": "2024-03-06T19:19:04.479Z"
   },
   {
    "duration": 3,
    "start_time": "2024-03-06T19:19:04.529Z"
   },
   {
    "duration": 286,
    "start_time": "2024-03-06T19:19:04.533Z"
   },
   {
    "duration": 6,
    "start_time": "2024-03-06T19:19:04.820Z"
   },
   {
    "duration": 9,
    "start_time": "2024-03-06T19:19:04.828Z"
   },
   {
    "duration": 33,
    "start_time": "2024-03-06T19:19:04.838Z"
   },
   {
    "duration": 3,
    "start_time": "2024-03-06T19:19:04.872Z"
   },
   {
    "duration": 5,
    "start_time": "2024-03-06T19:19:04.877Z"
   },
   {
    "duration": 260,
    "start_time": "2024-03-06T19:19:04.883Z"
   },
   {
    "duration": 4,
    "start_time": "2024-03-06T19:19:05.145Z"
   },
   {
    "duration": 18,
    "start_time": "2024-03-06T19:19:05.151Z"
   },
   {
    "duration": 11,
    "start_time": "2024-03-06T19:19:05.170Z"
   },
   {
    "duration": 11,
    "start_time": "2024-03-06T19:19:05.182Z"
   },
   {
    "duration": 9,
    "start_time": "2024-03-06T19:19:05.194Z"
   },
   {
    "duration": 5,
    "start_time": "2024-03-06T19:19:05.204Z"
   },
   {
    "duration": 8,
    "start_time": "2024-03-06T19:19:05.210Z"
   },
   {
    "duration": 3,
    "start_time": "2024-03-06T19:19:05.219Z"
   },
   {
    "duration": 14,
    "start_time": "2024-03-06T19:19:05.223Z"
   },
   {
    "duration": 13,
    "start_time": "2024-03-06T19:19:05.238Z"
   },
   {
    "duration": 4,
    "start_time": "2024-03-06T19:19:05.252Z"
   },
   {
    "duration": 9,
    "start_time": "2024-03-06T19:19:05.257Z"
   },
   {
    "duration": 11,
    "start_time": "2024-03-06T19:19:05.267Z"
   },
   {
    "duration": 5,
    "start_time": "2024-03-06T19:19:05.279Z"
   },
   {
    "duration": 388,
    "start_time": "2024-03-06T19:19:05.285Z"
   },
   {
    "duration": 36,
    "start_time": "2024-03-06T19:19:05.674Z"
   },
   {
    "duration": 8,
    "start_time": "2024-03-06T19:19:05.718Z"
   },
   {
    "duration": 246,
    "start_time": "2024-03-06T19:19:05.730Z"
   },
   {
    "duration": 9,
    "start_time": "2024-03-06T19:19:05.977Z"
   },
   {
    "duration": 259,
    "start_time": "2024-03-06T19:19:05.987Z"
   },
   {
    "duration": 8,
    "start_time": "2024-03-06T19:19:06.247Z"
   },
   {
    "duration": 242,
    "start_time": "2024-03-06T19:19:06.256Z"
   },
   {
    "duration": 18,
    "start_time": "2024-03-06T19:19:06.500Z"
   },
   {
    "duration": 224,
    "start_time": "2024-03-06T19:19:06.519Z"
   },
   {
    "duration": 220,
    "start_time": "2024-03-06T19:19:06.744Z"
   },
   {
    "duration": 8,
    "start_time": "2024-03-06T19:19:06.965Z"
   },
   {
    "duration": 188,
    "start_time": "2024-03-06T19:19:06.974Z"
   },
   {
    "duration": 147,
    "start_time": "2024-03-06T19:19:07.164Z"
   },
   {
    "duration": 155,
    "start_time": "2024-03-06T19:19:07.330Z"
   },
   {
    "duration": 8,
    "start_time": "2024-03-06T19:19:07.487Z"
   },
   {
    "duration": 266,
    "start_time": "2024-03-06T19:19:07.496Z"
   },
   {
    "duration": 9,
    "start_time": "2024-03-06T19:19:07.764Z"
   },
   {
    "duration": 234,
    "start_time": "2024-03-06T19:19:07.774Z"
   },
   {
    "duration": 14,
    "start_time": "2024-03-06T19:19:08.010Z"
   },
   {
    "duration": 233,
    "start_time": "2024-03-06T19:19:08.025Z"
   },
   {
    "duration": 7,
    "start_time": "2024-03-06T19:19:08.260Z"
   },
   {
    "duration": 219,
    "start_time": "2024-03-06T19:19:08.268Z"
   },
   {
    "duration": 8,
    "start_time": "2024-03-06T19:19:08.488Z"
   },
   {
    "duration": 130,
    "start_time": "2024-03-06T19:19:08.498Z"
   },
   {
    "duration": 242,
    "start_time": "2024-03-06T19:19:08.630Z"
   },
   {
    "duration": 160,
    "start_time": "2024-03-06T19:19:08.874Z"
   },
   {
    "duration": 155,
    "start_time": "2024-03-06T19:19:09.036Z"
   },
   {
    "duration": 148,
    "start_time": "2024-03-06T19:19:09.194Z"
   },
   {
    "duration": 147,
    "start_time": "2024-03-06T19:19:09.344Z"
   },
   {
    "duration": 517,
    "start_time": "2024-03-06T19:19:09.493Z"
   },
   {
    "duration": 0,
    "start_time": "2024-03-06T19:19:10.012Z"
   },
   {
    "duration": 0,
    "start_time": "2024-03-06T19:19:10.013Z"
   },
   {
    "duration": 0,
    "start_time": "2024-03-06T19:19:10.014Z"
   },
   {
    "duration": 0,
    "start_time": "2024-03-06T19:19:10.015Z"
   },
   {
    "duration": 0,
    "start_time": "2024-03-06T19:19:10.015Z"
   },
   {
    "duration": 0,
    "start_time": "2024-03-06T19:19:10.016Z"
   },
   {
    "duration": 168,
    "start_time": "2024-03-06T19:23:37.551Z"
   },
   {
    "duration": 154,
    "start_time": "2024-03-06T19:23:54.751Z"
   },
   {
    "duration": 13,
    "start_time": "2024-03-06T19:26:39.377Z"
   },
   {
    "duration": 12,
    "start_time": "2024-03-06T19:26:49.560Z"
   },
   {
    "duration": 29,
    "start_time": "2024-03-06T19:27:12.071Z"
   },
   {
    "duration": 223,
    "start_time": "2024-03-06T19:28:31.252Z"
   },
   {
    "duration": 169,
    "start_time": "2024-03-06T19:28:45.679Z"
   },
   {
    "duration": 140,
    "start_time": "2024-03-06T19:28:59.189Z"
   },
   {
    "duration": 150,
    "start_time": "2024-03-06T19:29:05.235Z"
   },
   {
    "duration": 149,
    "start_time": "2024-03-06T19:29:10.670Z"
   },
   {
    "duration": 143,
    "start_time": "2024-03-06T19:29:13.029Z"
   },
   {
    "duration": 432,
    "start_time": "2024-03-06T19:29:15.794Z"
   },
   {
    "duration": 158,
    "start_time": "2024-03-06T19:29:24.143Z"
   },
   {
    "duration": 143,
    "start_time": "2024-03-06T19:29:27.127Z"
   },
   {
    "duration": 190,
    "start_time": "2024-03-06T19:29:31.272Z"
   },
   {
    "duration": 13,
    "start_time": "2024-03-06T19:32:47.049Z"
   },
   {
    "duration": 14,
    "start_time": "2024-03-06T19:36:01.505Z"
   },
   {
    "duration": 36,
    "start_time": "2024-03-06T19:36:34.675Z"
   },
   {
    "duration": 25,
    "start_time": "2024-03-06T19:37:37.331Z"
   },
   {
    "duration": 13,
    "start_time": "2024-03-06T19:37:42.324Z"
   },
   {
    "duration": 180,
    "start_time": "2024-03-06T19:37:44.720Z"
   },
   {
    "duration": 47,
    "start_time": "2024-03-07T08:31:35.862Z"
   },
   {
    "duration": 8,
    "start_time": "2024-03-07T08:31:48.282Z"
   },
   {
    "duration": 1179,
    "start_time": "2024-03-07T08:31:57.116Z"
   },
   {
    "duration": 16,
    "start_time": "2024-03-07T08:31:58.297Z"
   },
   {
    "duration": 23,
    "start_time": "2024-03-07T08:31:58.314Z"
   },
   {
    "duration": 1939,
    "start_time": "2024-03-07T08:31:58.340Z"
   },
   {
    "duration": 9,
    "start_time": "2024-03-07T08:32:00.281Z"
   },
   {
    "duration": 88,
    "start_time": "2024-03-07T08:32:00.291Z"
   },
   {
    "duration": 55,
    "start_time": "2024-03-07T08:32:00.380Z"
   },
   {
    "duration": 47,
    "start_time": "2024-03-07T08:32:00.436Z"
   },
   {
    "duration": 154,
    "start_time": "2024-03-07T08:32:00.484Z"
   },
   {
    "duration": 117,
    "start_time": "2024-03-07T08:32:00.641Z"
   },
   {
    "duration": 90,
    "start_time": "2024-03-07T08:32:00.760Z"
   },
   {
    "duration": 366,
    "start_time": "2024-03-07T08:32:00.852Z"
   },
   {
    "duration": 11,
    "start_time": "2024-03-07T08:32:01.219Z"
   },
   {
    "duration": 28,
    "start_time": "2024-03-07T08:32:01.233Z"
   },
   {
    "duration": 62,
    "start_time": "2024-03-07T08:32:01.263Z"
   },
   {
    "duration": 22,
    "start_time": "2024-03-07T08:32:01.327Z"
   },
   {
    "duration": 386,
    "start_time": "2024-03-07T08:32:01.350Z"
   },
   {
    "duration": 6,
    "start_time": "2024-03-07T08:32:01.738Z"
   },
   {
    "duration": 50,
    "start_time": "2024-03-07T08:32:01.745Z"
   },
   {
    "duration": 56,
    "start_time": "2024-03-07T08:32:01.796Z"
   },
   {
    "duration": 4,
    "start_time": "2024-03-07T08:32:01.853Z"
   },
   {
    "duration": 47,
    "start_time": "2024-03-07T08:32:01.858Z"
   },
   {
    "duration": 299,
    "start_time": "2024-03-07T08:32:01.907Z"
   },
   {
    "duration": 12,
    "start_time": "2024-03-07T08:32:02.207Z"
   },
   {
    "duration": 48,
    "start_time": "2024-03-07T08:32:02.221Z"
   },
   {
    "duration": 19,
    "start_time": "2024-03-07T08:32:02.270Z"
   },
   {
    "duration": 26,
    "start_time": "2024-03-07T08:32:02.291Z"
   },
   {
    "duration": 28,
    "start_time": "2024-03-07T08:32:02.321Z"
   },
   {
    "duration": 23,
    "start_time": "2024-03-07T08:32:02.351Z"
   },
   {
    "duration": 36,
    "start_time": "2024-03-07T08:32:02.376Z"
   },
   {
    "duration": 22,
    "start_time": "2024-03-07T08:32:02.414Z"
   },
   {
    "duration": 26,
    "start_time": "2024-03-07T08:32:02.438Z"
   },
   {
    "duration": 25,
    "start_time": "2024-03-07T08:32:02.466Z"
   },
   {
    "duration": 15,
    "start_time": "2024-03-07T08:32:02.493Z"
   },
   {
    "duration": 13,
    "start_time": "2024-03-07T08:32:02.509Z"
   },
   {
    "duration": 5,
    "start_time": "2024-03-07T08:32:02.523Z"
   },
   {
    "duration": 5,
    "start_time": "2024-03-07T08:32:02.530Z"
   },
   {
    "duration": 342,
    "start_time": "2024-03-07T08:32:02.536Z"
   },
   {
    "duration": 46,
    "start_time": "2024-03-07T08:32:02.880Z"
   },
   {
    "duration": 7,
    "start_time": "2024-03-07T08:32:02.928Z"
   },
   {
    "duration": 243,
    "start_time": "2024-03-07T08:32:02.936Z"
   },
   {
    "duration": 9,
    "start_time": "2024-03-07T08:32:03.180Z"
   },
   {
    "duration": 244,
    "start_time": "2024-03-07T08:32:03.190Z"
   },
   {
    "duration": 8,
    "start_time": "2024-03-07T08:32:03.436Z"
   },
   {
    "duration": 257,
    "start_time": "2024-03-07T08:32:03.445Z"
   },
   {
    "duration": 16,
    "start_time": "2024-03-07T08:32:03.703Z"
   },
   {
    "duration": 342,
    "start_time": "2024-03-07T08:32:03.720Z"
   },
   {
    "duration": 160,
    "start_time": "2024-03-07T08:32:04.063Z"
   },
   {
    "duration": 9,
    "start_time": "2024-03-07T08:32:04.224Z"
   },
   {
    "duration": 198,
    "start_time": "2024-03-07T08:32:04.235Z"
   },
   {
    "duration": 147,
    "start_time": "2024-03-07T08:32:04.435Z"
   },
   {
    "duration": 162,
    "start_time": "2024-03-07T08:32:04.584Z"
   },
   {
    "duration": 7,
    "start_time": "2024-03-07T08:32:04.748Z"
   },
   {
    "duration": 241,
    "start_time": "2024-03-07T08:32:04.756Z"
   },
   {
    "duration": 20,
    "start_time": "2024-03-07T08:32:04.998Z"
   },
   {
    "duration": 242,
    "start_time": "2024-03-07T08:32:05.019Z"
   },
   {
    "duration": 9,
    "start_time": "2024-03-07T08:32:05.263Z"
   },
   {
    "duration": 369,
    "start_time": "2024-03-07T08:32:05.273Z"
   },
   {
    "duration": 9,
    "start_time": "2024-03-07T08:32:05.644Z"
   },
   {
    "duration": 145,
    "start_time": "2024-03-07T08:32:05.655Z"
   },
   {
    "duration": 16,
    "start_time": "2024-03-07T08:32:05.802Z"
   },
   {
    "duration": 117,
    "start_time": "2024-03-07T08:32:05.819Z"
   },
   {
    "duration": 239,
    "start_time": "2024-03-07T08:32:05.938Z"
   },
   {
    "duration": 159,
    "start_time": "2024-03-07T08:32:06.179Z"
   },
   {
    "duration": 174,
    "start_time": "2024-03-07T08:32:06.339Z"
   },
   {
    "duration": 153,
    "start_time": "2024-03-07T08:32:06.514Z"
   },
   {
    "duration": 160,
    "start_time": "2024-03-07T08:32:06.669Z"
   },
   {
    "duration": 546,
    "start_time": "2024-03-07T08:32:06.831Z"
   },
   {
    "duration": 0,
    "start_time": "2024-03-07T08:32:07.379Z"
   },
   {
    "duration": 0,
    "start_time": "2024-03-07T08:32:07.380Z"
   },
   {
    "duration": 0,
    "start_time": "2024-03-07T08:32:07.381Z"
   },
   {
    "duration": 0,
    "start_time": "2024-03-07T08:32:07.382Z"
   },
   {
    "duration": 0,
    "start_time": "2024-03-07T08:32:07.383Z"
   },
   {
    "duration": 0,
    "start_time": "2024-03-07T08:32:07.384Z"
   },
   {
    "duration": 241,
    "start_time": "2024-03-07T08:32:12.459Z"
   },
   {
    "duration": 163,
    "start_time": "2024-03-07T08:32:45.221Z"
   },
   {
    "duration": 801,
    "start_time": "2024-03-07T08:33:04.284Z"
   },
   {
    "duration": 15,
    "start_time": "2024-03-07T08:33:05.087Z"
   },
   {
    "duration": 35,
    "start_time": "2024-03-07T08:33:05.103Z"
   },
   {
    "duration": 1803,
    "start_time": "2024-03-07T08:33:05.140Z"
   },
   {
    "duration": 9,
    "start_time": "2024-03-07T08:33:06.944Z"
   },
   {
    "duration": 25,
    "start_time": "2024-03-07T08:33:06.955Z"
   },
   {
    "duration": 5,
    "start_time": "2024-03-07T08:33:06.981Z"
   },
   {
    "duration": 25,
    "start_time": "2024-03-07T08:33:06.987Z"
   },
   {
    "duration": 11,
    "start_time": "2024-03-07T08:33:07.013Z"
   },
   {
    "duration": 10,
    "start_time": "2024-03-07T08:33:07.026Z"
   },
   {
    "duration": 9,
    "start_time": "2024-03-07T08:33:07.037Z"
   },
   {
    "duration": 339,
    "start_time": "2024-03-07T08:33:07.047Z"
   },
   {
    "duration": 10,
    "start_time": "2024-03-07T08:33:07.388Z"
   },
   {
    "duration": 20,
    "start_time": "2024-03-07T08:33:07.400Z"
   },
   {
    "duration": 38,
    "start_time": "2024-03-07T08:33:07.421Z"
   },
   {
    "duration": 3,
    "start_time": "2024-03-07T08:33:07.461Z"
   },
   {
    "duration": 302,
    "start_time": "2024-03-07T08:33:07.465Z"
   },
   {
    "duration": 6,
    "start_time": "2024-03-07T08:33:07.768Z"
   },
   {
    "duration": 8,
    "start_time": "2024-03-07T08:33:07.775Z"
   },
   {
    "duration": 45,
    "start_time": "2024-03-07T08:33:07.784Z"
   },
   {
    "duration": 3,
    "start_time": "2024-03-07T08:33:07.830Z"
   },
   {
    "duration": 5,
    "start_time": "2024-03-07T08:33:07.834Z"
   },
   {
    "duration": 242,
    "start_time": "2024-03-07T08:33:07.840Z"
   },
   {
    "duration": 5,
    "start_time": "2024-03-07T08:33:08.083Z"
   },
   {
    "duration": 33,
    "start_time": "2024-03-07T08:33:08.089Z"
   },
   {
    "duration": 7,
    "start_time": "2024-03-07T08:33:08.123Z"
   },
   {
    "duration": 19,
    "start_time": "2024-03-07T08:33:08.131Z"
   },
   {
    "duration": 5,
    "start_time": "2024-03-07T08:33:08.154Z"
   },
   {
    "duration": 5,
    "start_time": "2024-03-07T08:33:08.160Z"
   },
   {
    "duration": 8,
    "start_time": "2024-03-07T08:33:08.166Z"
   },
   {
    "duration": 3,
    "start_time": "2024-03-07T08:33:08.176Z"
   },
   {
    "duration": 8,
    "start_time": "2024-03-07T08:33:08.180Z"
   },
   {
    "duration": 30,
    "start_time": "2024-03-07T08:33:08.189Z"
   },
   {
    "duration": 4,
    "start_time": "2024-03-07T08:33:08.220Z"
   },
   {
    "duration": 6,
    "start_time": "2024-03-07T08:33:08.225Z"
   },
   {
    "duration": 5,
    "start_time": "2024-03-07T08:33:08.233Z"
   },
   {
    "duration": 5,
    "start_time": "2024-03-07T08:33:08.239Z"
   },
   {
    "duration": 409,
    "start_time": "2024-03-07T08:33:08.245Z"
   },
   {
    "duration": 37,
    "start_time": "2024-03-07T08:33:08.656Z"
   },
   {
    "duration": 29,
    "start_time": "2024-03-07T08:33:08.694Z"
   },
   {
    "duration": 255,
    "start_time": "2024-03-07T08:33:08.724Z"
   },
   {
    "duration": 9,
    "start_time": "2024-03-07T08:33:08.980Z"
   },
   {
    "duration": 234,
    "start_time": "2024-03-07T08:33:08.991Z"
   },
   {
    "duration": 9,
    "start_time": "2024-03-07T08:33:09.227Z"
   },
   {
    "duration": 243,
    "start_time": "2024-03-07T08:33:09.237Z"
   },
   {
    "duration": 9,
    "start_time": "2024-03-07T08:33:09.481Z"
   },
   {
    "duration": 244,
    "start_time": "2024-03-07T08:33:09.491Z"
   },
   {
    "duration": 231,
    "start_time": "2024-03-07T08:33:09.737Z"
   },
   {
    "duration": 8,
    "start_time": "2024-03-07T08:33:09.969Z"
   },
   {
    "duration": 210,
    "start_time": "2024-03-07T08:33:09.979Z"
   },
   {
    "duration": 156,
    "start_time": "2024-03-07T08:33:10.191Z"
   },
   {
    "duration": 173,
    "start_time": "2024-03-07T08:33:10.349Z"
   },
   {
    "duration": 9,
    "start_time": "2024-03-07T08:33:10.523Z"
   },
   {
    "duration": 236,
    "start_time": "2024-03-07T08:33:10.533Z"
   },
   {
    "duration": 9,
    "start_time": "2024-03-07T08:33:10.771Z"
   },
   {
    "duration": 237,
    "start_time": "2024-03-07T08:33:10.782Z"
   },
   {
    "duration": 8,
    "start_time": "2024-03-07T08:33:11.021Z"
   },
   {
    "duration": 240,
    "start_time": "2024-03-07T08:33:11.031Z"
   },
   {
    "duration": 8,
    "start_time": "2024-03-07T08:33:11.273Z"
   },
   {
    "duration": 229,
    "start_time": "2024-03-07T08:33:11.282Z"
   },
   {
    "duration": 8,
    "start_time": "2024-03-07T08:33:11.517Z"
   },
   {
    "duration": 128,
    "start_time": "2024-03-07T08:33:11.526Z"
   },
   {
    "duration": 263,
    "start_time": "2024-03-07T08:33:11.656Z"
   },
   {
    "duration": 163,
    "start_time": "2024-03-07T08:33:11.920Z"
   },
   {
    "duration": 164,
    "start_time": "2024-03-07T08:33:12.085Z"
   },
   {
    "duration": 143,
    "start_time": "2024-03-07T08:33:12.251Z"
   },
   {
    "duration": 151,
    "start_time": "2024-03-07T08:33:12.396Z"
   },
   {
    "duration": 529,
    "start_time": "2024-03-07T08:33:12.548Z"
   },
   {
    "duration": 0,
    "start_time": "2024-03-07T08:33:13.078Z"
   },
   {
    "duration": 0,
    "start_time": "2024-03-07T08:33:13.079Z"
   },
   {
    "duration": 0,
    "start_time": "2024-03-07T08:33:13.080Z"
   },
   {
    "duration": 0,
    "start_time": "2024-03-07T08:33:13.082Z"
   },
   {
    "duration": 0,
    "start_time": "2024-03-07T08:33:13.083Z"
   },
   {
    "duration": 0,
    "start_time": "2024-03-07T08:33:13.084Z"
   },
   {
    "duration": 790,
    "start_time": "2024-03-07T08:39:47.425Z"
   },
   {
    "duration": 14,
    "start_time": "2024-03-07T08:39:48.217Z"
   },
   {
    "duration": 21,
    "start_time": "2024-03-07T08:39:48.232Z"
   },
   {
    "duration": 1900,
    "start_time": "2024-03-07T08:39:48.255Z"
   },
   {
    "duration": 9,
    "start_time": "2024-03-07T08:39:50.156Z"
   },
   {
    "duration": 25,
    "start_time": "2024-03-07T08:39:50.167Z"
   },
   {
    "duration": 6,
    "start_time": "2024-03-07T08:39:50.193Z"
   },
   {
    "duration": 5,
    "start_time": "2024-03-07T08:39:50.200Z"
   },
   {
    "duration": 11,
    "start_time": "2024-03-07T08:39:50.218Z"
   },
   {
    "duration": 10,
    "start_time": "2024-03-07T08:39:50.232Z"
   },
   {
    "duration": 10,
    "start_time": "2024-03-07T08:39:50.243Z"
   },
   {
    "duration": 351,
    "start_time": "2024-03-07T08:39:50.255Z"
   },
   {
    "duration": 11,
    "start_time": "2024-03-07T08:39:50.607Z"
   },
   {
    "duration": 17,
    "start_time": "2024-03-07T08:39:50.619Z"
   },
   {
    "duration": 34,
    "start_time": "2024-03-07T08:39:50.637Z"
   },
   {
    "duration": 4,
    "start_time": "2024-03-07T08:39:50.672Z"
   },
   {
    "duration": 23,
    "start_time": "2024-03-07T08:39:50.677Z"
   },
   {
    "duration": 260,
    "start_time": "2024-03-07T08:39:50.702Z"
   },
   {
    "duration": 5,
    "start_time": "2024-03-07T08:39:50.964Z"
   },
   {
    "duration": 31,
    "start_time": "2024-03-07T08:39:50.971Z"
   },
   {
    "duration": 23,
    "start_time": "2024-03-07T08:39:51.004Z"
   },
   {
    "duration": 26,
    "start_time": "2024-03-07T08:39:51.028Z"
   },
   {
    "duration": 10,
    "start_time": "2024-03-07T08:39:51.056Z"
   },
   {
    "duration": 19,
    "start_time": "2024-03-07T08:39:51.067Z"
   },
   {
    "duration": 7,
    "start_time": "2024-03-07T08:39:51.088Z"
   },
   {
    "duration": 19,
    "start_time": "2024-03-07T08:39:51.097Z"
   },
   {
    "duration": 11,
    "start_time": "2024-03-07T08:39:51.118Z"
   },
   {
    "duration": 37,
    "start_time": "2024-03-07T08:39:51.132Z"
   },
   {
    "duration": 3,
    "start_time": "2024-03-07T08:39:51.171Z"
   },
   {
    "duration": 14,
    "start_time": "2024-03-07T08:39:51.176Z"
   },
   {
    "duration": 7,
    "start_time": "2024-03-07T08:39:51.191Z"
   },
   {
    "duration": 15,
    "start_time": "2024-03-07T08:39:51.199Z"
   },
   {
    "duration": 309,
    "start_time": "2024-03-07T08:39:51.216Z"
   },
   {
    "duration": 37,
    "start_time": "2024-03-07T08:39:51.526Z"
   },
   {
    "duration": 9,
    "start_time": "2024-03-07T08:39:51.565Z"
   },
   {
    "duration": 326,
    "start_time": "2024-03-07T08:39:51.575Z"
   },
   {
    "duration": 18,
    "start_time": "2024-03-07T08:39:51.903Z"
   },
   {
    "duration": 253,
    "start_time": "2024-03-07T08:39:51.923Z"
   },
   {
    "duration": 16,
    "start_time": "2024-03-07T08:39:52.178Z"
   },
   {
    "duration": 246,
    "start_time": "2024-03-07T08:39:52.196Z"
   },
   {
    "duration": 8,
    "start_time": "2024-03-07T08:39:52.444Z"
   },
   {
    "duration": 247,
    "start_time": "2024-03-07T08:39:52.453Z"
   },
   {
    "duration": 145,
    "start_time": "2024-03-07T08:39:52.701Z"
   },
   {
    "duration": 9,
    "start_time": "2024-03-07T08:39:52.848Z"
   },
   {
    "duration": 202,
    "start_time": "2024-03-07T08:39:52.858Z"
   },
   {
    "duration": 150,
    "start_time": "2024-03-07T08:39:53.062Z"
   },
   {
    "duration": 260,
    "start_time": "2024-03-07T08:39:53.217Z"
   },
   {
    "duration": 8,
    "start_time": "2024-03-07T08:39:53.478Z"
   },
   {
    "duration": 278,
    "start_time": "2024-03-07T08:39:53.488Z"
   },
   {
    "duration": 10,
    "start_time": "2024-03-07T08:39:53.767Z"
   },
   {
    "duration": 247,
    "start_time": "2024-03-07T08:39:53.779Z"
   },
   {
    "duration": 9,
    "start_time": "2024-03-07T08:39:54.028Z"
   },
   {
    "duration": 254,
    "start_time": "2024-03-07T08:39:54.039Z"
   },
   {
    "duration": 8,
    "start_time": "2024-03-07T08:39:54.295Z"
   },
   {
    "duration": 140,
    "start_time": "2024-03-07T08:39:54.304Z"
   },
   {
    "duration": 7,
    "start_time": "2024-03-07T08:39:54.446Z"
   },
   {
    "duration": 123,
    "start_time": "2024-03-07T08:39:54.454Z"
   },
   {
    "duration": 242,
    "start_time": "2024-03-07T08:39:54.578Z"
   },
   {
    "duration": 260,
    "start_time": "2024-03-07T08:39:54.822Z"
   },
   {
    "duration": 162,
    "start_time": "2024-03-07T08:39:55.084Z"
   },
   {
    "duration": 151,
    "start_time": "2024-03-07T08:39:55.249Z"
   },
   {
    "duration": 162,
    "start_time": "2024-03-07T08:39:55.401Z"
   },
   {
    "duration": 514,
    "start_time": "2024-03-07T08:39:55.564Z"
   },
   {
    "duration": 0,
    "start_time": "2024-03-07T08:39:56.080Z"
   },
   {
    "duration": 0,
    "start_time": "2024-03-07T08:39:56.081Z"
   },
   {
    "duration": 0,
    "start_time": "2024-03-07T08:39:56.082Z"
   },
   {
    "duration": 0,
    "start_time": "2024-03-07T08:39:56.083Z"
   },
   {
    "duration": 0,
    "start_time": "2024-03-07T08:39:56.085Z"
   },
   {
    "duration": 0,
    "start_time": "2024-03-07T08:39:56.086Z"
   },
   {
    "duration": 8,
    "start_time": "2024-03-07T08:48:24.957Z"
   },
   {
    "duration": 7,
    "start_time": "2024-03-07T08:48:44.922Z"
   },
   {
    "duration": 8,
    "start_time": "2024-03-07T08:49:15.054Z"
   },
   {
    "duration": 7,
    "start_time": "2024-03-07T08:49:35.499Z"
   },
   {
    "duration": 209,
    "start_time": "2024-03-07T08:50:05.651Z"
   },
   {
    "duration": 7,
    "start_time": "2024-03-07T08:50:36.972Z"
   },
   {
    "duration": 780,
    "start_time": "2024-03-07T08:50:53.638Z"
   },
   {
    "duration": 14,
    "start_time": "2024-03-07T08:50:54.420Z"
   },
   {
    "duration": 24,
    "start_time": "2024-03-07T08:50:54.436Z"
   },
   {
    "duration": 1821,
    "start_time": "2024-03-07T08:50:54.462Z"
   },
   {
    "duration": 11,
    "start_time": "2024-03-07T08:50:56.285Z"
   },
   {
    "duration": 28,
    "start_time": "2024-03-07T08:50:56.297Z"
   },
   {
    "duration": 6,
    "start_time": "2024-03-07T08:50:56.327Z"
   },
   {
    "duration": 5,
    "start_time": "2024-03-07T08:50:56.335Z"
   },
   {
    "duration": 10,
    "start_time": "2024-03-07T08:50:56.342Z"
   },
   {
    "duration": 9,
    "start_time": "2024-03-07T08:50:56.355Z"
   },
   {
    "duration": 10,
    "start_time": "2024-03-07T08:50:56.366Z"
   },
   {
    "duration": 364,
    "start_time": "2024-03-07T08:50:56.377Z"
   },
   {
    "duration": 6,
    "start_time": "2024-03-07T08:50:56.742Z"
   },
   {
    "duration": 8,
    "start_time": "2024-03-07T08:50:56.749Z"
   },
   {
    "duration": 34,
    "start_time": "2024-03-07T08:50:56.758Z"
   },
   {
    "duration": 3,
    "start_time": "2024-03-07T08:50:56.794Z"
   },
   {
    "duration": 21,
    "start_time": "2024-03-07T08:50:56.798Z"
   },
   {
    "duration": 259,
    "start_time": "2024-03-07T08:50:56.821Z"
   },
   {
    "duration": 5,
    "start_time": "2024-03-07T08:50:57.081Z"
   },
   {
    "duration": 21,
    "start_time": "2024-03-07T08:50:57.087Z"
   },
   {
    "duration": 14,
    "start_time": "2024-03-07T08:50:57.109Z"
   },
   {
    "duration": 7,
    "start_time": "2024-03-07T08:50:57.125Z"
   },
   {
    "duration": 7,
    "start_time": "2024-03-07T08:50:57.134Z"
   },
   {
    "duration": 7,
    "start_time": "2024-03-07T08:50:57.142Z"
   },
   {
    "duration": 17,
    "start_time": "2024-03-07T08:50:57.151Z"
   },
   {
    "duration": 9,
    "start_time": "2024-03-07T08:50:57.169Z"
   },
   {
    "duration": 12,
    "start_time": "2024-03-07T08:50:57.179Z"
   },
   {
    "duration": 6,
    "start_time": "2024-03-07T08:50:57.195Z"
   },
   {
    "duration": 18,
    "start_time": "2024-03-07T08:50:57.203Z"
   },
   {
    "duration": 6,
    "start_time": "2024-03-07T08:50:57.223Z"
   },
   {
    "duration": 6,
    "start_time": "2024-03-07T08:50:57.230Z"
   },
   {
    "duration": 332,
    "start_time": "2024-03-07T08:50:57.238Z"
   },
   {
    "duration": 6,
    "start_time": "2024-03-07T08:50:57.572Z"
   },
   {
    "duration": 8,
    "start_time": "2024-03-07T08:50:57.579Z"
   },
   {
    "duration": 314,
    "start_time": "2024-03-07T08:50:57.588Z"
   },
   {
    "duration": 17,
    "start_time": "2024-03-07T08:50:57.903Z"
   },
   {
    "duration": 241,
    "start_time": "2024-03-07T08:50:57.922Z"
   },
   {
    "duration": 8,
    "start_time": "2024-03-07T08:50:58.165Z"
   },
   {
    "duration": 248,
    "start_time": "2024-03-07T08:50:58.175Z"
   },
   {
    "duration": 8,
    "start_time": "2024-03-07T08:50:58.424Z"
   },
   {
    "duration": 269,
    "start_time": "2024-03-07T08:50:58.433Z"
   },
   {
    "duration": 147,
    "start_time": "2024-03-07T08:50:58.703Z"
   },
   {
    "duration": 9,
    "start_time": "2024-03-07T08:50:58.852Z"
   },
   {
    "duration": 190,
    "start_time": "2024-03-07T08:50:58.863Z"
   },
   {
    "duration": 150,
    "start_time": "2024-03-07T08:50:59.055Z"
   },
   {
    "duration": 278,
    "start_time": "2024-03-07T08:50:59.207Z"
   },
   {
    "duration": 9,
    "start_time": "2024-03-07T08:50:59.487Z"
   },
   {
    "duration": 266,
    "start_time": "2024-03-07T08:50:59.499Z"
   },
   {
    "duration": 10,
    "start_time": "2024-03-07T08:50:59.767Z"
   },
   {
    "duration": 261,
    "start_time": "2024-03-07T08:50:59.778Z"
   },
   {
    "duration": 10,
    "start_time": "2024-03-07T08:51:00.041Z"
   },
   {
    "duration": 268,
    "start_time": "2024-03-07T08:51:00.053Z"
   },
   {
    "duration": 9,
    "start_time": "2024-03-07T08:51:00.323Z"
   },
   {
    "duration": 163,
    "start_time": "2024-03-07T08:51:00.333Z"
   },
   {
    "duration": 8,
    "start_time": "2024-03-07T08:51:00.497Z"
   },
   {
    "duration": 135,
    "start_time": "2024-03-07T08:51:00.507Z"
   },
   {
    "duration": 262,
    "start_time": "2024-03-07T08:51:00.644Z"
   },
   {
    "duration": 260,
    "start_time": "2024-03-07T08:51:00.907Z"
   },
   {
    "duration": 161,
    "start_time": "2024-03-07T08:51:01.169Z"
   },
   {
    "duration": 147,
    "start_time": "2024-03-07T08:51:01.331Z"
   },
   {
    "duration": 160,
    "start_time": "2024-03-07T08:51:01.480Z"
   },
   {
    "duration": 562,
    "start_time": "2024-03-07T08:51:01.641Z"
   },
   {
    "duration": 0,
    "start_time": "2024-03-07T08:51:02.205Z"
   },
   {
    "duration": 0,
    "start_time": "2024-03-07T08:51:02.207Z"
   },
   {
    "duration": 0,
    "start_time": "2024-03-07T08:51:02.208Z"
   },
   {
    "duration": 0,
    "start_time": "2024-03-07T08:51:02.210Z"
   },
   {
    "duration": 0,
    "start_time": "2024-03-07T08:51:02.211Z"
   },
   {
    "duration": 0,
    "start_time": "2024-03-07T08:51:02.213Z"
   },
   {
    "duration": 147,
    "start_time": "2024-03-07T08:52:52.227Z"
   },
   {
    "duration": 25,
    "start_time": "2024-03-07T08:54:17.125Z"
   },
   {
    "duration": 16,
    "start_time": "2024-03-07T08:54:49.224Z"
   },
   {
    "duration": 142,
    "start_time": "2024-03-07T08:55:13.449Z"
   },
   {
    "duration": 160,
    "start_time": "2024-03-07T08:55:17.115Z"
   },
   {
    "duration": 148,
    "start_time": "2024-03-07T08:55:21.251Z"
   },
   {
    "duration": 133,
    "start_time": "2024-03-07T08:55:24.126Z"
   },
   {
    "duration": 445,
    "start_time": "2024-03-07T08:55:31.745Z"
   },
   {
    "duration": 162,
    "start_time": "2024-03-07T08:55:36.867Z"
   },
   {
    "duration": 149,
    "start_time": "2024-03-07T08:55:39.605Z"
   },
   {
    "duration": 273,
    "start_time": "2024-03-07T08:55:42.810Z"
   },
   {
    "duration": 26,
    "start_time": "2024-03-07T08:55:55.495Z"
   },
   {
    "duration": 12,
    "start_time": "2024-03-07T08:55:59.742Z"
   },
   {
    "duration": 185,
    "start_time": "2024-03-07T08:56:02.843Z"
   },
   {
    "duration": 841,
    "start_time": "2024-03-07T08:56:49.894Z"
   },
   {
    "duration": 13,
    "start_time": "2024-03-07T08:56:50.737Z"
   },
   {
    "duration": 30,
    "start_time": "2024-03-07T08:56:50.752Z"
   },
   {
    "duration": 1931,
    "start_time": "2024-03-07T08:56:50.784Z"
   },
   {
    "duration": 9,
    "start_time": "2024-03-07T08:56:52.716Z"
   },
   {
    "duration": 32,
    "start_time": "2024-03-07T08:56:52.727Z"
   },
   {
    "duration": 6,
    "start_time": "2024-03-07T08:56:52.760Z"
   },
   {
    "duration": 5,
    "start_time": "2024-03-07T08:56:52.767Z"
   },
   {
    "duration": 11,
    "start_time": "2024-03-07T08:56:52.773Z"
   },
   {
    "duration": 33,
    "start_time": "2024-03-07T08:56:52.787Z"
   },
   {
    "duration": 11,
    "start_time": "2024-03-07T08:56:52.821Z"
   },
   {
    "duration": 359,
    "start_time": "2024-03-07T08:56:52.833Z"
   },
   {
    "duration": 5,
    "start_time": "2024-03-07T08:56:53.194Z"
   },
   {
    "duration": 19,
    "start_time": "2024-03-07T08:56:53.201Z"
   },
   {
    "duration": 33,
    "start_time": "2024-03-07T08:56:53.222Z"
   },
   {
    "duration": 4,
    "start_time": "2024-03-07T08:56:53.256Z"
   },
   {
    "duration": 5,
    "start_time": "2024-03-07T08:56:53.261Z"
   },
   {
    "duration": 268,
    "start_time": "2024-03-07T08:56:53.267Z"
   },
   {
    "duration": 5,
    "start_time": "2024-03-07T08:56:53.537Z"
   },
   {
    "duration": 6,
    "start_time": "2024-03-07T08:56:53.544Z"
   },
   {
    "duration": 8,
    "start_time": "2024-03-07T08:56:53.552Z"
   },
   {
    "duration": 5,
    "start_time": "2024-03-07T08:56:53.561Z"
   },
   {
    "duration": 5,
    "start_time": "2024-03-07T08:56:53.568Z"
   },
   {
    "duration": 5,
    "start_time": "2024-03-07T08:56:53.575Z"
   },
   {
    "duration": 37,
    "start_time": "2024-03-07T08:56:53.582Z"
   },
   {
    "duration": 10,
    "start_time": "2024-03-07T08:56:53.620Z"
   },
   {
    "duration": 17,
    "start_time": "2024-03-07T08:56:53.631Z"
   },
   {
    "duration": 8,
    "start_time": "2024-03-07T08:56:53.651Z"
   },
   {
    "duration": 10,
    "start_time": "2024-03-07T08:56:53.660Z"
   },
   {
    "duration": 8,
    "start_time": "2024-03-07T08:56:53.671Z"
   },
   {
    "duration": 41,
    "start_time": "2024-03-07T08:56:53.680Z"
   },
   {
    "duration": 331,
    "start_time": "2024-03-07T08:56:53.722Z"
   },
   {
    "duration": 6,
    "start_time": "2024-03-07T08:56:54.054Z"
   },
   {
    "duration": 8,
    "start_time": "2024-03-07T08:56:54.062Z"
   },
   {
    "duration": 324,
    "start_time": "2024-03-07T08:56:54.071Z"
   },
   {
    "duration": 9,
    "start_time": "2024-03-07T08:56:54.397Z"
   },
   {
    "duration": 251,
    "start_time": "2024-03-07T08:56:54.417Z"
   },
   {
    "duration": 9,
    "start_time": "2024-03-07T08:56:54.670Z"
   },
   {
    "duration": 265,
    "start_time": "2024-03-07T08:56:54.681Z"
   },
   {
    "duration": 8,
    "start_time": "2024-03-07T08:56:54.948Z"
   },
   {
    "duration": 244,
    "start_time": "2024-03-07T08:56:54.958Z"
   },
   {
    "duration": 150,
    "start_time": "2024-03-07T08:56:55.204Z"
   },
   {
    "duration": 8,
    "start_time": "2024-03-07T08:56:55.355Z"
   },
   {
    "duration": 197,
    "start_time": "2024-03-07T08:56:55.364Z"
   },
   {
    "duration": 173,
    "start_time": "2024-03-07T08:56:55.563Z"
   },
   {
    "duration": 292,
    "start_time": "2024-03-07T08:56:55.738Z"
   },
   {
    "duration": 8,
    "start_time": "2024-03-07T08:56:56.031Z"
   },
   {
    "duration": 268,
    "start_time": "2024-03-07T08:56:56.040Z"
   },
   {
    "duration": 13,
    "start_time": "2024-03-07T08:56:56.309Z"
   },
   {
    "duration": 246,
    "start_time": "2024-03-07T08:56:56.323Z"
   },
   {
    "duration": 9,
    "start_time": "2024-03-07T08:56:56.570Z"
   },
   {
    "duration": 263,
    "start_time": "2024-03-07T08:56:56.581Z"
   },
   {
    "duration": 8,
    "start_time": "2024-03-07T08:56:56.846Z"
   },
   {
    "duration": 146,
    "start_time": "2024-03-07T08:56:56.855Z"
   },
   {
    "duration": 16,
    "start_time": "2024-03-07T08:56:57.002Z"
   },
   {
    "duration": 124,
    "start_time": "2024-03-07T08:56:57.019Z"
   },
   {
    "duration": 258,
    "start_time": "2024-03-07T08:56:57.145Z"
   },
   {
    "duration": 251,
    "start_time": "2024-03-07T08:56:57.405Z"
   },
   {
    "duration": 168,
    "start_time": "2024-03-07T08:56:57.658Z"
   },
   {
    "duration": 151,
    "start_time": "2024-03-07T08:56:57.828Z"
   },
   {
    "duration": 155,
    "start_time": "2024-03-07T08:56:57.980Z"
   },
   {
    "duration": 539,
    "start_time": "2024-03-07T08:56:58.137Z"
   },
   {
    "duration": 0,
    "start_time": "2024-03-07T08:56:58.678Z"
   },
   {
    "duration": 0,
    "start_time": "2024-03-07T08:56:58.679Z"
   },
   {
    "duration": 0,
    "start_time": "2024-03-07T08:56:58.680Z"
   },
   {
    "duration": 0,
    "start_time": "2024-03-07T08:56:58.681Z"
   },
   {
    "duration": 0,
    "start_time": "2024-03-07T08:56:58.682Z"
   },
   {
    "duration": 0,
    "start_time": "2024-03-07T08:56:58.684Z"
   },
   {
    "duration": 483,
    "start_time": "2024-03-07T08:59:34.702Z"
   },
   {
    "duration": 17,
    "start_time": "2024-03-07T09:02:27.770Z"
   },
   {
    "duration": 30,
    "start_time": "2024-03-07T09:04:17.852Z"
   },
   {
    "duration": 14,
    "start_time": "2024-03-07T09:04:42.906Z"
   },
   {
    "duration": 145,
    "start_time": "2024-03-07T09:05:39.731Z"
   },
   {
    "duration": 138,
    "start_time": "2024-03-07T09:05:47.356Z"
   },
   {
    "duration": 140,
    "start_time": "2024-03-07T09:05:56.818Z"
   },
   {
    "duration": 131,
    "start_time": "2024-03-07T09:05:59.705Z"
   },
   {
    "duration": 132,
    "start_time": "2024-03-07T09:06:57.538Z"
   },
   {
    "duration": 175,
    "start_time": "2024-03-07T09:07:13.634Z"
   },
   {
    "duration": 154,
    "start_time": "2024-03-07T09:07:25.557Z"
   },
   {
    "duration": 232,
    "start_time": "2024-03-07T09:07:33.010Z"
   },
   {
    "duration": 165,
    "start_time": "2024-03-07T09:07:45.404Z"
   },
   {
    "duration": 8,
    "start_time": "2024-03-07T09:08:58.290Z"
   },
   {
    "duration": 19,
    "start_time": "2024-03-07T09:09:06.088Z"
   },
   {
    "duration": 737,
    "start_time": "2024-03-07T09:09:36.750Z"
   },
   {
    "duration": 15,
    "start_time": "2024-03-07T09:09:37.488Z"
   },
   {
    "duration": 30,
    "start_time": "2024-03-07T09:09:37.504Z"
   },
   {
    "duration": 1895,
    "start_time": "2024-03-07T09:09:37.536Z"
   },
   {
    "duration": 9,
    "start_time": "2024-03-07T09:09:39.432Z"
   },
   {
    "duration": 35,
    "start_time": "2024-03-07T09:09:39.442Z"
   },
   {
    "duration": 5,
    "start_time": "2024-03-07T09:09:39.479Z"
   },
   {
    "duration": 9,
    "start_time": "2024-03-07T09:09:39.485Z"
   },
   {
    "duration": 14,
    "start_time": "2024-03-07T09:09:39.495Z"
   },
   {
    "duration": 12,
    "start_time": "2024-03-07T09:09:39.512Z"
   },
   {
    "duration": 10,
    "start_time": "2024-03-07T09:09:39.525Z"
   },
   {
    "duration": 351,
    "start_time": "2024-03-07T09:09:39.537Z"
   },
   {
    "duration": 5,
    "start_time": "2024-03-07T09:09:39.890Z"
   },
   {
    "duration": 9,
    "start_time": "2024-03-07T09:09:39.896Z"
   },
   {
    "duration": 39,
    "start_time": "2024-03-07T09:09:39.906Z"
   },
   {
    "duration": 2,
    "start_time": "2024-03-07T09:09:39.947Z"
   },
   {
    "duration": 4,
    "start_time": "2024-03-07T09:09:39.951Z"
   },
   {
    "duration": 242,
    "start_time": "2024-03-07T09:09:39.956Z"
   },
   {
    "duration": 5,
    "start_time": "2024-03-07T09:09:40.200Z"
   },
   {
    "duration": 18,
    "start_time": "2024-03-07T09:09:40.207Z"
   },
   {
    "duration": 10,
    "start_time": "2024-03-07T09:09:40.226Z"
   },
   {
    "duration": 9,
    "start_time": "2024-03-07T09:09:40.238Z"
   },
   {
    "duration": 17,
    "start_time": "2024-03-07T09:09:40.248Z"
   },
   {
    "duration": 18,
    "start_time": "2024-03-07T09:09:40.267Z"
   },
   {
    "duration": 13,
    "start_time": "2024-03-07T09:09:40.286Z"
   },
   {
    "duration": 22,
    "start_time": "2024-03-07T09:09:40.301Z"
   },
   {
    "duration": 21,
    "start_time": "2024-03-07T09:09:40.325Z"
   },
   {
    "duration": 7,
    "start_time": "2024-03-07T09:09:40.351Z"
   },
   {
    "duration": 15,
    "start_time": "2024-03-07T09:09:40.360Z"
   },
   {
    "duration": 8,
    "start_time": "2024-03-07T09:09:40.377Z"
   },
   {
    "duration": 8,
    "start_time": "2024-03-07T09:09:40.386Z"
   },
   {
    "duration": 336,
    "start_time": "2024-03-07T09:09:40.396Z"
   },
   {
    "duration": 7,
    "start_time": "2024-03-07T09:09:40.734Z"
   },
   {
    "duration": 9,
    "start_time": "2024-03-07T09:09:40.743Z"
   },
   {
    "duration": 301,
    "start_time": "2024-03-07T09:09:40.754Z"
   },
   {
    "duration": 7,
    "start_time": "2024-03-07T09:09:41.057Z"
   },
   {
    "duration": 229,
    "start_time": "2024-03-07T09:09:41.066Z"
   },
   {
    "duration": 8,
    "start_time": "2024-03-07T09:09:41.296Z"
   },
   {
    "duration": 226,
    "start_time": "2024-03-07T09:09:41.305Z"
   },
   {
    "duration": 7,
    "start_time": "2024-03-07T09:09:41.532Z"
   },
   {
    "duration": 253,
    "start_time": "2024-03-07T09:09:41.541Z"
   },
   {
    "duration": 148,
    "start_time": "2024-03-07T09:09:41.795Z"
   },
   {
    "duration": 9,
    "start_time": "2024-03-07T09:09:41.945Z"
   },
   {
    "duration": 194,
    "start_time": "2024-03-07T09:09:41.956Z"
   },
   {
    "duration": 136,
    "start_time": "2024-03-07T09:09:42.152Z"
   },
   {
    "duration": 252,
    "start_time": "2024-03-07T09:09:42.289Z"
   },
   {
    "duration": 8,
    "start_time": "2024-03-07T09:09:42.543Z"
   },
   {
    "duration": 240,
    "start_time": "2024-03-07T09:09:42.552Z"
   },
   {
    "duration": 8,
    "start_time": "2024-03-07T09:09:42.794Z"
   },
   {
    "duration": 238,
    "start_time": "2024-03-07T09:09:42.804Z"
   },
   {
    "duration": 9,
    "start_time": "2024-03-07T09:09:43.043Z"
   },
   {
    "duration": 254,
    "start_time": "2024-03-07T09:09:43.054Z"
   },
   {
    "duration": 12,
    "start_time": "2024-03-07T09:09:43.310Z"
   },
   {
    "duration": 132,
    "start_time": "2024-03-07T09:09:43.323Z"
   },
   {
    "duration": 8,
    "start_time": "2024-03-07T09:09:43.456Z"
   },
   {
    "duration": 113,
    "start_time": "2024-03-07T09:09:43.466Z"
   },
   {
    "duration": 227,
    "start_time": "2024-03-07T09:09:43.581Z"
   },
   {
    "duration": 24,
    "start_time": "2024-03-07T09:09:43.810Z"
   },
   {
    "duration": 16,
    "start_time": "2024-03-07T09:09:43.836Z"
   },
   {
    "duration": 25,
    "start_time": "2024-03-07T09:09:43.853Z"
   },
   {
    "duration": 128,
    "start_time": "2024-03-07T09:09:43.880Z"
   },
   {
    "duration": 151,
    "start_time": "2024-03-07T09:09:44.010Z"
   },
   {
    "duration": 163,
    "start_time": "2024-03-07T09:09:44.163Z"
   },
   {
    "duration": 167,
    "start_time": "2024-03-07T09:09:44.328Z"
   },
   {
    "duration": 167,
    "start_time": "2024-03-07T09:09:44.497Z"
   },
   {
    "duration": 152,
    "start_time": "2024-03-07T09:09:44.666Z"
   },
   {
    "duration": 157,
    "start_time": "2024-03-07T09:09:44.819Z"
   },
   {
    "duration": 141,
    "start_time": "2024-03-07T09:09:44.978Z"
   },
   {
    "duration": 165,
    "start_time": "2024-03-07T09:09:45.121Z"
   },
   {
    "duration": 33,
    "start_time": "2024-03-07T09:09:45.288Z"
   },
   {
    "duration": 12,
    "start_time": "2024-03-07T09:09:45.323Z"
   },
   {
    "duration": 188,
    "start_time": "2024-03-07T09:09:45.336Z"
   },
   {
    "duration": 27,
    "start_time": "2024-03-07T09:10:48.815Z"
   },
   {
    "duration": 4,
    "start_time": "2024-03-07T09:41:05.587Z"
   },
   {
    "duration": 43,
    "start_time": "2024-03-07T10:03:41.217Z"
   },
   {
    "duration": 750,
    "start_time": "2024-03-07T10:18:57.058Z"
   },
   {
    "duration": 17,
    "start_time": "2024-03-07T10:18:57.809Z"
   },
   {
    "duration": 22,
    "start_time": "2024-03-07T10:18:57.827Z"
   },
   {
    "duration": 1924,
    "start_time": "2024-03-07T10:18:57.851Z"
   },
   {
    "duration": 11,
    "start_time": "2024-03-07T10:18:59.777Z"
   },
   {
    "duration": 26,
    "start_time": "2024-03-07T10:18:59.790Z"
   },
   {
    "duration": 5,
    "start_time": "2024-03-07T10:18:59.818Z"
   },
   {
    "duration": 5,
    "start_time": "2024-03-07T10:18:59.825Z"
   },
   {
    "duration": 10,
    "start_time": "2024-03-07T10:18:59.832Z"
   },
   {
    "duration": 14,
    "start_time": "2024-03-07T10:18:59.844Z"
   },
   {
    "duration": 14,
    "start_time": "2024-03-07T10:18:59.859Z"
   },
   {
    "duration": 354,
    "start_time": "2024-03-07T10:18:59.875Z"
   },
   {
    "duration": 5,
    "start_time": "2024-03-07T10:19:00.231Z"
   },
   {
    "duration": 64,
    "start_time": "2024-03-07T10:19:00.237Z"
   },
   {
    "duration": 80,
    "start_time": "2024-03-07T10:19:00.302Z"
   },
   {
    "duration": 3,
    "start_time": "2024-03-07T10:19:00.384Z"
   },
   {
    "duration": 49,
    "start_time": "2024-03-07T10:19:00.389Z"
   },
   {
    "duration": 264,
    "start_time": "2024-03-07T10:19:00.440Z"
   },
   {
    "duration": 6,
    "start_time": "2024-03-07T10:19:00.705Z"
   },
   {
    "duration": 11,
    "start_time": "2024-03-07T10:19:00.718Z"
   },
   {
    "duration": 36,
    "start_time": "2024-03-07T10:19:00.730Z"
   },
   {
    "duration": 25,
    "start_time": "2024-03-07T10:19:00.768Z"
   },
   {
    "duration": 31,
    "start_time": "2024-03-07T10:19:00.795Z"
   },
   {
    "duration": 52,
    "start_time": "2024-03-07T10:19:00.827Z"
   },
   {
    "duration": 35,
    "start_time": "2024-03-07T10:19:00.880Z"
   },
   {
    "duration": 32,
    "start_time": "2024-03-07T10:19:00.917Z"
   },
   {
    "duration": 40,
    "start_time": "2024-03-07T10:19:00.951Z"
   },
   {
    "duration": 42,
    "start_time": "2024-03-07T10:19:00.995Z"
   },
   {
    "duration": 47,
    "start_time": "2024-03-07T10:19:01.038Z"
   },
   {
    "duration": 26,
    "start_time": "2024-03-07T10:19:01.086Z"
   },
   {
    "duration": 35,
    "start_time": "2024-03-07T10:19:01.114Z"
   },
   {
    "duration": 337,
    "start_time": "2024-03-07T10:19:01.151Z"
   },
   {
    "duration": 5,
    "start_time": "2024-03-07T10:19:01.490Z"
   },
   {
    "duration": 118,
    "start_time": "2024-03-07T10:19:01.497Z"
   },
   {
    "duration": 32,
    "start_time": "2024-03-07T10:19:01.617Z"
   },
   {
    "duration": 381,
    "start_time": "2024-03-07T10:19:01.651Z"
   },
   {
    "duration": 13,
    "start_time": "2024-03-07T10:19:02.033Z"
   },
   {
    "duration": 275,
    "start_time": "2024-03-07T10:19:02.048Z"
   },
   {
    "duration": 8,
    "start_time": "2024-03-07T10:19:02.324Z"
   },
   {
    "duration": 262,
    "start_time": "2024-03-07T10:19:02.334Z"
   },
   {
    "duration": 8,
    "start_time": "2024-03-07T10:19:02.598Z"
   },
   {
    "duration": 231,
    "start_time": "2024-03-07T10:19:02.618Z"
   },
   {
    "duration": 156,
    "start_time": "2024-03-07T10:19:02.850Z"
   },
   {
    "duration": 12,
    "start_time": "2024-03-07T10:19:03.008Z"
   },
   {
    "duration": 192,
    "start_time": "2024-03-07T10:19:03.022Z"
   },
   {
    "duration": 154,
    "start_time": "2024-03-07T10:19:03.217Z"
   },
   {
    "duration": 299,
    "start_time": "2024-03-07T10:19:03.373Z"
   },
   {
    "duration": 10,
    "start_time": "2024-03-07T10:19:03.674Z"
   },
   {
    "duration": 243,
    "start_time": "2024-03-07T10:19:03.686Z"
   },
   {
    "duration": 9,
    "start_time": "2024-03-07T10:19:03.931Z"
   },
   {
    "duration": 244,
    "start_time": "2024-03-07T10:19:03.941Z"
   },
   {
    "duration": 9,
    "start_time": "2024-03-07T10:19:04.186Z"
   },
   {
    "duration": 250,
    "start_time": "2024-03-07T10:19:04.197Z"
   },
   {
    "duration": 8,
    "start_time": "2024-03-07T10:19:04.449Z"
   },
   {
    "duration": 149,
    "start_time": "2024-03-07T10:19:04.459Z"
   },
   {
    "duration": 13,
    "start_time": "2024-03-07T10:19:04.609Z"
   },
   {
    "duration": 120,
    "start_time": "2024-03-07T10:19:04.623Z"
   },
   {
    "duration": 234,
    "start_time": "2024-03-07T10:19:04.745Z"
   },
   {
    "duration": 19,
    "start_time": "2024-03-07T10:19:04.981Z"
   },
   {
    "duration": 28,
    "start_time": "2024-03-07T10:19:05.001Z"
   },
   {
    "duration": 34,
    "start_time": "2024-03-07T10:19:05.030Z"
   },
   {
    "duration": 114,
    "start_time": "2024-03-07T10:19:05.065Z"
   },
   {
    "duration": 143,
    "start_time": "2024-03-07T10:19:05.180Z"
   },
   {
    "duration": 162,
    "start_time": "2024-03-07T10:19:05.324Z"
   },
   {
    "duration": 168,
    "start_time": "2024-03-07T10:19:05.488Z"
   },
   {
    "duration": 148,
    "start_time": "2024-03-07T10:19:05.657Z"
   },
   {
    "duration": 159,
    "start_time": "2024-03-07T10:19:05.807Z"
   },
   {
    "duration": 161,
    "start_time": "2024-03-07T10:19:05.968Z"
   },
   {
    "duration": 144,
    "start_time": "2024-03-07T10:19:06.131Z"
   },
   {
    "duration": 163,
    "start_time": "2024-03-07T10:19:06.277Z"
   },
   {
    "duration": 24,
    "start_time": "2024-03-07T10:19:06.442Z"
   },
   {
    "duration": 12,
    "start_time": "2024-03-07T10:19:06.467Z"
   },
   {
    "duration": 197,
    "start_time": "2024-03-07T10:19:06.481Z"
   },
   {
    "duration": 26,
    "start_time": "2024-03-07T10:20:17.754Z"
   },
   {
    "duration": 818,
    "start_time": "2024-03-07T10:20:33.911Z"
   },
   {
    "duration": 15,
    "start_time": "2024-03-07T10:20:34.731Z"
   },
   {
    "duration": 24,
    "start_time": "2024-03-07T10:20:34.748Z"
   },
   {
    "duration": 1905,
    "start_time": "2024-03-07T10:20:34.774Z"
   },
   {
    "duration": 9,
    "start_time": "2024-03-07T10:20:36.680Z"
   },
   {
    "duration": 32,
    "start_time": "2024-03-07T10:20:36.691Z"
   },
   {
    "duration": 5,
    "start_time": "2024-03-07T10:20:36.725Z"
   },
   {
    "duration": 15,
    "start_time": "2024-03-07T10:20:36.731Z"
   },
   {
    "duration": 12,
    "start_time": "2024-03-07T10:20:36.748Z"
   },
   {
    "duration": 10,
    "start_time": "2024-03-07T10:20:36.762Z"
   },
   {
    "duration": 11,
    "start_time": "2024-03-07T10:20:36.773Z"
   },
   {
    "duration": 349,
    "start_time": "2024-03-07T10:20:36.785Z"
   },
   {
    "duration": 7,
    "start_time": "2024-03-07T10:20:37.136Z"
   },
   {
    "duration": 6,
    "start_time": "2024-03-07T10:20:37.144Z"
   },
   {
    "duration": 34,
    "start_time": "2024-03-07T10:20:37.152Z"
   },
   {
    "duration": 3,
    "start_time": "2024-03-07T10:20:37.188Z"
   },
   {
    "duration": 5,
    "start_time": "2024-03-07T10:20:37.218Z"
   },
   {
    "duration": 268,
    "start_time": "2024-03-07T10:20:37.224Z"
   },
   {
    "duration": 5,
    "start_time": "2024-03-07T10:20:37.493Z"
   },
   {
    "duration": 19,
    "start_time": "2024-03-07T10:20:37.499Z"
   },
   {
    "duration": 6,
    "start_time": "2024-03-07T10:20:37.520Z"
   },
   {
    "duration": 6,
    "start_time": "2024-03-07T10:20:37.528Z"
   },
   {
    "duration": 14,
    "start_time": "2024-03-07T10:20:37.536Z"
   },
   {
    "duration": 13,
    "start_time": "2024-03-07T10:20:37.552Z"
   },
   {
    "duration": 21,
    "start_time": "2024-03-07T10:20:37.567Z"
   },
   {
    "duration": 12,
    "start_time": "2024-03-07T10:20:37.590Z"
   },
   {
    "duration": 20,
    "start_time": "2024-03-07T10:20:37.603Z"
   },
   {
    "duration": 7,
    "start_time": "2024-03-07T10:20:37.628Z"
   },
   {
    "duration": 11,
    "start_time": "2024-03-07T10:20:37.637Z"
   },
   {
    "duration": 9,
    "start_time": "2024-03-07T10:20:37.650Z"
   },
   {
    "duration": 8,
    "start_time": "2024-03-07T10:20:37.660Z"
   },
   {
    "duration": 370,
    "start_time": "2024-03-07T10:20:37.670Z"
   },
   {
    "duration": 6,
    "start_time": "2024-03-07T10:20:38.042Z"
   },
   {
    "duration": 36,
    "start_time": "2024-03-07T10:20:38.049Z"
   },
   {
    "duration": 8,
    "start_time": "2024-03-07T10:20:38.087Z"
   },
   {
    "duration": 317,
    "start_time": "2024-03-07T10:20:38.096Z"
   },
   {
    "duration": 10,
    "start_time": "2024-03-07T10:20:38.418Z"
   },
   {
    "duration": 253,
    "start_time": "2024-03-07T10:20:38.430Z"
   },
   {
    "duration": 8,
    "start_time": "2024-03-07T10:20:38.685Z"
   },
   {
    "duration": 255,
    "start_time": "2024-03-07T10:20:38.695Z"
   },
   {
    "duration": 9,
    "start_time": "2024-03-07T10:20:38.951Z"
   },
   {
    "duration": 243,
    "start_time": "2024-03-07T10:20:38.962Z"
   },
   {
    "duration": 144,
    "start_time": "2024-03-07T10:20:39.206Z"
   },
   {
    "duration": 8,
    "start_time": "2024-03-07T10:20:39.352Z"
   },
   {
    "duration": 206,
    "start_time": "2024-03-07T10:20:39.362Z"
   },
   {
    "duration": 165,
    "start_time": "2024-03-07T10:20:39.570Z"
   },
   {
    "duration": 266,
    "start_time": "2024-03-07T10:20:39.738Z"
   },
   {
    "duration": 16,
    "start_time": "2024-03-07T10:20:40.005Z"
   },
   {
    "duration": 242,
    "start_time": "2024-03-07T10:20:40.023Z"
   },
   {
    "duration": 9,
    "start_time": "2024-03-07T10:20:40.266Z"
   },
   {
    "duration": 241,
    "start_time": "2024-03-07T10:20:40.277Z"
   },
   {
    "duration": 9,
    "start_time": "2024-03-07T10:20:40.519Z"
   },
   {
    "duration": 252,
    "start_time": "2024-03-07T10:20:40.530Z"
   },
   {
    "duration": 8,
    "start_time": "2024-03-07T10:20:40.783Z"
   },
   {
    "duration": 145,
    "start_time": "2024-03-07T10:20:40.793Z"
   },
   {
    "duration": 8,
    "start_time": "2024-03-07T10:20:40.940Z"
   },
   {
    "duration": 129,
    "start_time": "2024-03-07T10:20:40.949Z"
   },
   {
    "duration": 241,
    "start_time": "2024-03-07T10:20:41.079Z"
   },
   {
    "duration": 34,
    "start_time": "2024-03-07T10:20:41.321Z"
   },
   {
    "duration": 17,
    "start_time": "2024-03-07T10:20:41.357Z"
   },
   {
    "duration": 50,
    "start_time": "2024-03-07T10:20:41.375Z"
   },
   {
    "duration": 120,
    "start_time": "2024-03-07T10:20:41.427Z"
   },
   {
    "duration": 151,
    "start_time": "2024-03-07T10:20:41.548Z"
   },
   {
    "duration": 159,
    "start_time": "2024-03-07T10:20:41.700Z"
   },
   {
    "duration": 176,
    "start_time": "2024-03-07T10:20:41.860Z"
   },
   {
    "duration": 148,
    "start_time": "2024-03-07T10:20:42.038Z"
   },
   {
    "duration": 146,
    "start_time": "2024-03-07T10:20:42.187Z"
   },
   {
    "duration": 170,
    "start_time": "2024-03-07T10:20:42.335Z"
   },
   {
    "duration": 156,
    "start_time": "2024-03-07T10:20:42.507Z"
   },
   {
    "duration": 191,
    "start_time": "2024-03-07T10:20:42.665Z"
   },
   {
    "duration": 26,
    "start_time": "2024-03-07T10:20:42.858Z"
   },
   {
    "duration": 12,
    "start_time": "2024-03-07T10:20:42.885Z"
   },
   {
    "duration": 195,
    "start_time": "2024-03-07T10:20:42.899Z"
   },
   {
    "duration": 976,
    "start_time": "2024-03-07T10:38:32.854Z"
   },
   {
    "duration": 14,
    "start_time": "2024-03-07T10:38:33.832Z"
   },
   {
    "duration": 32,
    "start_time": "2024-03-07T10:38:33.848Z"
   },
   {
    "duration": 1793,
    "start_time": "2024-03-07T10:38:33.881Z"
   },
   {
    "duration": 9,
    "start_time": "2024-03-07T10:38:35.675Z"
   },
   {
    "duration": 92,
    "start_time": "2024-03-07T10:38:35.686Z"
   },
   {
    "duration": 11,
    "start_time": "2024-03-07T10:38:35.780Z"
   },
   {
    "duration": 22,
    "start_time": "2024-03-07T10:38:35.792Z"
   },
   {
    "duration": 36,
    "start_time": "2024-03-07T10:38:35.815Z"
   },
   {
    "duration": 12,
    "start_time": "2024-03-07T10:38:35.854Z"
   },
   {
    "duration": 23,
    "start_time": "2024-03-07T10:38:35.868Z"
   },
   {
    "duration": 314,
    "start_time": "2024-03-07T10:38:35.892Z"
   },
   {
    "duration": 5,
    "start_time": "2024-03-07T10:38:36.208Z"
   },
   {
    "duration": 10,
    "start_time": "2024-03-07T10:38:36.214Z"
   },
   {
    "duration": 36,
    "start_time": "2024-03-07T10:38:36.225Z"
   },
   {
    "duration": 3,
    "start_time": "2024-03-07T10:38:36.263Z"
   },
   {
    "duration": 10,
    "start_time": "2024-03-07T10:38:36.268Z"
   },
   {
    "duration": 237,
    "start_time": "2024-03-07T10:38:36.280Z"
   },
   {
    "duration": 6,
    "start_time": "2024-03-07T10:38:36.518Z"
   },
   {
    "duration": 20,
    "start_time": "2024-03-07T10:38:36.526Z"
   },
   {
    "duration": 13,
    "start_time": "2024-03-07T10:38:36.548Z"
   },
   {
    "duration": 24,
    "start_time": "2024-03-07T10:38:36.563Z"
   },
   {
    "duration": 11,
    "start_time": "2024-03-07T10:38:36.589Z"
   },
   {
    "duration": 6,
    "start_time": "2024-03-07T10:38:36.602Z"
   },
   {
    "duration": 6,
    "start_time": "2024-03-07T10:38:36.610Z"
   },
   {
    "duration": 9,
    "start_time": "2024-03-07T10:38:36.618Z"
   },
   {
    "duration": 25,
    "start_time": "2024-03-07T10:38:36.629Z"
   },
   {
    "duration": 7,
    "start_time": "2024-03-07T10:38:36.659Z"
   },
   {
    "duration": 10,
    "start_time": "2024-03-07T10:38:36.667Z"
   },
   {
    "duration": 8,
    "start_time": "2024-03-07T10:38:36.679Z"
   },
   {
    "duration": 8,
    "start_time": "2024-03-07T10:38:36.688Z"
   },
   {
    "duration": 335,
    "start_time": "2024-03-07T10:38:36.698Z"
   },
   {
    "duration": 10,
    "start_time": "2024-03-07T10:38:37.035Z"
   },
   {
    "duration": 35,
    "start_time": "2024-03-07T10:38:37.047Z"
   },
   {
    "duration": 9,
    "start_time": "2024-03-07T10:38:37.084Z"
   },
   {
    "duration": 316,
    "start_time": "2024-03-07T10:38:37.095Z"
   },
   {
    "duration": 8,
    "start_time": "2024-03-07T10:38:37.413Z"
   },
   {
    "duration": 243,
    "start_time": "2024-03-07T10:38:37.423Z"
   },
   {
    "duration": 8,
    "start_time": "2024-03-07T10:38:37.668Z"
   },
   {
    "duration": 255,
    "start_time": "2024-03-07T10:38:37.677Z"
   },
   {
    "duration": 16,
    "start_time": "2024-03-07T10:38:37.933Z"
   },
   {
    "duration": 226,
    "start_time": "2024-03-07T10:38:37.950Z"
   },
   {
    "duration": 155,
    "start_time": "2024-03-07T10:38:38.177Z"
   },
   {
    "duration": 16,
    "start_time": "2024-03-07T10:38:38.333Z"
   },
   {
    "duration": 186,
    "start_time": "2024-03-07T10:38:38.350Z"
   },
   {
    "duration": 149,
    "start_time": "2024-03-07T10:38:38.537Z"
   },
   {
    "duration": 238,
    "start_time": "2024-03-07T10:38:38.688Z"
   },
   {
    "duration": 18,
    "start_time": "2024-03-07T10:38:38.928Z"
   },
   {
    "duration": 360,
    "start_time": "2024-03-07T10:38:38.947Z"
   },
   {
    "duration": 9,
    "start_time": "2024-03-07T10:38:39.308Z"
   },
   {
    "duration": 247,
    "start_time": "2024-03-07T10:38:39.319Z"
   },
   {
    "duration": 9,
    "start_time": "2024-03-07T10:38:39.567Z"
   },
   {
    "duration": 252,
    "start_time": "2024-03-07T10:38:39.578Z"
   },
   {
    "duration": 16,
    "start_time": "2024-03-07T10:38:39.832Z"
   },
   {
    "duration": 138,
    "start_time": "2024-03-07T10:38:39.850Z"
   },
   {
    "duration": 9,
    "start_time": "2024-03-07T10:38:39.989Z"
   },
   {
    "duration": 235,
    "start_time": "2024-03-07T10:38:39.999Z"
   },
   {
    "duration": 244,
    "start_time": "2024-03-07T10:38:40.235Z"
   },
   {
    "duration": 19,
    "start_time": "2024-03-07T10:38:40.481Z"
   },
   {
    "duration": 34,
    "start_time": "2024-03-07T10:38:40.502Z"
   },
   {
    "duration": 30,
    "start_time": "2024-03-07T10:38:40.538Z"
   },
   {
    "duration": 115,
    "start_time": "2024-03-07T10:38:40.570Z"
   },
   {
    "duration": 149,
    "start_time": "2024-03-07T10:38:40.687Z"
   },
   {
    "duration": 147,
    "start_time": "2024-03-07T10:38:40.845Z"
   },
   {
    "duration": 154,
    "start_time": "2024-03-07T10:38:40.994Z"
   },
   {
    "duration": 138,
    "start_time": "2024-03-07T10:38:41.150Z"
   },
   {
    "duration": 158,
    "start_time": "2024-03-07T10:38:41.289Z"
   },
   {
    "duration": 176,
    "start_time": "2024-03-07T10:38:41.451Z"
   },
   {
    "duration": 145,
    "start_time": "2024-03-07T10:38:41.628Z"
   },
   {
    "duration": 166,
    "start_time": "2024-03-07T10:38:41.774Z"
   },
   {
    "duration": 23,
    "start_time": "2024-03-07T10:38:41.941Z"
   },
   {
    "duration": 21,
    "start_time": "2024-03-07T10:38:41.966Z"
   },
   {
    "duration": 190,
    "start_time": "2024-03-07T10:38:41.989Z"
   },
   {
    "duration": 56,
    "start_time": "2024-03-13T08:15:01.045Z"
   },
   {
    "duration": 1263,
    "start_time": "2024-03-13T08:15:10.428Z"
   },
   {
    "duration": 24,
    "start_time": "2024-03-13T08:15:11.694Z"
   },
   {
    "duration": 24,
    "start_time": "2024-03-13T08:15:11.720Z"
   },
   {
    "duration": 2180,
    "start_time": "2024-03-13T08:15:11.764Z"
   },
   {
    "duration": 11,
    "start_time": "2024-03-13T08:15:13.945Z"
   },
   {
    "duration": 36,
    "start_time": "2024-03-13T08:15:13.957Z"
   },
   {
    "duration": 6,
    "start_time": "2024-03-13T08:15:13.994Z"
   },
   {
    "duration": 7,
    "start_time": "2024-03-13T08:15:14.001Z"
   },
   {
    "duration": 11,
    "start_time": "2024-03-13T08:15:14.010Z"
   },
   {
    "duration": 40,
    "start_time": "2024-03-13T08:15:14.024Z"
   },
   {
    "duration": 22,
    "start_time": "2024-03-13T08:15:14.066Z"
   },
   {
    "duration": 396,
    "start_time": "2024-03-13T08:15:14.090Z"
   },
   {
    "duration": 6,
    "start_time": "2024-03-13T08:15:14.488Z"
   },
   {
    "duration": 25,
    "start_time": "2024-03-13T08:15:14.496Z"
   },
   {
    "duration": 14,
    "start_time": "2024-03-13T08:15:14.523Z"
   },
   {
    "duration": 45,
    "start_time": "2024-03-13T08:15:14.539Z"
   },
   {
    "duration": 4,
    "start_time": "2024-03-13T08:15:14.585Z"
   },
   {
    "duration": 9,
    "start_time": "2024-03-13T08:15:14.590Z"
   },
   {
    "duration": 298,
    "start_time": "2024-03-13T08:15:14.600Z"
   },
   {
    "duration": 6,
    "start_time": "2024-03-13T08:15:14.900Z"
   },
   {
    "duration": 8,
    "start_time": "2024-03-13T08:15:14.907Z"
   },
   {
    "duration": 12,
    "start_time": "2024-03-13T08:15:14.916Z"
   },
   {
    "duration": 23,
    "start_time": "2024-03-13T08:15:14.930Z"
   },
   {
    "duration": 15,
    "start_time": "2024-03-13T08:15:14.955Z"
   },
   {
    "duration": 18,
    "start_time": "2024-03-13T08:15:14.971Z"
   },
   {
    "duration": 24,
    "start_time": "2024-03-13T08:15:14.991Z"
   },
   {
    "duration": 39,
    "start_time": "2024-03-13T08:15:15.016Z"
   },
   {
    "duration": 68,
    "start_time": "2024-03-13T08:15:15.059Z"
   },
   {
    "duration": 57,
    "start_time": "2024-03-13T08:15:15.130Z"
   },
   {
    "duration": 25,
    "start_time": "2024-03-13T08:15:15.189Z"
   },
   {
    "duration": 23,
    "start_time": "2024-03-13T08:15:15.216Z"
   },
   {
    "duration": 34,
    "start_time": "2024-03-13T08:15:15.240Z"
   },
   {
    "duration": 375,
    "start_time": "2024-03-13T08:15:15.275Z"
   },
   {
    "duration": 8,
    "start_time": "2024-03-13T08:15:15.669Z"
   },
   {
    "duration": 53,
    "start_time": "2024-03-13T08:15:15.678Z"
   },
   {
    "duration": 9,
    "start_time": "2024-03-13T08:15:15.732Z"
   },
   {
    "duration": 335,
    "start_time": "2024-03-13T08:15:15.742Z"
   },
   {
    "duration": 10,
    "start_time": "2024-03-13T08:15:16.078Z"
   },
   {
    "duration": 284,
    "start_time": "2024-03-13T08:15:16.089Z"
   },
   {
    "duration": 9,
    "start_time": "2024-03-13T08:15:16.375Z"
   },
   {
    "duration": 292,
    "start_time": "2024-03-13T08:15:16.385Z"
   },
   {
    "duration": 14,
    "start_time": "2024-03-13T08:15:16.678Z"
   },
   {
    "duration": 298,
    "start_time": "2024-03-13T08:15:16.694Z"
   },
   {
    "duration": 181,
    "start_time": "2024-03-13T08:15:16.994Z"
   },
   {
    "duration": 9,
    "start_time": "2024-03-13T08:15:17.177Z"
   },
   {
    "duration": 217,
    "start_time": "2024-03-13T08:15:17.187Z"
   },
   {
    "duration": 169,
    "start_time": "2024-03-13T08:15:17.406Z"
   },
   {
    "duration": 298,
    "start_time": "2024-03-13T08:15:17.576Z"
   },
   {
    "duration": 9,
    "start_time": "2024-03-13T08:15:17.875Z"
   },
   {
    "duration": 289,
    "start_time": "2024-03-13T08:15:17.886Z"
   },
   {
    "duration": 10,
    "start_time": "2024-03-13T08:15:18.177Z"
   },
   {
    "duration": 286,
    "start_time": "2024-03-13T08:15:18.189Z"
   },
   {
    "duration": 10,
    "start_time": "2024-03-13T08:15:18.476Z"
   },
   {
    "duration": 286,
    "start_time": "2024-03-13T08:15:18.487Z"
   },
   {
    "duration": 10,
    "start_time": "2024-03-13T08:15:18.775Z"
   },
   {
    "duration": 153,
    "start_time": "2024-03-13T08:15:18.787Z"
   },
   {
    "duration": 29,
    "start_time": "2024-03-13T08:15:18.942Z"
   },
   {
    "duration": 128,
    "start_time": "2024-03-13T08:15:18.973Z"
   },
   {
    "duration": 291,
    "start_time": "2024-03-13T08:15:19.103Z"
   },
   {
    "duration": 21,
    "start_time": "2024-03-13T08:15:19.396Z"
   },
   {
    "duration": 51,
    "start_time": "2024-03-13T08:15:19.419Z"
   },
   {
    "duration": 28,
    "start_time": "2024-03-13T08:15:19.472Z"
   },
   {
    "duration": 116,
    "start_time": "2024-03-13T08:15:19.501Z"
   },
   {
    "duration": 168,
    "start_time": "2024-03-13T08:15:19.618Z"
   },
   {
    "duration": 173,
    "start_time": "2024-03-13T08:15:19.788Z"
   },
   {
    "duration": 172,
    "start_time": "2024-03-13T08:15:19.975Z"
   },
   {
    "duration": 167,
    "start_time": "2024-03-13T08:15:20.148Z"
   },
   {
    "duration": 175,
    "start_time": "2024-03-13T08:15:20.317Z"
   },
   {
    "duration": 187,
    "start_time": "2024-03-13T08:15:20.494Z"
   },
   {
    "duration": 159,
    "start_time": "2024-03-13T08:15:20.683Z"
   },
   {
    "duration": 191,
    "start_time": "2024-03-13T08:15:20.844Z"
   },
   {
    "duration": 39,
    "start_time": "2024-03-13T08:15:21.036Z"
   },
   {
    "duration": 12,
    "start_time": "2024-03-13T08:15:21.077Z"
   },
   {
    "duration": 216,
    "start_time": "2024-03-13T08:15:21.091Z"
   },
   {
    "duration": 9,
    "start_time": "2024-03-13T08:15:23.719Z"
   },
   {
    "duration": 18,
    "start_time": "2024-03-13T08:15:49.251Z"
   },
   {
    "duration": 9,
    "start_time": "2024-03-13T08:17:11.576Z"
   },
   {
    "duration": 9,
    "start_time": "2024-03-13T08:17:33.040Z"
   },
   {
    "duration": 9,
    "start_time": "2024-03-13T08:19:35.441Z"
   },
   {
    "duration": 834,
    "start_time": "2024-03-13T08:20:35.639Z"
   },
   {
    "duration": 15,
    "start_time": "2024-03-13T08:20:36.475Z"
   },
   {
    "duration": 22,
    "start_time": "2024-03-13T08:20:36.491Z"
   },
   {
    "duration": 2056,
    "start_time": "2024-03-13T08:20:36.515Z"
   },
   {
    "duration": 9,
    "start_time": "2024-03-13T08:20:38.573Z"
   },
   {
    "duration": 29,
    "start_time": "2024-03-13T08:20:38.584Z"
   },
   {
    "duration": 6,
    "start_time": "2024-03-13T08:20:38.614Z"
   },
   {
    "duration": 5,
    "start_time": "2024-03-13T08:20:38.621Z"
   },
   {
    "duration": 25,
    "start_time": "2024-03-13T08:20:38.628Z"
   },
   {
    "duration": 15,
    "start_time": "2024-03-13T08:20:38.668Z"
   },
   {
    "duration": 10,
    "start_time": "2024-03-13T08:20:38.685Z"
   },
   {
    "duration": 353,
    "start_time": "2024-03-13T08:20:38.697Z"
   },
   {
    "duration": 18,
    "start_time": "2024-03-13T08:20:39.052Z"
   },
   {
    "duration": 6,
    "start_time": "2024-03-13T08:20:39.071Z"
   },
   {
    "duration": 16,
    "start_time": "2024-03-13T08:20:39.078Z"
   },
   {
    "duration": 46,
    "start_time": "2024-03-13T08:20:39.096Z"
   },
   {
    "duration": 3,
    "start_time": "2024-03-13T08:20:39.144Z"
   },
   {
    "duration": 9,
    "start_time": "2024-03-13T08:20:39.149Z"
   },
   {
    "duration": 272,
    "start_time": "2024-03-13T08:20:39.160Z"
   },
   {
    "duration": 5,
    "start_time": "2024-03-13T08:20:39.433Z"
   },
   {
    "duration": 38,
    "start_time": "2024-03-13T08:20:39.440Z"
   },
   {
    "duration": 8,
    "start_time": "2024-03-13T08:20:39.480Z"
   },
   {
    "duration": 14,
    "start_time": "2024-03-13T08:20:39.490Z"
   },
   {
    "duration": 8,
    "start_time": "2024-03-13T08:20:39.505Z"
   },
   {
    "duration": 17,
    "start_time": "2024-03-13T08:20:39.515Z"
   },
   {
    "duration": 5,
    "start_time": "2024-03-13T08:20:39.534Z"
   },
   {
    "duration": 9,
    "start_time": "2024-03-13T08:20:39.540Z"
   },
   {
    "duration": 20,
    "start_time": "2024-03-13T08:20:39.554Z"
   },
   {
    "duration": 11,
    "start_time": "2024-03-13T08:20:39.579Z"
   },
   {
    "duration": 10,
    "start_time": "2024-03-13T08:20:39.591Z"
   },
   {
    "duration": 7,
    "start_time": "2024-03-13T08:20:39.602Z"
   },
   {
    "duration": 9,
    "start_time": "2024-03-13T08:20:39.610Z"
   },
   {
    "duration": 366,
    "start_time": "2024-03-13T08:20:39.620Z"
   },
   {
    "duration": 7,
    "start_time": "2024-03-13T08:20:39.988Z"
   },
   {
    "duration": 39,
    "start_time": "2024-03-13T08:20:39.997Z"
   },
   {
    "duration": 32,
    "start_time": "2024-03-13T08:20:40.038Z"
   },
   {
    "duration": 330,
    "start_time": "2024-03-13T08:20:40.071Z"
   },
   {
    "duration": 10,
    "start_time": "2024-03-13T08:20:40.402Z"
   },
   {
    "duration": 270,
    "start_time": "2024-03-13T08:20:40.413Z"
   },
   {
    "duration": 9,
    "start_time": "2024-03-13T08:20:40.685Z"
   },
   {
    "duration": 280,
    "start_time": "2024-03-13T08:20:40.695Z"
   },
   {
    "duration": 9,
    "start_time": "2024-03-13T08:20:40.976Z"
   },
   {
    "duration": 269,
    "start_time": "2024-03-13T08:20:40.986Z"
   },
   {
    "duration": 159,
    "start_time": "2024-03-13T08:20:41.263Z"
   },
   {
    "duration": 8,
    "start_time": "2024-03-13T08:20:41.424Z"
   },
   {
    "duration": 207,
    "start_time": "2024-03-13T08:20:41.434Z"
   },
   {
    "duration": 159,
    "start_time": "2024-03-13T08:20:41.643Z"
   },
   {
    "duration": 284,
    "start_time": "2024-03-13T08:20:41.803Z"
   },
   {
    "duration": 8,
    "start_time": "2024-03-13T08:20:42.089Z"
   },
   {
    "duration": 291,
    "start_time": "2024-03-13T08:20:42.099Z"
   },
   {
    "duration": 9,
    "start_time": "2024-03-13T08:20:42.391Z"
   },
   {
    "duration": 272,
    "start_time": "2024-03-13T08:20:42.401Z"
   },
   {
    "duration": 8,
    "start_time": "2024-03-13T08:20:42.675Z"
   },
   {
    "duration": 252,
    "start_time": "2024-03-13T08:20:42.684Z"
   },
   {
    "duration": 7,
    "start_time": "2024-03-13T08:20:42.937Z"
   },
   {
    "duration": 151,
    "start_time": "2024-03-13T08:20:42.946Z"
   },
   {
    "duration": 8,
    "start_time": "2024-03-13T08:20:43.099Z"
   },
   {
    "duration": 143,
    "start_time": "2024-03-13T08:20:43.109Z"
   },
   {
    "duration": 266,
    "start_time": "2024-03-13T08:20:43.253Z"
   },
   {
    "duration": 30,
    "start_time": "2024-03-13T08:20:43.521Z"
   },
   {
    "duration": 22,
    "start_time": "2024-03-13T08:20:43.552Z"
   },
   {
    "duration": 26,
    "start_time": "2024-03-13T08:20:43.576Z"
   },
   {
    "duration": 115,
    "start_time": "2024-03-13T08:20:43.604Z"
   },
   {
    "duration": 159,
    "start_time": "2024-03-13T08:20:43.721Z"
   },
   {
    "duration": 181,
    "start_time": "2024-03-13T08:20:43.882Z"
   },
   {
    "duration": 159,
    "start_time": "2024-03-13T08:20:44.071Z"
   },
   {
    "duration": 157,
    "start_time": "2024-03-13T08:20:44.232Z"
   },
   {
    "duration": 179,
    "start_time": "2024-03-13T08:20:44.391Z"
   },
   {
    "duration": 166,
    "start_time": "2024-03-13T08:20:44.572Z"
   },
   {
    "duration": 168,
    "start_time": "2024-03-13T08:20:44.740Z"
   },
   {
    "duration": 194,
    "start_time": "2024-03-13T08:20:44.909Z"
   },
   {
    "duration": 31,
    "start_time": "2024-03-13T08:20:45.105Z"
   },
   {
    "duration": 33,
    "start_time": "2024-03-13T08:20:45.138Z"
   },
   {
    "duration": 200,
    "start_time": "2024-03-13T08:20:45.173Z"
   },
   {
    "duration": 75,
    "start_time": "2024-03-13T08:21:16.567Z"
   },
   {
    "duration": 10,
    "start_time": "2024-03-13T08:25:15.396Z"
   },
   {
    "duration": 2,
    "start_time": "2024-03-13T08:30:00.881Z"
   },
   {
    "duration": 805,
    "start_time": "2024-03-13T08:35:04.016Z"
   },
   {
    "duration": 22,
    "start_time": "2024-03-13T08:35:04.824Z"
   },
   {
    "duration": 40,
    "start_time": "2024-03-13T08:35:04.861Z"
   },
   {
    "duration": 2137,
    "start_time": "2024-03-13T08:35:04.903Z"
   },
   {
    "duration": 10,
    "start_time": "2024-03-13T08:35:07.041Z"
   },
   {
    "duration": 49,
    "start_time": "2024-03-13T08:35:07.052Z"
   },
   {
    "duration": 5,
    "start_time": "2024-03-13T08:35:07.103Z"
   },
   {
    "duration": 14,
    "start_time": "2024-03-13T08:35:07.109Z"
   },
   {
    "duration": 19,
    "start_time": "2024-03-13T08:35:07.124Z"
   },
   {
    "duration": 20,
    "start_time": "2024-03-13T08:35:07.146Z"
   },
   {
    "duration": 12,
    "start_time": "2024-03-13T08:35:07.167Z"
   },
   {
    "duration": 359,
    "start_time": "2024-03-13T08:35:07.181Z"
   },
   {
    "duration": 28,
    "start_time": "2024-03-13T08:35:07.542Z"
   },
   {
    "duration": 6,
    "start_time": "2024-03-13T08:35:07.571Z"
   },
   {
    "duration": 13,
    "start_time": "2024-03-13T08:35:07.579Z"
   },
   {
    "duration": 35,
    "start_time": "2024-03-13T08:35:07.594Z"
   },
   {
    "duration": 3,
    "start_time": "2024-03-13T08:35:07.630Z"
   },
   {
    "duration": 6,
    "start_time": "2024-03-13T08:35:07.634Z"
   },
   {
    "duration": 283,
    "start_time": "2024-03-13T08:35:07.642Z"
   },
   {
    "duration": 7,
    "start_time": "2024-03-13T08:35:07.927Z"
   },
   {
    "duration": 5,
    "start_time": "2024-03-13T08:35:07.936Z"
   },
   {
    "duration": 34,
    "start_time": "2024-03-13T08:35:07.942Z"
   },
   {
    "duration": 9,
    "start_time": "2024-03-13T08:35:07.977Z"
   },
   {
    "duration": 7,
    "start_time": "2024-03-13T08:35:07.988Z"
   },
   {
    "duration": 10,
    "start_time": "2024-03-13T08:35:07.997Z"
   },
   {
    "duration": 14,
    "start_time": "2024-03-13T08:35:08.009Z"
   },
   {
    "duration": 7,
    "start_time": "2024-03-13T08:35:08.025Z"
   },
   {
    "duration": 8,
    "start_time": "2024-03-13T08:35:08.065Z"
   },
   {
    "duration": 11,
    "start_time": "2024-03-13T08:35:08.075Z"
   },
   {
    "duration": 9,
    "start_time": "2024-03-13T08:35:08.088Z"
   },
   {
    "duration": 360,
    "start_time": "2024-03-13T08:35:08.099Z"
   },
   {
    "duration": 10,
    "start_time": "2024-03-13T08:35:08.461Z"
   },
   {
    "duration": 46,
    "start_time": "2024-03-13T08:35:08.472Z"
   },
   {
    "duration": 8,
    "start_time": "2024-03-13T08:35:08.520Z"
   },
   {
    "duration": 351,
    "start_time": "2024-03-13T08:35:08.530Z"
   },
   {
    "duration": 9,
    "start_time": "2024-03-13T08:35:08.883Z"
   },
   {
    "duration": 261,
    "start_time": "2024-03-13T08:35:08.893Z"
   },
   {
    "duration": 16,
    "start_time": "2024-03-13T08:35:09.156Z"
   },
   {
    "duration": 278,
    "start_time": "2024-03-13T08:35:09.175Z"
   },
   {
    "duration": 16,
    "start_time": "2024-03-13T08:35:09.458Z"
   },
   {
    "duration": 264,
    "start_time": "2024-03-13T08:35:09.476Z"
   },
   {
    "duration": 163,
    "start_time": "2024-03-13T08:35:09.741Z"
   },
   {
    "duration": 9,
    "start_time": "2024-03-13T08:35:09.905Z"
   },
   {
    "duration": 219,
    "start_time": "2024-03-13T08:35:09.916Z"
   },
   {
    "duration": 170,
    "start_time": "2024-03-13T08:35:10.136Z"
   },
   {
    "duration": 282,
    "start_time": "2024-03-13T08:35:10.307Z"
   },
   {
    "duration": 9,
    "start_time": "2024-03-13T08:35:10.590Z"
   },
   {
    "duration": 277,
    "start_time": "2024-03-13T08:35:10.600Z"
   },
   {
    "duration": 8,
    "start_time": "2024-03-13T08:35:10.879Z"
   },
   {
    "duration": 297,
    "start_time": "2024-03-13T08:35:10.889Z"
   },
   {
    "duration": 12,
    "start_time": "2024-03-13T08:35:11.188Z"
   },
   {
    "duration": 289,
    "start_time": "2024-03-13T08:35:11.202Z"
   },
   {
    "duration": 9,
    "start_time": "2024-03-13T08:35:11.493Z"
   },
   {
    "duration": 148,
    "start_time": "2024-03-13T08:35:11.504Z"
   },
   {
    "duration": 20,
    "start_time": "2024-03-13T08:35:11.654Z"
   },
   {
    "duration": 119,
    "start_time": "2024-03-13T08:35:11.676Z"
   },
   {
    "duration": 274,
    "start_time": "2024-03-13T08:35:11.797Z"
   },
   {
    "duration": 20,
    "start_time": "2024-03-13T08:35:12.074Z"
   },
   {
    "duration": 16,
    "start_time": "2024-03-13T08:35:12.096Z"
   },
   {
    "duration": 49,
    "start_time": "2024-03-13T08:35:12.113Z"
   },
   {
    "duration": 122,
    "start_time": "2024-03-13T08:35:12.163Z"
   },
   {
    "duration": 171,
    "start_time": "2024-03-13T08:35:12.287Z"
   },
   {
    "duration": 171,
    "start_time": "2024-03-13T08:35:12.464Z"
   },
   {
    "duration": 163,
    "start_time": "2024-03-13T08:35:12.636Z"
   },
   {
    "duration": 171,
    "start_time": "2024-03-13T08:35:12.800Z"
   },
   {
    "duration": 161,
    "start_time": "2024-03-13T08:35:12.973Z"
   },
   {
    "duration": 191,
    "start_time": "2024-03-13T08:35:13.136Z"
   },
   {
    "duration": 182,
    "start_time": "2024-03-13T08:35:13.329Z"
   },
   {
    "duration": 203,
    "start_time": "2024-03-13T08:35:13.513Z"
   },
   {
    "duration": 26,
    "start_time": "2024-03-13T08:35:13.718Z"
   },
   {
    "duration": 35,
    "start_time": "2024-03-13T08:35:13.745Z"
   },
   {
    "duration": 203,
    "start_time": "2024-03-13T08:35:13.782Z"
   },
   {
    "duration": 188,
    "start_time": "2024-03-13T08:47:16.246Z"
   },
   {
    "duration": 5,
    "start_time": "2024-03-13T08:55:25.295Z"
   },
   {
    "duration": 5,
    "start_time": "2024-03-13T08:56:43.396Z"
   },
   {
    "duration": 843,
    "start_time": "2024-03-13T08:56:50.084Z"
   },
   {
    "duration": 17,
    "start_time": "2024-03-13T08:56:50.929Z"
   },
   {
    "duration": 36,
    "start_time": "2024-03-13T08:56:50.948Z"
   },
   {
    "duration": 2094,
    "start_time": "2024-03-13T08:56:50.986Z"
   },
   {
    "duration": 4,
    "start_time": "2024-03-13T08:56:53.081Z"
   },
   {
    "duration": 10,
    "start_time": "2024-03-13T08:56:53.087Z"
   },
   {
    "duration": 26,
    "start_time": "2024-03-13T08:56:53.098Z"
   },
   {
    "duration": 6,
    "start_time": "2024-03-13T08:56:53.126Z"
   },
   {
    "duration": 7,
    "start_time": "2024-03-13T08:56:53.134Z"
   },
   {
    "duration": 12,
    "start_time": "2024-03-13T08:56:53.170Z"
   },
   {
    "duration": 28,
    "start_time": "2024-03-13T08:56:53.184Z"
   },
   {
    "duration": 54,
    "start_time": "2024-03-13T08:56:53.214Z"
   },
   {
    "duration": 366,
    "start_time": "2024-03-13T08:56:53.272Z"
   },
   {
    "duration": 6,
    "start_time": "2024-03-13T08:56:53.640Z"
   },
   {
    "duration": 64,
    "start_time": "2024-03-13T08:56:53.647Z"
   },
   {
    "duration": 5,
    "start_time": "2024-03-13T08:56:53.713Z"
   },
   {
    "duration": 34,
    "start_time": "2024-03-13T08:56:53.720Z"
   },
   {
    "duration": 13,
    "start_time": "2024-03-13T08:56:53.755Z"
   },
   {
    "duration": 5,
    "start_time": "2024-03-13T08:56:53.771Z"
   },
   {
    "duration": 267,
    "start_time": "2024-03-13T08:56:53.777Z"
   },
   {
    "duration": 25,
    "start_time": "2024-03-13T08:56:54.046Z"
   },
   {
    "duration": 34,
    "start_time": "2024-03-13T08:56:54.072Z"
   },
   {
    "duration": 24,
    "start_time": "2024-03-13T08:56:54.107Z"
   },
   {
    "duration": 13,
    "start_time": "2024-03-13T08:56:54.133Z"
   },
   {
    "duration": 7,
    "start_time": "2024-03-13T08:56:54.147Z"
   },
   {
    "duration": 49,
    "start_time": "2024-03-13T08:56:54.155Z"
   },
   {
    "duration": 13,
    "start_time": "2024-03-13T08:56:54.205Z"
   },
   {
    "duration": 7,
    "start_time": "2024-03-13T08:56:54.222Z"
   },
   {
    "duration": 14,
    "start_time": "2024-03-13T08:56:54.230Z"
   },
   {
    "duration": 32,
    "start_time": "2024-03-13T08:56:54.247Z"
   },
   {
    "duration": 23,
    "start_time": "2024-03-13T08:56:54.281Z"
   },
   {
    "duration": 385,
    "start_time": "2024-03-13T08:56:54.305Z"
   },
   {
    "duration": 8,
    "start_time": "2024-03-13T08:56:54.692Z"
   },
   {
    "duration": 37,
    "start_time": "2024-03-13T08:56:54.701Z"
   },
   {
    "duration": 31,
    "start_time": "2024-03-13T08:56:54.739Z"
   },
   {
    "duration": 13,
    "start_time": "2024-03-13T08:56:54.771Z"
   },
   {
    "duration": 324,
    "start_time": "2024-03-13T08:56:54.785Z"
   },
   {
    "duration": 9,
    "start_time": "2024-03-13T08:56:55.111Z"
   },
   {
    "duration": 288,
    "start_time": "2024-03-13T08:56:55.122Z"
   },
   {
    "duration": 10,
    "start_time": "2024-03-13T08:56:55.412Z"
   },
   {
    "duration": 285,
    "start_time": "2024-03-13T08:56:55.423Z"
   },
   {
    "duration": 9,
    "start_time": "2024-03-13T08:56:55.709Z"
   },
   {
    "duration": 289,
    "start_time": "2024-03-13T08:56:55.719Z"
   },
   {
    "duration": 165,
    "start_time": "2024-03-13T08:56:56.010Z"
   },
   {
    "duration": 9,
    "start_time": "2024-03-13T08:56:56.177Z"
   },
   {
    "duration": 218,
    "start_time": "2024-03-13T08:56:56.187Z"
   },
   {
    "duration": 167,
    "start_time": "2024-03-13T08:56:56.406Z"
   },
   {
    "duration": 274,
    "start_time": "2024-03-13T08:56:56.575Z"
   },
   {
    "duration": 9,
    "start_time": "2024-03-13T08:56:56.870Z"
   },
   {
    "duration": 294,
    "start_time": "2024-03-13T08:56:56.880Z"
   },
   {
    "duration": 9,
    "start_time": "2024-03-13T08:56:57.176Z"
   },
   {
    "duration": 263,
    "start_time": "2024-03-13T08:56:57.187Z"
   },
   {
    "duration": 22,
    "start_time": "2024-03-13T08:56:57.451Z"
   },
   {
    "duration": 265,
    "start_time": "2024-03-13T08:56:57.475Z"
   },
   {
    "duration": 17,
    "start_time": "2024-03-13T08:56:57.742Z"
   },
   {
    "duration": 137,
    "start_time": "2024-03-13T08:56:57.772Z"
   },
   {
    "duration": 7,
    "start_time": "2024-03-13T08:56:57.911Z"
   },
   {
    "duration": 150,
    "start_time": "2024-03-13T08:56:57.919Z"
   },
   {
    "duration": 269,
    "start_time": "2024-03-13T08:56:58.070Z"
   },
   {
    "duration": 34,
    "start_time": "2024-03-13T08:56:58.341Z"
   },
   {
    "duration": 17,
    "start_time": "2024-03-13T08:56:58.377Z"
   },
   {
    "duration": 28,
    "start_time": "2024-03-13T08:56:58.395Z"
   },
   {
    "duration": 131,
    "start_time": "2024-03-13T08:56:58.424Z"
   },
   {
    "duration": 144,
    "start_time": "2024-03-13T08:56:58.572Z"
   },
   {
    "duration": 172,
    "start_time": "2024-03-13T08:56:58.717Z"
   },
   {
    "duration": 183,
    "start_time": "2024-03-13T08:56:58.890Z"
   },
   {
    "duration": 148,
    "start_time": "2024-03-13T08:56:59.074Z"
   },
   {
    "duration": 163,
    "start_time": "2024-03-13T08:56:59.224Z"
   },
   {
    "duration": 190,
    "start_time": "2024-03-13T08:56:59.388Z"
   },
   {
    "duration": 170,
    "start_time": "2024-03-13T08:56:59.579Z"
   },
   {
    "duration": 193,
    "start_time": "2024-03-13T08:56:59.751Z"
   },
   {
    "duration": 36,
    "start_time": "2024-03-13T08:56:59.946Z"
   },
   {
    "duration": 13,
    "start_time": "2024-03-13T08:56:59.983Z"
   },
   {
    "duration": 211,
    "start_time": "2024-03-13T08:56:59.998Z"
   },
   {
    "duration": 238,
    "start_time": "2024-03-13T09:00:43.351Z"
   },
   {
    "duration": 214,
    "start_time": "2024-03-13T09:01:07.971Z"
   },
   {
    "duration": 210,
    "start_time": "2024-03-13T09:01:19.486Z"
   },
   {
    "duration": 208,
    "start_time": "2024-03-13T09:01:38.987Z"
   },
   {
    "duration": 314,
    "start_time": "2024-03-13T09:03:08.694Z"
   },
   {
    "duration": 145,
    "start_time": "2024-03-13T09:03:40.997Z"
   },
   {
    "duration": 4,
    "start_time": "2024-03-13T09:07:28.134Z"
   },
   {
    "duration": 10,
    "start_time": "2024-03-13T09:14:17.079Z"
   },
   {
    "duration": 923,
    "start_time": "2024-03-13T09:16:11.398Z"
   },
   {
    "duration": 15,
    "start_time": "2024-03-13T09:16:12.323Z"
   },
   {
    "duration": 40,
    "start_time": "2024-03-13T09:16:12.339Z"
   },
   {
    "duration": 2339,
    "start_time": "2024-03-13T09:16:12.381Z"
   },
   {
    "duration": 4,
    "start_time": "2024-03-13T09:16:14.722Z"
   },
   {
    "duration": 28,
    "start_time": "2024-03-13T09:16:14.728Z"
   },
   {
    "duration": 42,
    "start_time": "2024-03-13T09:16:14.758Z"
   },
   {
    "duration": 7,
    "start_time": "2024-03-13T09:16:14.802Z"
   },
   {
    "duration": 5,
    "start_time": "2024-03-13T09:16:14.811Z"
   },
   {
    "duration": 16,
    "start_time": "2024-03-13T09:16:14.818Z"
   },
   {
    "duration": 43,
    "start_time": "2024-03-13T09:16:14.835Z"
   },
   {
    "duration": 12,
    "start_time": "2024-03-13T09:16:14.882Z"
   },
   {
    "duration": 10,
    "start_time": "2024-03-13T09:16:14.896Z"
   },
   {
    "duration": 4,
    "start_time": "2024-03-13T09:16:14.908Z"
   },
   {
    "duration": 12,
    "start_time": "2024-03-13T09:16:14.913Z"
   },
   {
    "duration": 14,
    "start_time": "2024-03-13T09:16:14.926Z"
   },
   {
    "duration": 21,
    "start_time": "2024-03-13T09:16:14.941Z"
   },
   {
    "duration": 7,
    "start_time": "2024-03-13T09:16:14.965Z"
   },
   {
    "duration": 338,
    "start_time": "2024-03-13T09:16:14.975Z"
   },
   {
    "duration": 9,
    "start_time": "2024-03-13T09:16:15.315Z"
   },
   {
    "duration": 31,
    "start_time": "2024-03-13T09:16:15.326Z"
   },
   {
    "duration": 26,
    "start_time": "2024-03-13T09:16:15.368Z"
   },
   {
    "duration": 31,
    "start_time": "2024-03-13T09:16:15.395Z"
   },
   {
    "duration": 48,
    "start_time": "2024-03-13T09:16:15.428Z"
   },
   {
    "duration": 65,
    "start_time": "2024-03-13T09:16:15.478Z"
   },
   {
    "duration": 69,
    "start_time": "2024-03-13T09:16:15.545Z"
   },
   {
    "duration": 38,
    "start_time": "2024-03-13T09:16:15.616Z"
   },
   {
    "duration": 41,
    "start_time": "2024-03-13T09:16:15.658Z"
   },
   {
    "duration": 22,
    "start_time": "2024-03-13T09:16:15.700Z"
   },
   {
    "duration": 28,
    "start_time": "2024-03-13T09:16:15.723Z"
   },
   {
    "duration": 431,
    "start_time": "2024-03-13T09:16:15.753Z"
   },
   {
    "duration": 8,
    "start_time": "2024-03-13T09:16:16.186Z"
   },
   {
    "duration": 44,
    "start_time": "2024-03-13T09:16:16.195Z"
   },
   {
    "duration": 3,
    "start_time": "2024-03-13T09:16:16.241Z"
   },
   {
    "duration": 30,
    "start_time": "2024-03-13T09:16:16.246Z"
   },
   {
    "duration": 311,
    "start_time": "2024-03-13T09:16:16.283Z"
   },
   {
    "duration": 10,
    "start_time": "2024-03-13T09:16:16.596Z"
   },
   {
    "duration": 390,
    "start_time": "2024-03-13T09:16:16.607Z"
   },
   {
    "duration": 10,
    "start_time": "2024-03-13T09:16:16.999Z"
   },
   {
    "duration": 341,
    "start_time": "2024-03-13T09:16:17.011Z"
   },
   {
    "duration": 23,
    "start_time": "2024-03-13T09:16:17.354Z"
   },
   {
    "duration": 306,
    "start_time": "2024-03-13T09:16:17.380Z"
   },
   {
    "duration": 198,
    "start_time": "2024-03-13T09:16:17.688Z"
   },
   {
    "duration": 11,
    "start_time": "2024-03-13T09:16:17.888Z"
   },
   {
    "duration": 229,
    "start_time": "2024-03-13T09:16:17.901Z"
   },
   {
    "duration": 199,
    "start_time": "2024-03-13T09:16:18.132Z"
   },
   {
    "duration": 206,
    "start_time": "2024-03-13T09:16:18.333Z"
   },
   {
    "duration": 9,
    "start_time": "2024-03-13T09:16:18.540Z"
   },
   {
    "duration": 392,
    "start_time": "2024-03-13T09:16:18.550Z"
   },
   {
    "duration": 22,
    "start_time": "2024-03-13T09:16:18.944Z"
   },
   {
    "duration": 315,
    "start_time": "2024-03-13T09:16:18.970Z"
   },
   {
    "duration": 11,
    "start_time": "2024-03-13T09:16:19.287Z"
   },
   {
    "duration": 305,
    "start_time": "2024-03-13T09:16:19.300Z"
   },
   {
    "duration": 8,
    "start_time": "2024-03-13T09:16:19.606Z"
   },
   {
    "duration": 171,
    "start_time": "2024-03-13T09:16:19.616Z"
   },
   {
    "duration": 9,
    "start_time": "2024-03-13T09:16:19.789Z"
   },
   {
    "duration": 139,
    "start_time": "2024-03-13T09:16:19.800Z"
   },
   {
    "duration": 291,
    "start_time": "2024-03-13T09:16:19.940Z"
   },
   {
    "duration": 35,
    "start_time": "2024-03-13T09:16:20.233Z"
   },
   {
    "duration": 27,
    "start_time": "2024-03-13T09:16:20.270Z"
   },
   {
    "duration": 27,
    "start_time": "2024-03-13T09:16:20.299Z"
   },
   {
    "duration": 15,
    "start_time": "2024-03-13T09:16:20.327Z"
   },
   {
    "duration": 173,
    "start_time": "2024-03-13T09:16:20.366Z"
   },
   {
    "duration": 209,
    "start_time": "2024-03-13T09:16:20.541Z"
   },
   {
    "duration": 287,
    "start_time": "2024-03-13T09:16:20.758Z"
   },
   {
    "duration": 174,
    "start_time": "2024-03-13T09:16:21.047Z"
   },
   {
    "duration": 174,
    "start_time": "2024-03-13T09:16:21.222Z"
   },
   {
    "duration": 201,
    "start_time": "2024-03-13T09:16:21.397Z"
   },
   {
    "duration": 187,
    "start_time": "2024-03-13T09:16:21.600Z"
   },
   {
    "duration": 208,
    "start_time": "2024-03-13T09:16:21.789Z"
   },
   {
    "duration": 27,
    "start_time": "2024-03-13T09:16:21.999Z"
   },
   {
    "duration": 24,
    "start_time": "2024-03-13T09:16:22.027Z"
   },
   {
    "duration": 254,
    "start_time": "2024-03-13T09:16:22.052Z"
   },
   {
    "duration": 11,
    "start_time": "2024-03-13T09:16:54.285Z"
   },
   {
    "duration": 7,
    "start_time": "2024-03-13T09:17:23.442Z"
   },
   {
    "duration": 895,
    "start_time": "2024-03-13T09:17:54.493Z"
   },
   {
    "duration": 16,
    "start_time": "2024-03-13T09:17:55.390Z"
   },
   {
    "duration": 25,
    "start_time": "2024-03-13T09:17:55.408Z"
   },
   {
    "duration": 2280,
    "start_time": "2024-03-13T09:17:55.436Z"
   },
   {
    "duration": 5,
    "start_time": "2024-03-13T09:17:57.717Z"
   },
   {
    "duration": 19,
    "start_time": "2024-03-13T09:17:57.724Z"
   },
   {
    "duration": 44,
    "start_time": "2024-03-13T09:17:57.744Z"
   },
   {
    "duration": 7,
    "start_time": "2024-03-13T09:17:57.789Z"
   },
   {
    "duration": 14,
    "start_time": "2024-03-13T09:17:57.797Z"
   },
   {
    "duration": 10,
    "start_time": "2024-03-13T09:17:57.814Z"
   },
   {
    "duration": 14,
    "start_time": "2024-03-13T09:17:57.826Z"
   },
   {
    "duration": 37,
    "start_time": "2024-03-13T09:17:57.842Z"
   },
   {
    "duration": 12,
    "start_time": "2024-03-13T09:17:57.881Z"
   },
   {
    "duration": 19,
    "start_time": "2024-03-13T09:17:57.894Z"
   },
   {
    "duration": 6,
    "start_time": "2024-03-13T09:17:57.914Z"
   },
   {
    "duration": 14,
    "start_time": "2024-03-13T09:17:57.922Z"
   },
   {
    "duration": 15,
    "start_time": "2024-03-13T09:17:57.938Z"
   },
   {
    "duration": 10,
    "start_time": "2024-03-13T09:17:57.955Z"
   },
   {
    "duration": 310,
    "start_time": "2024-03-13T09:17:57.976Z"
   },
   {
    "duration": 14,
    "start_time": "2024-03-13T09:17:58.288Z"
   },
   {
    "duration": 11,
    "start_time": "2024-03-13T09:17:58.304Z"
   },
   {
    "duration": 14,
    "start_time": "2024-03-13T09:17:58.317Z"
   },
   {
    "duration": 6,
    "start_time": "2024-03-13T09:17:58.333Z"
   },
   {
    "duration": 11,
    "start_time": "2024-03-13T09:17:58.340Z"
   },
   {
    "duration": 12,
    "start_time": "2024-03-13T09:17:58.353Z"
   },
   {
    "duration": 26,
    "start_time": "2024-03-13T09:17:58.367Z"
   },
   {
    "duration": 6,
    "start_time": "2024-03-13T09:17:58.395Z"
   },
   {
    "duration": 16,
    "start_time": "2024-03-13T09:17:58.405Z"
   },
   {
    "duration": 16,
    "start_time": "2024-03-13T09:17:58.423Z"
   },
   {
    "duration": 22,
    "start_time": "2024-03-13T09:17:58.440Z"
   },
   {
    "duration": 383,
    "start_time": "2024-03-13T09:17:58.464Z"
   },
   {
    "duration": 16,
    "start_time": "2024-03-13T09:17:58.848Z"
   },
   {
    "duration": 44,
    "start_time": "2024-03-13T09:17:58.866Z"
   },
   {
    "duration": 4,
    "start_time": "2024-03-13T09:17:58.911Z"
   },
   {
    "duration": 11,
    "start_time": "2024-03-13T09:17:58.917Z"
   },
   {
    "duration": 309,
    "start_time": "2024-03-13T09:17:58.929Z"
   },
   {
    "duration": 31,
    "start_time": "2024-03-13T09:17:59.240Z"
   },
   {
    "duration": 363,
    "start_time": "2024-03-13T09:17:59.273Z"
   },
   {
    "duration": 8,
    "start_time": "2024-03-13T09:17:59.638Z"
   },
   {
    "duration": 284,
    "start_time": "2024-03-13T09:17:59.647Z"
   },
   {
    "duration": 9,
    "start_time": "2024-03-13T09:17:59.932Z"
   },
   {
    "duration": 282,
    "start_time": "2024-03-13T09:17:59.942Z"
   },
   {
    "duration": 169,
    "start_time": "2024-03-13T09:18:00.226Z"
   },
   {
    "duration": 9,
    "start_time": "2024-03-13T09:18:00.397Z"
   },
   {
    "duration": 292,
    "start_time": "2024-03-13T09:18:00.408Z"
   },
   {
    "duration": 183,
    "start_time": "2024-03-13T09:18:00.703Z"
   },
   {
    "duration": 201,
    "start_time": "2024-03-13T09:18:00.888Z"
   },
   {
    "duration": 8,
    "start_time": "2024-03-13T09:18:01.091Z"
   },
   {
    "duration": 425,
    "start_time": "2024-03-13T09:18:01.101Z"
   },
   {
    "duration": 10,
    "start_time": "2024-03-13T09:18:01.528Z"
   },
   {
    "duration": 355,
    "start_time": "2024-03-13T09:18:01.540Z"
   },
   {
    "duration": 12,
    "start_time": "2024-03-13T09:18:01.897Z"
   },
   {
    "duration": 381,
    "start_time": "2024-03-13T09:18:01.911Z"
   },
   {
    "duration": 11,
    "start_time": "2024-03-13T09:18:02.294Z"
   },
   {
    "duration": 208,
    "start_time": "2024-03-13T09:18:02.307Z"
   },
   {
    "duration": 8,
    "start_time": "2024-03-13T09:18:02.517Z"
   },
   {
    "duration": 195,
    "start_time": "2024-03-13T09:18:02.527Z"
   },
   {
    "duration": 284,
    "start_time": "2024-03-13T09:18:02.724Z"
   },
   {
    "duration": 21,
    "start_time": "2024-03-13T09:18:03.009Z"
   },
   {
    "duration": 53,
    "start_time": "2024-03-13T09:18:03.031Z"
   },
   {
    "duration": 27,
    "start_time": "2024-03-13T09:18:03.086Z"
   },
   {
    "duration": 15,
    "start_time": "2024-03-13T09:18:03.115Z"
   },
   {
    "duration": 198,
    "start_time": "2024-03-13T09:18:03.131Z"
   },
   {
    "duration": 192,
    "start_time": "2024-03-13T09:18:03.331Z"
   },
   {
    "duration": 294,
    "start_time": "2024-03-13T09:18:03.525Z"
   },
   {
    "duration": 182,
    "start_time": "2024-03-13T09:18:03.820Z"
   },
   {
    "duration": 183,
    "start_time": "2024-03-13T09:18:04.003Z"
   },
   {
    "duration": 196,
    "start_time": "2024-03-13T09:18:04.187Z"
   },
   {
    "duration": 192,
    "start_time": "2024-03-13T09:18:04.386Z"
   },
   {
    "duration": 218,
    "start_time": "2024-03-13T09:18:04.585Z"
   },
   {
    "duration": 25,
    "start_time": "2024-03-13T09:18:04.805Z"
   },
   {
    "duration": 27,
    "start_time": "2024-03-13T09:18:04.832Z"
   },
   {
    "duration": 242,
    "start_time": "2024-03-13T09:18:04.861Z"
   }
  ],
  "colab": {
   "provenance": []
  },
  "kernelspec": {
   "display_name": "Python 3 (ipykernel)",
   "language": "python",
   "name": "python3"
  },
  "language_info": {
   "codemirror_mode": {
    "name": "ipython",
    "version": 3
   },
   "file_extension": ".py",
   "mimetype": "text/x-python",
   "name": "python",
   "nbconvert_exporter": "python",
   "pygments_lexer": "ipython3",
   "version": "3.9.5"
  },
  "toc": {
   "base_numbering": 1,
   "nav_menu": {},
   "number_sections": true,
   "sideBar": true,
   "skip_h1_title": true,
   "title_cell": "Table of Contents",
   "title_sidebar": "Contents",
   "toc_cell": false,
   "toc_position": {},
   "toc_section_display": true,
   "toc_window_display": false
  }
 },
 "nbformat": 4,
 "nbformat_minor": 1
}
