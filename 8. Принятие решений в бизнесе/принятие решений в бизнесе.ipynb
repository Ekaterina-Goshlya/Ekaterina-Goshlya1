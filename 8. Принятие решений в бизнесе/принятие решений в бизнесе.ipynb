{
 "cells": [
  {
   "cell_type": "markdown",
   "metadata": {},
   "source": [
    "# Приоритизация гипотез и анализ A/B-теста для интернет-магазина"
   ]
  },
  {
   "cell_type": "markdown",
   "metadata": {},
   "source": [
    "**Описание проекта**:\n",
    "\n",
    "Вместе с отделом маркетинга мы подготовили список гипотез для увеличения выручки.\n",
    "Приоритизируем гипотезы, запустим A/B-тест и проанализируем результаты.  "
   ]
  },
  {
   "cell_type": "markdown",
   "metadata": {},
   "source": [
    "**Описание данных**\n",
    "\n",
    "**Данные для первой части:**\n",
    "\n",
    "1) Файл — `/datasets/hypothesis.csv`:\n",
    "- `Hypothesis` — краткое описание гипотезы;\n",
    "- `Reach` — охват пользователей по 10-балльной шкале;\n",
    "- `Impact` — влияние на пользователей по 10-балльной шкале;\n",
    "- `Confidence` — уверенность в гипотезе по 10-балльной шкале;\n",
    "- `Efforts` — затраты ресурсов на проверку гипотезы по 10-балльной шкале. Чем больше значение Efforts, тем дороже проверка гипотезы.\n",
    "\n",
    "\n",
    "**Данные для второй части:**\n",
    "\n",
    "2) Файл — `/datasets/orders.csv`: \n",
    "- `transactionId` — идентификатор заказа;\n",
    "- `visitorId` — идентификатор пользователя, совершившего заказ;\n",
    "- `date` — дата, когда был совершён заказ;\n",
    "- `revenue` — выручка заказа;\n",
    "- `group` — группа A/B-теста, в которую попал заказ.\n",
    "\n",
    "3) Файл — `/datasets/visitors.csv`:\n",
    "- `date` — дата;\n",
    "- `group` — группа A/B-теста;\n",
    "- `visitors` — количество пользователей в указанную дату в указанной группе A/B-теста"
   ]
  },
  {
   "cell_type": "markdown",
   "metadata": {},
   "source": [
    "**План работы**:\n",
    "\n",
    "**Часть 1. Приоритизация гипотез.**\n",
    "\n",
    "В файле `/datasets/hypothesis.csv` 9 гипотез по увеличению выручки интернет-магазина с указанными параметрами Reach, Impact, Confidence, Effort.\n",
    "\n",
    "**Задача:**\n",
    "1) Применим фреймворк ICE для приоритизации гипотез. Отсортируем их по убыванию приоритета.\n",
    "\n",
    "2) Применим фреймворк RICE для приоритизации гипотез. Отсортируем их по убыванию приоритета.\n",
    "\n",
    "3) Укажем, как изменилась приоритизация гипотез при применении RICE вместо ICE. Объясним, почему так произошло.\n",
    "\n",
    "\n",
    "\n",
    "**Часть 2. Анализ A/B-теста.**\n",
    "\n",
    "Мы провели A/B-тест и получили результаты, которые описаны в файлах `/datasets/orders.csv` и `/datasets/visitors.csv`.\n",
    "\n",
    "**Задача:**\n",
    "Проанализируем A/B-тест:\n",
    "1) Построим график кумулятивной выручки по группам. Сделаем выводы и предположения.\n",
    "\n",
    "2) Построим график кумулятивного среднего чека по группам. Сделаем выводы и предположения.\n",
    "\n",
    "3) Построим график относительного изменения кумулятивного среднего чека группы B к группе A. Сделаем выводы и предположения.\n",
    "\n",
    "4) Построим график кумулятивного среднего количества заказов на посетителя по группам. Сделаем выводы и предположения.\n",
    "\n",
    "5) Построим график относительного изменения кумулятивного среднего количества заказов на посетителя группы B к группе A. Сделаем выводы и предположения.\n",
    "\n",
    "6) Построим точечный график количества заказов по пользователям. Сделаем выводы и предположения.\n",
    "\n",
    "7) Посчитаем 95-й и 99-й перцентили количества заказов на пользователя. Выберем границу для определения аномальных пользователей.\n",
    "\n",
    "8) Построим точечный график стоимостей заказов. Сделаем выводы и предположения.\n",
    "\n",
    "9) Посчитаем 95-й и 99-й перцентили стоимости заказов. Выберем границу для определения аномальных заказов.\n",
    "\n",
    "10) Посчитаем статистическую значимость различий в среднем количестве заказов на посетителя между группами по «сырым» данным. Сделаем выводы и предположения.\n",
    "\n",
    "11) Посчитаем статистическую значимость различий в среднем чеке заказа между группами по «сырым» данным. Сделаем выводы и предположения.\n",
    "\n",
    "12) Посчитаем статистическую значимость различий в среднем количестве заказов на посетителя между группами по «очищенным» данным. Сделаем выводы и предположения.\n",
    "\n",
    "13) Посчитаем статистическую значимость различий в среднем чеке заказа между группами по «очищенным» данным. Сделаем выводы и предположения.\n",
    "\n",
    "14) Примем решение по результатам теста и объясним его. Варианты решений:\n",
    "1. Остановить тест, зафиксировать победу одной из групп.\n",
    "2. Остановить тест, зафиксировать отсутствие различий между группами.\n",
    "3. Продолжить тест."
   ]
  },
  {
   "cell_type": "markdown",
   "metadata": {},
   "source": [
    "### Загрузка и проверка данных."
   ]
  },
  {
   "cell_type": "code",
   "execution_count": 1,
   "metadata": {},
   "outputs": [],
   "source": [
    "import pandas as pd\n",
    "pd.options.display.max_colwidth = 150\n",
    "import scipy.stats as stats\n",
    "import datetime as dt\n",
    "import numpy as np\n",
    "import matplotlib.pyplot as plt\n",
    "from pandas.plotting import register_matplotlib_converters\n",
    "import warnings\n",
    "# конвертеры, которые позволяют использовать типы pandas в matplotlib  \n",
    "register_matplotlib_converters()"
   ]
  },
  {
   "cell_type": "markdown",
   "metadata": {},
   "source": [
    "**Загрузим данные**"
   ]
  },
  {
   "cell_type": "code",
   "execution_count": 2,
   "metadata": {},
   "outputs": [],
   "source": [
    "hypothesis = pd.read_csv('/datasets/hypothesis.csv')\n",
    "orders = pd.read_csv('/datasets/orders.csv')\n",
    "visitors = pd.read_csv('/datasets/visitors.csv')"
   ]
  },
  {
   "cell_type": "markdown",
   "metadata": {},
   "source": [
    "**Гипотезы**"
   ]
  },
  {
   "cell_type": "code",
   "execution_count": 3,
   "metadata": {},
   "outputs": [
    {
     "name": "stdout",
     "output_type": "stream",
     "text": [
      "<class 'pandas.core.frame.DataFrame'>\n",
      "RangeIndex: 9 entries, 0 to 8\n",
      "Data columns (total 5 columns):\n",
      " #   Column      Non-Null Count  Dtype \n",
      "---  ------      --------------  ----- \n",
      " 0   Hypothesis  9 non-null      object\n",
      " 1   Reach       9 non-null      int64 \n",
      " 2   Impact      9 non-null      int64 \n",
      " 3   Confidence  9 non-null      int64 \n",
      " 4   Efforts     9 non-null      int64 \n",
      "dtypes: int64(4), object(1)\n",
      "memory usage: 488.0+ bytes\n"
     ]
    },
    {
     "data": {
      "text/html": [
       "<div>\n",
       "<style scoped>\n",
       "    .dataframe tbody tr th:only-of-type {\n",
       "        vertical-align: middle;\n",
       "    }\n",
       "\n",
       "    .dataframe tbody tr th {\n",
       "        vertical-align: top;\n",
       "    }\n",
       "\n",
       "    .dataframe thead th {\n",
       "        text-align: right;\n",
       "    }\n",
       "</style>\n",
       "<table border=\"1\" class=\"dataframe\">\n",
       "  <thead>\n",
       "    <tr style=\"text-align: right;\">\n",
       "      <th></th>\n",
       "      <th>Hypothesis</th>\n",
       "      <th>Reach</th>\n",
       "      <th>Impact</th>\n",
       "      <th>Confidence</th>\n",
       "      <th>Efforts</th>\n",
       "    </tr>\n",
       "  </thead>\n",
       "  <tbody>\n",
       "    <tr>\n",
       "      <th>0</th>\n",
       "      <td>Добавить два новых канала привлечения трафика, что позволит привлекать на 30% больше пользователей</td>\n",
       "      <td>3</td>\n",
       "      <td>10</td>\n",
       "      <td>8</td>\n",
       "      <td>6</td>\n",
       "    </tr>\n",
       "    <tr>\n",
       "      <th>1</th>\n",
       "      <td>Запустить собственную службу доставки, что сократит срок доставки заказов</td>\n",
       "      <td>2</td>\n",
       "      <td>5</td>\n",
       "      <td>4</td>\n",
       "      <td>10</td>\n",
       "    </tr>\n",
       "    <tr>\n",
       "      <th>2</th>\n",
       "      <td>Добавить блоки рекомендаций товаров на сайт интернет магазина, чтобы повысить конверсию и средний чек заказа</td>\n",
       "      <td>8</td>\n",
       "      <td>3</td>\n",
       "      <td>7</td>\n",
       "      <td>3</td>\n",
       "    </tr>\n",
       "    <tr>\n",
       "      <th>3</th>\n",
       "      <td>Изменить структура категорий, что увеличит конверсию, т.к. пользователи быстрее найдут нужный товар</td>\n",
       "      <td>8</td>\n",
       "      <td>3</td>\n",
       "      <td>3</td>\n",
       "      <td>8</td>\n",
       "    </tr>\n",
       "    <tr>\n",
       "      <th>4</th>\n",
       "      <td>Изменить цвет фона главной страницы, чтобы увеличить вовлеченность пользователей</td>\n",
       "      <td>3</td>\n",
       "      <td>1</td>\n",
       "      <td>1</td>\n",
       "      <td>1</td>\n",
       "    </tr>\n",
       "  </tbody>\n",
       "</table>\n",
       "</div>"
      ],
      "text/plain": [
       "                                                                                                     Hypothesis  \\\n",
       "0            Добавить два новых канала привлечения трафика, что позволит привлекать на 30% больше пользователей   \n",
       "1                                     Запустить собственную службу доставки, что сократит срок доставки заказов   \n",
       "2  Добавить блоки рекомендаций товаров на сайт интернет магазина, чтобы повысить конверсию и средний чек заказа   \n",
       "3           Изменить структура категорий, что увеличит конверсию, т.к. пользователи быстрее найдут нужный товар   \n",
       "4                              Изменить цвет фона главной страницы, чтобы увеличить вовлеченность пользователей   \n",
       "\n",
       "   Reach  Impact  Confidence  Efforts  \n",
       "0      3      10           8        6  \n",
       "1      2       5           4       10  \n",
       "2      8       3           7        3  \n",
       "3      8       3           3        8  \n",
       "4      3       1           1        1  "
      ]
     },
     "execution_count": 3,
     "metadata": {},
     "output_type": "execute_result"
    }
   ],
   "source": [
    "hypothesis.info()\n",
    "hypothesis.head()"
   ]
  },
  {
   "cell_type": "code",
   "execution_count": 4,
   "metadata": {
    "scrolled": true
   },
   "outputs": [],
   "source": [
    "#приведем названия к нижнему регистру\n",
    "hypothesis.columns = hypothesis.columns.str.lower()"
   ]
  },
  {
   "cell_type": "markdown",
   "metadata": {},
   "source": [
    "**Заказы**"
   ]
  },
  {
   "cell_type": "code",
   "execution_count": 5,
   "metadata": {},
   "outputs": [
    {
     "name": "stdout",
     "output_type": "stream",
     "text": [
      "<class 'pandas.core.frame.DataFrame'>\n",
      "RangeIndex: 1197 entries, 0 to 1196\n",
      "Data columns (total 5 columns):\n",
      " #   Column         Non-Null Count  Dtype \n",
      "---  ------         --------------  ----- \n",
      " 0   transactionId  1197 non-null   int64 \n",
      " 1   visitorId      1197 non-null   int64 \n",
      " 2   date           1197 non-null   object\n",
      " 3   revenue        1197 non-null   int64 \n",
      " 4   group          1197 non-null   object\n",
      "dtypes: int64(3), object(2)\n",
      "memory usage: 46.9+ KB\n"
     ]
    },
    {
     "data": {
      "text/html": [
       "<div>\n",
       "<style scoped>\n",
       "    .dataframe tbody tr th:only-of-type {\n",
       "        vertical-align: middle;\n",
       "    }\n",
       "\n",
       "    .dataframe tbody tr th {\n",
       "        vertical-align: top;\n",
       "    }\n",
       "\n",
       "    .dataframe thead th {\n",
       "        text-align: right;\n",
       "    }\n",
       "</style>\n",
       "<table border=\"1\" class=\"dataframe\">\n",
       "  <thead>\n",
       "    <tr style=\"text-align: right;\">\n",
       "      <th></th>\n",
       "      <th>transactionId</th>\n",
       "      <th>visitorId</th>\n",
       "      <th>date</th>\n",
       "      <th>revenue</th>\n",
       "      <th>group</th>\n",
       "    </tr>\n",
       "  </thead>\n",
       "  <tbody>\n",
       "    <tr>\n",
       "      <th>0</th>\n",
       "      <td>3667963787</td>\n",
       "      <td>3312258926</td>\n",
       "      <td>2019-08-15</td>\n",
       "      <td>1650</td>\n",
       "      <td>B</td>\n",
       "    </tr>\n",
       "    <tr>\n",
       "      <th>1</th>\n",
       "      <td>2804400009</td>\n",
       "      <td>3642806036</td>\n",
       "      <td>2019-08-15</td>\n",
       "      <td>730</td>\n",
       "      <td>B</td>\n",
       "    </tr>\n",
       "    <tr>\n",
       "      <th>2</th>\n",
       "      <td>2961555356</td>\n",
       "      <td>4069496402</td>\n",
       "      <td>2019-08-15</td>\n",
       "      <td>400</td>\n",
       "      <td>A</td>\n",
       "    </tr>\n",
       "    <tr>\n",
       "      <th>3</th>\n",
       "      <td>3797467345</td>\n",
       "      <td>1196621759</td>\n",
       "      <td>2019-08-15</td>\n",
       "      <td>9759</td>\n",
       "      <td>B</td>\n",
       "    </tr>\n",
       "    <tr>\n",
       "      <th>4</th>\n",
       "      <td>2282983706</td>\n",
       "      <td>2322279887</td>\n",
       "      <td>2019-08-15</td>\n",
       "      <td>2308</td>\n",
       "      <td>B</td>\n",
       "    </tr>\n",
       "  </tbody>\n",
       "</table>\n",
       "</div>"
      ],
      "text/plain": [
       "   transactionId   visitorId        date  revenue group\n",
       "0     3667963787  3312258926  2019-08-15     1650     B\n",
       "1     2804400009  3642806036  2019-08-15      730     B\n",
       "2     2961555356  4069496402  2019-08-15      400     A\n",
       "3     3797467345  1196621759  2019-08-15     9759     B\n",
       "4     2282983706  2322279887  2019-08-15     2308     B"
      ]
     },
     "execution_count": 5,
     "metadata": {},
     "output_type": "execute_result"
    }
   ],
   "source": [
    "orders.info()\n",
    "orders.head()"
   ]
  },
  {
   "cell_type": "code",
   "execution_count": 6,
   "metadata": {},
   "outputs": [],
   "source": [
    "#преобразуем данные о времени \n",
    "orders['date'] = pd.to_datetime(orders['date']).dt.date"
   ]
  },
  {
   "cell_type": "code",
   "execution_count": 7,
   "metadata": {},
   "outputs": [],
   "source": [
    "#изменим названия столбцов \n",
    "orders.columns = [x.replace('Id', '_id') for x in orders.columns.values]"
   ]
  },
  {
   "cell_type": "markdown",
   "metadata": {},
   "source": [
    "**Посетители**"
   ]
  },
  {
   "cell_type": "code",
   "execution_count": 8,
   "metadata": {},
   "outputs": [
    {
     "name": "stdout",
     "output_type": "stream",
     "text": [
      "<class 'pandas.core.frame.DataFrame'>\n",
      "RangeIndex: 62 entries, 0 to 61\n",
      "Data columns (total 3 columns):\n",
      " #   Column    Non-Null Count  Dtype \n",
      "---  ------    --------------  ----- \n",
      " 0   date      62 non-null     object\n",
      " 1   group     62 non-null     object\n",
      " 2   visitors  62 non-null     int64 \n",
      "dtypes: int64(1), object(2)\n",
      "memory usage: 1.6+ KB\n"
     ]
    },
    {
     "data": {
      "text/html": [
       "<div>\n",
       "<style scoped>\n",
       "    .dataframe tbody tr th:only-of-type {\n",
       "        vertical-align: middle;\n",
       "    }\n",
       "\n",
       "    .dataframe tbody tr th {\n",
       "        vertical-align: top;\n",
       "    }\n",
       "\n",
       "    .dataframe thead th {\n",
       "        text-align: right;\n",
       "    }\n",
       "</style>\n",
       "<table border=\"1\" class=\"dataframe\">\n",
       "  <thead>\n",
       "    <tr style=\"text-align: right;\">\n",
       "      <th></th>\n",
       "      <th>date</th>\n",
       "      <th>group</th>\n",
       "      <th>visitors</th>\n",
       "    </tr>\n",
       "  </thead>\n",
       "  <tbody>\n",
       "    <tr>\n",
       "      <th>0</th>\n",
       "      <td>2019-08-01</td>\n",
       "      <td>A</td>\n",
       "      <td>719</td>\n",
       "    </tr>\n",
       "    <tr>\n",
       "      <th>1</th>\n",
       "      <td>2019-08-02</td>\n",
       "      <td>A</td>\n",
       "      <td>619</td>\n",
       "    </tr>\n",
       "    <tr>\n",
       "      <th>2</th>\n",
       "      <td>2019-08-03</td>\n",
       "      <td>A</td>\n",
       "      <td>507</td>\n",
       "    </tr>\n",
       "    <tr>\n",
       "      <th>3</th>\n",
       "      <td>2019-08-04</td>\n",
       "      <td>A</td>\n",
       "      <td>717</td>\n",
       "    </tr>\n",
       "    <tr>\n",
       "      <th>4</th>\n",
       "      <td>2019-08-05</td>\n",
       "      <td>A</td>\n",
       "      <td>756</td>\n",
       "    </tr>\n",
       "  </tbody>\n",
       "</table>\n",
       "</div>"
      ],
      "text/plain": [
       "         date group  visitors\n",
       "0  2019-08-01     A       719\n",
       "1  2019-08-02     A       619\n",
       "2  2019-08-03     A       507\n",
       "3  2019-08-04     A       717\n",
       "4  2019-08-05     A       756"
      ]
     },
     "execution_count": 8,
     "metadata": {},
     "output_type": "execute_result"
    }
   ],
   "source": [
    "visitors.info()\n",
    "visitors.head()"
   ]
  },
  {
   "cell_type": "code",
   "execution_count": 9,
   "metadata": {},
   "outputs": [],
   "source": [
    "#преобразуем данные о времени \n",
    "visitors['date'] = pd.to_datetime(visitors['date']).dt.date"
   ]
  },
  {
   "cell_type": "markdown",
   "metadata": {},
   "source": [
    "**Проверим дубликаты в данных**"
   ]
  },
  {
   "cell_type": "code",
   "execution_count": 10,
   "metadata": {},
   "outputs": [
    {
     "name": "stdout",
     "output_type": "stream",
     "text": [
      "0\n",
      "0\n",
      "0\n"
     ]
    }
   ],
   "source": [
    "print(hypothesis.duplicated().sum())\n",
    "print(orders.duplicated().sum())\n",
    "print(visitors.duplicated().sum())"
   ]
  },
  {
   "cell_type": "markdown",
   "metadata": {},
   "source": [
    "**Проверим пропущенные значения в данных**"
   ]
  },
  {
   "cell_type": "code",
   "execution_count": 11,
   "metadata": {},
   "outputs": [
    {
     "name": "stdout",
     "output_type": "stream",
     "text": [
      "hypothesis    0\n",
      "reach         0\n",
      "impact        0\n",
      "confidence    0\n",
      "efforts       0\n",
      "dtype: int64\n",
      "transaction_id    0\n",
      "visitor_id        0\n",
      "date              0\n",
      "revenue           0\n",
      "group             0\n",
      "dtype: int64\n",
      "date        0\n",
      "group       0\n",
      "visitors    0\n",
      "dtype: int64\n"
     ]
    }
   ],
   "source": [
    "print(hypothesis.isna().sum())\n",
    "print(orders.isna().sum())\n",
    "print(visitors.isna().sum())"
   ]
  },
  {
   "cell_type": "markdown",
   "metadata": {},
   "source": [
    "**Вывод по разделу 1:**\n",
    "\n",
    "В данных:\n",
    "- `hypothesis` (гипотезы) 9 записи.\n",
    "- `orders` (заказы) 1197 записи.\n",
    "- `visitors` (посетители) 62 записи.\n",
    "- привели названия всех столбцов к нижниму регистру у `hypothesis` и изменили названия двух столбцов у `orders`.\n",
    "- привели к типу даты столбцы: `date` у `orders` и `visitors`.\n",
    "- пропущенных значений и дубликатов в таблицах нет.\n",
    "\n",
    "Данные признаны полными и достаточными для исследования."
   ]
  },
  {
   "cell_type": "markdown",
   "metadata": {},
   "source": [
    "### Приоритизация гипотез."
   ]
  },
  {
   "cell_type": "markdown",
   "metadata": {},
   "source": [
    "**Применим фреймворк ICE для приоритизации гипотез. Отсортируем их по убыванию приоритета.**"
   ]
  },
  {
   "cell_type": "code",
   "execution_count": 12,
   "metadata": {},
   "outputs": [
    {
     "data": {
      "text/html": [
       "<div>\n",
       "<style scoped>\n",
       "    .dataframe tbody tr th:only-of-type {\n",
       "        vertical-align: middle;\n",
       "    }\n",
       "\n",
       "    .dataframe tbody tr th {\n",
       "        vertical-align: top;\n",
       "    }\n",
       "\n",
       "    .dataframe thead th {\n",
       "        text-align: right;\n",
       "    }\n",
       "</style>\n",
       "<table border=\"1\" class=\"dataframe\">\n",
       "  <thead>\n",
       "    <tr style=\"text-align: right;\">\n",
       "      <th></th>\n",
       "      <th>hypothesis</th>\n",
       "      <th>ICE</th>\n",
       "    </tr>\n",
       "  </thead>\n",
       "  <tbody>\n",
       "    <tr>\n",
       "      <th>8</th>\n",
       "      <td>Запустить акцию, дающую скидку на товар в день рождения</td>\n",
       "      <td>16.20</td>\n",
       "    </tr>\n",
       "    <tr>\n",
       "      <th>0</th>\n",
       "      <td>Добавить два новых канала привлечения трафика, что позволит привлекать на 30% больше пользователей</td>\n",
       "      <td>13.33</td>\n",
       "    </tr>\n",
       "    <tr>\n",
       "      <th>7</th>\n",
       "      <td>Добавить форму подписки на все основные страницы, чтобы собрать базу клиентов для email-рассылок</td>\n",
       "      <td>11.20</td>\n",
       "    </tr>\n",
       "    <tr>\n",
       "      <th>6</th>\n",
       "      <td>Показать на главной странице баннеры с актуальными акциями и распродажами, чтобы увеличить конверсию</td>\n",
       "      <td>8.00</td>\n",
       "    </tr>\n",
       "    <tr>\n",
       "      <th>2</th>\n",
       "      <td>Добавить блоки рекомендаций товаров на сайт интернет магазина, чтобы повысить конверсию и средний чек заказа</td>\n",
       "      <td>7.00</td>\n",
       "    </tr>\n",
       "    <tr>\n",
       "      <th>1</th>\n",
       "      <td>Запустить собственную службу доставки, что сократит срок доставки заказов</td>\n",
       "      <td>2.00</td>\n",
       "    </tr>\n",
       "    <tr>\n",
       "      <th>5</th>\n",
       "      <td>Добавить страницу отзывов клиентов о магазине, что позволит увеличить количество заказов</td>\n",
       "      <td>1.33</td>\n",
       "    </tr>\n",
       "    <tr>\n",
       "      <th>3</th>\n",
       "      <td>Изменить структура категорий, что увеличит конверсию, т.к. пользователи быстрее найдут нужный товар</td>\n",
       "      <td>1.12</td>\n",
       "    </tr>\n",
       "    <tr>\n",
       "      <th>4</th>\n",
       "      <td>Изменить цвет фона главной страницы, чтобы увеличить вовлеченность пользователей</td>\n",
       "      <td>1.00</td>\n",
       "    </tr>\n",
       "  </tbody>\n",
       "</table>\n",
       "</div>"
      ],
      "text/plain": [
       "                                                                                                     hypothesis  \\\n",
       "8                                                       Запустить акцию, дающую скидку на товар в день рождения   \n",
       "0            Добавить два новых канала привлечения трафика, что позволит привлекать на 30% больше пользователей   \n",
       "7              Добавить форму подписки на все основные страницы, чтобы собрать базу клиентов для email-рассылок   \n",
       "6          Показать на главной странице баннеры с актуальными акциями и распродажами, чтобы увеличить конверсию   \n",
       "2  Добавить блоки рекомендаций товаров на сайт интернет магазина, чтобы повысить конверсию и средний чек заказа   \n",
       "1                                     Запустить собственную службу доставки, что сократит срок доставки заказов   \n",
       "5                      Добавить страницу отзывов клиентов о магазине, что позволит увеличить количество заказов   \n",
       "3           Изменить структура категорий, что увеличит конверсию, т.к. пользователи быстрее найдут нужный товар   \n",
       "4                              Изменить цвет фона главной страницы, чтобы увеличить вовлеченность пользователей   \n",
       "\n",
       "     ICE  \n",
       "8  16.20  \n",
       "0  13.33  \n",
       "7  11.20  \n",
       "6   8.00  \n",
       "2   7.00  \n",
       "1   2.00  \n",
       "5   1.33  \n",
       "3   1.12  \n",
       "4   1.00  "
      ]
     },
     "metadata": {},
     "output_type": "display_data"
    }
   ],
   "source": [
    "# расчтаем по формуле (impact * confidense)/efforts \n",
    "hypothesis['ICE'] = round((hypothesis['impact'] * hypothesis['confidence'])/hypothesis['efforts'],2)\n",
    "#выведем названия гипотез, остортиорованные по убываню ICE\n",
    "display(hypothesis[['hypothesis','ICE']].sort_values(by='ICE', ascending=False))"
   ]
  },
  {
   "cell_type": "markdown",
   "metadata": {},
   "source": [
    "**Вывод:** По фреймворку ICE наиболее приоритетными гипотезами являются - 8, 0 и 7:\n",
    "- 8 - Запустить акцию, дающую скидку на товар в день рождения\n",
    "- 0 - Добавить два новых канала привлечения трафика, что позволит привлекать на 30% больше пользователей\n",
    "- 7 - Добавить форму подписки на все основные страницы, чтобы собрать базу клиентов для email-рассылок"
   ]
  },
  {
   "cell_type": "markdown",
   "metadata": {},
   "source": [
    "**Применим фреймворк RICE для приоритизации гипотез. Отсортируем их по убыванию приоритета.**"
   ]
  },
  {
   "cell_type": "code",
   "execution_count": 13,
   "metadata": {},
   "outputs": [
    {
     "data": {
      "text/html": [
       "<div>\n",
       "<style scoped>\n",
       "    .dataframe tbody tr th:only-of-type {\n",
       "        vertical-align: middle;\n",
       "    }\n",
       "\n",
       "    .dataframe tbody tr th {\n",
       "        vertical-align: top;\n",
       "    }\n",
       "\n",
       "    .dataframe thead th {\n",
       "        text-align: right;\n",
       "    }\n",
       "</style>\n",
       "<table border=\"1\" class=\"dataframe\">\n",
       "  <thead>\n",
       "    <tr style=\"text-align: right;\">\n",
       "      <th></th>\n",
       "      <th>hypothesis</th>\n",
       "      <th>RICE</th>\n",
       "    </tr>\n",
       "  </thead>\n",
       "  <tbody>\n",
       "    <tr>\n",
       "      <th>7</th>\n",
       "      <td>Добавить форму подписки на все основные страницы, чтобы собрать базу клиентов для email-рассылок</td>\n",
       "      <td>112.0</td>\n",
       "    </tr>\n",
       "    <tr>\n",
       "      <th>2</th>\n",
       "      <td>Добавить блоки рекомендаций товаров на сайт интернет магазина, чтобы повысить конверсию и средний чек заказа</td>\n",
       "      <td>56.0</td>\n",
       "    </tr>\n",
       "    <tr>\n",
       "      <th>0</th>\n",
       "      <td>Добавить два новых канала привлечения трафика, что позволит привлекать на 30% больше пользователей</td>\n",
       "      <td>40.0</td>\n",
       "    </tr>\n",
       "    <tr>\n",
       "      <th>6</th>\n",
       "      <td>Показать на главной странице баннеры с актуальными акциями и распродажами, чтобы увеличить конверсию</td>\n",
       "      <td>40.0</td>\n",
       "    </tr>\n",
       "    <tr>\n",
       "      <th>8</th>\n",
       "      <td>Запустить акцию, дающую скидку на товар в день рождения</td>\n",
       "      <td>16.2</td>\n",
       "    </tr>\n",
       "    <tr>\n",
       "      <th>3</th>\n",
       "      <td>Изменить структура категорий, что увеличит конверсию, т.к. пользователи быстрее найдут нужный товар</td>\n",
       "      <td>9.0</td>\n",
       "    </tr>\n",
       "    <tr>\n",
       "      <th>1</th>\n",
       "      <td>Запустить собственную службу доставки, что сократит срок доставки заказов</td>\n",
       "      <td>4.0</td>\n",
       "    </tr>\n",
       "    <tr>\n",
       "      <th>5</th>\n",
       "      <td>Добавить страницу отзывов клиентов о магазине, что позволит увеличить количество заказов</td>\n",
       "      <td>4.0</td>\n",
       "    </tr>\n",
       "    <tr>\n",
       "      <th>4</th>\n",
       "      <td>Изменить цвет фона главной страницы, чтобы увеличить вовлеченность пользователей</td>\n",
       "      <td>3.0</td>\n",
       "    </tr>\n",
       "  </tbody>\n",
       "</table>\n",
       "</div>"
      ],
      "text/plain": [
       "                                                                                                     hypothesis  \\\n",
       "7              Добавить форму подписки на все основные страницы, чтобы собрать базу клиентов для email-рассылок   \n",
       "2  Добавить блоки рекомендаций товаров на сайт интернет магазина, чтобы повысить конверсию и средний чек заказа   \n",
       "0            Добавить два новых канала привлечения трафика, что позволит привлекать на 30% больше пользователей   \n",
       "6          Показать на главной странице баннеры с актуальными акциями и распродажами, чтобы увеличить конверсию   \n",
       "8                                                       Запустить акцию, дающую скидку на товар в день рождения   \n",
       "3           Изменить структура категорий, что увеличит конверсию, т.к. пользователи быстрее найдут нужный товар   \n",
       "1                                     Запустить собственную службу доставки, что сократит срок доставки заказов   \n",
       "5                      Добавить страницу отзывов клиентов о магазине, что позволит увеличить количество заказов   \n",
       "4                              Изменить цвет фона главной страницы, чтобы увеличить вовлеченность пользователей   \n",
       "\n",
       "    RICE  \n",
       "7  112.0  \n",
       "2   56.0  \n",
       "0   40.0  \n",
       "6   40.0  \n",
       "8   16.2  \n",
       "3    9.0  \n",
       "1    4.0  \n",
       "5    4.0  \n",
       "4    3.0  "
      ]
     },
     "metadata": {},
     "output_type": "display_data"
    }
   ],
   "source": [
    "# расчтаем по формуле (reach * impact * confidense)/efforts \n",
    "hypothesis['RICE'] = hypothesis['reach'] * hypothesis['impact'] * hypothesis['confidence']/hypothesis['efforts']\n",
    "#выведем названия гипотез, остортиорованные по убываню RICE\n",
    "display(hypothesis[['hypothesis','RICE']].sort_values(by='RICE', ascending=False))"
   ]
  },
  {
   "cell_type": "markdown",
   "metadata": {},
   "source": [
    "**Вывод:** По фреймворку RICE наиболее приоритетными гипотезами являются - 7, 2 и 0.\n",
    "- 7 - Добавить форму подписки на все основные страницы, чтобы собрать базу клиентов для email-рассылок\n",
    "- 2 - Добавить блоки рекомендаций товаров на сайт интернет магазина, чтобы повысить конверсию и средний чек заказа\t\n",
    "- 0 - Добавить два новых канала привлечения трафика, что позволит привлекать на 30% больше пользователей"
   ]
  },
  {
   "cell_type": "markdown",
   "metadata": {},
   "source": [
    "**Укажем, как изменилась приоритизация гипотез при применении RICE вместо ICE. Объясним, почему так произошло.**"
   ]
  },
  {
   "cell_type": "markdown",
   "metadata": {},
   "source": [
    "По фреймворку ICE наиболее приоритетными были гипотезы 8,0 и 7. После применения фреймворка RICE приоритеты изменились на гпиотезы 7,2 и 0.\n",
    "Это произошло потому что фреймворк RICE учитывает параметр Reach (скольких пользователей затронет изменение, которое вы хотите внести), и в лидеры вышли гипотезы с наибольшим охватом пользователей."
   ]
  },
  {
   "cell_type": "markdown",
   "metadata": {},
   "source": [
    "**Вывод по разделу 2:**\n",
    "\n",
    "По фреймворку ICE наиболее приоритетными были гипотезы 8,0 и 7. \n",
    "- 8 - Запустить акцию, дающую скидку на товар в день рождения\n",
    "- 0 - Добавить два новых канала привлечения трафика, что позволит привлекать на 30% больше пользователей\n",
    "- 7 - Добавить форму подписки на все основные страницы, чтобы собрать базу клиентов для email-рассылок\n",
    "\n",
    "После применения фреймворка RICE приоритеты изменились на гпиотезы 7,2 и 0. \n",
    "- 7 - Добавить форму подписки на все основные страницы, чтобы собрать базу клиентов для email-рассылок\n",
    "- 2 - Добавить блоки рекомендаций товаров на сайт интернет магазина, чтобы повысить конверсию и средний чек заказа\t\n",
    "- 0 - Добавить два новых канала привлечения трафика, что позволит привлекать на 30% больше пользователей\n",
    "\n",
    "Это произошло потому что фреймворк RICE учитывает параметр Reach (скольких пользователей затронет изменение, которое вы хотите внести), и в лидеры вышли гипотезы с наибольшим охватом пользователей.\n",
    "\n",
    "В нашем случае наиболее приоритетными гипотезами будут - 7, 2, 0:\n",
    "- 7 - Добавить форму подписки на все основные страницы, чтобы собрать базу клиентов для email-рассылок\n",
    "- 2 - Добавить блоки рекомендаций товаров на сайт интернет магазина, чтобы повысить конверсию и средний чек заказа\t\n",
    "- 0 - Добавить два новых канала привлечения трафика, что позволит привлекать на 30% больше пользователей"
   ]
  },
  {
   "cell_type": "markdown",
   "metadata": {},
   "source": [
    "### Анализ A/B-теста."
   ]
  },
  {
   "cell_type": "markdown",
   "metadata": {},
   "source": [
    "**1.Построим график кумулятивной выручки по группам. Сделаем выводы и предположения.**"
   ]
  },
  {
   "cell_type": "code",
   "execution_count": 14,
   "metadata": {},
   "outputs": [
    {
     "data": {
      "text/html": [
       "<div>\n",
       "<style scoped>\n",
       "    .dataframe tbody tr th:only-of-type {\n",
       "        vertical-align: middle;\n",
       "    }\n",
       "\n",
       "    .dataframe tbody tr th {\n",
       "        vertical-align: top;\n",
       "    }\n",
       "\n",
       "    .dataframe thead th {\n",
       "        text-align: right;\n",
       "    }\n",
       "</style>\n",
       "<table border=\"1\" class=\"dataframe\">\n",
       "  <thead>\n",
       "    <tr style=\"text-align: right;\">\n",
       "      <th></th>\n",
       "      <th>date</th>\n",
       "      <th>group</th>\n",
       "      <th>orders</th>\n",
       "      <th>buyers</th>\n",
       "      <th>revenue</th>\n",
       "      <th>visitors</th>\n",
       "    </tr>\n",
       "  </thead>\n",
       "  <tbody>\n",
       "    <tr>\n",
       "      <th>0</th>\n",
       "      <td>2019-08-01</td>\n",
       "      <td>A</td>\n",
       "      <td>24</td>\n",
       "      <td>20</td>\n",
       "      <td>148579</td>\n",
       "      <td>719</td>\n",
       "    </tr>\n",
       "    <tr>\n",
       "      <th>1</th>\n",
       "      <td>2019-08-01</td>\n",
       "      <td>B</td>\n",
       "      <td>21</td>\n",
       "      <td>20</td>\n",
       "      <td>101217</td>\n",
       "      <td>713</td>\n",
       "    </tr>\n",
       "    <tr>\n",
       "      <th>2</th>\n",
       "      <td>2019-08-02</td>\n",
       "      <td>A</td>\n",
       "      <td>44</td>\n",
       "      <td>38</td>\n",
       "      <td>242401</td>\n",
       "      <td>1338</td>\n",
       "    </tr>\n",
       "    <tr>\n",
       "      <th>3</th>\n",
       "      <td>2019-08-02</td>\n",
       "      <td>B</td>\n",
       "      <td>45</td>\n",
       "      <td>43</td>\n",
       "      <td>266748</td>\n",
       "      <td>1294</td>\n",
       "    </tr>\n",
       "    <tr>\n",
       "      <th>4</th>\n",
       "      <td>2019-08-03</td>\n",
       "      <td>A</td>\n",
       "      <td>68</td>\n",
       "      <td>62</td>\n",
       "      <td>354874</td>\n",
       "      <td>1845</td>\n",
       "    </tr>\n",
       "  </tbody>\n",
       "</table>\n",
       "</div>"
      ],
      "text/plain": [
       "         date group  orders  buyers  revenue  visitors\n",
       "0  2019-08-01     A      24      20   148579       719\n",
       "1  2019-08-01     B      21      20   101217       713\n",
       "2  2019-08-02     A      44      38   242401      1338\n",
       "3  2019-08-02     B      45      43   266748      1294\n",
       "4  2019-08-03     A      68      62   354874      1845"
      ]
     },
     "execution_count": 14,
     "metadata": {},
     "output_type": "execute_result"
    }
   ],
   "source": [
    "#создаем массив уникальных пар значений дат и групп\n",
    "dates_groups = orders[['date', 'group']].drop_duplicates() \n",
    "\n",
    "#получаем агрегированные кумулятивные по дням данные о заказах \n",
    "orders_aggregated = dates_groups.apply(\n",
    "    lambda x: orders[\n",
    "        np.logical_and(\n",
    "            orders['date'] <= x['date'], orders['group'] == x['group']\n",
    "        )\n",
    "    ].agg(\n",
    "        {\n",
    "            'date': 'max',\n",
    "            'group': 'max',\n",
    "            'transaction_id': 'nunique',\n",
    "            'visitor_id': 'nunique',\n",
    "            'revenue': 'sum',\n",
    "        }\n",
    "    ),\n",
    "    axis=1,\n",
    ").sort_values(by=['date', 'group'])\n",
    "\n",
    "#получаем агрегированные кумулятивные по дням данные о посетителях\n",
    "visitors_aggregated = dates_groups.apply(\n",
    "    lambda x: visitors[\n",
    "        np.logical_and(\n",
    "            visitors['date'] <= x['date'], visitors['group'] == x['group']\n",
    "        )\n",
    "    ].agg(\n",
    "        {\n",
    "            'date': 'max', \n",
    "            'group': 'max', \n",
    "            'visitors': 'sum'\n",
    "        }\n",
    "    ),\n",
    "    axis=1,\n",
    ").sort_values(by=['date', 'group'])\n",
    "\n",
    "#объединяем таблицы по дате и группе\n",
    "cumulative_data = orders_aggregated.merge(\n",
    "    visitors_aggregated, left_on=['date', 'group'], right_on=['date', 'group']\n",
    ")\n",
    "#переименуем столбцы\n",
    "cumulative_data.columns = [\n",
    "    'date',\n",
    "    'group',\n",
    "    'orders',\n",
    "    'buyers',\n",
    "    'revenue',\n",
    "    'visitors',\n",
    "]\n",
    "cumulative_data.head()"
   ]
  },
  {
   "cell_type": "code",
   "execution_count": 15,
   "metadata": {},
   "outputs": [
    {
     "data": {
      "image/png": "[encoded data removed]",
      "text/plain": [
       "<Figure size 720x360 with 1 Axes>"
      ]
     },
     "metadata": {
      "needs_background": "light"
     },
     "output_type": "display_data"
    }
   ],
   "source": [
    "#датафрейм с кумулятивным количеством заказов и кумулятивной выручкой по дням в группе А\n",
    "cumulative_revenue_a = cumulative_data[cumulative_data['group']=='A'][['date','revenue', 'orders']]\n",
    "#датафрейм с кумулятивным количеством заказов и кумулятивной выручкой по дням в группе B\n",
    "cumulative_revenue_b = cumulative_data[cumulative_data['group']=='B'][['date','revenue', 'orders']]\n",
    "\n",
    "#размер графика\n",
    "plt.figure(figsize=(10,5)) \n",
    "#строим график выручки группы А\n",
    "plt.plot(cumulative_revenue_a['date'], cumulative_revenue_a['revenue'], label='A')\n",
    "#строим график выручки группы B\n",
    "plt.plot(cumulative_revenue_b['date'], cumulative_revenue_b['revenue'], label='B') \n",
    "plt.legend() \n",
    "plt.xlabel('Дата')\n",
    "plt.ylabel('Выручка') \n",
    "plt.title('Кумулятивная выручка по дням и группам A/B-тестирования')\n",
    "plt.show() "
   ]
  },
  {
   "cell_type": "markdown",
   "metadata": {},
   "source": [
    "**Вывод:**\n",
    "Выручка в обеих группах растет. Группа `B` лидирует на протяжении всего месяца и у группы `B` произошел скачок приблизительно 18.08.2019 - это может быть резкое повышение числа заказов."
   ]
  },
  {
   "cell_type": "markdown",
   "metadata": {},
   "source": [
    "**2.Построим график кумулятивного среднего чека по группам. Сделаем выводы и предположения.**"
   ]
  },
  {
   "cell_type": "code",
   "execution_count": 16,
   "metadata": {},
   "outputs": [
    {
     "data": {
      "image/png": "[encoded data removed]",
      "text/plain": [
       "<Figure size 720x360 with 1 Axes>"
      ]
     },
     "metadata": {
      "needs_background": "light"
     },
     "output_type": "display_data"
    }
   ],
   "source": [
    "plt.figure(figsize=(10,5)) \n",
    "#построим графики, что бы получить средний чек - группа A\n",
    "plt.plot(cumulative_revenue_a['date'], cumulative_revenue_a['revenue']/cumulative_revenue_a['orders'], label='A')\n",
    "#построим графики, что бы получить средний чек - группа B\n",
    "plt.plot(cumulative_revenue_b['date'], cumulative_revenue_b['revenue']/cumulative_revenue_b['orders'], label='B')\n",
    "\n",
    "plt.legend()\n",
    "plt.xlabel('Дата')\n",
    "plt.ylabel('Средний чек') \n",
    "plt.title('Кумулятивный средний чек по дням и группам A/B-тестирования')\n",
    "plt.show() "
   ]
  },
  {
   "cell_type": "markdown",
   "metadata": {},
   "source": [
    "**Вывод:**\n",
    "На графике можно наблюдать резкий скачок у группы `B` приблизительно 18.08.2019. После 21.08.2019 коммулятивный средний чек группы `B` снижается, а группы `A` растет, но при этом средний чек у группы `B` выше."
   ]
  },
  {
   "cell_type": "markdown",
   "metadata": {},
   "source": [
    "**3.Построим график относительного изменения кумулятивного среднего чека группы B к группе A. Сделаем выводы и предположения.**"
   ]
  },
  {
   "cell_type": "code",
   "execution_count": 17,
   "metadata": {},
   "outputs": [
    {
     "data": {
      "image/png": "[encoded data removed]",
      "text/plain": [
       "<Figure size 720x360 with 1 Axes>"
      ]
     },
     "metadata": {
      "needs_background": "light"
     },
     "output_type": "display_data"
    }
   ],
   "source": [
    "#объединяем таблицы cumulative_revenue_a и cumulative_revenue_b\n",
    "merged_cumulative_revenue = cumulative_revenue_a.merge(cumulative_revenue_b, left_on='date', right_on='date', how='left', suffixes=['_a', '_b'])\n",
    "\n",
    "#строим графики\n",
    "plt.figure(figsize=(10,5)) \n",
    "plt.plot(merged_cumulative_revenue['date'], (merged_cumulative_revenue['revenue_b']/merged_cumulative_revenue['orders_b'])/(merged_cumulative_revenue['revenue_a']/merged_cumulative_revenue['orders_a'])-1)\n",
    "\n",
    "#добавляем ось X\n",
    "plt.axhline(y=0, color='black', linestyle='--') \n",
    "\n",
    "plt.xlabel('Дата')\n",
    "plt.ylabel('Отношение') \n",
    "plt.title('Относительное изменение кумулятивного среднего чека группы B к группе A')\n",
    "plt.show()   "
   ]
  },
  {
   "cell_type": "markdown",
   "metadata": {},
   "source": [
    "**Вывод:**\n",
    "На графике можно наблюдать резкие скачки и ранее наблюдаемый скачок приблизительно 18.08.2019 сохраняется. Возможно, именно в эти дни были сделаны дорогие заказы."
   ]
  },
  {
   "cell_type": "markdown",
   "metadata": {},
   "source": [
    "**4.Построим график кумулятивного среднего количества заказов на посетителя по группам. Сделаем выводы и предположения.**"
   ]
  },
  {
   "cell_type": "code",
   "execution_count": 18,
   "metadata": {},
   "outputs": [
    {
     "data": {
      "image/png": "[encoded data removed]",
      "text/plain": [
       "<Figure size 720x360 with 1 Axes>"
      ]
     },
     "metadata": {
      "needs_background": "light"
     },
     "output_type": "display_data"
    }
   ],
   "source": [
    "#считаем кумулятивную конверсию\n",
    "cumulative_data['conversion'] = cumulative_data['orders']/cumulative_data['visitors']\n",
    "\n",
    "#отделяем данные по группе A\n",
    "cumulative_data_a = cumulative_data[cumulative_data['group']=='A']\n",
    "\n",
    "#отделяем данные по группе B\n",
    "cumulative_data_b = cumulative_data[cumulative_data['group']=='B']\n",
    "\n",
    "#строим графики\n",
    "plt.figure(figsize=(10,5)) \n",
    "plt.plot(cumulative_data_a['date'], cumulative_data_a['conversion'], label='A')\n",
    "\n",
    "plt.plot(cumulative_data_b['date'], cumulative_data_b['conversion'], label='B')\n",
    "\n",
    "plt.legend()\n",
    "plt.xlabel('Дата')\n",
    "plt.ylabel('Среднее количество заказов на посетителя') \n",
    "plt.title('Кумулятивное среднее количество заказов на посетителя по группам')\n",
    "plt.show()  "
   ]
  },
  {
   "cell_type": "markdown",
   "metadata": {},
   "source": [
    "**Вывод:**\n",
    "На графике можем увидеть, что в начале обе группы находились примерно у одного значения. Далее группа `B` выросла, а группа `A` снизилась. Среднее количество заказов на посетителя в группе В больше."
   ]
  },
  {
   "cell_type": "markdown",
   "metadata": {},
   "source": [
    "**5.Построим график относительного изменения кумулятивного среднего количества заказов на посетителя группы B к группе A. Сделаем выводы и предположения.**"
   ]
  },
  {
   "cell_type": "code",
   "execution_count": 19,
   "metadata": {},
   "outputs": [
    {
     "data": {
      "image/png": "[encoded data removed]",
      "text/plain": [
       "<Figure size 720x360 with 1 Axes>"
      ]
     },
     "metadata": {
      "needs_background": "light"
     },
     "output_type": "display_data"
    }
   ],
   "source": [
    "#объединяем таблицы cumulative_data_a и cumulative_data_b\n",
    "merged_cumulative_conversions = cumulative_data_a[['date','conversion']].merge(cumulative_data_b[['date','conversion']], left_on='date', right_on='date', how='left', suffixes=['_a', '_b'])\n",
    "\n",
    "#строим графики\n",
    "plt.figure(figsize=(10,5)) \n",
    "plt.plot(merged_cumulative_conversions['date'], merged_cumulative_conversions['conversion_b']/merged_cumulative_conversions['conversion_a']-1)\n",
    "\n",
    "#добавляем ось X\n",
    "plt.axhline(y=0, color='black', linestyle='--')\n",
    "plt.axhline(y=0.2, color='grey', linestyle='--')\n",
    "plt.ylabel('Относительное изменение среднего количества заказов на посетителя') \n",
    "plt.xlabel('Дата') \n",
    "plt.title('Относительное изменение кумулятивного среднего количества заказов на посетителя группы В к А') \n",
    "plt.show()"
   ]
  },
  {
   "cell_type": "markdown",
   "metadata": {},
   "source": [
    "**Вывод:**\n",
    "На графике можно увидеть, что в начале среднее количество заказов резко поднималось, а потом опускалось. Но примерно 06.08.2019, получили стабильный прирост, который привысил 20% и установился в пределах от 10 до 15 % к концу периода. Группа `B` лидирует по среднему количеству заказов."
   ]
  },
  {
   "cell_type": "markdown",
   "metadata": {},
   "source": [
    "**6.Построим точечный график количества заказов по пользователям. Сделаем выводы и предположения.**"
   ]
  },
  {
   "cell_type": "code",
   "execution_count": 20,
   "metadata": {},
   "outputs": [
    {
     "data": {
      "text/html": [
       "<div>\n",
       "<style scoped>\n",
       "    .dataframe tbody tr th:only-of-type {\n",
       "        vertical-align: middle;\n",
       "    }\n",
       "\n",
       "    .dataframe tbody tr th {\n",
       "        vertical-align: top;\n",
       "    }\n",
       "\n",
       "    .dataframe thead th {\n",
       "        text-align: right;\n",
       "    }\n",
       "</style>\n",
       "<table border=\"1\" class=\"dataframe\">\n",
       "  <thead>\n",
       "    <tr style=\"text-align: right;\">\n",
       "      <th></th>\n",
       "      <th>user_id</th>\n",
       "      <th>orders</th>\n",
       "    </tr>\n",
       "  </thead>\n",
       "  <tbody>\n",
       "    <tr>\n",
       "      <th>1023</th>\n",
       "      <td>4256040402</td>\n",
       "      <td>11</td>\n",
       "    </tr>\n",
       "    <tr>\n",
       "      <th>591</th>\n",
       "      <td>2458001652</td>\n",
       "      <td>11</td>\n",
       "    </tr>\n",
       "    <tr>\n",
       "      <th>569</th>\n",
       "      <td>2378935119</td>\n",
       "      <td>9</td>\n",
       "    </tr>\n",
       "    <tr>\n",
       "      <th>487</th>\n",
       "      <td>2038680547</td>\n",
       "      <td>8</td>\n",
       "    </tr>\n",
       "    <tr>\n",
       "      <th>44</th>\n",
       "      <td>199603092</td>\n",
       "      <td>5</td>\n",
       "    </tr>\n",
       "    <tr>\n",
       "      <th>744</th>\n",
       "      <td>3062433592</td>\n",
       "      <td>5</td>\n",
       "    </tr>\n",
       "    <tr>\n",
       "      <th>55</th>\n",
       "      <td>237748145</td>\n",
       "      <td>5</td>\n",
       "    </tr>\n",
       "    <tr>\n",
       "      <th>917</th>\n",
       "      <td>3803269165</td>\n",
       "      <td>5</td>\n",
       "    </tr>\n",
       "    <tr>\n",
       "      <th>299</th>\n",
       "      <td>1230306981</td>\n",
       "      <td>5</td>\n",
       "    </tr>\n",
       "    <tr>\n",
       "      <th>897</th>\n",
       "      <td>3717692402</td>\n",
       "      <td>5</td>\n",
       "    </tr>\n",
       "  </tbody>\n",
       "</table>\n",
       "</div>"
      ],
      "text/plain": [
       "         user_id  orders\n",
       "1023  4256040402      11\n",
       "591   2458001652      11\n",
       "569   2378935119       9\n",
       "487   2038680547       8\n",
       "44     199603092       5\n",
       "744   3062433592       5\n",
       "55     237748145       5\n",
       "917   3803269165       5\n",
       "299   1230306981       5\n",
       "897   3717692402       5"
      ]
     },
     "execution_count": 20,
     "metadata": {},
     "output_type": "execute_result"
    }
   ],
   "source": [
    "#создадим сводную таблицу с кол-вом закзазов для каждого пользователя \n",
    "orders_by_users = (\n",
    "    orders.groupby('visitor_id', as_index=False)\n",
    "    .agg({'transaction_id': 'nunique'})\n",
    ")\n",
    "#переименуем столбцы \n",
    "orders_by_users.columns = ['user_id', 'orders']\n",
    "#выведем таблицу отсортиованную по убыванию кол-ва заказов \n",
    "orders_by_users.sort_values(by='orders', ascending=False).head(10) "
   ]
  },
  {
   "cell_type": "code",
   "execution_count": 21,
   "metadata": {},
   "outputs": [
    {
     "data": {
      "image/png": "[encoded data removed]",
      "text/plain": [
       "<Figure size 720x360 with 1 Axes>"
      ]
     },
     "metadata": {
      "needs_background": "light"
     },
     "output_type": "display_data"
    }
   ],
   "source": [
    "# серия из чисел от 0 до количества наблюдений в ordersByUsers\n",
    "x_values = pd.Series(range(0, len(orders_by_users)))\n",
    "\n",
    "#строим график\n",
    "plt.figure(figsize=(10,5)) \n",
    "plt.scatter(x_values, orders_by_users['orders']) \n",
    "\n",
    "plt.ylabel('Количество заказов') \n",
    "plt.xlabel('Количество пользователей') \n",
    "plt.title('Распределение по количеству сделанных заказов') \n",
    "plt.show() "
   ]
  },
  {
   "cell_type": "markdown",
   "metadata": {},
   "source": [
    "**Вывод:**\n",
    "По графику можно сделать вывод, что большинство пользователей не совершает более 2 заказов."
   ]
  },
  {
   "cell_type": "markdown",
   "metadata": {},
   "source": [
    "**7.Посчитаем 95-й и 99-й перцентили количества заказов на пользователя. Выберем границу для определения аномальных пользователей.**"
   ]
  },
  {
   "cell_type": "code",
   "execution_count": 22,
   "metadata": {},
   "outputs": [
    {
     "name": "stdout",
     "output_type": "stream",
     "text": [
      "[2. 4.]\n"
     ]
    }
   ],
   "source": [
    "print(np.percentile(orders_by_users['orders'], [95, 99]))"
   ]
  },
  {
   "cell_type": "markdown",
   "metadata": {},
   "source": [
    "**Вывод:** Не более 5 % совершили больше 2-х заказов. Не более 1 % совершили больше 4-х заказов.\n",
    "Установим границу по колличеству заказов на пользователя в 3 шт."
   ]
  },
  {
   "cell_type": "markdown",
   "metadata": {},
   "source": [
    "**8.Построим точечный график стоимостей заказов. Сделаем выводы и предположения.**"
   ]
  },
  {
   "cell_type": "code",
   "execution_count": 23,
   "metadata": {},
   "outputs": [
    {
     "name": "stdout",
     "output_type": "stream",
     "text": [
      "      transaction_id  visitor_id        date  revenue group\n",
      "425        590470918  1920142716  2019-08-19  1294500     B\n",
      "1196      3936777065  2108080724  2019-08-15   202740     B\n",
      "858        192721366  1316129916  2019-08-27    93940     A\n",
      "1136       666610489  1307669133  2019-08-13    92550     A\n",
      "744       3668308183   888512513  2019-08-27    86620     B\n",
      "682       1216533772  4266935830  2019-08-29    78990     B\n",
      "662       1811671147  4266935830  2019-08-29    78990     A\n",
      "743       3603576309  4133034833  2019-08-09    67990     A\n",
      "1103      1348774318  1164614297  2019-08-12    66350     A\n",
      "1099       316924019   148427295  2019-08-12    65710     A\n"
     ]
    }
   ],
   "source": [
    "print(orders.sort_values(by='revenue', ascending=False).head(10))"
   ]
  },
  {
   "cell_type": "code",
   "execution_count": 24,
   "metadata": {},
   "outputs": [
    {
     "data": {
      "image/png": "[encoded data removed]",
      "text/plain": [
       "<Figure size 720x360 with 1 Axes>"
      ]
     },
     "metadata": {
      "needs_background": "light"
     },
     "output_type": "display_data"
    }
   ],
   "source": [
    "x_values = pd.Series(range(0, len(orders['revenue'])))\n",
    "\n",
    "#строим график\n",
    "plt.figure(figsize=(10,5)) \n",
    "plt.scatter(x_values, orders['revenue']) \n",
    "\n",
    "plt.ylabel('Количество заказов') \n",
    "plt.xlabel('Количество пользователей') \n",
    "plt.title('Распределение по количеству сделанных заказов') \n",
    "plt.show() "
   ]
  },
  {
   "cell_type": "markdown",
   "metadata": {},
   "source": [
    "**Вывод:** По графику можно сделать выводы, что в среднем стоимость заказов не превышает 200 000р, есть пару выбросов (около 200 тыс. и 1,2 млн.)."
   ]
  },
  {
   "cell_type": "markdown",
   "metadata": {},
   "source": [
    "**9.Посчитаем 95-й и 99-й перцентили стоимости заказов. Выберем границу для определения аномальных заказов.**"
   ]
  },
  {
   "cell_type": "code",
   "execution_count": 25,
   "metadata": {},
   "outputs": [
    {
     "name": "stdout",
     "output_type": "stream",
     "text": [
      "[28000.  58233.2]\n"
     ]
    }
   ],
   "source": [
    "print(np.percentile(orders['revenue'], [95, 99]))"
   ]
  },
  {
   "cell_type": "markdown",
   "metadata": {},
   "source": [
    "**Вывод:** Не более 5 % заказов стомостью более 28000 рублей. Не более 1 % заказов стомостью более 58000 рублей. Установим границу по сумме заказа в 30000 рублей."
   ]
  },
  {
   "cell_type": "markdown",
   "metadata": {},
   "source": [
    "**10.Посчитаем статистическую значимость различий в среднем количестве заказов на посетителя между группами по «сырым» данным. Сделаем выводы и предположения.**"
   ]
  },
  {
   "cell_type": "markdown",
   "metadata": {},
   "source": [
    "***Сформулируем гипотезы***\n",
    "\n",
    "- H0: различий в среднем количестве заказов на посетителя между группами нет.\n",
    "- H1: различия в среднем количестве заказов на посетителя между группами есть.\n",
    "- Коэффициент альфа: 0.05."
   ]
  },
  {
   "cell_type": "code",
   "execution_count": 26,
   "metadata": {},
   "outputs": [],
   "source": [
    "#таблицы с данными по заказам на каждого пользователя\n",
    "orders_by_users_a = (\n",
    "    orders[orders['group'] == 'A']\n",
    "    .groupby('visitor_id', as_index=False)\n",
    "    .agg({'transaction_id': pd.Series.nunique})\n",
    ")\n",
    "\n",
    "orders_by_users_a.columns = ['visitor_id', 'orders']\n",
    "\n",
    "\n",
    "orders_by_users_b = (\n",
    "    orders[orders['group'] == 'B']\n",
    "    .groupby('visitor_id', as_index=False)\n",
    "    .agg({'transaction_id': pd.Series.nunique})\n",
    ")\n",
    "\n",
    "orders_by_users_b.columns = ['visitor_id', 'orders']"
   ]
  },
  {
   "cell_type": "code",
   "execution_count": 27,
   "metadata": {},
   "outputs": [],
   "source": [
    "#объявим переменные, в которых пользователям с заказами будет соответствовать число заказов пользователя. \n",
    "#а пользователям без заказов — нули. \n",
    "sample_a = pd.concat([orders_by_users_a['orders'],pd.Series(0, index=np.arange(visitors[visitors['group']=='A']['visitors'].sum() - len(orders_by_users_a['orders'])), name='orders')],axis=0)\n",
    "\n",
    "sample_b = pd.concat([orders_by_users_b['orders'],pd.Series(0, index=np.arange(visitors[visitors['group']=='B']['visitors'].sum() - len(orders_by_users_b['orders'])), name='orders')],axis=0)"
   ]
  },
  {
   "cell_type": "code",
   "execution_count": 28,
   "metadata": {},
   "outputs": [
    {
     "name": "stdout",
     "output_type": "stream",
     "text": [
      "Значение P-value: 0.01679\n",
      "Относительная разница между группами: 0.138\n"
     ]
    }
   ],
   "source": [
    "sample_a = pd.concat(\n",
    "    [\n",
    "        orders_by_users_a['orders'],\n",
    "        pd.Series(\n",
    "            0,\n",
    "            index=np.arange(\n",
    "                visitors[visitors['group'] == 'A']['visitors'].sum() - len(orders_by_users_a['orders'])\n",
    "            ),\n",
    "            name='orders',\n",
    "        ),\n",
    "    ],\n",
    "    axis=0,\n",
    ")\n",
    "\n",
    "\n",
    "sample_b = pd.concat(\n",
    "    [\n",
    "        orders_by_users_b['orders'],\n",
    "        pd.Series(\n",
    "            0,\n",
    "            index=np.arange(\n",
    "                visitors[visitors['group'] == 'B']['visitors'].sum() - len(orders_by_users_b['orders'])\n",
    "            ),\n",
    "            name='orders',\n",
    "        ),\n",
    "    ],\n",
    "    axis=0,\n",
    ")\n",
    "\n",
    "\n",
    "print('Значение P-value:', '{0:.5f}'.format(stats.mannwhitneyu(sample_a, sample_b)[1]))\n",
    "print('Относительная разница между группами:', '{0:.3f}'.format((sample_b.mean()/sample_a.mean()-1)))"
   ]
  },
  {
   "cell_type": "markdown",
   "metadata": {},
   "source": [
    "**Вывод:** \n",
    "- P-value меньше 0.05 - отвергаем нулевую гипотезу. Соответственно, статистически значемые различия в среднем количестве заказов на посетителя между группами есть. \n",
    "- Относительный прирост среднего группы В к группе А - 0.138, то есть ~14%."
   ]
  },
  {
   "cell_type": "markdown",
   "metadata": {},
   "source": [
    "**11.Посчитаем статистическую значимость различий в среднем чеке заказа между группами по «сырым» данным. Сделаем выводы и предположения.**"
   ]
  },
  {
   "cell_type": "markdown",
   "metadata": {},
   "source": [
    "***Сформулируем гипотезы***\n",
    "\n",
    "- H0: различий в среднем чеке заказа между группами нет.\n",
    "- H1: различия в среднем чеке заказа между группами есть.\n",
    "- Коэффициент альфа: 0.05."
   ]
  },
  {
   "cell_type": "code",
   "execution_count": 29,
   "metadata": {},
   "outputs": [
    {
     "name": "stdout",
     "output_type": "stream",
     "text": [
      "Значение P-value: 0.729\n",
      "Относительная разница между группами: 0.259\n"
     ]
    }
   ],
   "source": [
    "print('Значение P-value:', '{0:.3f}'.format(stats.mannwhitneyu(orders[orders['group']=='A']['revenue'], orders[orders['group']=='B']['revenue'])[1]))\n",
    "print('Относительная разница между группами:', '{0:.3f}'.format(orders[orders['group']=='B']['revenue'].mean()/orders[orders['group']=='A']['revenue'].mean()-1))"
   ]
  },
  {
   "cell_type": "markdown",
   "metadata": {},
   "source": [
    "**Вывод:**\n",
    "- P-value больше 0.05 - принимаем нулевую гипотезу. Соответственно, статистически значимых различий в среднем чеке заказа между группами нет. \n",
    "- Относительный прирост среднего чека группы В к группе А - 0.259, то есть ~26%."
   ]
  },
  {
   "cell_type": "markdown",
   "metadata": {},
   "source": [
    "**12.Посчитаем статистическую значимость различий в среднем количестве заказов на посетителя между группами по «очищенным» данным. Сделаем выводы и предположения.**"
   ]
  },
  {
   "cell_type": "markdown",
   "metadata": {},
   "source": [
    "- H0: различий в среднем количестве заказов на посетителя между группами нет.\n",
    "- H1: различия в среднем количестве заказов на посетителя между группами есть.\n",
    "- Коэффициент альфа: 0.05."
   ]
  },
  {
   "cell_type": "code",
   "execution_count": 30,
   "metadata": {},
   "outputs": [
    {
     "name": "stdout",
     "output_type": "stream",
     "text": [
      "1099    148427295\n",
      "18      199603092\n",
      "928     204675465\n",
      "23      237748145\n",
      "684     358944393\n",
      "Name: visitor_id, dtype: int64\n",
      "Количество аномальных пользователей:  57\n"
     ]
    }
   ],
   "source": [
    "#3 - заказы\n",
    "#30000 - сумма\n",
    "\n",
    "#пользователи с большим кол-вом заказов \n",
    "users_with_many_orders = pd.concat(\n",
    "    [\n",
    "        orders_by_users_a[orders_by_users_a['orders'] > 3]['visitor_id'],\n",
    "        orders_by_users_b[orders_by_users_b['orders'] > 3]['visitor_id'],\n",
    "    ],\n",
    "    axis=0,\n",
    ")\n",
    "#пользователи с дорогими заказами\n",
    "users_with_expensive_orders = orders[orders['revenue'] > 30000]['visitor_id']\n",
    "\n",
    "abnormal_users = (\n",
    "    pd.concat([users_with_many_orders, users_with_expensive_orders], axis=0)\n",
    "    .drop_duplicates()\n",
    "    .sort_values()\n",
    ")\n",
    "\n",
    "print(abnormal_users.head(5))\n",
    "print('Количество аномальных пользователей: ', abnormal_users.shape[0])"
   ]
  },
  {
   "cell_type": "code",
   "execution_count": 31,
   "metadata": {},
   "outputs": [
    {
     "name": "stdout",
     "output_type": "stream",
     "text": [
      "Значение P-value: 0.018\n",
      "Относительная разница между группами: 0.148\n"
     ]
    }
   ],
   "source": [
    "sample_a_filtered = pd.concat(\n",
    "    [\n",
    "        orders_by_users_a[\n",
    "            np.logical_not(orders_by_users_a['visitor_id'].isin(abnormal_users))\n",
    "        ]['orders'],\n",
    "        pd.Series(\n",
    "            0,\n",
    "            index=np.arange(\n",
    "               visitors[visitors['group']=='A']['visitors'].sum() - len(orders_by_users_a['orders'])\n",
    "            ),\n",
    "            name='orders',\n",
    "        ),\n",
    "    ],\n",
    "    axis=0,\n",
    ")\n",
    "\n",
    "sample_b_filtered = pd.concat(\n",
    "    [\n",
    "        orders_by_users_b[\n",
    "            np.logical_not(orders_by_users_b['visitor_id'].isin(abnormal_users))\n",
    "        ]['orders'],\n",
    "        pd.Series(\n",
    "            0,\n",
    "            index=np.arange(\n",
    "                visitors[visitors['group']=='B']['visitors'].sum() - len(orders_by_users_b['orders'])\n",
    "            ),\n",
    "            name='orders',\n",
    "        ),\n",
    "    ],\n",
    "    axis=0,\n",
    ") \n",
    "\n",
    "print('Значение P-value:', '{0:.3f}'.format(stats.mannwhitneyu(sample_a_filtered, sample_b_filtered)[1]))\n",
    "print('Относительная разница между группами:', '{0:.3f}'.format(sample_b_filtered.mean()/sample_a_filtered.mean()-1)) "
   ]
  },
  {
   "cell_type": "markdown",
   "metadata": {},
   "source": [
    "**Вывод:** \n",
    "- После удаления аномальных пользователей P-value так же меньше 0.05 - отвергаем нулевую гипотезу. Соответственно, статистически значемые различия в среднем количестве заказов на посетителя между группами есть. \n",
    "- Относительный прирост среднего группы В к группе А вырос - 0.148, то есть ~15%."
   ]
  },
  {
   "cell_type": "markdown",
   "metadata": {},
   "source": [
    "**13.Посчитаем статистическую значимость различий в среднем чеке заказа между группами по «очищенным» данным. Сделаем выводы и предположения.**"
   ]
  },
  {
   "cell_type": "markdown",
   "metadata": {},
   "source": [
    "- H0: различий в среднем чеке заказа между группами нет.\n",
    "- H1: различия в среднем чеке заказа между группами есть.\n",
    "- Коэффициент альфа: 0.05."
   ]
  },
  {
   "cell_type": "code",
   "execution_count": 32,
   "metadata": {},
   "outputs": [
    {
     "name": "stdout",
     "output_type": "stream",
     "text": [
      "Значение P-value: 0.958\n",
      "Относительная разница между группами: -0.020\n"
     ]
    }
   ],
   "source": [
    "print('Значение P-value:',\n",
    "    '{0:.3f}'.format(\n",
    "        stats.mannwhitneyu(\n",
    "            orders[\n",
    "                np.logical_and(\n",
    "                    orders['group'] == 'A',\n",
    "                    np.logical_not(orders['visitor_id'].isin(abnormal_users)),\n",
    "                )\n",
    "            ]['revenue'],\n",
    "            orders[\n",
    "                np.logical_and(\n",
    "                    orders['group'] == 'B',\n",
    "                    np.logical_not(orders['visitor_id'].isin(abnormal_users)),\n",
    "                )\n",
    "            ]['revenue'],\n",
    "        )[1]\n",
    "    )\n",
    ")\n",
    "\n",
    "print('Относительная разница между группами:',\n",
    "    \"{0:.3f}\".format(\n",
    "        orders[\n",
    "            np.logical_and(\n",
    "                orders['group'] == 'B',\n",
    "                np.logical_not(orders['visitor_id'].isin(abnormal_users)),\n",
    "            )\n",
    "        ]['revenue'].mean()\n",
    "        / orders[\n",
    "            np.logical_and(\n",
    "                orders['group'] == 'A',\n",
    "                np.logical_not(orders['visitor_id'].isin(abnormal_users)),\n",
    "            )\n",
    "        ]['revenue'].mean()\n",
    "        - 1\n",
    "    )\n",
    ") "
   ]
  },
  {
   "cell_type": "markdown",
   "metadata": {},
   "source": [
    "**Вывод:** \n",
    "- Как и в случае с \"сырыми\" данными, P-value больше 0.05 - принимаем нулевую гипотезу. Соответственно, статистически значимых различий в среднем чеке заказа между группами нет. \n",
    "- Относительный прирост среднего чека группы В к группе А - (-0.020). Разница между сегментами сократилась с 26% до практически нулевой, средний чек в группе B стал незначительно ниже чем в группе A."
   ]
  },
  {
   "cell_type": "markdown",
   "metadata": {},
   "source": [
    "**14.Примем решение по результатам теста и объясним его:**\n",
    "\n",
    "Остановить тест, зафиксировать победу группы `B`.\n",
    "\n",
    "Основываясь на результатах теста можно сказать, что по среднему количеству заказов (по \"сырым\" данным ~14%, по \"очищенным\" ~15%) показатели ялвляются статистически значимыми и побеждает группа `В`. По среднему чеку различия отсутсвуют."
   ]
  },
  {
   "cell_type": "markdown",
   "metadata": {},
   "source": [
    "**Вывод по разделу 3:**\n",
    "\n",
    "- Выручка в обеих группах растет. Группа `B` лидирует на протяжении всего месяца и у группы `B` произошел скачок приблизительно 18.08.2019 - это может быть резкое повышение числа заказов.\n",
    "- На графике можно наблюдать резкий скачок у группы `B` приблизительно 18.08.2019. После 21.08.2019 коммулятивный средний чек группы `B` снижается, а группы `A` растет, но при этом средний чек у группы `B` выше.\n",
    "- На графике можно наблюдать резкие скачки и ранее наблюдаемый скачок приблизительно 18.08.2019 сохраняется. Возможно, именно в эти дни были сделаны дорогие заказы.\n",
    "- На графике можем увидеть, что в начале обе группы находились примерно у одного значения. Далее группа `B` выросла, а группа `A` снизилась. Среднее количество заказов на посетителя в группе `В` явно больше.\n",
    "- На графике можно увидеть, что в начале среднее количество заказов резко поднималось, а потом опускалось. Но примерно 06.08.2019, получили стабильный прирост, который привысил 20% и установился в пределах от 10 до 15 % к концу периода. Группа `B` лидирует по среднему количеству заказов.\n",
    "- По графику можно сделать вывод, что большинство пользователей не совершает более 2 заказов.\n",
    "- Не более 5 % совершили больше 2-х заказов. Не более 1 % совершили больше 4-х заказов. Установим границу по колличеству заказов на пользователя в 3 шт.\n",
    "- По графику можно сделать выводы, что в среднем стоимость заказов не превышает 200 000р, есть пару выбросов (около 200 тыс. и 1,2 млн.).\n",
    "- Не более 5 % заказов стомостью более 28000 рублей. Не более 1 % заказов стомостью более 58000 рублей. Установим границу по сумме заказа в 30000 рублей.\n",
    "- P-value меньше 0.05 - отвергаем нулевую гипотезу. Соответственно, статистически значемые различия в среднем количестве заказов на посетителя между группами есть. Относительный прирост среднего группы В к группе А - 0.138, то есть ~14%.\n",
    "- P-value больше 0.05 - принимаем нулевую гипотезу. Соответственно, статистически значимых различий в среднем чеке заказа между группами нет. Относительный прирост среднего чека группы В к группе А - 0.259, то есть ~26%.\n",
    "- После удаления аномальных пользователей P-value так же меньше 0.05 - отвергаем нулевую гипотезу. Соответственно, статистически значемые различия в среднем количестве заказов на посетителя между группами есть. Относительный прирост среднего группы В к группе А вырос - 0.148, то есть ~15%.\n",
    "- Как и в случае с \"сырыми\" данными, P-value больше 0.05 - принимаем нулевую гипотезу. Соответственно, статистически значимых различий в среднем чеке заказа между группами нет. Относительный прирост среднего чека группы В к группе А - (-0.020). Разница между сегментами сократилась с 26% до практически нулевой, средний чек в группе B стал незначительно ниже чем в группе A.\n",
    "- Основываясь на результатах теста можно сказать, что по среднему количеству заказов (по \"сырым\" данным ~14%, по \"очищенным\" ~15%) показатели ялвляются статистически значимыми и побеждает группа `В`. По среднему чеку различия отсутсвуют.\n",
    "\n",
    "**Приняли решение по результатам остановить тест, зафиксировать победу группы `B`**"
   ]
  },
  {
   "cell_type": "markdown",
   "metadata": {},
   "source": [
    "### Общий вывод по проекту."
   ]
  },
  {
   "cell_type": "markdown",
   "metadata": {},
   "source": [
    "**Вывод по разделу 1:**\n",
    "\n",
    "В данных:\n",
    "- `hypothesis` (гипотезы) 9 записи.\n",
    "- `orders` (заказы) 1197 записи.\n",
    "- `visitors` (посетители) 62 записи.\n",
    "- привели названия всех столбцов к нижниму регистру у `hypothesis` и изменили названия двух столбцов у `orders`.\n",
    "- привели к типу даты столбцы: `date` у `orders` и `visitors`.\n",
    "- пропущенных значений и дубликатов в таблицах нет.\n",
    "\n",
    "Данные признаны полными и достаточными для исследования.\n",
    "\n",
    "\n",
    "**Вывод по разделу 2:**\n",
    "\n",
    "По фреймворку ICE наиболее приоритетными были гипотезы 8,0 и 7. \n",
    "- 8 - Запустить акцию, дающую скидку на товар в день рождения\n",
    "- 0 - Добавить два новых канала привлечения трафика, что позволит привлекать на 30% больше пользователей\n",
    "- 7 - Добавить форму подписки на все основные страницы, чтобы собрать базу клиентов для email-рассылок\n",
    "\n",
    "После применения фреймворка RICE приоритеты изменились на гпиотезы 7,2 и 0. \n",
    "- 7 - Добавить форму подписки на все основные страницы, чтобы собрать базу клиентов для email-рассылок\n",
    "- 2 - Добавить блоки рекомендаций товаров на сайт интернет магазина, чтобы повысить конверсию и средний чек заказа\t\n",
    "- 0 - Добавить два новых канала привлечения трафика, что позволит привлекать на 30% больше пользователей\n",
    "\n",
    "Это произошло потому что фреймворк RICE учитывает параметр Reach (скольких пользователей затронет изменение, которое вы хотите внести), и в лидеры вышли гипотезы с наибольшим охватом пользователей.\n",
    "\n",
    "В нашем случае наиболее приоритетными гипотезами будут - 7, 2, 0:\n",
    "- 7 - Добавить форму подписки на все основные страницы, чтобы собрать базу клиентов для email-рассылок\n",
    "- 2 - Добавить блоки рекомендаций товаров на сайт интернет магазина, чтобы повысить конверсию и средний чек заказа\t\n",
    "- 0 - Добавить два новых канала привлечения трафика, что позволит привлекать на 30% больше пользователей\n",
    "\n",
    "\n",
    "**Вывод по разделу 3:**\n",
    "\n",
    "- Выручка в обеих группах растет. Группа `B` лидирует на протяжении всего месяца и у группы `B` произошел скачок приблизительно 18.08.2019 - это может быть резкое повышение числа заказов.\n",
    "- На графике можно наблюдать резкий скачок у группы `B` приблизительно 18.08.2019. После 21.08.2019 коммулятивный средний чек группы `B` снижается, а группы `A` растет, но при этом средний чек у группы `B` выше.\n",
    "- На графике можно наблюдать резкие скачки и ранее наблюдаемый скачок приблизительно 18.08.2019 сохраняется. Возможно, именно в эти дни были сделаны дорогие заказы.\n",
    "- На графике можем увидеть, что в начале обе группы находились примерно у одного значения. Далее группа `B` выросла, а группа `A` снизилась. Среднее количество заказов на посетителя в группе `В` явно больше.\n",
    "- На графике можно увидеть, что в начале среднее количество заказов резко поднималось, а потом опускалось. Но примерно 06.08.2019, получили стабильный прирост, который привысил 20% и установился в пределах от 10 до 15 % к концу периода. Группа `B` лидирует по среднему количеству заказов.\n",
    "- По графику можно сделать вывод, что большинство пользователей не совершает более 2 заказов.\n",
    "- Не более 5 % совершили больше 2-х заказов. Не более 1 % совершили больше 4-х заказов. Установим границу по колличеству заказов на пользователя в 3 шт.\n",
    "- По графику можно сделать выводы, что в среднем стоимость заказов не превышает 200 000р, есть пару выбросов (около 200 тыс. и 1,2 млн.).\n",
    "- Не более 5 % заказов стомостью более 28000 рублей. Не более 1 % заказов стомостью более 58000 рублей. Установим границу по сумме заказа в 30000 рублей.\n",
    "- P-value меньше 0.05 - отвергаем нулевую гипотезу. Соответственно, статистически значемые различия в среднем количестве заказов на посетителя между группами есть. Относительный прирост среднего группы В к группе А - 0.138, то есть ~14%.\n",
    "- P-value больше 0.05 - принимаем нулевую гипотезу. Соответственно, статистически значимых различий в среднем чеке заказа между группами нет. Относительный прирост среднего чека группы В к группе А - 0.259, то есть ~26%.\n",
    "- После удаления аномальных пользователей P-value так же меньше 0.05 - отвергаем нулевую гипотезу. Соответственно, статистически значемые различия в среднем количестве заказов на посетителя между группами есть. Относительный прирост среднего группы В к группе А вырос - 0.148, то есть ~15%. \n",
    "- Как и в случае с \"сырыми\" данными, P-value больше 0.05 - принимаем нулевую гипотезу. Соответственно, статистически значимых различий в среднем чеке заказа между группами нет. Относительный прирост среднего чека группы В к группе А - (-0.020). Разница между сегментами сократилась с 26% до практически нулевой, средний чек в группе B стал незначительно ниже чем в группе A.\n",
    "- Основываясь на результатах теста можно сказать, что по среднему количеству заказов (по \"сырым\" данным ~14%, по \"очищенным\" ~15%) показатели ялвляются статистически значимыми и побеждает группа `В`. По среднему чеку различия отсутсвуют.\n",
    "\n",
    "**Приняли решение по результатам остановить тест, зафиксировать победу группы `B`**"
   ]
  }
 ],
 "metadata": {
  "ExecuteTimeLog": [
   {
    "duration": 1380,
    "start_time": "2024-06-15T17:16:59.676Z"
   },
   {
    "duration": 4,
    "start_time": "2024-06-15T17:22:49.007Z"
   },
   {
    "duration": 82,
    "start_time": "2024-06-15T17:24:47.590Z"
   },
   {
    "duration": 45,
    "start_time": "2024-06-15T17:27:06.605Z"
   },
   {
    "duration": 17,
    "start_time": "2024-06-15T17:27:19.660Z"
   },
   {
    "duration": 9,
    "start_time": "2024-06-15T17:28:15.433Z"
   },
   {
    "duration": 11,
    "start_time": "2024-06-15T17:28:59.412Z"
   },
   {
    "duration": 7,
    "start_time": "2024-06-15T17:30:29.222Z"
   },
   {
    "duration": 8,
    "start_time": "2024-06-15T17:32:17.863Z"
   },
   {
    "duration": 6,
    "start_time": "2024-06-15T17:32:29.043Z"
   },
   {
    "duration": 9,
    "start_time": "2024-06-15T17:32:40.967Z"
   },
   {
    "duration": 163,
    "start_time": "2024-06-15T17:35:54.358Z"
   },
   {
    "duration": 16,
    "start_time": "2024-06-15T17:37:18.746Z"
   },
   {
    "duration": 3,
    "start_time": "2024-06-15T17:37:28.773Z"
   },
   {
    "duration": 9,
    "start_time": "2024-06-15T17:37:36.107Z"
   },
   {
    "duration": 3,
    "start_time": "2024-06-15T17:37:40.934Z"
   },
   {
    "duration": 16,
    "start_time": "2024-06-15T17:38:20.916Z"
   },
   {
    "duration": 16,
    "start_time": "2024-06-15T17:39:10.066Z"
   },
   {
    "duration": 3,
    "start_time": "2024-06-15T17:39:52.065Z"
   },
   {
    "duration": 376,
    "start_time": "2024-06-15T17:40:51.866Z"
   },
   {
    "duration": 7,
    "start_time": "2024-06-15T17:42:26.363Z"
   },
   {
    "duration": 14,
    "start_time": "2024-06-15T17:42:38.993Z"
   },
   {
    "duration": 1105,
    "start_time": "2024-06-15T17:43:02.182Z"
   },
   {
    "duration": 82,
    "start_time": "2024-06-15T17:43:03.289Z"
   },
   {
    "duration": 26,
    "start_time": "2024-06-15T17:43:03.374Z"
   },
   {
    "duration": 4,
    "start_time": "2024-06-15T17:43:03.403Z"
   },
   {
    "duration": 21,
    "start_time": "2024-06-15T17:43:03.409Z"
   },
   {
    "duration": 28,
    "start_time": "2024-06-15T17:43:03.432Z"
   },
   {
    "duration": 22,
    "start_time": "2024-06-15T17:43:03.462Z"
   },
   {
    "duration": 13,
    "start_time": "2024-06-15T17:43:03.486Z"
   },
   {
    "duration": 8,
    "start_time": "2024-06-15T17:43:03.501Z"
   },
   {
    "duration": 11,
    "start_time": "2024-06-15T17:43:17.516Z"
   },
   {
    "duration": 6,
    "start_time": "2024-06-15T17:50:56.028Z"
   },
   {
    "duration": 11,
    "start_time": "2024-06-15T17:52:12.828Z"
   },
   {
    "duration": 9,
    "start_time": "2024-06-15T17:52:15.291Z"
   },
   {
    "duration": 4,
    "start_time": "2024-06-15T17:53:11.434Z"
   },
   {
    "duration": 11,
    "start_time": "2024-06-15T17:53:23.884Z"
   },
   {
    "duration": 4,
    "start_time": "2024-06-15T18:01:54.592Z"
   },
   {
    "duration": 14,
    "start_time": "2024-06-15T18:02:01.791Z"
   },
   {
    "duration": 296,
    "start_time": "2024-06-15T18:05:32.226Z"
   },
   {
    "duration": 1179,
    "start_time": "2024-06-15T18:05:42.835Z"
   },
   {
    "duration": 76,
    "start_time": "2024-06-15T18:05:44.016Z"
   },
   {
    "duration": 21,
    "start_time": "2024-06-15T18:05:44.093Z"
   },
   {
    "duration": 4,
    "start_time": "2024-06-15T18:05:44.115Z"
   },
   {
    "duration": 19,
    "start_time": "2024-06-15T18:05:44.121Z"
   },
   {
    "duration": 332,
    "start_time": "2024-06-15T18:05:44.141Z"
   },
   {
    "duration": 0,
    "start_time": "2024-06-15T18:05:44.475Z"
   },
   {
    "duration": 0,
    "start_time": "2024-06-15T18:05:44.476Z"
   },
   {
    "duration": 0,
    "start_time": "2024-06-15T18:05:44.477Z"
   },
   {
    "duration": 0,
    "start_time": "2024-06-15T18:05:44.478Z"
   },
   {
    "duration": 0,
    "start_time": "2024-06-15T18:05:44.479Z"
   },
   {
    "duration": 393,
    "start_time": "2024-06-15T18:06:21.472Z"
   },
   {
    "duration": 6,
    "start_time": "2024-06-15T18:06:47.829Z"
   },
   {
    "duration": 1094,
    "start_time": "2024-06-15T18:06:57.798Z"
   },
   {
    "duration": 75,
    "start_time": "2024-06-15T18:06:58.894Z"
   },
   {
    "duration": 20,
    "start_time": "2024-06-15T18:06:58.971Z"
   },
   {
    "duration": 10,
    "start_time": "2024-06-15T18:06:58.994Z"
   },
   {
    "duration": 23,
    "start_time": "2024-06-15T18:06:59.005Z"
   },
   {
    "duration": 5,
    "start_time": "2024-06-15T18:06:59.030Z"
   },
   {
    "duration": 10,
    "start_time": "2024-06-15T18:06:59.036Z"
   },
   {
    "duration": 16,
    "start_time": "2024-06-15T18:06:59.047Z"
   },
   {
    "duration": 4,
    "start_time": "2024-06-15T18:06:59.064Z"
   },
   {
    "duration": 8,
    "start_time": "2024-06-15T18:06:59.070Z"
   },
   {
    "duration": 9,
    "start_time": "2024-06-15T18:06:59.080Z"
   },
   {
    "duration": 112,
    "start_time": "2024-06-15T18:15:45.043Z"
   },
   {
    "duration": 8,
    "start_time": "2024-06-15T18:15:54.205Z"
   },
   {
    "duration": 8,
    "start_time": "2024-06-15T18:23:05.539Z"
   },
   {
    "duration": 9,
    "start_time": "2024-06-15T18:23:10.736Z"
   },
   {
    "duration": 4,
    "start_time": "2024-06-15T18:35:14.718Z"
   },
   {
    "duration": 6,
    "start_time": "2024-06-15T18:35:26.323Z"
   },
   {
    "duration": 1203,
    "start_time": "2024-06-16T08:14:22.203Z"
   },
   {
    "duration": 220,
    "start_time": "2024-06-16T08:14:23.408Z"
   },
   {
    "duration": 16,
    "start_time": "2024-06-16T08:14:23.630Z"
   },
   {
    "duration": 5,
    "start_time": "2024-06-16T08:14:23.648Z"
   },
   {
    "duration": 14,
    "start_time": "2024-06-16T08:14:23.654Z"
   },
   {
    "duration": 5,
    "start_time": "2024-06-16T08:14:23.669Z"
   },
   {
    "duration": 6,
    "start_time": "2024-06-16T08:14:23.675Z"
   },
   {
    "duration": 12,
    "start_time": "2024-06-16T08:14:23.682Z"
   },
   {
    "duration": 8,
    "start_time": "2024-06-16T08:14:23.695Z"
   },
   {
    "duration": 18,
    "start_time": "2024-06-16T08:14:23.705Z"
   },
   {
    "duration": 24,
    "start_time": "2024-06-16T08:14:23.724Z"
   },
   {
    "duration": 7,
    "start_time": "2024-06-16T08:14:23.749Z"
   },
   {
    "duration": 15,
    "start_time": "2024-06-16T08:14:23.757Z"
   },
   {
    "duration": 242,
    "start_time": "2024-06-16T08:40:24.208Z"
   },
   {
    "duration": 91,
    "start_time": "2024-06-16T08:42:04.299Z"
   },
   {
    "duration": 238,
    "start_time": "2024-06-16T08:42:22.549Z"
   },
   {
    "duration": 250,
    "start_time": "2024-06-16T08:42:42.029Z"
   },
   {
    "duration": 168,
    "start_time": "2024-06-16T08:42:53.429Z"
   },
   {
    "duration": 180,
    "start_time": "2024-06-16T08:43:06.010Z"
   },
   {
    "duration": 166,
    "start_time": "2024-06-16T08:43:14.470Z"
   },
   {
    "duration": 153,
    "start_time": "2024-06-16T08:43:24.725Z"
   },
   {
    "duration": 172,
    "start_time": "2024-06-16T08:45:53.714Z"
   },
   {
    "duration": 167,
    "start_time": "2024-06-16T08:47:12.984Z"
   },
   {
    "duration": 12,
    "start_time": "2024-06-16T08:59:18.082Z"
   },
   {
    "duration": 218,
    "start_time": "2024-06-16T08:59:56.197Z"
   },
   {
    "duration": 256,
    "start_time": "2024-06-16T09:15:58.666Z"
   },
   {
    "duration": 234,
    "start_time": "2024-06-16T09:18:33.065Z"
   },
   {
    "duration": 171,
    "start_time": "2024-06-16T09:31:53.539Z"
   },
   {
    "duration": 258,
    "start_time": "2024-06-16T09:42:53.085Z"
   },
   {
    "duration": 249,
    "start_time": "2024-06-16T09:43:36.581Z"
   },
   {
    "duration": 9,
    "start_time": "2024-06-16T09:52:13.756Z"
   },
   {
    "duration": 117,
    "start_time": "2024-06-16T09:53:56.850Z"
   },
   {
    "duration": 118,
    "start_time": "2024-06-16T09:54:31.199Z"
   },
   {
    "duration": 114,
    "start_time": "2024-06-16T10:01:33.346Z"
   },
   {
    "duration": 4,
    "start_time": "2024-06-16T10:03:11.725Z"
   },
   {
    "duration": 90,
    "start_time": "2024-06-16T10:08:11.667Z"
   },
   {
    "duration": 125,
    "start_time": "2024-06-16T10:09:05.612Z"
   },
   {
    "duration": 6,
    "start_time": "2024-06-16T10:17:32.510Z"
   },
   {
    "duration": 126,
    "start_time": "2024-06-16T10:17:56.452Z"
   },
   {
    "duration": 148,
    "start_time": "2024-06-16T10:25:49.785Z"
   },
   {
    "duration": 207,
    "start_time": "2024-06-16T10:25:57.768Z"
   },
   {
    "duration": 4,
    "start_time": "2024-06-16T10:28:06.419Z"
   },
   {
    "duration": 51,
    "start_time": "2024-06-16T11:59:22.478Z"
   },
   {
    "duration": 1388,
    "start_time": "2024-06-16T11:59:33.186Z"
   },
   {
    "duration": 221,
    "start_time": "2024-06-16T11:59:34.577Z"
   },
   {
    "duration": 22,
    "start_time": "2024-06-16T11:59:34.800Z"
   },
   {
    "duration": 4,
    "start_time": "2024-06-16T11:59:34.824Z"
   },
   {
    "duration": 34,
    "start_time": "2024-06-16T11:59:34.830Z"
   },
   {
    "duration": 9,
    "start_time": "2024-06-16T11:59:34.867Z"
   },
   {
    "duration": 18,
    "start_time": "2024-06-16T11:59:34.878Z"
   },
   {
    "duration": 42,
    "start_time": "2024-06-16T11:59:34.898Z"
   },
   {
    "duration": 6,
    "start_time": "2024-06-16T11:59:34.942Z"
   },
   {
    "duration": 17,
    "start_time": "2024-06-16T11:59:34.952Z"
   },
   {
    "duration": 8,
    "start_time": "2024-06-16T11:59:34.971Z"
   },
   {
    "duration": 17,
    "start_time": "2024-06-16T11:59:34.980Z"
   },
   {
    "duration": 20,
    "start_time": "2024-06-16T11:59:34.999Z"
   },
   {
    "duration": 327,
    "start_time": "2024-06-16T11:59:35.021Z"
   },
   {
    "duration": 318,
    "start_time": "2024-06-16T11:59:35.350Z"
   },
   {
    "duration": 221,
    "start_time": "2024-06-16T11:59:35.669Z"
   },
   {
    "duration": 375,
    "start_time": "2024-06-16T11:59:35.893Z"
   },
   {
    "duration": 246,
    "start_time": "2024-06-16T11:59:36.270Z"
   },
   {
    "duration": 377,
    "start_time": "2024-06-16T11:59:36.518Z"
   },
   {
    "duration": 14,
    "start_time": "2024-06-16T11:59:36.897Z"
   },
   {
    "duration": 190,
    "start_time": "2024-06-16T11:59:36.913Z"
   },
   {
    "duration": 7,
    "start_time": "2024-06-16T11:59:37.106Z"
   },
   {
    "duration": 19,
    "start_time": "2024-06-16T11:59:37.115Z"
   },
   {
    "duration": 191,
    "start_time": "2024-06-16T11:59:37.137Z"
   },
   {
    "duration": 5,
    "start_time": "2024-06-16T11:59:37.330Z"
   },
   {
    "duration": 122,
    "start_time": "2024-06-16T11:59:37.336Z"
   },
   {
    "duration": 180,
    "start_time": "2024-06-16T12:03:01.800Z"
   },
   {
    "duration": 1069,
    "start_time": "2024-06-16T12:03:03.736Z"
   },
   {
    "duration": 146,
    "start_time": "2024-06-16T12:04:49.094Z"
   },
   {
    "duration": 9,
    "start_time": "2024-06-16T12:04:49.929Z"
   },
   {
    "duration": 13,
    "start_time": "2024-06-16T12:14:18.625Z"
   },
   {
    "duration": 939,
    "start_time": "2024-06-16T12:14:47.828Z"
   },
   {
    "duration": 42,
    "start_time": "2024-06-16T12:19:13.166Z"
   },
   {
    "duration": 41,
    "start_time": "2024-06-16T12:19:27.582Z"
   },
   {
    "duration": 54,
    "start_time": "2024-06-16T12:28:02.161Z"
   },
   {
    "duration": 50,
    "start_time": "2024-06-16T12:36:26.813Z"
   },
   {
    "duration": 15,
    "start_time": "2024-06-16T12:41:23.842Z"
   },
   {
    "duration": 32,
    "start_time": "2024-06-16T12:41:45.310Z"
   },
   {
    "duration": 1225,
    "start_time": "2024-06-16T13:05:14.856Z"
   },
   {
    "duration": 16,
    "start_time": "2024-06-16T13:05:59.571Z"
   },
   {
    "duration": 36,
    "start_time": "2024-06-16T13:18:55.534Z"
   },
   {
    "duration": 19,
    "start_time": "2024-06-16T13:26:05.906Z"
   },
   {
    "duration": 53,
    "start_time": "2024-06-16T15:08:27.876Z"
   },
   {
    "duration": 1474,
    "start_time": "2024-06-16T15:08:37.579Z"
   },
   {
    "duration": 227,
    "start_time": "2024-06-16T15:08:39.055Z"
   },
   {
    "duration": 21,
    "start_time": "2024-06-16T15:08:39.284Z"
   },
   {
    "duration": 5,
    "start_time": "2024-06-16T15:08:39.308Z"
   },
   {
    "duration": 27,
    "start_time": "2024-06-16T15:08:39.315Z"
   },
   {
    "duration": 6,
    "start_time": "2024-06-16T15:08:39.344Z"
   },
   {
    "duration": 11,
    "start_time": "2024-06-16T15:08:39.360Z"
   },
   {
    "duration": 33,
    "start_time": "2024-06-16T15:08:39.373Z"
   },
   {
    "duration": 9,
    "start_time": "2024-06-16T15:08:39.408Z"
   },
   {
    "duration": 13,
    "start_time": "2024-06-16T15:08:39.420Z"
   },
   {
    "duration": 14,
    "start_time": "2024-06-16T15:08:39.435Z"
   },
   {
    "duration": 26,
    "start_time": "2024-06-16T15:08:39.451Z"
   },
   {
    "duration": 13,
    "start_time": "2024-06-16T15:08:39.479Z"
   },
   {
    "duration": 358,
    "start_time": "2024-06-16T15:08:39.495Z"
   },
   {
    "duration": 348,
    "start_time": "2024-06-16T15:08:39.854Z"
   },
   {
    "duration": 233,
    "start_time": "2024-06-16T15:08:40.203Z"
   },
   {
    "duration": 391,
    "start_time": "2024-06-16T15:08:40.438Z"
   },
   {
    "duration": 248,
    "start_time": "2024-06-16T15:08:40.831Z"
   },
   {
    "duration": 334,
    "start_time": "2024-06-16T15:08:41.081Z"
   },
   {
    "duration": 17,
    "start_time": "2024-06-16T15:08:41.418Z"
   },
   {
    "duration": 178,
    "start_time": "2024-06-16T15:08:41.437Z"
   },
   {
    "duration": 4,
    "start_time": "2024-06-16T15:08:41.617Z"
   },
   {
    "duration": 8,
    "start_time": "2024-06-16T15:08:41.623Z"
   },
   {
    "duration": 212,
    "start_time": "2024-06-16T15:08:41.633Z"
   },
   {
    "duration": 4,
    "start_time": "2024-06-16T15:08:41.847Z"
   },
   {
    "duration": 194,
    "start_time": "2024-06-16T15:08:41.853Z"
   },
   {
    "duration": 14,
    "start_time": "2024-06-16T15:08:42.049Z"
   },
   {
    "duration": 40,
    "start_time": "2024-06-16T15:08:42.068Z"
   },
   {
    "duration": 11,
    "start_time": "2024-06-16T15:08:42.110Z"
   },
   {
    "duration": 41,
    "start_time": "2024-06-16T15:08:42.123Z"
   },
   {
    "duration": 58,
    "start_time": "2024-06-16T15:08:42.168Z"
   },
   {
    "duration": 15,
    "start_time": "2024-06-16T15:08:42.228Z"
   },
   {
    "duration": 7,
    "start_time": "2024-06-16T15:12:18.757Z"
   },
   {
    "duration": 29,
    "start_time": "2024-06-16T15:12:22.958Z"
   },
   {
    "duration": 14,
    "start_time": "2024-06-16T15:15:02.726Z"
   },
   {
    "duration": 19,
    "start_time": "2024-06-16T15:17:25.564Z"
   },
   {
    "duration": 4,
    "start_time": "2024-06-16T15:21:12.154Z"
   },
   {
    "duration": 16,
    "start_time": "2024-06-16T15:21:21.830Z"
   },
   {
    "duration": 258,
    "start_time": "2024-06-16T15:28:47.168Z"
   },
   {
    "duration": 316,
    "start_time": "2024-06-16T15:31:08.210Z"
   },
   {
    "duration": 1142,
    "start_time": "2024-06-16T15:42:19.857Z"
   },
   {
    "duration": 74,
    "start_time": "2024-06-16T15:42:21.001Z"
   },
   {
    "duration": 21,
    "start_time": "2024-06-16T15:42:21.077Z"
   },
   {
    "duration": 7,
    "start_time": "2024-06-16T15:42:21.100Z"
   },
   {
    "duration": 25,
    "start_time": "2024-06-16T15:42:21.108Z"
   },
   {
    "duration": 10,
    "start_time": "2024-06-16T15:42:21.135Z"
   },
   {
    "duration": 13,
    "start_time": "2024-06-16T15:42:21.147Z"
   },
   {
    "duration": 30,
    "start_time": "2024-06-16T15:42:21.162Z"
   },
   {
    "duration": 14,
    "start_time": "2024-06-16T15:42:21.194Z"
   },
   {
    "duration": 23,
    "start_time": "2024-06-16T15:42:21.211Z"
   },
   {
    "duration": 16,
    "start_time": "2024-06-16T15:42:21.236Z"
   },
   {
    "duration": 19,
    "start_time": "2024-06-16T15:42:21.254Z"
   },
   {
    "duration": 8,
    "start_time": "2024-06-16T15:42:21.275Z"
   },
   {
    "duration": 312,
    "start_time": "2024-06-16T15:42:21.284Z"
   },
   {
    "duration": 312,
    "start_time": "2024-06-16T15:42:21.598Z"
   },
   {
    "duration": 235,
    "start_time": "2024-06-16T15:42:21.912Z"
   },
   {
    "duration": 331,
    "start_time": "2024-06-16T15:42:22.149Z"
   },
   {
    "duration": 259,
    "start_time": "2024-06-16T15:42:22.482Z"
   },
   {
    "duration": 346,
    "start_time": "2024-06-16T15:42:22.742Z"
   },
   {
    "duration": 12,
    "start_time": "2024-06-16T15:42:23.090Z"
   },
   {
    "duration": 158,
    "start_time": "2024-06-16T15:42:23.104Z"
   },
   {
    "duration": 6,
    "start_time": "2024-06-16T15:42:23.264Z"
   },
   {
    "duration": 11,
    "start_time": "2024-06-16T15:42:23.271Z"
   },
   {
    "duration": 169,
    "start_time": "2024-06-16T15:42:23.284Z"
   },
   {
    "duration": 9,
    "start_time": "2024-06-16T15:42:23.455Z"
   },
   {
    "duration": 144,
    "start_time": "2024-06-16T15:42:23.465Z"
   },
   {
    "duration": 7,
    "start_time": "2024-06-16T15:42:23.611Z"
   },
   {
    "duration": 50,
    "start_time": "2024-06-16T15:42:23.620Z"
   },
   {
    "duration": 14,
    "start_time": "2024-06-16T15:42:23.672Z"
   },
   {
    "duration": 17,
    "start_time": "2024-06-16T15:42:23.688Z"
   },
   {
    "duration": 32,
    "start_time": "2024-06-16T15:42:23.707Z"
   },
   {
    "duration": 30,
    "start_time": "2024-06-16T15:42:23.741Z"
   },
   {
    "duration": 12,
    "start_time": "2024-06-16T15:43:11.516Z"
   },
   {
    "duration": 1170,
    "start_time": "2024-06-16T15:43:21.606Z"
   },
   {
    "duration": 74,
    "start_time": "2024-06-16T15:43:22.778Z"
   },
   {
    "duration": 21,
    "start_time": "2024-06-16T15:43:22.854Z"
   },
   {
    "duration": 4,
    "start_time": "2024-06-16T15:43:22.878Z"
   },
   {
    "duration": 19,
    "start_time": "2024-06-16T15:43:22.884Z"
   },
   {
    "duration": 6,
    "start_time": "2024-06-16T15:43:22.904Z"
   },
   {
    "duration": 4,
    "start_time": "2024-06-16T15:43:22.911Z"
   },
   {
    "duration": 15,
    "start_time": "2024-06-16T15:43:22.917Z"
   },
   {
    "duration": 4,
    "start_time": "2024-06-16T15:43:22.962Z"
   },
   {
    "duration": 10,
    "start_time": "2024-06-16T15:43:22.968Z"
   },
   {
    "duration": 8,
    "start_time": "2024-06-16T15:43:22.980Z"
   },
   {
    "duration": 11,
    "start_time": "2024-06-16T15:43:22.990Z"
   },
   {
    "duration": 11,
    "start_time": "2024-06-16T15:43:23.003Z"
   },
   {
    "duration": 310,
    "start_time": "2024-06-16T15:43:23.015Z"
   },
   {
    "duration": 306,
    "start_time": "2024-06-16T15:43:23.327Z"
   },
   {
    "duration": 211,
    "start_time": "2024-06-16T15:43:23.635Z"
   },
   {
    "duration": 352,
    "start_time": "2024-06-16T15:43:23.848Z"
   },
   {
    "duration": 239,
    "start_time": "2024-06-16T15:43:24.201Z"
   },
   {
    "duration": 340,
    "start_time": "2024-06-16T15:43:24.442Z"
   },
   {
    "duration": 12,
    "start_time": "2024-06-16T15:43:24.783Z"
   },
   {
    "duration": 157,
    "start_time": "2024-06-16T15:43:24.796Z"
   },
   {
    "duration": 9,
    "start_time": "2024-06-16T15:43:24.954Z"
   },
   {
    "duration": 9,
    "start_time": "2024-06-16T15:43:24.964Z"
   },
   {
    "duration": 168,
    "start_time": "2024-06-16T15:43:24.974Z"
   },
   {
    "duration": 4,
    "start_time": "2024-06-16T15:43:25.144Z"
   },
   {
    "duration": 156,
    "start_time": "2024-06-16T15:43:25.160Z"
   },
   {
    "duration": 7,
    "start_time": "2024-06-16T15:43:25.318Z"
   },
   {
    "duration": 42,
    "start_time": "2024-06-16T15:43:25.328Z"
   },
   {
    "duration": 11,
    "start_time": "2024-06-16T15:43:25.372Z"
   },
   {
    "duration": 10,
    "start_time": "2024-06-16T15:43:25.385Z"
   },
   {
    "duration": 32,
    "start_time": "2024-06-16T15:43:25.397Z"
   },
   {
    "duration": 40,
    "start_time": "2024-06-16T15:43:25.431Z"
   },
   {
    "duration": 1261,
    "start_time": "2024-06-18T07:39:04.479Z"
   }
  ],
  "kernelspec": {
   "display_name": "Python 3 (ipykernel)",
   "language": "python",
   "name": "python3"
  },
  "language_info": {
   "codemirror_mode": {
    "name": "ipython",
    "version": 3
   },
   "file_extension": ".py",
   "mimetype": "text/x-python",
   "name": "python",
   "nbconvert_exporter": "python",
   "pygments_lexer": "ipython3",
   "version": "3.9.5"
  },
  "toc": {
   "base_numbering": 1,
   "nav_menu": {},
   "number_sections": true,
   "sideBar": true,
   "skip_h1_title": true,
   "title_cell": "Table of Contents",
   "title_sidebar": "Contents",
   "toc_cell": false,
   "toc_position": {},
   "toc_section_display": true,
   "toc_window_display": false
  }
 },
 "nbformat": 4,
 "nbformat_minor": 2
}
