{
 "cells": [
  {
   "cell_type": "markdown",
   "id": "1f90d971",
   "metadata": {},
   "source": [
    "# Статистический анализ данных "
   ]
  },
  {
   "cell_type": "markdown",
   "id": "ca2ff494",
   "metadata": {},
   "source": [
    "**Описание проекта**:\n",
    "\n",
    "Проанализируем данные и проверим некоторые гипотезы, которые могут помочь бизнесу вырасти.\n",
    "\n",
    "Пользователи сервиса GoFast пользуются мобильным приложением. Сервисом можно пользоваться:\n",
    "- без подписки\n",
    " - абонентская плата отсутствует;\n",
    " - стоимость одной минуты поездки — 8 рублей;\n",
    " - стоимость старта (начала поездки) — 50 рублей;\n",
    "- с подпиской Ultra\n",
    " - абонентская плата — 199 рублей в месяц;\n",
    " - стоимость одной минуты поездки — 6 рублей;\n",
    " - стоимость старта — бесплатно.\n",
    " \n",
    " "
   ]
  },
  {
   "cell_type": "markdown",
   "id": "1bc142ae",
   "metadata": {},
   "source": [
    "**Описание данных**\n",
    "\n",
    "В основных данных есть информация о пользователях, их поездках и подписках.\n",
    "\n",
    "**Пользователи — `users_go.csv`**:\n",
    "- `user_id` - уникальный идентификатор пользователя\n",
    "- `name` - имя пользователя\n",
    "- `age` -\tвозраст\n",
    "- `city` - город\n",
    "- `subscription_type`\t- тип подписки (free, ultra)\n",
    "\n",
    "**Поездки — `rides_go.csv`**: \n",
    "- `user_id` - уникальный идентификатор пользователя\n",
    "- `distance` - расстояние, которое пользователь проехал в текущей сессии (в метрах)\n",
    "- `duration` - продолжительность сессии (в минутах) — время с того момента, как пользователь нажал кнопку «Начать поездку» до момента, как он нажал кнопку «Завершить поездку»\n",
    "- `date` - дата совершения поездки\n",
    "\n",
    "**Подписки — `subscriptions_go.csv`**:\n",
    "- `subscription_type` - тип подписки\n",
    "- `minute_price` - стоимость одной минуты поездки по данной подписке\n",
    "- `start_ride_price` - стоимость начала поездки\n",
    "- `subscription_fee` - стоимость ежемесячного платежа"
   ]
  },
  {
   "cell_type": "markdown",
   "id": "7307b06a",
   "metadata": {},
   "source": [
    "**План работы**:\n",
    "\n",
    "**1. Загрузка данных**\n",
    "- Считываем CSV-файлы с данными с помощью библиотеки pandas и сохраняем их в датафреймы. \n",
    "- Выводим первые строки каждого набора данных и изучаем общую информацию о каждом датафрейме.\n",
    "\n",
    "**2. Предоработка данных**\n",
    "- Приводим столбец date к типу даты pandas.\n",
    "- Создаём новый столбец с номером месяца на основе столбца date.\n",
    "- Проверяем наличие пропущенных значений и дубликатов в датафреймах. Обработаем их, если такие значения присутствуют.\n",
    "\n",
    "**3. Исследовательский анализ данных**\n",
    "\n",
    "Описываем и визуализируем общую информацию о пользователях и поездках:\n",
    "- частота встречаемости городов;\n",
    "- соотношение пользователей с подпиской и без подписки;\n",
    "- возраст пользователей;\n",
    "- расстояние, которое пользователь преодолел за одну поездку;\n",
    "- продолжительность поездок.\n",
    "\n",
    "**4. Объединение данных**\n",
    "- Объединяем данные о пользователях, поездках и подписках в один датафрейм. \n",
    "- Создаём ещё два датафрейма из датафрейма, созданного на этапе 4.1:\n",
    " - c данными о пользователях без подписки;\n",
    " - с данными о пользователях с подпиской.\n",
    "- Визуализируем информацию о расстоянии и времени поездок для пользователей обеих категорий.\n",
    "\n",
    "**5. Подсчет выручки**\n",
    "- Создаём датафрейм с агрегированными данными о поездках на основе датафрейма с объединёнными данными из шага 4: найдём суммарное расстояние, количество поездок и суммарное время для каждого пользователя за каждый месяц.\n",
    "- В этот же датафрейм добавляем столбец с помесячной выручкой, которую принёс каждый пользователь. \n",
    "\n",
    "**6. Проверка гипотез**\n",
    "- Проверяем гипотезу - тратят ли пользователи с подпиской больше времени на поездки? \n",
    "- Проверяем гипотезу - среднее расстояние, которое проезжают пользователи с подпиской за одну поездку, не превышает 3130 метров? \n",
    "- Проверяем гипотезу - будет ли помесячная выручка от пользователей с подпиской по месяцам выше, чем выручка от пользователей без подписки?\n",
    "- Определяем какой тест нам понадобится для проверки данной гипотезы: техническая команда сервиса обновила сервера, с которыми взаимодействует мобильное приложение. Она надеется, что из-за этого количество обращений в техподдержку значимо снизилось. Некоторый файл содержит для каждого пользователя данные о количестве обращений до обновления и после него.\n",
    "\n",
    "**7. Общий вывод по проекту**"
   ]
  },
  {
   "cell_type": "code",
   "execution_count": 1,
   "id": "bad22a74",
   "metadata": {},
   "outputs": [],
   "source": [
    "import pandas as pd\n",
    "import matplotlib.pyplot as plt\n",
    "import numpy as np\n",
    "from scipy import stats as st\n",
    "from scipy.stats import binom"
   ]
  },
  {
   "cell_type": "markdown",
   "id": "59163a91",
   "metadata": {},
   "source": [
    "#### Шаг 1. Загрузка данных.\n"
   ]
  },
  {
   "cell_type": "markdown",
   "id": "0acaf4be",
   "metadata": {},
   "source": [
    "**1.1 Считываю CSV-файлы с данными**"
   ]
  },
  {
   "cell_type": "code",
   "execution_count": 2,
   "id": "97107fc7",
   "metadata": {},
   "outputs": [],
   "source": [
    "users_go = pd.read_csv('/datasets/users_go.csv')\n",
    "rides_go = pd.read_csv('/datasets/rides_go.csv')\n",
    "subscriptions_go = pd.read_csv('/datasets/subscriptions_go.csv')"
   ]
  },
  {
   "cell_type": "markdown",
   "id": "38d1de50",
   "metadata": {},
   "source": [
    "**1.2. Изучаю общую информацию о датафрейме**"
   ]
  },
  {
   "cell_type": "markdown",
   "id": "b83b6f7e",
   "metadata": {},
   "source": [
    "**Пользователи - `users_go`**"
   ]
  },
  {
   "cell_type": "code",
   "execution_count": 3,
   "id": "3c8d76dc",
   "metadata": {},
   "outputs": [
    {
     "name": "stdout",
     "output_type": "stream",
     "text": [
      "<class 'pandas.core.frame.DataFrame'>\n",
      "RangeIndex: 1565 entries, 0 to 1564\n",
      "Data columns (total 5 columns):\n",
      " #   Column             Non-Null Count  Dtype \n",
      "---  ------             --------------  ----- \n",
      " 0   user_id            1565 non-null   int64 \n",
      " 1   name               1565 non-null   object\n",
      " 2   age                1565 non-null   int64 \n",
      " 3   city               1565 non-null   object\n",
      " 4   subscription_type  1565 non-null   object\n",
      "dtypes: int64(2), object(3)\n",
      "memory usage: 61.3+ KB\n"
     ]
    },
    {
     "data": {
      "text/html": [
       "<div>\n",
       "<style scoped>\n",
       "    .dataframe tbody tr th:only-of-type {\n",
       "        vertical-align: middle;\n",
       "    }\n",
       "\n",
       "    .dataframe tbody tr th {\n",
       "        vertical-align: top;\n",
       "    }\n",
       "\n",
       "    .dataframe thead th {\n",
       "        text-align: right;\n",
       "    }\n",
       "</style>\n",
       "<table border=\"1\" class=\"dataframe\">\n",
       "  <thead>\n",
       "    <tr style=\"text-align: right;\">\n",
       "      <th></th>\n",
       "      <th>user_id</th>\n",
       "      <th>name</th>\n",
       "      <th>age</th>\n",
       "      <th>city</th>\n",
       "      <th>subscription_type</th>\n",
       "    </tr>\n",
       "  </thead>\n",
       "  <tbody>\n",
       "    <tr>\n",
       "      <th>0</th>\n",
       "      <td>1</td>\n",
       "      <td>Кира</td>\n",
       "      <td>22</td>\n",
       "      <td>Тюмень</td>\n",
       "      <td>ultra</td>\n",
       "    </tr>\n",
       "    <tr>\n",
       "      <th>1</th>\n",
       "      <td>2</td>\n",
       "      <td>Станислав</td>\n",
       "      <td>31</td>\n",
       "      <td>Омск</td>\n",
       "      <td>ultra</td>\n",
       "    </tr>\n",
       "    <tr>\n",
       "      <th>2</th>\n",
       "      <td>3</td>\n",
       "      <td>Алексей</td>\n",
       "      <td>20</td>\n",
       "      <td>Москва</td>\n",
       "      <td>ultra</td>\n",
       "    </tr>\n",
       "    <tr>\n",
       "      <th>3</th>\n",
       "      <td>4</td>\n",
       "      <td>Константин</td>\n",
       "      <td>26</td>\n",
       "      <td>Ростов-на-Дону</td>\n",
       "      <td>ultra</td>\n",
       "    </tr>\n",
       "    <tr>\n",
       "      <th>4</th>\n",
       "      <td>5</td>\n",
       "      <td>Адель</td>\n",
       "      <td>28</td>\n",
       "      <td>Омск</td>\n",
       "      <td>ultra</td>\n",
       "    </tr>\n",
       "    <tr>\n",
       "      <th>5</th>\n",
       "      <td>6</td>\n",
       "      <td>Регина</td>\n",
       "      <td>25</td>\n",
       "      <td>Краснодар</td>\n",
       "      <td>ultra</td>\n",
       "    </tr>\n",
       "    <tr>\n",
       "      <th>6</th>\n",
       "      <td>7</td>\n",
       "      <td>Игорь</td>\n",
       "      <td>23</td>\n",
       "      <td>Омск</td>\n",
       "      <td>ultra</td>\n",
       "    </tr>\n",
       "    <tr>\n",
       "      <th>7</th>\n",
       "      <td>8</td>\n",
       "      <td>Юрий</td>\n",
       "      <td>23</td>\n",
       "      <td>Краснодар</td>\n",
       "      <td>ultra</td>\n",
       "    </tr>\n",
       "    <tr>\n",
       "      <th>8</th>\n",
       "      <td>9</td>\n",
       "      <td>Ян</td>\n",
       "      <td>21</td>\n",
       "      <td>Пятигорск</td>\n",
       "      <td>ultra</td>\n",
       "    </tr>\n",
       "    <tr>\n",
       "      <th>9</th>\n",
       "      <td>10</td>\n",
       "      <td>Валерий</td>\n",
       "      <td>18</td>\n",
       "      <td>Екатеринбург</td>\n",
       "      <td>ultra</td>\n",
       "    </tr>\n",
       "  </tbody>\n",
       "</table>\n",
       "</div>"
      ],
      "text/plain": [
       "   user_id        name  age            city subscription_type\n",
       "0        1        Кира   22          Тюмень             ultra\n",
       "1        2   Станислав   31            Омск             ultra\n",
       "2        3     Алексей   20          Москва             ultra\n",
       "3        4  Константин   26  Ростов-на-Дону             ultra\n",
       "4        5       Адель   28            Омск             ultra\n",
       "5        6      Регина   25       Краснодар             ultra\n",
       "6        7       Игорь   23            Омск             ultra\n",
       "7        8        Юрий   23       Краснодар             ultra\n",
       "8        9          Ян   21       Пятигорск             ultra\n",
       "9       10     Валерий   18    Екатеринбург             ultra"
      ]
     },
     "execution_count": 3,
     "metadata": {},
     "output_type": "execute_result"
    }
   ],
   "source": [
    "users_go.info()\n",
    "users_go.head(10)"
   ]
  },
  {
   "cell_type": "markdown",
   "id": "dbe6fa2b",
   "metadata": {},
   "source": [
    "**Поездки - `rides_go`**"
   ]
  },
  {
   "cell_type": "code",
   "execution_count": 4,
   "id": "85f75678",
   "metadata": {},
   "outputs": [
    {
     "name": "stdout",
     "output_type": "stream",
     "text": [
      "<class 'pandas.core.frame.DataFrame'>\n",
      "RangeIndex: 18068 entries, 0 to 18067\n",
      "Data columns (total 4 columns):\n",
      " #   Column    Non-Null Count  Dtype  \n",
      "---  ------    --------------  -----  \n",
      " 0   user_id   18068 non-null  int64  \n",
      " 1   distance  18068 non-null  float64\n",
      " 2   duration  18068 non-null  float64\n",
      " 3   date      18068 non-null  object \n",
      "dtypes: float64(2), int64(1), object(1)\n",
      "memory usage: 564.8+ KB\n"
     ]
    },
    {
     "data": {
      "text/html": [
       "<div>\n",
       "<style scoped>\n",
       "    .dataframe tbody tr th:only-of-type {\n",
       "        vertical-align: middle;\n",
       "    }\n",
       "\n",
       "    .dataframe tbody tr th {\n",
       "        vertical-align: top;\n",
       "    }\n",
       "\n",
       "    .dataframe thead th {\n",
       "        text-align: right;\n",
       "    }\n",
       "</style>\n",
       "<table border=\"1\" class=\"dataframe\">\n",
       "  <thead>\n",
       "    <tr style=\"text-align: right;\">\n",
       "      <th></th>\n",
       "      <th>user_id</th>\n",
       "      <th>distance</th>\n",
       "      <th>duration</th>\n",
       "      <th>date</th>\n",
       "    </tr>\n",
       "  </thead>\n",
       "  <tbody>\n",
       "    <tr>\n",
       "      <th>0</th>\n",
       "      <td>1</td>\n",
       "      <td>4409.919140</td>\n",
       "      <td>25.599769</td>\n",
       "      <td>2021-01-01</td>\n",
       "    </tr>\n",
       "    <tr>\n",
       "      <th>1</th>\n",
       "      <td>1</td>\n",
       "      <td>2617.592153</td>\n",
       "      <td>15.816871</td>\n",
       "      <td>2021-01-18</td>\n",
       "    </tr>\n",
       "    <tr>\n",
       "      <th>2</th>\n",
       "      <td>1</td>\n",
       "      <td>754.159807</td>\n",
       "      <td>6.232113</td>\n",
       "      <td>2021-04-20</td>\n",
       "    </tr>\n",
       "    <tr>\n",
       "      <th>3</th>\n",
       "      <td>1</td>\n",
       "      <td>2694.783254</td>\n",
       "      <td>18.511000</td>\n",
       "      <td>2021-08-11</td>\n",
       "    </tr>\n",
       "    <tr>\n",
       "      <th>4</th>\n",
       "      <td>1</td>\n",
       "      <td>4028.687306</td>\n",
       "      <td>26.265803</td>\n",
       "      <td>2021-08-28</td>\n",
       "    </tr>\n",
       "    <tr>\n",
       "      <th>5</th>\n",
       "      <td>1</td>\n",
       "      <td>2770.890808</td>\n",
       "      <td>16.650138</td>\n",
       "      <td>2021-10-09</td>\n",
       "    </tr>\n",
       "    <tr>\n",
       "      <th>6</th>\n",
       "      <td>1</td>\n",
       "      <td>3039.020292</td>\n",
       "      <td>14.927879</td>\n",
       "      <td>2021-10-19</td>\n",
       "    </tr>\n",
       "    <tr>\n",
       "      <th>7</th>\n",
       "      <td>1</td>\n",
       "      <td>2842.118050</td>\n",
       "      <td>23.117468</td>\n",
       "      <td>2021-11-06</td>\n",
       "    </tr>\n",
       "    <tr>\n",
       "      <th>8</th>\n",
       "      <td>1</td>\n",
       "      <td>3412.690668</td>\n",
       "      <td>15.238072</td>\n",
       "      <td>2021-11-14</td>\n",
       "    </tr>\n",
       "    <tr>\n",
       "      <th>9</th>\n",
       "      <td>1</td>\n",
       "      <td>748.690645</td>\n",
       "      <td>15.041884</td>\n",
       "      <td>2021-11-22</td>\n",
       "    </tr>\n",
       "  </tbody>\n",
       "</table>\n",
       "</div>"
      ],
      "text/plain": [
       "   user_id     distance   duration        date\n",
       "0        1  4409.919140  25.599769  2021-01-01\n",
       "1        1  2617.592153  15.816871  2021-01-18\n",
       "2        1   754.159807   6.232113  2021-04-20\n",
       "3        1  2694.783254  18.511000  2021-08-11\n",
       "4        1  4028.687306  26.265803  2021-08-28\n",
       "5        1  2770.890808  16.650138  2021-10-09\n",
       "6        1  3039.020292  14.927879  2021-10-19\n",
       "7        1  2842.118050  23.117468  2021-11-06\n",
       "8        1  3412.690668  15.238072  2021-11-14\n",
       "9        1   748.690645  15.041884  2021-11-22"
      ]
     },
     "execution_count": 4,
     "metadata": {},
     "output_type": "execute_result"
    }
   ],
   "source": [
    "rides_go.info()\n",
    "rides_go.head(10)"
   ]
  },
  {
   "cell_type": "markdown",
   "id": "12eabf07",
   "metadata": {},
   "source": [
    "**Подписки - `subscriptions_go`**"
   ]
  },
  {
   "cell_type": "code",
   "execution_count": 5,
   "id": "17d96076",
   "metadata": {},
   "outputs": [
    {
     "name": "stdout",
     "output_type": "stream",
     "text": [
      "<class 'pandas.core.frame.DataFrame'>\n",
      "RangeIndex: 2 entries, 0 to 1\n",
      "Data columns (total 4 columns):\n",
      " #   Column             Non-Null Count  Dtype \n",
      "---  ------             --------------  ----- \n",
      " 0   subscription_type  2 non-null      object\n",
      " 1   minute_price       2 non-null      int64 \n",
      " 2   start_ride_price   2 non-null      int64 \n",
      " 3   subscription_fee   2 non-null      int64 \n",
      "dtypes: int64(3), object(1)\n",
      "memory usage: 192.0+ bytes\n"
     ]
    },
    {
     "data": {
      "text/html": [
       "<div>\n",
       "<style scoped>\n",
       "    .dataframe tbody tr th:only-of-type {\n",
       "        vertical-align: middle;\n",
       "    }\n",
       "\n",
       "    .dataframe tbody tr th {\n",
       "        vertical-align: top;\n",
       "    }\n",
       "\n",
       "    .dataframe thead th {\n",
       "        text-align: right;\n",
       "    }\n",
       "</style>\n",
       "<table border=\"1\" class=\"dataframe\">\n",
       "  <thead>\n",
       "    <tr style=\"text-align: right;\">\n",
       "      <th></th>\n",
       "      <th>subscription_type</th>\n",
       "      <th>minute_price</th>\n",
       "      <th>start_ride_price</th>\n",
       "      <th>subscription_fee</th>\n",
       "    </tr>\n",
       "  </thead>\n",
       "  <tbody>\n",
       "    <tr>\n",
       "      <th>0</th>\n",
       "      <td>free</td>\n",
       "      <td>8</td>\n",
       "      <td>50</td>\n",
       "      <td>0</td>\n",
       "    </tr>\n",
       "    <tr>\n",
       "      <th>1</th>\n",
       "      <td>ultra</td>\n",
       "      <td>6</td>\n",
       "      <td>0</td>\n",
       "      <td>199</td>\n",
       "    </tr>\n",
       "  </tbody>\n",
       "</table>\n",
       "</div>"
      ],
      "text/plain": [
       "  subscription_type  minute_price  start_ride_price  subscription_fee\n",
       "0              free             8                50                 0\n",
       "1             ultra             6                 0               199"
      ]
     },
     "execution_count": 5,
     "metadata": {},
     "output_type": "execute_result"
    }
   ],
   "source": [
    "subscriptions_go.info()\n",
    "subscriptions_go.head()"
   ]
  },
  {
   "cell_type": "markdown",
   "id": "78b05a12",
   "metadata": {},
   "source": [
    "**Вывод по разделу 1**:\n",
    "\n",
    "В данных:\n",
    "- `users_go` (пользователи) 1565 записи.\n",
    "- `rides_go` (поездки) 18068 записи.\n",
    "- `subscriptions_go` (подписки) 2 записи.\n",
    "- Пользователи разного возраста и находятся в разных городах. \n",
    "- Преобладают пользователи с бесплатным тарифом.\n",
    "- Наименования данных корректны.\n",
    "- У столбца date указан некорректный тип данных. "
   ]
  },
  {
   "cell_type": "markdown",
   "id": "54d5ea55",
   "metadata": {},
   "source": [
    "#### Шаг 2. Предобработка данных"
   ]
  },
  {
   "cell_type": "markdown",
   "id": "3e2bc717",
   "metadata": {},
   "source": [
    "**2.1 Приведём столбец date к типу даты pandas**"
   ]
  },
  {
   "cell_type": "code",
   "execution_count": 6,
   "id": "5fbbc164",
   "metadata": {},
   "outputs": [
    {
     "data": {
      "text/plain": [
       "0   2021-01-01\n",
       "1   2021-01-18\n",
       "2   2021-04-20\n",
       "3   2021-08-11\n",
       "4   2021-08-28\n",
       "5   2021-10-09\n",
       "6   2021-10-19\n",
       "7   2021-11-06\n",
       "8   2021-11-14\n",
       "9   2021-11-22\n",
       "Name: date, dtype: datetime64[ns]"
      ]
     },
     "execution_count": 6,
     "metadata": {},
     "output_type": "execute_result"
    }
   ],
   "source": [
    "rides_go['date'] = pd.to_datetime(rides_go['date'], format = '%Y-%m-%d')\n",
    "rides_go['date'].head(10)"
   ]
  },
  {
   "cell_type": "markdown",
   "id": "eb4d3c53",
   "metadata": {},
   "source": [
    "**2.2 Создадим новый столбец с номером месяца на основе столбца date**"
   ]
  },
  {
   "cell_type": "code",
   "execution_count": 7,
   "id": "865fce19",
   "metadata": {},
   "outputs": [
    {
     "data": {
      "text/plain": [
       "array([2021])"
      ]
     },
     "execution_count": 7,
     "metadata": {},
     "output_type": "execute_result"
    }
   ],
   "source": [
    "#Проверим за какой период у нас имеются данные\n",
    "rides_go['date'].dt.year.unique()"
   ]
  },
  {
   "cell_type": "code",
   "execution_count": 8,
   "id": "a64b0887",
   "metadata": {},
   "outputs": [
    {
     "data": {
      "text/plain": [
       "0     1\n",
       "1     1\n",
       "2     4\n",
       "3     8\n",
       "4     8\n",
       "5    10\n",
       "6    10\n",
       "7    11\n",
       "8    11\n",
       "9    11\n",
       "Name: month, dtype: int64"
      ]
     },
     "execution_count": 8,
     "metadata": {},
     "output_type": "execute_result"
    }
   ],
   "source": [
    "rides_go['month'] = rides_go['date'].dt.month\n",
    "rides_go['month'].head(10)"
   ]
  },
  {
   "cell_type": "markdown",
   "id": "2f99058b",
   "metadata": {},
   "source": [
    "**2.3 Проверим и обработаем наличие пропущенных значений и дубликатов в датафреймах**"
   ]
  },
  {
   "cell_type": "markdown",
   "id": "b5627693",
   "metadata": {},
   "source": [
    "**Пользователи**"
   ]
  },
  {
   "cell_type": "code",
   "execution_count": 9,
   "id": "b60f7024",
   "metadata": {},
   "outputs": [
    {
     "data": {
      "text/plain": [
       "user_id              0\n",
       "name                 0\n",
       "age                  0\n",
       "city                 0\n",
       "subscription_type    0\n",
       "dtype: int64"
      ]
     },
     "execution_count": 9,
     "metadata": {},
     "output_type": "execute_result"
    }
   ],
   "source": [
    "users_go.isna().sum()"
   ]
  },
  {
   "cell_type": "code",
   "execution_count": 10,
   "id": "66d195b0",
   "metadata": {},
   "outputs": [
    {
     "data": {
      "text/plain": [
       "31"
      ]
     },
     "execution_count": 10,
     "metadata": {},
     "output_type": "execute_result"
    }
   ],
   "source": [
    "users_go.duplicated().sum()"
   ]
  },
  {
   "cell_type": "code",
   "execution_count": 11,
   "id": "0fb0907b",
   "metadata": {},
   "outputs": [
    {
     "data": {
      "text/plain": [
       "0"
      ]
     },
     "execution_count": 11,
     "metadata": {},
     "output_type": "execute_result"
    }
   ],
   "source": [
    "users_go.drop_duplicates(inplace=True)\n",
    "users_go.duplicated().sum()"
   ]
  },
  {
   "cell_type": "markdown",
   "id": "3d061db5",
   "metadata": {},
   "source": [
    "**Поездки**"
   ]
  },
  {
   "cell_type": "code",
   "execution_count": 12,
   "id": "3d274654",
   "metadata": {},
   "outputs": [
    {
     "data": {
      "text/plain": [
       "user_id     0\n",
       "distance    0\n",
       "duration    0\n",
       "date        0\n",
       "month       0\n",
       "dtype: int64"
      ]
     },
     "execution_count": 12,
     "metadata": {},
     "output_type": "execute_result"
    }
   ],
   "source": [
    "rides_go.isna().sum()"
   ]
  },
  {
   "cell_type": "code",
   "execution_count": 13,
   "id": "5d44d784",
   "metadata": {},
   "outputs": [
    {
     "data": {
      "text/plain": [
       "0"
      ]
     },
     "execution_count": 13,
     "metadata": {},
     "output_type": "execute_result"
    }
   ],
   "source": [
    "rides_go.duplicated().sum()"
   ]
  },
  {
   "cell_type": "markdown",
   "id": "794bb0eb",
   "metadata": {},
   "source": [
    "**Подписки**"
   ]
  },
  {
   "cell_type": "code",
   "execution_count": 14,
   "id": "b49c3521",
   "metadata": {},
   "outputs": [
    {
     "data": {
      "text/plain": [
       "subscription_type    0\n",
       "minute_price         0\n",
       "start_ride_price     0\n",
       "subscription_fee     0\n",
       "dtype: int64"
      ]
     },
     "execution_count": 14,
     "metadata": {},
     "output_type": "execute_result"
    }
   ],
   "source": [
    "subscriptions_go.isna().sum()"
   ]
  },
  {
   "cell_type": "code",
   "execution_count": 15,
   "id": "ecb211ef",
   "metadata": {},
   "outputs": [
    {
     "data": {
      "text/plain": [
       "0"
      ]
     },
     "execution_count": 15,
     "metadata": {},
     "output_type": "execute_result"
    }
   ],
   "source": [
    "subscriptions_go.duplicated().sum()"
   ]
  },
  {
   "cell_type": "markdown",
   "id": "d9b7c5c0",
   "metadata": {},
   "source": [
    "**Вывод по разделу 2:**\n",
    "- Привели столбец date к типу даты.\n",
    "- Добавили столбец month с номером месяца. Данные предоставлены за 2021 год.\n",
    "- Пропущенных данных в таблицах нет.\n",
    "- Дубликаты имеются среди пользователей. Удалили строки дубликаты."
   ]
  },
  {
   "cell_type": "markdown",
   "id": "0d4359af",
   "metadata": {},
   "source": [
    "#### Шаг 3. Исследовательский анализ данных"
   ]
  },
  {
   "cell_type": "markdown",
   "id": "85752a5e",
   "metadata": {},
   "source": [
    "**3.1 Частота встречаемости городов**"
   ]
  },
  {
   "cell_type": "code",
   "execution_count": 16,
   "id": "39965962",
   "metadata": {},
   "outputs": [
    {
     "data": {
      "text/plain": [
       "Пятигорск         219\n",
       "Екатеринбург      204\n",
       "Ростов-на-Дону    198\n",
       "Краснодар         193\n",
       "Сочи              189\n",
       "Омск              183\n",
       "Тюмень            180\n",
       "Москва            168\n",
       "Name: city, dtype: int64"
      ]
     },
     "execution_count": 16,
     "metadata": {},
     "output_type": "execute_result"
    }
   ],
   "source": [
    "users_go['city'].value_counts()"
   ]
  },
  {
   "cell_type": "markdown",
   "id": "7787a379",
   "metadata": {},
   "source": [
    "**Вывод**:\n",
    "Самое большое количество пользователей находятся в Пятигорске, а самое маленькое в Москве.  "
   ]
  },
  {
   "cell_type": "markdown",
   "id": "e516bc58",
   "metadata": {},
   "source": [
    "**3.2 Соотношение пользователей с подпиской и без подписки**"
   ]
  },
  {
   "cell_type": "code",
   "execution_count": 17,
   "id": "a71999f7",
   "metadata": {},
   "outputs": [
    {
     "data": {
      "image/png": "[encoded data removed]",
      "text/plain": [
       "<Figure size 360x360 with 1 Axes>"
      ]
     },
     "metadata": {},
     "output_type": "display_data"
    }
   ],
   "source": [
    "(\n",
    "    users_go.pivot_table(index='subscription_type', values='user_id', aggfunc='count')\n",
    "    .plot.pie(y='user_id', figsize=(5,5), autopct='%1.0f%%', startangle=50, \n",
    "    title='Соотношение пользователей `free` - без подписки, `ultra` - с подпиской, к общему количеству')\n",
    "\n",
    ")\n",
    "plt.axis('equal')\n",
    "plt.show()"
   ]
  },
  {
   "cell_type": "markdown",
   "id": "0b95885f",
   "metadata": {},
   "source": [
    "**Вывод**: \n",
    "Количество пользователей без подписки (free) - 54%, превышает количество пользователей с подпиской (ultra) - 46%."
   ]
  },
  {
   "cell_type": "markdown",
   "id": "35eec7f0",
   "metadata": {},
   "source": [
    "**3.3 Возраст пользователей**"
   ]
  },
  {
   "cell_type": "markdown",
   "id": "e32a1641",
   "metadata": {},
   "source": [
    "Самые младшие и старшие пользователи"
   ]
  },
  {
   "cell_type": "code",
   "execution_count": 18,
   "id": "c096c9e4",
   "metadata": {},
   "outputs": [
    {
     "data": {
      "text/plain": [
       "count    1534.000000\n",
       "mean       24.903520\n",
       "std         4.572367\n",
       "min        12.000000\n",
       "25%        22.000000\n",
       "50%        25.000000\n",
       "75%        28.000000\n",
       "max        43.000000\n",
       "Name: age, dtype: float64"
      ]
     },
     "execution_count": 18,
     "metadata": {},
     "output_type": "execute_result"
    }
   ],
   "source": [
    "users_go['age'].describe()"
   ]
  },
  {
   "cell_type": "code",
   "execution_count": 19,
   "id": "43b00b36",
   "metadata": {},
   "outputs": [
    {
     "data": {
      "image/png": "[encoded data removed]",
      "text/plain": [
       "<Figure size 720x360 with 1 Axes>"
      ]
     },
     "metadata": {
      "needs_background": "light"
     },
     "output_type": "display_data"
    }
   ],
   "source": [
    "(\n",
    "    users_go.pivot_table(index='age', values='user_id', aggfunc='count').sort_values(by='age', ascending=True)\n",
    "    .plot(kind='bar' , grid=True, figsize=(10, 5))\n",
    ")\n",
    "plt.title('Количество пользователей по возрастам')\n",
    "plt.xlabel('Возраст')\n",
    "plt.ylabel('Количество')\n",
    "plt.xticks(rotation = 0)\n",
    "plt.show()"
   ]
  },
  {
   "cell_type": "markdown",
   "id": "58aedd0f",
   "metadata": {},
   "source": [
    "**Вывод**:\n",
    "- Самые младшие пользователи - 12 лет.\n",
    "- Самые старшие пользователи - 43 года.\n",
    "- Средний возраст пользователей - 25 лет."
   ]
  },
  {
   "cell_type": "markdown",
   "id": "87b7e023",
   "metadata": {},
   "source": [
    "**3.4 Расстояние, которое пользователь преодолел за одну поездку**"
   ]
  },
  {
   "cell_type": "markdown",
   "id": "0a5fb032",
   "metadata": {},
   "source": [
    "Самые короткие и длинные дистанции за одну поездку"
   ]
  },
  {
   "cell_type": "code",
   "execution_count": 20,
   "id": "92ede589",
   "metadata": {},
   "outputs": [
    {
     "data": {
      "text/plain": [
       "count    18068.00\n",
       "mean      3070.66\n",
       "std       1116.83\n",
       "min          0.86\n",
       "25%       2543.23\n",
       "50%       3133.61\n",
       "75%       3776.22\n",
       "max       7211.01\n",
       "Name: distance, dtype: float64"
      ]
     },
     "execution_count": 20,
     "metadata": {},
     "output_type": "execute_result"
    }
   ],
   "source": [
    "rides_go['distance'].describe().round(2)"
   ]
  },
  {
   "cell_type": "code",
   "execution_count": 21,
   "id": "071d4344",
   "metadata": {},
   "outputs": [
    {
     "data": {
      "image/png": "[encoded data removed]",
      "text/plain": [
       "<Figure size 432x288 with 1 Axes>"
      ]
     },
     "metadata": {
      "needs_background": "light"
     },
     "output_type": "display_data"
    }
   ],
   "source": [
    "plt.hist(rides_go['distance'], bins=500, range=(0,7211))\n",
    "plt.title('Количество поездок в зависимости от расстояния поездки')\n",
    "plt.xlabel('Расстояние в метрах')\n",
    "plt.ylabel('Количество поездок')\n",
    "plt.show()"
   ]
  },
  {
   "cell_type": "code",
   "execution_count": 22,
   "id": "112bd234",
   "metadata": {},
   "outputs": [
    {
     "data": {
      "text/plain": [
       "<AxesSubplot:>"
      ]
     },
     "execution_count": 22,
     "metadata": {},
     "output_type": "execute_result"
    },
    {
     "data": {
      "image/png": "[encoded data removed]",
      "text/plain": [
       "<Figure size 432x288 with 1 Axes>"
      ]
     },
     "metadata": {
      "needs_background": "light"
     },
     "output_type": "display_data"
    }
   ],
   "source": [
    "rides_go.boxplot(column = 'distance')"
   ]
  },
  {
   "cell_type": "markdown",
   "id": "a88695eb",
   "metadata": {},
   "source": [
    "**Вывод**:\n",
    "- Самая короткая дистанция - 0.86 км.\n",
    "- Самая длинная - 7.2 км.\n",
    "- В основном пользователи проезжают от 2.5 км до 4 км.\n",
    "- Прослеживаются выбросы примерно в диапазоне <900 и >5800"
   ]
  },
  {
   "cell_type": "markdown",
   "id": "f0914d0b",
   "metadata": {},
   "source": [
    "**3.5 Продолжительность поездок** "
   ]
  },
  {
   "cell_type": "markdown",
   "id": "b2bb2d7e",
   "metadata": {},
   "source": [
    "Самые короткие и долгие поездки"
   ]
  },
  {
   "cell_type": "code",
   "execution_count": 23,
   "id": "a1d8f0cd",
   "metadata": {},
   "outputs": [
    {
     "data": {
      "text/plain": [
       "count    18068.000000\n",
       "mean        17.805011\n",
       "std          6.091051\n",
       "min          0.500000\n",
       "25%         13.597563\n",
       "50%         17.678395\n",
       "75%         21.724800\n",
       "max         40.823963\n",
       "Name: duration, dtype: float64"
      ]
     },
     "execution_count": 23,
     "metadata": {},
     "output_type": "execute_result"
    }
   ],
   "source": [
    "rides_go['duration'].describe()"
   ]
  },
  {
   "cell_type": "code",
   "execution_count": 24,
   "id": "291f1664",
   "metadata": {},
   "outputs": [
    {
     "data": {
      "image/png": "[encoded data removed]",
      "text/plain": [
       "<Figure size 432x288 with 1 Axes>"
      ]
     },
     "metadata": {
      "needs_background": "light"
     },
     "output_type": "display_data"
    }
   ],
   "source": [
    "plt.hist(rides_go['duration'], bins=40)\n",
    "plt.title('Количество поездок в зависимости от продолжительности')\n",
    "plt.xlabel('продолжительность поездки')\n",
    "plt.ylabel('Количество поездок')\n",
    "plt.show()"
   ]
  },
  {
   "cell_type": "code",
   "execution_count": 25,
   "id": "6c8ea240",
   "metadata": {},
   "outputs": [
    {
     "data": {
      "text/plain": [
       "<AxesSubplot:>"
      ]
     },
     "execution_count": 25,
     "metadata": {},
     "output_type": "execute_result"
    },
    {
     "data": {
      "image/png": "[encoded data removed]",
      "text/plain": [
       "<Figure size 432x288 with 1 Axes>"
      ]
     },
     "metadata": {
      "needs_background": "light"
     },
     "output_type": "display_data"
    }
   ],
   "source": [
    "rides_go.boxplot(column = 'duration')"
   ]
  },
  {
   "cell_type": "markdown",
   "id": "8f0a2bfe",
   "metadata": {},
   "source": [
    "**Вывод**:\n",
    "- Самые короткие поездки - по пол минуты. \n",
    "- Самая длинная поездка - 40 минут.\n",
    "- В основном длительность поездки состовляет от 13 до 22 минут.\n",
    "- Прослеживаются выбросы примерно <2 и >34 "
   ]
  },
  {
   "cell_type": "markdown",
   "id": "4265058a",
   "metadata": {},
   "source": [
    "**Вывод по разделу 3**:\n",
    "\n",
    "**Частота встречаемости городов**:\n",
    "- Самое большое количество пользователей находятся в Пятигорске, а самое маленькое в Москве.\n",
    "\n",
    "**Соотношение пользователей с подпиской и без подписки**:\n",
    "- Количество пользователей без подписки (free) - 54%, превышает количество пользователей с подпиской (ultra) - 46%.\n",
    "\n",
    "**Возраст пользователей**:\n",
    "- Самые младшие пользователи - 12 лет.\n",
    "- Самые старшие пользователи - 43 года.\n",
    "- Средний возраст пользователей - 25 лет.\n",
    "\n",
    "**Расстояние, которое пользователь преодолел за одну поездку**:\n",
    "- Самая короткая дистанция - 0.86 км.\n",
    "- Самая длинная - 7.2 км.\n",
    "- В основном пользователи проезжают от 2.5 км до 4 км.\n",
    "- Прослеживаются выбросы примерно в диапазоне <900 и >5800\n",
    "\n",
    "**Продолжительность поездок**:\n",
    "- Самые короткие поездки - по пол минуты\n",
    "- Самая длинная поездка - 40 минут.\n",
    "- В основном длительность поездки состовляет от 13 до 22 минут.\n",
    "- Прослеживаются выбросы примерно <2 и >34"
   ]
  },
  {
   "cell_type": "markdown",
   "id": "d6bbb406",
   "metadata": {},
   "source": [
    "#### Шаг 4. Объединение данных "
   ]
  },
  {
   "cell_type": "markdown",
   "id": "17d79426",
   "metadata": {},
   "source": [
    "**4.1 Объединяем данные о пользователях, поездках и подписках в один датафрейм**"
   ]
  },
  {
   "cell_type": "code",
   "execution_count": 26,
   "id": "c2d9d82e",
   "metadata": {},
   "outputs": [],
   "source": [
    "data = users_go.merge(rides_go)"
   ]
  },
  {
   "cell_type": "code",
   "execution_count": 27,
   "id": "0a04b3e9",
   "metadata": {},
   "outputs": [],
   "source": [
    "data = data.merge(subscriptions_go)"
   ]
  },
  {
   "cell_type": "code",
   "execution_count": 28,
   "id": "2a593983",
   "metadata": {},
   "outputs": [
    {
     "data": {
      "text/html": [
       "<div>\n",
       "<style scoped>\n",
       "    .dataframe tbody tr th:only-of-type {\n",
       "        vertical-align: middle;\n",
       "    }\n",
       "\n",
       "    .dataframe tbody tr th {\n",
       "        vertical-align: top;\n",
       "    }\n",
       "\n",
       "    .dataframe thead th {\n",
       "        text-align: right;\n",
       "    }\n",
       "</style>\n",
       "<table border=\"1\" class=\"dataframe\">\n",
       "  <thead>\n",
       "    <tr style=\"text-align: right;\">\n",
       "      <th></th>\n",
       "      <th>user_id</th>\n",
       "      <th>name</th>\n",
       "      <th>age</th>\n",
       "      <th>city</th>\n",
       "      <th>subscription_type</th>\n",
       "      <th>distance</th>\n",
       "      <th>duration</th>\n",
       "      <th>date</th>\n",
       "      <th>month</th>\n",
       "      <th>minute_price</th>\n",
       "      <th>start_ride_price</th>\n",
       "      <th>subscription_fee</th>\n",
       "    </tr>\n",
       "  </thead>\n",
       "  <tbody>\n",
       "    <tr>\n",
       "      <th>0</th>\n",
       "      <td>1</td>\n",
       "      <td>Кира</td>\n",
       "      <td>22</td>\n",
       "      <td>Тюмень</td>\n",
       "      <td>ultra</td>\n",
       "      <td>4409.919140</td>\n",
       "      <td>25.599769</td>\n",
       "      <td>2021-01-01</td>\n",
       "      <td>1</td>\n",
       "      <td>6</td>\n",
       "      <td>0</td>\n",
       "      <td>199</td>\n",
       "    </tr>\n",
       "    <tr>\n",
       "      <th>1</th>\n",
       "      <td>1</td>\n",
       "      <td>Кира</td>\n",
       "      <td>22</td>\n",
       "      <td>Тюмень</td>\n",
       "      <td>ultra</td>\n",
       "      <td>2617.592153</td>\n",
       "      <td>15.816871</td>\n",
       "      <td>2021-01-18</td>\n",
       "      <td>1</td>\n",
       "      <td>6</td>\n",
       "      <td>0</td>\n",
       "      <td>199</td>\n",
       "    </tr>\n",
       "    <tr>\n",
       "      <th>2</th>\n",
       "      <td>1</td>\n",
       "      <td>Кира</td>\n",
       "      <td>22</td>\n",
       "      <td>Тюмень</td>\n",
       "      <td>ultra</td>\n",
       "      <td>754.159807</td>\n",
       "      <td>6.232113</td>\n",
       "      <td>2021-04-20</td>\n",
       "      <td>4</td>\n",
       "      <td>6</td>\n",
       "      <td>0</td>\n",
       "      <td>199</td>\n",
       "    </tr>\n",
       "    <tr>\n",
       "      <th>3</th>\n",
       "      <td>1</td>\n",
       "      <td>Кира</td>\n",
       "      <td>22</td>\n",
       "      <td>Тюмень</td>\n",
       "      <td>ultra</td>\n",
       "      <td>2694.783254</td>\n",
       "      <td>18.511000</td>\n",
       "      <td>2021-08-11</td>\n",
       "      <td>8</td>\n",
       "      <td>6</td>\n",
       "      <td>0</td>\n",
       "      <td>199</td>\n",
       "    </tr>\n",
       "    <tr>\n",
       "      <th>4</th>\n",
       "      <td>1</td>\n",
       "      <td>Кира</td>\n",
       "      <td>22</td>\n",
       "      <td>Тюмень</td>\n",
       "      <td>ultra</td>\n",
       "      <td>4028.687306</td>\n",
       "      <td>26.265803</td>\n",
       "      <td>2021-08-28</td>\n",
       "      <td>8</td>\n",
       "      <td>6</td>\n",
       "      <td>0</td>\n",
       "      <td>199</td>\n",
       "    </tr>\n",
       "    <tr>\n",
       "      <th>...</th>\n",
       "      <td>...</td>\n",
       "      <td>...</td>\n",
       "      <td>...</td>\n",
       "      <td>...</td>\n",
       "      <td>...</td>\n",
       "      <td>...</td>\n",
       "      <td>...</td>\n",
       "      <td>...</td>\n",
       "      <td>...</td>\n",
       "      <td>...</td>\n",
       "      <td>...</td>\n",
       "      <td>...</td>\n",
       "    </tr>\n",
       "    <tr>\n",
       "      <th>18063</th>\n",
       "      <td>1534</td>\n",
       "      <td>Альберт</td>\n",
       "      <td>25</td>\n",
       "      <td>Краснодар</td>\n",
       "      <td>free</td>\n",
       "      <td>3781.098080</td>\n",
       "      <td>19.822962</td>\n",
       "      <td>2021-11-04</td>\n",
       "      <td>11</td>\n",
       "      <td>8</td>\n",
       "      <td>50</td>\n",
       "      <td>0</td>\n",
       "    </tr>\n",
       "    <tr>\n",
       "      <th>18064</th>\n",
       "      <td>1534</td>\n",
       "      <td>Альберт</td>\n",
       "      <td>25</td>\n",
       "      <td>Краснодар</td>\n",
       "      <td>free</td>\n",
       "      <td>2840.423057</td>\n",
       "      <td>21.409799</td>\n",
       "      <td>2021-11-16</td>\n",
       "      <td>11</td>\n",
       "      <td>8</td>\n",
       "      <td>50</td>\n",
       "      <td>0</td>\n",
       "    </tr>\n",
       "    <tr>\n",
       "      <th>18065</th>\n",
       "      <td>1534</td>\n",
       "      <td>Альберт</td>\n",
       "      <td>25</td>\n",
       "      <td>Краснодар</td>\n",
       "      <td>free</td>\n",
       "      <td>3826.185507</td>\n",
       "      <td>18.435051</td>\n",
       "      <td>2021-11-18</td>\n",
       "      <td>11</td>\n",
       "      <td>8</td>\n",
       "      <td>50</td>\n",
       "      <td>0</td>\n",
       "    </tr>\n",
       "    <tr>\n",
       "      <th>18066</th>\n",
       "      <td>1534</td>\n",
       "      <td>Альберт</td>\n",
       "      <td>25</td>\n",
       "      <td>Краснодар</td>\n",
       "      <td>free</td>\n",
       "      <td>2902.308661</td>\n",
       "      <td>16.674362</td>\n",
       "      <td>2021-11-27</td>\n",
       "      <td>11</td>\n",
       "      <td>8</td>\n",
       "      <td>50</td>\n",
       "      <td>0</td>\n",
       "    </tr>\n",
       "    <tr>\n",
       "      <th>18067</th>\n",
       "      <td>1534</td>\n",
       "      <td>Альберт</td>\n",
       "      <td>25</td>\n",
       "      <td>Краснодар</td>\n",
       "      <td>free</td>\n",
       "      <td>2371.711192</td>\n",
       "      <td>15.893917</td>\n",
       "      <td>2021-12-29</td>\n",
       "      <td>12</td>\n",
       "      <td>8</td>\n",
       "      <td>50</td>\n",
       "      <td>0</td>\n",
       "    </tr>\n",
       "  </tbody>\n",
       "</table>\n",
       "<p>18068 rows × 12 columns</p>\n",
       "</div>"
      ],
      "text/plain": [
       "       user_id     name  age       city subscription_type     distance  \\\n",
       "0            1     Кира   22     Тюмень             ultra  4409.919140   \n",
       "1            1     Кира   22     Тюмень             ultra  2617.592153   \n",
       "2            1     Кира   22     Тюмень             ultra   754.159807   \n",
       "3            1     Кира   22     Тюмень             ultra  2694.783254   \n",
       "4            1     Кира   22     Тюмень             ultra  4028.687306   \n",
       "...        ...      ...  ...        ...               ...          ...   \n",
       "18063     1534  Альберт   25  Краснодар              free  3781.098080   \n",
       "18064     1534  Альберт   25  Краснодар              free  2840.423057   \n",
       "18065     1534  Альберт   25  Краснодар              free  3826.185507   \n",
       "18066     1534  Альберт   25  Краснодар              free  2902.308661   \n",
       "18067     1534  Альберт   25  Краснодар              free  2371.711192   \n",
       "\n",
       "        duration       date  month  minute_price  start_ride_price  \\\n",
       "0      25.599769 2021-01-01      1             6                 0   \n",
       "1      15.816871 2021-01-18      1             6                 0   \n",
       "2       6.232113 2021-04-20      4             6                 0   \n",
       "3      18.511000 2021-08-11      8             6                 0   \n",
       "4      26.265803 2021-08-28      8             6                 0   \n",
       "...          ...        ...    ...           ...               ...   \n",
       "18063  19.822962 2021-11-04     11             8                50   \n",
       "18064  21.409799 2021-11-16     11             8                50   \n",
       "18065  18.435051 2021-11-18     11             8                50   \n",
       "18066  16.674362 2021-11-27     11             8                50   \n",
       "18067  15.893917 2021-12-29     12             8                50   \n",
       "\n",
       "       subscription_fee  \n",
       "0                   199  \n",
       "1                   199  \n",
       "2                   199  \n",
       "3                   199  \n",
       "4                   199  \n",
       "...                 ...  \n",
       "18063                 0  \n",
       "18064                 0  \n",
       "18065                 0  \n",
       "18066                 0  \n",
       "18067                 0  \n",
       "\n",
       "[18068 rows x 12 columns]"
      ]
     },
     "execution_count": 28,
     "metadata": {},
     "output_type": "execute_result"
    }
   ],
   "source": [
    "data"
   ]
  },
  {
   "cell_type": "code",
   "execution_count": 29,
   "id": "0b641118",
   "metadata": {},
   "outputs": [
    {
     "name": "stdout",
     "output_type": "stream",
     "text": [
      "<class 'pandas.core.frame.DataFrame'>\n",
      "RangeIndex: 18068 entries, 0 to 18067\n",
      "Data columns (total 5 columns):\n",
      " #   Column    Non-Null Count  Dtype         \n",
      "---  ------    --------------  -----         \n",
      " 0   user_id   18068 non-null  int64         \n",
      " 1   distance  18068 non-null  float64       \n",
      " 2   duration  18068 non-null  float64       \n",
      " 3   date      18068 non-null  datetime64[ns]\n",
      " 4   month     18068 non-null  int64         \n",
      "dtypes: datetime64[ns](1), float64(2), int64(2)\n",
      "memory usage: 705.9 KB\n"
     ]
    }
   ],
   "source": [
    "rides_go.info()"
   ]
  },
  {
   "cell_type": "code",
   "execution_count": 30,
   "id": "cb8d9552",
   "metadata": {},
   "outputs": [
    {
     "data": {
      "text/plain": [
       "user_id              0\n",
       "name                 0\n",
       "age                  0\n",
       "city                 0\n",
       "subscription_type    0\n",
       "distance             0\n",
       "duration             0\n",
       "date                 0\n",
       "month                0\n",
       "minute_price         0\n",
       "start_ride_price     0\n",
       "subscription_fee     0\n",
       "dtype: int64"
      ]
     },
     "execution_count": 30,
     "metadata": {},
     "output_type": "execute_result"
    }
   ],
   "source": [
    "data.isnull().sum()"
   ]
  },
  {
   "cell_type": "markdown",
   "id": "b1fc4c93",
   "metadata": {},
   "source": [
    "**4.2.1 Создаём датафрейм с данными о пользователях без подписки**"
   ]
  },
  {
   "cell_type": "code",
   "execution_count": 31,
   "id": "af64760b",
   "metadata": {},
   "outputs": [
    {
     "data": {
      "text/html": [
       "<div>\n",
       "<style scoped>\n",
       "    .dataframe tbody tr th:only-of-type {\n",
       "        vertical-align: middle;\n",
       "    }\n",
       "\n",
       "    .dataframe tbody tr th {\n",
       "        vertical-align: top;\n",
       "    }\n",
       "\n",
       "    .dataframe thead th {\n",
       "        text-align: right;\n",
       "    }\n",
       "</style>\n",
       "<table border=\"1\" class=\"dataframe\">\n",
       "  <thead>\n",
       "    <tr style=\"text-align: right;\">\n",
       "      <th></th>\n",
       "      <th>user_id</th>\n",
       "      <th>name</th>\n",
       "      <th>age</th>\n",
       "      <th>city</th>\n",
       "      <th>subscription_type</th>\n",
       "      <th>distance</th>\n",
       "      <th>duration</th>\n",
       "      <th>date</th>\n",
       "      <th>month</th>\n",
       "      <th>minute_price</th>\n",
       "      <th>start_ride_price</th>\n",
       "      <th>subscription_fee</th>\n",
       "    </tr>\n",
       "  </thead>\n",
       "  <tbody>\n",
       "    <tr>\n",
       "      <th>6500</th>\n",
       "      <td>700</td>\n",
       "      <td>Айдар</td>\n",
       "      <td>22</td>\n",
       "      <td>Омск</td>\n",
       "      <td>free</td>\n",
       "      <td>2515.690719</td>\n",
       "      <td>14.944286</td>\n",
       "      <td>2021-01-02</td>\n",
       "      <td>1</td>\n",
       "      <td>8</td>\n",
       "      <td>50</td>\n",
       "      <td>0</td>\n",
       "    </tr>\n",
       "    <tr>\n",
       "      <th>6501</th>\n",
       "      <td>700</td>\n",
       "      <td>Айдар</td>\n",
       "      <td>22</td>\n",
       "      <td>Омск</td>\n",
       "      <td>free</td>\n",
       "      <td>846.932642</td>\n",
       "      <td>16.234663</td>\n",
       "      <td>2021-02-01</td>\n",
       "      <td>2</td>\n",
       "      <td>8</td>\n",
       "      <td>50</td>\n",
       "      <td>0</td>\n",
       "    </tr>\n",
       "    <tr>\n",
       "      <th>6502</th>\n",
       "      <td>700</td>\n",
       "      <td>Айдар</td>\n",
       "      <td>22</td>\n",
       "      <td>Омск</td>\n",
       "      <td>free</td>\n",
       "      <td>4004.434142</td>\n",
       "      <td>20.016628</td>\n",
       "      <td>2021-02-04</td>\n",
       "      <td>2</td>\n",
       "      <td>8</td>\n",
       "      <td>50</td>\n",
       "      <td>0</td>\n",
       "    </tr>\n",
       "    <tr>\n",
       "      <th>6503</th>\n",
       "      <td>700</td>\n",
       "      <td>Айдар</td>\n",
       "      <td>22</td>\n",
       "      <td>Омск</td>\n",
       "      <td>free</td>\n",
       "      <td>1205.911290</td>\n",
       "      <td>9.782872</td>\n",
       "      <td>2021-02-10</td>\n",
       "      <td>2</td>\n",
       "      <td>8</td>\n",
       "      <td>50</td>\n",
       "      <td>0</td>\n",
       "    </tr>\n",
       "    <tr>\n",
       "      <th>6504</th>\n",
       "      <td>700</td>\n",
       "      <td>Айдар</td>\n",
       "      <td>22</td>\n",
       "      <td>Омск</td>\n",
       "      <td>free</td>\n",
       "      <td>3047.379435</td>\n",
       "      <td>17.427673</td>\n",
       "      <td>2021-02-14</td>\n",
       "      <td>2</td>\n",
       "      <td>8</td>\n",
       "      <td>50</td>\n",
       "      <td>0</td>\n",
       "    </tr>\n",
       "    <tr>\n",
       "      <th>...</th>\n",
       "      <td>...</td>\n",
       "      <td>...</td>\n",
       "      <td>...</td>\n",
       "      <td>...</td>\n",
       "      <td>...</td>\n",
       "      <td>...</td>\n",
       "      <td>...</td>\n",
       "      <td>...</td>\n",
       "      <td>...</td>\n",
       "      <td>...</td>\n",
       "      <td>...</td>\n",
       "      <td>...</td>\n",
       "    </tr>\n",
       "    <tr>\n",
       "      <th>18063</th>\n",
       "      <td>1534</td>\n",
       "      <td>Альберт</td>\n",
       "      <td>25</td>\n",
       "      <td>Краснодар</td>\n",
       "      <td>free</td>\n",
       "      <td>3781.098080</td>\n",
       "      <td>19.822962</td>\n",
       "      <td>2021-11-04</td>\n",
       "      <td>11</td>\n",
       "      <td>8</td>\n",
       "      <td>50</td>\n",
       "      <td>0</td>\n",
       "    </tr>\n",
       "    <tr>\n",
       "      <th>18064</th>\n",
       "      <td>1534</td>\n",
       "      <td>Альберт</td>\n",
       "      <td>25</td>\n",
       "      <td>Краснодар</td>\n",
       "      <td>free</td>\n",
       "      <td>2840.423057</td>\n",
       "      <td>21.409799</td>\n",
       "      <td>2021-11-16</td>\n",
       "      <td>11</td>\n",
       "      <td>8</td>\n",
       "      <td>50</td>\n",
       "      <td>0</td>\n",
       "    </tr>\n",
       "    <tr>\n",
       "      <th>18065</th>\n",
       "      <td>1534</td>\n",
       "      <td>Альберт</td>\n",
       "      <td>25</td>\n",
       "      <td>Краснодар</td>\n",
       "      <td>free</td>\n",
       "      <td>3826.185507</td>\n",
       "      <td>18.435051</td>\n",
       "      <td>2021-11-18</td>\n",
       "      <td>11</td>\n",
       "      <td>8</td>\n",
       "      <td>50</td>\n",
       "      <td>0</td>\n",
       "    </tr>\n",
       "    <tr>\n",
       "      <th>18066</th>\n",
       "      <td>1534</td>\n",
       "      <td>Альберт</td>\n",
       "      <td>25</td>\n",
       "      <td>Краснодар</td>\n",
       "      <td>free</td>\n",
       "      <td>2902.308661</td>\n",
       "      <td>16.674362</td>\n",
       "      <td>2021-11-27</td>\n",
       "      <td>11</td>\n",
       "      <td>8</td>\n",
       "      <td>50</td>\n",
       "      <td>0</td>\n",
       "    </tr>\n",
       "    <tr>\n",
       "      <th>18067</th>\n",
       "      <td>1534</td>\n",
       "      <td>Альберт</td>\n",
       "      <td>25</td>\n",
       "      <td>Краснодар</td>\n",
       "      <td>free</td>\n",
       "      <td>2371.711192</td>\n",
       "      <td>15.893917</td>\n",
       "      <td>2021-12-29</td>\n",
       "      <td>12</td>\n",
       "      <td>8</td>\n",
       "      <td>50</td>\n",
       "      <td>0</td>\n",
       "    </tr>\n",
       "  </tbody>\n",
       "</table>\n",
       "<p>11568 rows × 12 columns</p>\n",
       "</div>"
      ],
      "text/plain": [
       "       user_id     name  age       city subscription_type     distance  \\\n",
       "6500       700    Айдар   22       Омск              free  2515.690719   \n",
       "6501       700    Айдар   22       Омск              free   846.932642   \n",
       "6502       700    Айдар   22       Омск              free  4004.434142   \n",
       "6503       700    Айдар   22       Омск              free  1205.911290   \n",
       "6504       700    Айдар   22       Омск              free  3047.379435   \n",
       "...        ...      ...  ...        ...               ...          ...   \n",
       "18063     1534  Альберт   25  Краснодар              free  3781.098080   \n",
       "18064     1534  Альберт   25  Краснодар              free  2840.423057   \n",
       "18065     1534  Альберт   25  Краснодар              free  3826.185507   \n",
       "18066     1534  Альберт   25  Краснодар              free  2902.308661   \n",
       "18067     1534  Альберт   25  Краснодар              free  2371.711192   \n",
       "\n",
       "        duration       date  month  minute_price  start_ride_price  \\\n",
       "6500   14.944286 2021-01-02      1             8                50   \n",
       "6501   16.234663 2021-02-01      2             8                50   \n",
       "6502   20.016628 2021-02-04      2             8                50   \n",
       "6503    9.782872 2021-02-10      2             8                50   \n",
       "6504   17.427673 2021-02-14      2             8                50   \n",
       "...          ...        ...    ...           ...               ...   \n",
       "18063  19.822962 2021-11-04     11             8                50   \n",
       "18064  21.409799 2021-11-16     11             8                50   \n",
       "18065  18.435051 2021-11-18     11             8                50   \n",
       "18066  16.674362 2021-11-27     11             8                50   \n",
       "18067  15.893917 2021-12-29     12             8                50   \n",
       "\n",
       "       subscription_fee  \n",
       "6500                  0  \n",
       "6501                  0  \n",
       "6502                  0  \n",
       "6503                  0  \n",
       "6504                  0  \n",
       "...                 ...  \n",
       "18063                 0  \n",
       "18064                 0  \n",
       "18065                 0  \n",
       "18066                 0  \n",
       "18067                 0  \n",
       "\n",
       "[11568 rows x 12 columns]"
      ]
     },
     "execution_count": 31,
     "metadata": {},
     "output_type": "execute_result"
    }
   ],
   "source": [
    "data_free = data[data['subscription_type'] == 'free']\n",
    "data_free"
   ]
  },
  {
   "cell_type": "code",
   "execution_count": 32,
   "id": "23403f51",
   "metadata": {},
   "outputs": [
    {
     "data": {
      "text/plain": [
       "count    11568.000000\n",
       "mean        17.390909\n",
       "std          6.326803\n",
       "min          0.500000\n",
       "25%         12.958437\n",
       "50%         17.326890\n",
       "75%         21.594071\n",
       "max         34.948498\n",
       "Name: duration, dtype: float64"
      ]
     },
     "execution_count": 32,
     "metadata": {},
     "output_type": "execute_result"
    }
   ],
   "source": [
    "data_free['duration'].describe()"
   ]
  },
  {
   "cell_type": "code",
   "execution_count": 33,
   "id": "c3475ae2",
   "metadata": {},
   "outputs": [
    {
     "data": {
      "text/plain": [
       "count    11568.000000\n",
       "mean      3045.495282\n",
       "std       1246.173806\n",
       "min          0.855683\n",
       "25%       2366.562689\n",
       "50%       3114.648465\n",
       "75%       3905.697894\n",
       "max       7211.007745\n",
       "Name: distance, dtype: float64"
      ]
     },
     "execution_count": 33,
     "metadata": {},
     "output_type": "execute_result"
    }
   ],
   "source": [
    "data_free['distance'].describe()"
   ]
  },
  {
   "cell_type": "markdown",
   "id": "862cf7a5",
   "metadata": {},
   "source": [
    "**4.2.2 Создаём датафрейм с данными о пользователях с подпиской**"
   ]
  },
  {
   "cell_type": "code",
   "execution_count": 34,
   "id": "b90d8442",
   "metadata": {},
   "outputs": [
    {
     "data": {
      "text/html": [
       "<div>\n",
       "<style scoped>\n",
       "    .dataframe tbody tr th:only-of-type {\n",
       "        vertical-align: middle;\n",
       "    }\n",
       "\n",
       "    .dataframe tbody tr th {\n",
       "        vertical-align: top;\n",
       "    }\n",
       "\n",
       "    .dataframe thead th {\n",
       "        text-align: right;\n",
       "    }\n",
       "</style>\n",
       "<table border=\"1\" class=\"dataframe\">\n",
       "  <thead>\n",
       "    <tr style=\"text-align: right;\">\n",
       "      <th></th>\n",
       "      <th>user_id</th>\n",
       "      <th>name</th>\n",
       "      <th>age</th>\n",
       "      <th>city</th>\n",
       "      <th>subscription_type</th>\n",
       "      <th>distance</th>\n",
       "      <th>duration</th>\n",
       "      <th>date</th>\n",
       "      <th>month</th>\n",
       "      <th>minute_price</th>\n",
       "      <th>start_ride_price</th>\n",
       "      <th>subscription_fee</th>\n",
       "    </tr>\n",
       "  </thead>\n",
       "  <tbody>\n",
       "    <tr>\n",
       "      <th>0</th>\n",
       "      <td>1</td>\n",
       "      <td>Кира</td>\n",
       "      <td>22</td>\n",
       "      <td>Тюмень</td>\n",
       "      <td>ultra</td>\n",
       "      <td>4409.919140</td>\n",
       "      <td>25.599769</td>\n",
       "      <td>2021-01-01</td>\n",
       "      <td>1</td>\n",
       "      <td>6</td>\n",
       "      <td>0</td>\n",
       "      <td>199</td>\n",
       "    </tr>\n",
       "    <tr>\n",
       "      <th>1</th>\n",
       "      <td>1</td>\n",
       "      <td>Кира</td>\n",
       "      <td>22</td>\n",
       "      <td>Тюмень</td>\n",
       "      <td>ultra</td>\n",
       "      <td>2617.592153</td>\n",
       "      <td>15.816871</td>\n",
       "      <td>2021-01-18</td>\n",
       "      <td>1</td>\n",
       "      <td>6</td>\n",
       "      <td>0</td>\n",
       "      <td>199</td>\n",
       "    </tr>\n",
       "    <tr>\n",
       "      <th>2</th>\n",
       "      <td>1</td>\n",
       "      <td>Кира</td>\n",
       "      <td>22</td>\n",
       "      <td>Тюмень</td>\n",
       "      <td>ultra</td>\n",
       "      <td>754.159807</td>\n",
       "      <td>6.232113</td>\n",
       "      <td>2021-04-20</td>\n",
       "      <td>4</td>\n",
       "      <td>6</td>\n",
       "      <td>0</td>\n",
       "      <td>199</td>\n",
       "    </tr>\n",
       "    <tr>\n",
       "      <th>3</th>\n",
       "      <td>1</td>\n",
       "      <td>Кира</td>\n",
       "      <td>22</td>\n",
       "      <td>Тюмень</td>\n",
       "      <td>ultra</td>\n",
       "      <td>2694.783254</td>\n",
       "      <td>18.511000</td>\n",
       "      <td>2021-08-11</td>\n",
       "      <td>8</td>\n",
       "      <td>6</td>\n",
       "      <td>0</td>\n",
       "      <td>199</td>\n",
       "    </tr>\n",
       "    <tr>\n",
       "      <th>4</th>\n",
       "      <td>1</td>\n",
       "      <td>Кира</td>\n",
       "      <td>22</td>\n",
       "      <td>Тюмень</td>\n",
       "      <td>ultra</td>\n",
       "      <td>4028.687306</td>\n",
       "      <td>26.265803</td>\n",
       "      <td>2021-08-28</td>\n",
       "      <td>8</td>\n",
       "      <td>6</td>\n",
       "      <td>0</td>\n",
       "      <td>199</td>\n",
       "    </tr>\n",
       "    <tr>\n",
       "      <th>...</th>\n",
       "      <td>...</td>\n",
       "      <td>...</td>\n",
       "      <td>...</td>\n",
       "      <td>...</td>\n",
       "      <td>...</td>\n",
       "      <td>...</td>\n",
       "      <td>...</td>\n",
       "      <td>...</td>\n",
       "      <td>...</td>\n",
       "      <td>...</td>\n",
       "      <td>...</td>\n",
       "      <td>...</td>\n",
       "    </tr>\n",
       "    <tr>\n",
       "      <th>6495</th>\n",
       "      <td>699</td>\n",
       "      <td>Оксана</td>\n",
       "      <td>22</td>\n",
       "      <td>Москва</td>\n",
       "      <td>ultra</td>\n",
       "      <td>3973.046497</td>\n",
       "      <td>24.671163</td>\n",
       "      <td>2021-08-29</td>\n",
       "      <td>8</td>\n",
       "      <td>6</td>\n",
       "      <td>0</td>\n",
       "      <td>199</td>\n",
       "    </tr>\n",
       "    <tr>\n",
       "      <th>6496</th>\n",
       "      <td>699</td>\n",
       "      <td>Оксана</td>\n",
       "      <td>22</td>\n",
       "      <td>Москва</td>\n",
       "      <td>ultra</td>\n",
       "      <td>3288.702563</td>\n",
       "      <td>15.892886</td>\n",
       "      <td>2021-09-12</td>\n",
       "      <td>9</td>\n",
       "      <td>6</td>\n",
       "      <td>0</td>\n",
       "      <td>199</td>\n",
       "    </tr>\n",
       "    <tr>\n",
       "      <th>6497</th>\n",
       "      <td>699</td>\n",
       "      <td>Оксана</td>\n",
       "      <td>22</td>\n",
       "      <td>Москва</td>\n",
       "      <td>ultra</td>\n",
       "      <td>3076.159348</td>\n",
       "      <td>14.389525</td>\n",
       "      <td>2021-09-26</td>\n",
       "      <td>9</td>\n",
       "      <td>6</td>\n",
       "      <td>0</td>\n",
       "      <td>199</td>\n",
       "    </tr>\n",
       "    <tr>\n",
       "      <th>6498</th>\n",
       "      <td>699</td>\n",
       "      <td>Оксана</td>\n",
       "      <td>22</td>\n",
       "      <td>Москва</td>\n",
       "      <td>ultra</td>\n",
       "      <td>4707.845501</td>\n",
       "      <td>15.839579</td>\n",
       "      <td>2021-10-17</td>\n",
       "      <td>10</td>\n",
       "      <td>6</td>\n",
       "      <td>0</td>\n",
       "      <td>199</td>\n",
       "    </tr>\n",
       "    <tr>\n",
       "      <th>6499</th>\n",
       "      <td>699</td>\n",
       "      <td>Оксана</td>\n",
       "      <td>22</td>\n",
       "      <td>Москва</td>\n",
       "      <td>ultra</td>\n",
       "      <td>3202.890770</td>\n",
       "      <td>25.217345</td>\n",
       "      <td>2021-12-03</td>\n",
       "      <td>12</td>\n",
       "      <td>6</td>\n",
       "      <td>0</td>\n",
       "      <td>199</td>\n",
       "    </tr>\n",
       "  </tbody>\n",
       "</table>\n",
       "<p>6500 rows × 12 columns</p>\n",
       "</div>"
      ],
      "text/plain": [
       "      user_id    name  age    city subscription_type     distance   duration  \\\n",
       "0           1    Кира   22  Тюмень             ultra  4409.919140  25.599769   \n",
       "1           1    Кира   22  Тюмень             ultra  2617.592153  15.816871   \n",
       "2           1    Кира   22  Тюмень             ultra   754.159807   6.232113   \n",
       "3           1    Кира   22  Тюмень             ultra  2694.783254  18.511000   \n",
       "4           1    Кира   22  Тюмень             ultra  4028.687306  26.265803   \n",
       "...       ...     ...  ...     ...               ...          ...        ...   \n",
       "6495      699  Оксана   22  Москва             ultra  3973.046497  24.671163   \n",
       "6496      699  Оксана   22  Москва             ultra  3288.702563  15.892886   \n",
       "6497      699  Оксана   22  Москва             ultra  3076.159348  14.389525   \n",
       "6498      699  Оксана   22  Москва             ultra  4707.845501  15.839579   \n",
       "6499      699  Оксана   22  Москва             ultra  3202.890770  25.217345   \n",
       "\n",
       "           date  month  minute_price  start_ride_price  subscription_fee  \n",
       "0    2021-01-01      1             6                 0               199  \n",
       "1    2021-01-18      1             6                 0               199  \n",
       "2    2021-04-20      4             6                 0               199  \n",
       "3    2021-08-11      8             6                 0               199  \n",
       "4    2021-08-28      8             6                 0               199  \n",
       "...         ...    ...           ...               ...               ...  \n",
       "6495 2021-08-29      8             6                 0               199  \n",
       "6496 2021-09-12      9             6                 0               199  \n",
       "6497 2021-09-26      9             6                 0               199  \n",
       "6498 2021-10-17     10             6                 0               199  \n",
       "6499 2021-12-03     12             6                 0               199  \n",
       "\n",
       "[6500 rows x 12 columns]"
      ]
     },
     "execution_count": 34,
     "metadata": {},
     "output_type": "execute_result"
    }
   ],
   "source": [
    "data_ultra = data[data['subscription_type'] == 'ultra']\n",
    "data_ultra"
   ]
  },
  {
   "cell_type": "code",
   "execution_count": 35,
   "id": "08cbcff5",
   "metadata": {},
   "outputs": [
    {
     "data": {
      "text/plain": [
       "count    6500.000000\n",
       "mean       18.541985\n",
       "std         5.572048\n",
       "min         3.760353\n",
       "25%        14.524654\n",
       "50%        18.178153\n",
       "75%        21.884129\n",
       "max        40.823963\n",
       "Name: duration, dtype: float64"
      ]
     },
     "execution_count": 35,
     "metadata": {},
     "output_type": "execute_result"
    }
   ],
   "source": [
    "data_ultra['duration'].describe()"
   ]
  },
  {
   "cell_type": "code",
   "execution_count": 36,
   "id": "5bb19e8b",
   "metadata": {},
   "outputs": [
    {
     "data": {
      "text/plain": [
       "count    6500.000000\n",
       "mean     3115.445388\n",
       "std       836.895330\n",
       "min       244.210438\n",
       "25%      2785.444017\n",
       "50%      3148.637229\n",
       "75%      3560.574425\n",
       "max      5699.769662\n",
       "Name: distance, dtype: float64"
      ]
     },
     "execution_count": 36,
     "metadata": {},
     "output_type": "execute_result"
    }
   ],
   "source": [
    "data_ultra['distance'].describe()"
   ]
  },
  {
   "cell_type": "markdown",
   "id": "727c45cf",
   "metadata": {},
   "source": [
    "**4.3.1 Визуализируем информацию о расстоянии и времени поездок для пользователей без подписки**"
   ]
  },
  {
   "cell_type": "code",
   "execution_count": 37,
   "id": "9bf0a8e8",
   "metadata": {},
   "outputs": [
    {
     "data": {
      "image/png": "[encoded data removed]",
      "text/plain": [
       "<Figure size 432x288 with 1 Axes>"
      ]
     },
     "metadata": {
      "needs_background": "light"
     },
     "output_type": "display_data"
    },
    {
     "data": {
      "text/plain": [
       "<Figure size 1440x1440 with 0 Axes>"
      ]
     },
     "metadata": {},
     "output_type": "display_data"
    }
   ],
   "source": [
    "plt.hist(data_free['distance'], bins=40, range = (0, 7000))\n",
    "plt.title('Расстояние, без подписки')\n",
    "plt.xlabel('Расстояние, м')\n",
    "plt.ylabel('Количество поездок')\n",
    "plt.figure(figsize=(20,20))\n",
    "plt.show()"
   ]
  },
  {
   "cell_type": "code",
   "execution_count": 38,
   "id": "3405bdfe",
   "metadata": {},
   "outputs": [
    {
     "data": {
      "image/png": "[encoded data removed]",
      "text/plain": [
       "<Figure size 432x288 with 1 Axes>"
      ]
     },
     "metadata": {
      "needs_background": "light"
     },
     "output_type": "display_data"
    },
    {
     "data": {
      "text/plain": [
       "<Figure size 1440x1440 with 0 Axes>"
      ]
     },
     "metadata": {},
     "output_type": "display_data"
    }
   ],
   "source": [
    "plt.hist(data_free['duration'], bins=30, range = (0, 35))\n",
    "plt.title('Время, без подписки')\n",
    "plt.xlabel('Время поездки, минуты')\n",
    "plt.ylabel('Количество поездок')\n",
    "plt.figure(figsize=(20,20))\n",
    "plt.show()"
   ]
  },
  {
   "cell_type": "markdown",
   "id": "c2b430d3",
   "metadata": {},
   "source": [
    "**4.3.2 Визуализируем информацию о расстоянии и времени поездок для пользователей с подпиской**"
   ]
  },
  {
   "cell_type": "code",
   "execution_count": 39,
   "id": "7eb1d9cc",
   "metadata": {},
   "outputs": [
    {
     "data": {
      "image/png": "[encoded data removed]",
      "text/plain": [
       "<Figure size 432x288 with 1 Axes>"
      ]
     },
     "metadata": {
      "needs_background": "light"
     },
     "output_type": "display_data"
    },
    {
     "data": {
      "text/plain": [
       "<Figure size 1440x1440 with 0 Axes>"
      ]
     },
     "metadata": {},
     "output_type": "display_data"
    }
   ],
   "source": [
    "plt.hist(data_ultra['distance'], bins=40, range = (0, 6000))\n",
    "plt.title('Расстояние, с подпиской')\n",
    "plt.xlabel('Расстояние, м')\n",
    "plt.ylabel('Количество поездок')\n",
    "plt.figure(figsize=(20,20))\n",
    "plt.show()"
   ]
  },
  {
   "cell_type": "code",
   "execution_count": 40,
   "id": "00f1f41e",
   "metadata": {},
   "outputs": [
    {
     "data": {
      "image/png": "[encoded data removed]",
      "text/plain": [
       "<Figure size 432x288 with 1 Axes>"
      ]
     },
     "metadata": {
      "needs_background": "light"
     },
     "output_type": "display_data"
    },
    {
     "data": {
      "text/plain": [
       "<Figure size 1440x1440 with 0 Axes>"
      ]
     },
     "metadata": {},
     "output_type": "display_data"
    }
   ],
   "source": [
    "plt.hist(data_ultra['duration'], bins=30, range = (0, 35))\n",
    "plt.title('Время, платный тариф')\n",
    "plt.xlabel('Время поездки, минуты')\n",
    "plt.ylabel('Количество поездок')\n",
    "plt.figure(figsize=(20,20))\n",
    "plt.show()"
   ]
  },
  {
   "cell_type": "markdown",
   "id": "01be1b4e",
   "metadata": {},
   "source": [
    "**Вывод по разделу 4**:\n",
    "\n",
    "- Объединили данные о пользователях, поездках и тарифах в один датафрейм - data.\n",
    "- Создали два датафрейма на основе data:\n",
    "data_free - с данными о пользователях без подписки.\n",
    "data_ultra - с данными о пользователях с подпиской.\n",
    "\n",
    "- Визуализировали информацию о расстоянии и времени для пользователей обеих категорий:\n",
    "\n",
    "Для пользователей без подписки - время поездки составляет от 12 до 22 минут, и проезжают от 2 до 4 км.\n",
    "\n",
    "Для пользователей с подпиской - время поездки составляет от 14 до 22 минут, пик расстояния приходится на 2 до 3,5 км.\n",
    "\n",
    "Таким образом, можно сделать вывод, что пользователи без подписки в целом совершают более долгие поездки, а также проезжают большее расстояние, чем пользователи с подпиской.   "
   ]
  },
  {
   "cell_type": "markdown",
   "id": "7c2a335d",
   "metadata": {},
   "source": [
    "#### Шаг 5. Подсчёт выручки"
   ]
  },
  {
   "cell_type": "markdown",
   "id": "48b76cd3",
   "metadata": {},
   "source": [
    "**5.1 Создаём датафрейм с агрегированными данными о поездках на основе датафрейма с объединёнными данными из шага 4: найдём суммарное расстояние, количество поездок и суммарное время для каждого пользователя за каждый месяц** "
   ]
  },
  {
   "cell_type": "code",
   "execution_count": 41,
   "id": "f99a19d5",
   "metadata": {},
   "outputs": [
    {
     "data": {
      "text/html": [
       "<div>\n",
       "<style scoped>\n",
       "    .dataframe tbody tr th:only-of-type {\n",
       "        vertical-align: middle;\n",
       "    }\n",
       "\n",
       "    .dataframe tbody tr th {\n",
       "        vertical-align: top;\n",
       "    }\n",
       "\n",
       "    .dataframe thead th {\n",
       "        text-align: right;\n",
       "    }\n",
       "</style>\n",
       "<table border=\"1\" class=\"dataframe\">\n",
       "  <thead>\n",
       "    <tr style=\"text-align: right;\">\n",
       "      <th></th>\n",
       "      <th></th>\n",
       "      <th>count</th>\n",
       "      <th>distance</th>\n",
       "      <th>duration</th>\n",
       "      <th>minute_price</th>\n",
       "      <th>start_ride_price</th>\n",
       "      <th>subscription_fee</th>\n",
       "      <th>subscription_type</th>\n",
       "    </tr>\n",
       "    <tr>\n",
       "      <th>user_id</th>\n",
       "      <th>month</th>\n",
       "      <th></th>\n",
       "      <th></th>\n",
       "      <th></th>\n",
       "      <th></th>\n",
       "      <th></th>\n",
       "      <th></th>\n",
       "      <th></th>\n",
       "    </tr>\n",
       "  </thead>\n",
       "  <tbody>\n",
       "    <tr>\n",
       "      <th rowspan=\"5\" valign=\"top\">1</th>\n",
       "      <th>1</th>\n",
       "      <td>2</td>\n",
       "      <td>7027.511294</td>\n",
       "      <td>42.0</td>\n",
       "      <td>6</td>\n",
       "      <td>0</td>\n",
       "      <td>199</td>\n",
       "      <td>ultra</td>\n",
       "    </tr>\n",
       "    <tr>\n",
       "      <th>4</th>\n",
       "      <td>1</td>\n",
       "      <td>754.159807</td>\n",
       "      <td>7.0</td>\n",
       "      <td>6</td>\n",
       "      <td>0</td>\n",
       "      <td>199</td>\n",
       "      <td>ultra</td>\n",
       "    </tr>\n",
       "    <tr>\n",
       "      <th>8</th>\n",
       "      <td>2</td>\n",
       "      <td>6723.470560</td>\n",
       "      <td>46.0</td>\n",
       "      <td>6</td>\n",
       "      <td>0</td>\n",
       "      <td>199</td>\n",
       "      <td>ultra</td>\n",
       "    </tr>\n",
       "    <tr>\n",
       "      <th>10</th>\n",
       "      <td>2</td>\n",
       "      <td>5809.911100</td>\n",
       "      <td>32.0</td>\n",
       "      <td>6</td>\n",
       "      <td>0</td>\n",
       "      <td>199</td>\n",
       "      <td>ultra</td>\n",
       "    </tr>\n",
       "    <tr>\n",
       "      <th>11</th>\n",
       "      <td>3</td>\n",
       "      <td>7003.499363</td>\n",
       "      <td>56.0</td>\n",
       "      <td>6</td>\n",
       "      <td>0</td>\n",
       "      <td>199</td>\n",
       "      <td>ultra</td>\n",
       "    </tr>\n",
       "  </tbody>\n",
       "</table>\n",
       "</div>"
      ],
      "text/plain": [
       "               count     distance  duration  minute_price  start_ride_price  \\\n",
       "user_id month                                                                 \n",
       "1       1          2  7027.511294      42.0             6                 0   \n",
       "        4          1   754.159807       7.0             6                 0   \n",
       "        8          2  6723.470560      46.0             6                 0   \n",
       "        10         2  5809.911100      32.0             6                 0   \n",
       "        11         3  7003.499363      56.0             6                 0   \n",
       "\n",
       "               subscription_fee subscription_type  \n",
       "user_id month                                      \n",
       "1       1                   199             ultra  \n",
       "        4                   199             ultra  \n",
       "        8                   199             ultra  \n",
       "        10                  199             ultra  \n",
       "        11                  199             ultra  "
      ]
     },
     "execution_count": 41,
     "metadata": {},
     "output_type": "execute_result"
    }
   ],
   "source": [
    "data['duration'] = np.ceil(data['duration']) \n",
    "total_data = data.pivot_table(\n",
    "    index=('user_id', 'month'), \n",
    "    values=(\n",
    "        'distance', \n",
    "        'duration', \n",
    "        'minute_price', \n",
    "        'start_ride_price', \n",
    "        'subscription_fee',\n",
    "        'subscription_type'\n",
    "    ), \n",
    "    aggfunc=({'distance':{'count', 'sum'}, \n",
    "             'duration':'sum',\n",
    "             'minute_price': 'mean',\n",
    "             'start_ride_price':'mean',\n",
    "             'subscription_fee':'mean',\n",
    "             'subscription_type':'min'})\n",
    ")\n",
    "\n",
    "total_data.columns = [\n",
    "    'count', 'distance', \n",
    "    'duration', \n",
    "    'minute_price',\n",
    "    'start_ride_price',\n",
    "    'subscription_fee',\n",
    "    'subscription_type'\n",
    "]\n",
    "\n",
    "total_data.head()"
   ]
  },
  {
   "cell_type": "markdown",
   "id": "ec9036f5",
   "metadata": {},
   "source": [
    "**5.2 В этот же датафрейм добавляем столбец с помесячной выручкой, которую принёс каждый пользователь**"
   ]
  },
  {
   "cell_type": "code",
   "execution_count": 42,
   "id": "bb959328",
   "metadata": {},
   "outputs": [
    {
     "data": {
      "text/html": [
       "<div>\n",
       "<style scoped>\n",
       "    .dataframe tbody tr th:only-of-type {\n",
       "        vertical-align: middle;\n",
       "    }\n",
       "\n",
       "    .dataframe tbody tr th {\n",
       "        vertical-align: top;\n",
       "    }\n",
       "\n",
       "    .dataframe thead th {\n",
       "        text-align: right;\n",
       "    }\n",
       "</style>\n",
       "<table border=\"1\" class=\"dataframe\">\n",
       "  <thead>\n",
       "    <tr style=\"text-align: right;\">\n",
       "      <th></th>\n",
       "      <th></th>\n",
       "      <th>count</th>\n",
       "      <th>distance</th>\n",
       "      <th>duration</th>\n",
       "      <th>minute_price</th>\n",
       "      <th>start_ride_price</th>\n",
       "      <th>subscription_fee</th>\n",
       "      <th>subscription_type</th>\n",
       "      <th>revenue_per_month</th>\n",
       "    </tr>\n",
       "    <tr>\n",
       "      <th>user_id</th>\n",
       "      <th>month</th>\n",
       "      <th></th>\n",
       "      <th></th>\n",
       "      <th></th>\n",
       "      <th></th>\n",
       "      <th></th>\n",
       "      <th></th>\n",
       "      <th></th>\n",
       "      <th></th>\n",
       "    </tr>\n",
       "  </thead>\n",
       "  <tbody>\n",
       "    <tr>\n",
       "      <th rowspan=\"6\" valign=\"top\">1</th>\n",
       "      <th>1</th>\n",
       "      <td>2</td>\n",
       "      <td>7027.511294</td>\n",
       "      <td>42.0</td>\n",
       "      <td>6</td>\n",
       "      <td>0</td>\n",
       "      <td>199</td>\n",
       "      <td>ultra</td>\n",
       "      <td>451.0</td>\n",
       "    </tr>\n",
       "    <tr>\n",
       "      <th>4</th>\n",
       "      <td>1</td>\n",
       "      <td>754.159807</td>\n",
       "      <td>7.0</td>\n",
       "      <td>6</td>\n",
       "      <td>0</td>\n",
       "      <td>199</td>\n",
       "      <td>ultra</td>\n",
       "      <td>241.0</td>\n",
       "    </tr>\n",
       "    <tr>\n",
       "      <th>8</th>\n",
       "      <td>2</td>\n",
       "      <td>6723.470560</td>\n",
       "      <td>46.0</td>\n",
       "      <td>6</td>\n",
       "      <td>0</td>\n",
       "      <td>199</td>\n",
       "      <td>ultra</td>\n",
       "      <td>475.0</td>\n",
       "    </tr>\n",
       "    <tr>\n",
       "      <th>10</th>\n",
       "      <td>2</td>\n",
       "      <td>5809.911100</td>\n",
       "      <td>32.0</td>\n",
       "      <td>6</td>\n",
       "      <td>0</td>\n",
       "      <td>199</td>\n",
       "      <td>ultra</td>\n",
       "      <td>391.0</td>\n",
       "    </tr>\n",
       "    <tr>\n",
       "      <th>11</th>\n",
       "      <td>3</td>\n",
       "      <td>7003.499363</td>\n",
       "      <td>56.0</td>\n",
       "      <td>6</td>\n",
       "      <td>0</td>\n",
       "      <td>199</td>\n",
       "      <td>ultra</td>\n",
       "      <td>535.0</td>\n",
       "    </tr>\n",
       "    <tr>\n",
       "      <th>12</th>\n",
       "      <td>2</td>\n",
       "      <td>6751.629942</td>\n",
       "      <td>28.0</td>\n",
       "      <td>6</td>\n",
       "      <td>0</td>\n",
       "      <td>199</td>\n",
       "      <td>ultra</td>\n",
       "      <td>367.0</td>\n",
       "    </tr>\n",
       "    <tr>\n",
       "      <th rowspan=\"4\" valign=\"top\">2</th>\n",
       "      <th>3</th>\n",
       "      <td>3</td>\n",
       "      <td>10187.723006</td>\n",
       "      <td>63.0</td>\n",
       "      <td>6</td>\n",
       "      <td>0</td>\n",
       "      <td>199</td>\n",
       "      <td>ultra</td>\n",
       "      <td>577.0</td>\n",
       "    </tr>\n",
       "    <tr>\n",
       "      <th>4</th>\n",
       "      <td>2</td>\n",
       "      <td>6164.381824</td>\n",
       "      <td>40.0</td>\n",
       "      <td>6</td>\n",
       "      <td>0</td>\n",
       "      <td>199</td>\n",
       "      <td>ultra</td>\n",
       "      <td>439.0</td>\n",
       "    </tr>\n",
       "    <tr>\n",
       "      <th>6</th>\n",
       "      <td>1</td>\n",
       "      <td>3255.338202</td>\n",
       "      <td>14.0</td>\n",
       "      <td>6</td>\n",
       "      <td>0</td>\n",
       "      <td>199</td>\n",
       "      <td>ultra</td>\n",
       "      <td>283.0</td>\n",
       "    </tr>\n",
       "    <tr>\n",
       "      <th>7</th>\n",
       "      <td>2</td>\n",
       "      <td>6780.722964</td>\n",
       "      <td>48.0</td>\n",
       "      <td>6</td>\n",
       "      <td>0</td>\n",
       "      <td>199</td>\n",
       "      <td>ultra</td>\n",
       "      <td>487.0</td>\n",
       "    </tr>\n",
       "  </tbody>\n",
       "</table>\n",
       "</div>"
      ],
      "text/plain": [
       "               count      distance  duration  minute_price  start_ride_price  \\\n",
       "user_id month                                                                  \n",
       "1       1          2   7027.511294      42.0             6                 0   \n",
       "        4          1    754.159807       7.0             6                 0   \n",
       "        8          2   6723.470560      46.0             6                 0   \n",
       "        10         2   5809.911100      32.0             6                 0   \n",
       "        11         3   7003.499363      56.0             6                 0   \n",
       "        12         2   6751.629942      28.0             6                 0   \n",
       "2       3          3  10187.723006      63.0             6                 0   \n",
       "        4          2   6164.381824      40.0             6                 0   \n",
       "        6          1   3255.338202      14.0             6                 0   \n",
       "        7          2   6780.722964      48.0             6                 0   \n",
       "\n",
       "               subscription_fee subscription_type  revenue_per_month  \n",
       "user_id month                                                         \n",
       "1       1                   199             ultra              451.0  \n",
       "        4                   199             ultra              241.0  \n",
       "        8                   199             ultra              475.0  \n",
       "        10                  199             ultra              391.0  \n",
       "        11                  199             ultra              535.0  \n",
       "        12                  199             ultra              367.0  \n",
       "2       3                   199             ultra              577.0  \n",
       "        4                   199             ultra              439.0  \n",
       "        6                   199             ultra              283.0  \n",
       "        7                   199             ultra              487.0  "
      ]
     },
     "execution_count": 42,
     "metadata": {},
     "output_type": "execute_result"
    }
   ],
   "source": [
    "total_data['revenue_per_month'] = (\n",
    "total_data['start_ride_price']*total_data['count']+\n",
    "total_data['minute_price']*total_data['duration']+\n",
    "total_data['subscription_fee'])\n",
    "\n",
    "total_data.head(10)"
   ]
  },
  {
   "cell_type": "markdown",
   "id": "522bd51f",
   "metadata": {},
   "source": [
    "**Вывод по разделу 5**:\n",
    "\n",
    "- Создали новый датафрейм с агрегированными данными (total_data) на основе датафрейма с объединенными данными (data).\n",
    "- Нашли суммарное расстояние, количество поездок и суммарное время для каждого пользователя за каждый месяц.\n",
    "- Добавили столбец с помесячной выручкой, которую принес каждый пользователь."
   ]
  },
  {
   "cell_type": "markdown",
   "id": "dcddb5bf",
   "metadata": {},
   "source": [
    "#### Шаг 6. Проверка гипотез"
   ]
  },
  {
   "cell_type": "markdown",
   "id": "12c17a3e",
   "metadata": {},
   "source": [
    "**6.1 Важно понять, тратят ли пользователи с подпиской больше времени на поездки?**"
   ]
  },
  {
   "cell_type": "markdown",
   "id": "27e72e77",
   "metadata": {},
   "source": [
    "Если да, то пользователи с подпиской могут быть «выгоднее» для компании.\n",
    "\n",
    "Выдвинем гипотезы:\n",
    "\n",
    "- Н0: Время пользователей на подписке ultra равно времени пользователей на подписке free\n",
    "- H1: Время пользователей на подписке ultra больше времени пользователей на подписке free"
   ]
  },
  {
   "cell_type": "code",
   "execution_count": 43,
   "id": "a3076f98",
   "metadata": {},
   "outputs": [
    {
     "name": "stdout",
     "output_type": "stream",
     "text": [
      "Среднее значение продолжительности поездок для категории ultra: 18.54198516280583\n",
      "Среднее значение продолжительности поездок для категории free: 17.39090929866399\n",
      "p-значение: 1.2804098316645618e-34\n",
      "Отвергаем нулевую гипотезу\n"
     ]
    }
   ],
   "source": [
    "print('Среднее значение продолжительности поездок для категории ultra:', data_ultra['duration'].mean())\n",
    "print('Среднее значение продолжительности поездок для категории free:', data_free['duration'].mean())\n",
    "\n",
    "alpha = 0.05\n",
    "\n",
    "results = st.ttest_ind(\n",
    "    data_ultra['duration'], \n",
    "    data_free['duration'],  \n",
    "    alternative='greater')\n",
    "\n",
    "print('p-значение:', results.pvalue)\n",
    "\n",
    "if results.pvalue < alpha:\n",
    "    print('Отвергаем нулевую гипотезу')\n",
    "else:\n",
    "    print('Не получилось отвергнуть нулевую гипотезу')\n",
    "    "
   ]
  },
  {
   "cell_type": "markdown",
   "id": "4333bfb4",
   "metadata": {},
   "source": [
    "**Вывод**:\n",
    "Нулевая гипотеза отвергнута. \n",
    "Соответственно, пользователи с подпиской тратят больше времени на поездки, чем пользователи без подписки. "
   ]
  },
  {
   "cell_type": "markdown",
   "id": "1d3f32f4",
   "metadata": {},
   "source": [
    "**6.2 Оптимальное растояние поездки с точки зрения износа самоката для пользователей с подпиской**"
   ]
  },
  {
   "cell_type": "markdown",
   "id": "bb1ba1b0",
   "metadata": {},
   "source": [
    "Оптимальное расстояние одной поездки - 3130 метров\n",
    "\n",
    "Гипотеза - пользователи с подпиской проезжают расстояние, не превышающее 3130 метров за одну поездку.\n",
    "\n",
    "Выдвинем гипотезы:\n",
    "\n",
    "- Н0: Расстояние пользователей с подпиской равно 3130 м.\n",
    "- H1: Расстояние пользователей с подпиской больше 3130 м."
   ]
  },
  {
   "cell_type": "code",
   "execution_count": 44,
   "id": "5ba6e447",
   "metadata": {},
   "outputs": [
    {
     "name": "stdout",
     "output_type": "stream",
     "text": [
      "0.9195368847849785\n",
      "Не получилось отвергнуть нулевую гипотезу\n"
     ]
    }
   ],
   "source": [
    "distance = 3130\n",
    "alpha = 0.05\n",
    "\n",
    "results = st.ttest_1samp(\n",
    "    data_ultra['distance'], \n",
    "    distance,\n",
    "    alternative='greater')\n",
    "\n",
    "print(results.pvalue)\n",
    "\n",
    "if results.pvalue < alpha:\n",
    "    print('Отвергаем нулевую гипотезу')\n",
    "else:\n",
    "    print('Не получилось отвергнуть нулевую гипотезу')"
   ]
  },
  {
   "cell_type": "markdown",
   "id": "14f79a5f",
   "metadata": {},
   "source": [
    "**Вывод**:\n",
    "Не получилось отвергнуть нулевую гипотезу. Можно сделать вывод о том, что с большой долей вероятности пользователи с подпиской проезжают расстояние, не превышающее 3130 метров за одну поездку."
   ]
  },
  {
   "cell_type": "markdown",
   "id": "e90dec78",
   "metadata": {},
   "source": [
    "**6.3 Определим, будет ли помесячная выручка от пользователей с подпиской по месяцам выше, чем выручка от пользователей без подписки**"
   ]
  },
  {
   "cell_type": "markdown",
   "id": "142237fc",
   "metadata": {},
   "source": [
    "Выдвинем гипотезы:\n",
    "\n",
    "- Н0: Выручка пользователей c подпиской равна выручке пользователей без подписки \n",
    "- H1: Выручка пользователей с подпиской больше выручки пользователей без подписки"
   ]
  },
  {
   "cell_type": "code",
   "execution_count": 45,
   "id": "b16a528b",
   "metadata": {},
   "outputs": [
    {
     "name": "stdout",
     "output_type": "stream",
     "text": [
      "1.8850394384715216e-31\n",
      "Отвергаем нулевую гипотезу\n"
     ]
    }
   ],
   "source": [
    "alpha = 0.05\n",
    "\n",
    "results = st.ttest_ind(\n",
    "    total_data.loc[total_data['subscription_fee'] > 0, 'revenue_per_month'], \n",
    "    total_data.loc[total_data['subscription_fee'] == 0, 'revenue_per_month'],  \n",
    "    alternative='greater')\n",
    "print(results.pvalue)\n",
    "\n",
    "if results.pvalue < alpha:\n",
    "    print('Отвергаем нулевую гипотезу')\n",
    "else:\n",
    "    print('Не получилось отвергнуть нулевую гипотезу')"
   ]
  },
  {
   "cell_type": "markdown",
   "id": "cb10886c",
   "metadata": {},
   "source": [
    "**Вывод**:\n",
    "Нулевая гипотеза отвергнута, выручка пользователей с подпиской больше выручки пользователей без подписки."
   ]
  },
  {
   "cell_type": "markdown",
   "id": "db4e3d17",
   "metadata": {},
   "source": [
    "**6.4 Представляю такую ситуацию: техническая команда сервиса обновила сервера, с которыми взаимодействует мобильное приложение. Она надеется, что из-за этого количество обращений в техподдержку значимо снизилось. Некоторый файл содержит для каждого пользователя данные о количестве обращений до обновления и после него. Какой тест мне понадобился бы для проверки этой гипотезы?**"
   ]
  },
  {
   "cell_type": "markdown",
   "id": "e3127bbb",
   "metadata": {},
   "source": [
    "**Ответ**:\n",
    "\n",
    "Будем использовать гипотезу о равенстве средних для зависимых (парных) выборок.\n",
    "- Метод, который нужно использовать при сравнении: scipy.stats.ttest_rel()\n",
    "\n",
    "Это две зависимые выборки (парные).\n",
    "- Некоторая переменная измеряется дважды (количество обращений до обновления и после него) для одних и тех же объектов (пользователей) и они одинаковы по размеру. "
   ]
  },
  {
   "cell_type": "markdown",
   "id": "488e590d",
   "metadata": {},
   "source": [
    "**Вывод по разделу 6**:\n",
    "- 6.1 Нулевая гипотеза отвергнута. Соответственно, пользователи с подпиской тратят больше времени на поездки, чем пользователи без подписки.\n",
    "- 6.2 Не получилось отвергнуть нулевую гипотезу. Можно сделать вывод о том, что с большой долей вероятности пользователи с подпиской проезжают расстояние, не превышающее 3130 метров за одну поездку.\n",
    "- 6.3 Нулевая гипотеза отвергнута, выручка пользователей с подпиской больше выручки пользователей без подписки.\n",
    "- 6.4 Будем использовать гипотезу о равенстве средних для зависимых (парных) выборок. Метод, который нужно использовать при сравнении: scipy.stats.ttest_rel()."
   ]
  },
  {
   "cell_type": "markdown",
   "id": "c9bf5f06",
   "metadata": {},
   "source": [
    "**Общий вывод по всей работе**:\n",
    "\n",
    "**1. Загрузка данных**:\n",
    "\n",
    "В данных:\n",
    "- `users_go` (пользователи) 1565 записи.\n",
    "- `rides_go` (поездки) 18068 записи.\n",
    "- `subscriptions_go` (подписки) 2 записи.\n",
    "- Пользователи разного возраста и находятся в разных городах.\n",
    "- Преобладают пользователи с бесплатным тарифом.\n",
    "- Наименования данных корректны.\n",
    "- У столбца date указан некорректный тип данных.\n",
    "\n",
    "**2. Предоработка данных**:\n",
    "\n",
    "- Привели столбец date к типу даты.\n",
    "- Добавили столбец month с номером месяца. Данные предоставлены за 2021 год.\n",
    "- Пропущенных данных в таблицах нет.\n",
    "- Дубликаты имеются среди пользователей. Удалили строки дубликаты.\n",
    "\n",
    "**3. Исследовательский анализ данных**:\n",
    "\n",
    "Частота встречаемости городов:\n",
    "- Самое большое количество пользователей находятся в Пятигорске, а самое маленькое в Москве.\n",
    "\n",
    "Соотношение пользователей с подпиской и без подписки:\n",
    "- Количество пользователей без подписки (free) - 54%, превышает количество пользователей с подпиской (ultra) - 46%.\n",
    "\n",
    "Возраст пользователей:\n",
    "- Самые младшие пользователи - 12 лет.\n",
    "- Самые старшие пользователи - 43 года.\n",
    "- Средний возраст пользователей - 25 лет.\n",
    "\n",
    "Расстояние, которое пользователь преодолел за одну поездку:\n",
    "- Самая короткая дистанция - 0.86 км.\n",
    "- Самая длинная - 7.2 км.\n",
    "- В основном пользователи проезжают от 2.5 км до 4 км.\n",
    "- Прослеживаются выбросы примерно в диапазоне <900 и >5800\n",
    "\n",
    "Продолжительность поездок:\n",
    "- Самые короткие поездки - по пол минуты. Значение странное, возможно техническая ошибка самоката или пользователь передумал ехать.\n",
    "- Самая длинная поездка - 40 минут.\n",
    "- В основном длительность поездки состовляет 13 - 22 минут.\n",
    "- Прослеживаются выбросы примерно <2 и >34\n",
    "\n",
    "**4. Объединение данных**:\n",
    "\n",
    "- Объединили данные о пользователях, поездках и тарифах в один датафрейм - data.\n",
    "- Создали два датафрейма на основе data:\n",
    "data_free - с данными о пользователях без подписки.\n",
    "data_ultra - с данными о пользователях с подпиской.\n",
    "\n",
    "- Визуализировали информацию о расстоянии и времени для пользователей обеих категорий:\n",
    "\n",
    "Для пользователей без подписки - время поездки составляет от 12 до 22 минут, и проезжают от 2 до 4 км.\n",
    "\n",
    "Для пользователей с подпиской - время поездки составляет от 14 до 22 минут, пик расстояния приходится на 2 до 3,5 км.\n",
    "\n",
    "Таким образом, можно сделать вывод, что пользователи без подписки в целом совершают более долгие поездки, а также проезжают большее расстояние, чем пользователи с подпиской.   \n",
    "\n",
    "\n",
    "**5. Подсчёт выручки**:\n",
    "\n",
    "- Создали новый датафрейм с агрегированными данными (total_data) на основе датафрейма с объединенными данными (data).\n",
    "- Нашли суммарное расстояние, количество поездок и суммарное время для каждого пользователя за каждый месяц.\n",
    "- Добавили столбец с помесячной выручкой, которую принес каждый пользователь.\n",
    "\n",
    "**6. Проверка гипотез**: \n",
    "\n",
    "- 6.1 Нулевая гипотеза отвергнута. Соответственно, пользователи с подпиской тратят больше времени на поездки, чем пользователи без подписки.\n",
    "- 6.2 Не получилось отвергнуть нулевую гипотезу. Можно сделать вывод о том, что с большой долей вероятности пользователи с подпиской проезжают расстояние, не превышающее 3130 метров за одну поездку.\n",
    "- 6.3 Нулевая гипотеза отвергнута, выручка пользователей с подпиской больше выручки пользователей без подписки.\n",
    "- 6.4 Будем использовать гипотезу о равенстве средних для зависимых (парных) выборок. Метод, который нужно использовать при сравнении: scipy.stats.ttest_rel()."
   ]
  }
 ],
 "metadata": {
  "ExecuteTimeLog": [
   {
    "duration": 1429,
    "start_time": "2024-03-26T13:56:19.410Z"
   },
   {
    "duration": 306,
    "start_time": "2024-03-26T13:56:59.185Z"
   },
   {
    "duration": 35,
    "start_time": "2024-03-26T13:58:00.560Z"
   },
   {
    "duration": 35,
    "start_time": "2024-03-26T13:59:02.580Z"
   },
   {
    "duration": 25,
    "start_time": "2024-03-26T14:14:53.570Z"
   },
   {
    "duration": 11,
    "start_time": "2024-03-26T14:15:07.389Z"
   },
   {
    "duration": 13,
    "start_time": "2024-03-26T14:16:09.142Z"
   },
   {
    "duration": 9,
    "start_time": "2024-03-26T14:16:19.345Z"
   },
   {
    "duration": 27,
    "start_time": "2024-03-26T14:18:58.964Z"
   },
   {
    "duration": 29,
    "start_time": "2024-03-26T14:19:01.226Z"
   },
   {
    "duration": 34,
    "start_time": "2024-03-26T14:19:23.344Z"
   },
   {
    "duration": 50,
    "start_time": "2024-03-26T14:20:09.226Z"
   },
   {
    "duration": 76,
    "start_time": "2024-03-26T14:21:27.525Z"
   },
   {
    "duration": 74,
    "start_time": "2024-03-26T14:22:01.005Z"
   },
   {
    "duration": 270,
    "start_time": "2024-03-26T14:22:27.357Z"
   },
   {
    "duration": 100,
    "start_time": "2024-03-26T14:23:10.477Z"
   },
   {
    "duration": 173,
    "start_time": "2024-03-26T14:23:27.236Z"
   },
   {
    "duration": 9,
    "start_time": "2024-03-26T14:28:06.595Z"
   },
   {
    "duration": 6,
    "start_time": "2024-03-26T14:28:18.991Z"
   },
   {
    "duration": 10,
    "start_time": "2024-03-26T14:30:21.436Z"
   },
   {
    "duration": 3,
    "start_time": "2024-03-26T14:30:28.207Z"
   },
   {
    "duration": 6,
    "start_time": "2024-03-26T14:30:34.987Z"
   },
   {
    "duration": 9,
    "start_time": "2024-03-26T14:30:55.834Z"
   },
   {
    "duration": 4,
    "start_time": "2024-03-26T14:35:18.714Z"
   },
   {
    "duration": 7,
    "start_time": "2024-03-26T14:35:26.754Z"
   },
   {
    "duration": 6,
    "start_time": "2024-03-26T14:35:37.196Z"
   },
   {
    "duration": 13,
    "start_time": "2024-03-26T14:37:30.140Z"
   },
   {
    "duration": 14,
    "start_time": "2024-03-26T14:38:10.421Z"
   },
   {
    "duration": 7,
    "start_time": "2024-03-26T14:38:44.968Z"
   },
   {
    "duration": 9,
    "start_time": "2024-03-26T14:38:49.833Z"
   },
   {
    "duration": 68,
    "start_time": "2024-03-26T14:40:24.485Z"
   },
   {
    "duration": 1254,
    "start_time": "2024-03-26T14:40:32.432Z"
   },
   {
    "duration": 69,
    "start_time": "2024-03-26T14:40:33.688Z"
   },
   {
    "duration": 227,
    "start_time": "2024-03-26T14:40:33.759Z"
   },
   {
    "duration": 7,
    "start_time": "2024-03-26T14:40:33.988Z"
   },
   {
    "duration": 28,
    "start_time": "2024-03-26T14:40:33.996Z"
   },
   {
    "duration": 32,
    "start_time": "2024-03-26T14:40:34.026Z"
   },
   {
    "duration": 7,
    "start_time": "2024-03-26T14:40:34.060Z"
   },
   {
    "duration": 30,
    "start_time": "2024-03-26T14:40:34.068Z"
   },
   {
    "duration": 14,
    "start_time": "2024-03-26T14:40:34.100Z"
   },
   {
    "duration": 10,
    "start_time": "2024-03-26T14:40:34.116Z"
   },
   {
    "duration": 11,
    "start_time": "2024-03-26T14:41:09.924Z"
   },
   {
    "duration": 13,
    "start_time": "2024-03-26T14:41:24.760Z"
   },
   {
    "duration": 12,
    "start_time": "2024-03-26T14:41:37.379Z"
   },
   {
    "duration": 1275,
    "start_time": "2024-03-26T14:44:24.503Z"
   },
   {
    "duration": 69,
    "start_time": "2024-03-26T14:44:25.780Z"
   },
   {
    "duration": 11,
    "start_time": "2024-03-26T14:44:25.851Z"
   },
   {
    "duration": 205,
    "start_time": "2024-03-26T14:44:25.864Z"
   },
   {
    "duration": 6,
    "start_time": "2024-03-26T14:44:26.071Z"
   },
   {
    "duration": 26,
    "start_time": "2024-03-26T14:44:26.091Z"
   },
   {
    "duration": 46,
    "start_time": "2024-03-26T14:44:26.119Z"
   },
   {
    "duration": 59,
    "start_time": "2024-03-26T14:44:26.167Z"
   },
   {
    "duration": 22,
    "start_time": "2024-03-26T14:44:26.228Z"
   },
   {
    "duration": 50,
    "start_time": "2024-03-26T14:44:26.252Z"
   },
   {
    "duration": 35,
    "start_time": "2024-03-26T14:44:26.304Z"
   },
   {
    "duration": 75,
    "start_time": "2024-03-26T14:44:26.341Z"
   },
   {
    "duration": 51,
    "start_time": "2024-03-26T14:44:26.418Z"
   },
   {
    "duration": 8,
    "start_time": "2024-03-26T14:48:52.524Z"
   },
   {
    "duration": 16,
    "start_time": "2024-03-26T14:49:09.427Z"
   },
   {
    "duration": 8,
    "start_time": "2024-03-26T14:59:06.625Z"
   },
   {
    "duration": 8,
    "start_time": "2024-03-26T15:00:28.980Z"
   },
   {
    "duration": 7,
    "start_time": "2024-03-26T15:00:39.295Z"
   },
   {
    "duration": 8,
    "start_time": "2024-03-26T15:01:02.131Z"
   },
   {
    "duration": 7,
    "start_time": "2024-03-26T15:02:53.852Z"
   },
   {
    "duration": 9,
    "start_time": "2024-03-26T15:03:03.796Z"
   },
   {
    "duration": 8,
    "start_time": "2024-03-26T15:04:19.803Z"
   },
   {
    "duration": 10,
    "start_time": "2024-03-26T15:04:21.876Z"
   },
   {
    "duration": 6,
    "start_time": "2024-03-26T15:04:24.224Z"
   },
   {
    "duration": 5,
    "start_time": "2024-03-26T15:04:26.416Z"
   },
   {
    "duration": 1203,
    "start_time": "2024-03-26T15:05:20.801Z"
   },
   {
    "duration": 68,
    "start_time": "2024-03-26T15:05:22.006Z"
   },
   {
    "duration": 14,
    "start_time": "2024-03-26T15:05:22.075Z"
   },
   {
    "duration": 172,
    "start_time": "2024-03-26T15:05:22.092Z"
   },
   {
    "duration": 6,
    "start_time": "2024-03-26T15:05:22.266Z"
   },
   {
    "duration": 7,
    "start_time": "2024-03-26T15:05:22.274Z"
   },
   {
    "duration": 18,
    "start_time": "2024-03-26T15:05:22.283Z"
   },
   {
    "duration": 23,
    "start_time": "2024-03-26T15:05:22.302Z"
   },
   {
    "duration": 13,
    "start_time": "2024-03-26T15:05:22.327Z"
   },
   {
    "duration": 13,
    "start_time": "2024-03-26T15:05:22.343Z"
   },
   {
    "duration": 18,
    "start_time": "2024-03-26T15:05:22.357Z"
   },
   {
    "duration": 21,
    "start_time": "2024-03-26T15:05:22.376Z"
   },
   {
    "duration": 15,
    "start_time": "2024-03-26T15:05:22.399Z"
   },
   {
    "duration": 17,
    "start_time": "2024-03-26T15:05:22.415Z"
   },
   {
    "duration": 20,
    "start_time": "2024-03-26T15:05:22.434Z"
   },
   {
    "duration": 6,
    "start_time": "2024-03-26T15:05:22.456Z"
   },
   {
    "duration": 34,
    "start_time": "2024-03-26T15:05:22.463Z"
   },
   {
    "duration": 14,
    "start_time": "2024-03-26T15:05:22.498Z"
   },
   {
    "duration": 6,
    "start_time": "2024-03-26T15:05:22.514Z"
   },
   {
    "duration": 14,
    "start_time": "2024-03-26T15:05:22.521Z"
   },
   {
    "duration": 7,
    "start_time": "2024-03-26T15:05:22.537Z"
   },
   {
    "duration": 15,
    "start_time": "2024-03-26T15:05:22.545Z"
   },
   {
    "duration": 5,
    "start_time": "2024-03-26T15:05:22.561Z"
   },
   {
    "duration": 1215,
    "start_time": "2024-03-26T15:10:52.062Z"
   },
   {
    "duration": 69,
    "start_time": "2024-03-26T15:10:53.280Z"
   },
   {
    "duration": 14,
    "start_time": "2024-03-26T15:10:53.350Z"
   },
   {
    "duration": 209,
    "start_time": "2024-03-26T15:10:53.366Z"
   },
   {
    "duration": 6,
    "start_time": "2024-03-26T15:10:53.577Z"
   },
   {
    "duration": 14,
    "start_time": "2024-03-26T15:10:53.585Z"
   },
   {
    "duration": 20,
    "start_time": "2024-03-26T15:10:53.601Z"
   },
   {
    "duration": 12,
    "start_time": "2024-03-26T15:10:53.623Z"
   },
   {
    "duration": 16,
    "start_time": "2024-03-26T15:10:53.637Z"
   },
   {
    "duration": 12,
    "start_time": "2024-03-26T15:10:53.655Z"
   },
   {
    "duration": 24,
    "start_time": "2024-03-26T15:10:53.669Z"
   },
   {
    "duration": 11,
    "start_time": "2024-03-26T15:10:53.695Z"
   },
   {
    "duration": 9,
    "start_time": "2024-03-26T15:10:53.708Z"
   },
   {
    "duration": 14,
    "start_time": "2024-03-26T15:10:53.719Z"
   },
   {
    "duration": 9,
    "start_time": "2024-03-26T15:10:53.735Z"
   },
   {
    "duration": 10,
    "start_time": "2024-03-26T15:10:53.746Z"
   },
   {
    "duration": 36,
    "start_time": "2024-03-26T15:10:53.757Z"
   },
   {
    "duration": 31,
    "start_time": "2024-03-26T15:10:53.795Z"
   },
   {
    "duration": 17,
    "start_time": "2024-03-26T15:10:53.828Z"
   },
   {
    "duration": 32,
    "start_time": "2024-03-26T15:10:53.847Z"
   },
   {
    "duration": 7,
    "start_time": "2024-03-26T15:10:53.882Z"
   },
   {
    "duration": 22,
    "start_time": "2024-03-26T15:10:53.891Z"
   },
   {
    "duration": 14,
    "start_time": "2024-03-26T15:10:53.915Z"
   },
   {
    "duration": 211,
    "start_time": "2024-03-26T16:16:50.711Z"
   },
   {
    "duration": 242,
    "start_time": "2024-03-26T16:23:05.935Z"
   },
   {
    "duration": 198,
    "start_time": "2024-03-26T16:26:46.611Z"
   },
   {
    "duration": 405,
    "start_time": "2024-03-26T16:27:52.213Z"
   },
   {
    "duration": 188,
    "start_time": "2024-03-26T16:30:04.233Z"
   },
   {
    "duration": 199,
    "start_time": "2024-03-26T16:31:29.740Z"
   },
   {
    "duration": 202,
    "start_time": "2024-03-26T16:32:22.421Z"
   },
   {
    "duration": 188,
    "start_time": "2024-03-26T16:32:28.353Z"
   },
   {
    "duration": 284,
    "start_time": "2024-03-26T16:32:38.013Z"
   },
   {
    "duration": 200,
    "start_time": "2024-03-26T16:32:43.902Z"
   },
   {
    "duration": 211,
    "start_time": "2024-03-26T16:32:49.698Z"
   },
   {
    "duration": 208,
    "start_time": "2024-03-26T16:32:55.535Z"
   },
   {
    "duration": 233,
    "start_time": "2024-03-26T16:32:59.757Z"
   },
   {
    "duration": 18,
    "start_time": "2024-03-26T16:34:36.628Z"
   },
   {
    "duration": 198,
    "start_time": "2024-03-26T16:34:44.787Z"
   },
   {
    "duration": 170,
    "start_time": "2024-03-26T16:34:55.620Z"
   },
   {
    "duration": 182,
    "start_time": "2024-03-26T16:35:01.414Z"
   },
   {
    "duration": 326,
    "start_time": "2024-03-26T16:37:48.867Z"
   },
   {
    "duration": 11,
    "start_time": "2024-03-26T16:38:06.798Z"
   },
   {
    "duration": 9,
    "start_time": "2024-03-26T16:39:53.775Z"
   },
   {
    "duration": 10,
    "start_time": "2024-03-26T16:40:08.710Z"
   },
   {
    "duration": 4,
    "start_time": "2024-03-26T16:41:27.046Z"
   },
   {
    "duration": 413,
    "start_time": "2024-03-26T16:41:37.408Z"
   },
   {
    "duration": 327,
    "start_time": "2024-03-26T16:43:21.751Z"
   },
   {
    "duration": 7,
    "start_time": "2024-03-26T16:43:53.665Z"
   },
   {
    "duration": 85,
    "start_time": "2024-03-26T16:44:40.138Z"
   },
   {
    "duration": 6,
    "start_time": "2024-03-26T16:44:56.660Z"
   },
   {
    "duration": 339,
    "start_time": "2024-03-26T16:45:11.315Z"
   },
   {
    "duration": 10,
    "start_time": "2024-03-26T16:48:54.444Z"
   },
   {
    "duration": 803,
    "start_time": "2024-03-26T16:49:08.347Z"
   },
   {
    "duration": 11,
    "start_time": "2024-03-26T16:51:28.706Z"
   },
   {
    "duration": 14,
    "start_time": "2024-03-26T16:51:45.624Z"
   },
   {
    "duration": 12,
    "start_time": "2024-03-26T16:52:55.913Z"
   },
   {
    "duration": 10,
    "start_time": "2024-03-26T16:53:13.210Z"
   },
   {
    "duration": 299,
    "start_time": "2024-03-26T16:53:26.814Z"
   },
   {
    "duration": 10,
    "start_time": "2024-03-26T16:53:42.696Z"
   },
   {
    "duration": 847,
    "start_time": "2024-03-26T16:55:41.202Z"
   },
   {
    "duration": 930,
    "start_time": "2024-03-26T16:56:18.988Z"
   },
   {
    "duration": 13,
    "start_time": "2024-03-26T17:02:28.079Z"
   },
   {
    "duration": 13,
    "start_time": "2024-03-26T17:03:02.613Z"
   },
   {
    "duration": 1216,
    "start_time": "2024-03-26T17:03:13.571Z"
   },
   {
    "duration": 69,
    "start_time": "2024-03-26T17:03:14.790Z"
   },
   {
    "duration": 13,
    "start_time": "2024-03-26T17:03:14.861Z"
   },
   {
    "duration": 177,
    "start_time": "2024-03-26T17:03:14.877Z"
   },
   {
    "duration": 6,
    "start_time": "2024-03-26T17:03:15.056Z"
   },
   {
    "duration": 296,
    "start_time": "2024-03-26T17:03:15.064Z"
   },
   {
    "duration": 63,
    "start_time": "2024-03-26T17:03:15.361Z"
   },
   {
    "duration": 41,
    "start_time": "2024-03-26T17:03:15.426Z"
   },
   {
    "duration": 36,
    "start_time": "2024-03-26T17:03:15.469Z"
   },
   {
    "duration": 40,
    "start_time": "2024-03-26T17:03:15.508Z"
   },
   {
    "duration": 33,
    "start_time": "2024-03-26T17:03:15.549Z"
   },
   {
    "duration": 48,
    "start_time": "2024-03-26T17:03:15.584Z"
   },
   {
    "duration": 27,
    "start_time": "2024-03-26T17:03:15.634Z"
   },
   {
    "duration": 31,
    "start_time": "2024-03-26T17:03:15.663Z"
   },
   {
    "duration": 39,
    "start_time": "2024-03-26T17:03:15.696Z"
   },
   {
    "duration": 18,
    "start_time": "2024-03-26T17:03:15.737Z"
   },
   {
    "duration": 8,
    "start_time": "2024-03-26T17:03:15.757Z"
   },
   {
    "duration": 9,
    "start_time": "2024-03-26T17:03:15.767Z"
   },
   {
    "duration": 7,
    "start_time": "2024-03-26T17:03:15.778Z"
   },
   {
    "duration": 11,
    "start_time": "2024-03-26T17:03:15.786Z"
   },
   {
    "duration": 6,
    "start_time": "2024-03-26T17:03:15.799Z"
   },
   {
    "duration": 6,
    "start_time": "2024-03-26T17:03:15.806Z"
   },
   {
    "duration": 10,
    "start_time": "2024-03-26T17:03:15.814Z"
   },
   {
    "duration": 236,
    "start_time": "2024-03-26T17:03:15.826Z"
   },
   {
    "duration": 191,
    "start_time": "2024-03-26T17:03:16.063Z"
   },
   {
    "duration": 7,
    "start_time": "2024-03-26T17:03:16.255Z"
   },
   {
    "duration": 6,
    "start_time": "2024-03-26T17:03:16.263Z"
   },
   {
    "duration": 337,
    "start_time": "2024-03-26T17:03:16.291Z"
   },
   {
    "duration": 9,
    "start_time": "2024-03-26T17:03:16.630Z"
   },
   {
    "duration": 123,
    "start_time": "2024-03-26T17:03:16.641Z"
   },
   {
    "duration": 10,
    "start_time": "2024-03-26T17:03:26.471Z"
   },
   {
    "duration": 115,
    "start_time": "2024-03-26T17:03:34.126Z"
   },
   {
    "duration": 9,
    "start_time": "2024-03-26T17:04:02.594Z"
   },
   {
    "duration": 926,
    "start_time": "2024-03-26T17:05:29.402Z"
   },
   {
    "duration": 10,
    "start_time": "2024-03-26T17:06:20.784Z"
   },
   {
    "duration": 8,
    "start_time": "2024-03-26T17:06:29.581Z"
   },
   {
    "duration": 8,
    "start_time": "2024-03-26T17:06:59.398Z"
   },
   {
    "duration": 824,
    "start_time": "2024-03-26T17:07:09.707Z"
   },
   {
    "duration": 10,
    "start_time": "2024-03-26T17:07:26.269Z"
   },
   {
    "duration": 924,
    "start_time": "2024-03-26T17:07:50.923Z"
   },
   {
    "duration": 804,
    "start_time": "2024-03-26T17:08:04.736Z"
   },
   {
    "duration": 570,
    "start_time": "2024-03-26T17:11:08.173Z"
   },
   {
    "duration": 12,
    "start_time": "2024-03-26T17:11:26.225Z"
   },
   {
    "duration": 241,
    "start_time": "2024-03-26T17:11:38.493Z"
   },
   {
    "duration": 424,
    "start_time": "2024-03-26T17:11:44.585Z"
   },
   {
    "duration": 9,
    "start_time": "2024-03-26T17:12:38.843Z"
   },
   {
    "duration": 8,
    "start_time": "2024-03-26T17:13:08.717Z"
   },
   {
    "duration": 16,
    "start_time": "2024-03-26T17:13:42.897Z"
   },
   {
    "duration": 12,
    "start_time": "2024-03-26T17:15:29.739Z"
   },
   {
    "duration": 218,
    "start_time": "2024-03-26T17:16:29.398Z"
   },
   {
    "duration": 197,
    "start_time": "2024-03-26T17:16:43.672Z"
   },
   {
    "duration": 164,
    "start_time": "2024-03-26T17:16:52.377Z"
   },
   {
    "duration": 188,
    "start_time": "2024-03-26T17:16:58.648Z"
   },
   {
    "duration": 161,
    "start_time": "2024-03-26T17:17:37.646Z"
   },
   {
    "duration": 301,
    "start_time": "2024-03-26T17:20:09.425Z"
   },
   {
    "duration": 11,
    "start_time": "2024-03-26T17:26:04.977Z"
   },
   {
    "duration": 14,
    "start_time": "2024-03-26T17:26:22.235Z"
   },
   {
    "duration": 11,
    "start_time": "2024-03-26T17:26:58.718Z"
   },
   {
    "duration": 20,
    "start_time": "2024-03-26T17:27:08.104Z"
   },
   {
    "duration": 9,
    "start_time": "2024-03-26T17:36:36.101Z"
   },
   {
    "duration": 25,
    "start_time": "2024-03-26T17:39:20.076Z"
   },
   {
    "duration": 26,
    "start_time": "2024-03-26T17:39:36.654Z"
   },
   {
    "duration": 32,
    "start_time": "2024-03-26T17:39:48.910Z"
   },
   {
    "duration": 228,
    "start_time": "2024-03-26T17:42:43.666Z"
   },
   {
    "duration": 202,
    "start_time": "2024-03-26T17:43:18.449Z"
   },
   {
    "duration": 207,
    "start_time": "2024-03-26T17:43:38.466Z"
   },
   {
    "duration": 240,
    "start_time": "2024-03-26T17:45:10.046Z"
   },
   {
    "duration": 207,
    "start_time": "2024-03-26T17:45:20.371Z"
   },
   {
    "duration": 221,
    "start_time": "2024-03-26T17:45:42.874Z"
   },
   {
    "duration": 13,
    "start_time": "2024-03-26T17:51:43.300Z"
   },
   {
    "duration": 12,
    "start_time": "2024-03-26T17:51:45.475Z"
   },
   {
    "duration": 9,
    "start_time": "2024-03-26T17:51:47.512Z"
   },
   {
    "duration": 10,
    "start_time": "2024-03-26T17:51:49.980Z"
   },
   {
    "duration": 49,
    "start_time": "2024-03-27T10:03:09.356Z"
   },
   {
    "duration": 6,
    "start_time": "2024-03-27T10:04:57.240Z"
   },
   {
    "duration": 1205,
    "start_time": "2024-03-27T10:05:16.471Z"
   },
   {
    "duration": 203,
    "start_time": "2024-03-27T10:05:17.678Z"
   },
   {
    "duration": 12,
    "start_time": "2024-03-27T10:05:17.885Z"
   },
   {
    "duration": 165,
    "start_time": "2024-03-27T10:05:17.899Z"
   },
   {
    "duration": 5,
    "start_time": "2024-03-27T10:05:18.065Z"
   },
   {
    "duration": 5,
    "start_time": "2024-03-27T10:05:18.072Z"
   },
   {
    "duration": 18,
    "start_time": "2024-03-27T10:05:18.078Z"
   },
   {
    "duration": 23,
    "start_time": "2024-03-27T10:05:18.097Z"
   },
   {
    "duration": 5,
    "start_time": "2024-03-27T10:05:18.122Z"
   },
   {
    "duration": 15,
    "start_time": "2024-03-27T10:05:18.129Z"
   },
   {
    "duration": 14,
    "start_time": "2024-03-27T10:05:18.145Z"
   },
   {
    "duration": 10,
    "start_time": "2024-03-27T10:05:18.161Z"
   },
   {
    "duration": 6,
    "start_time": "2024-03-27T10:05:18.172Z"
   },
   {
    "duration": 16,
    "start_time": "2024-03-27T10:05:18.179Z"
   },
   {
    "duration": 26,
    "start_time": "2024-03-27T10:05:18.197Z"
   },
   {
    "duration": 6,
    "start_time": "2024-03-27T10:05:18.224Z"
   },
   {
    "duration": 7,
    "start_time": "2024-03-27T10:05:18.231Z"
   },
   {
    "duration": 16,
    "start_time": "2024-03-27T10:05:18.240Z"
   },
   {
    "duration": 6,
    "start_time": "2024-03-27T10:05:18.257Z"
   },
   {
    "duration": 7,
    "start_time": "2024-03-27T10:05:18.265Z"
   },
   {
    "duration": 5,
    "start_time": "2024-03-27T10:05:18.273Z"
   },
   {
    "duration": 5,
    "start_time": "2024-03-27T10:05:18.279Z"
   },
   {
    "duration": 34,
    "start_time": "2024-03-27T10:05:18.285Z"
   },
   {
    "duration": 209,
    "start_time": "2024-03-27T10:05:18.321Z"
   },
   {
    "duration": 180,
    "start_time": "2024-03-27T10:05:18.533Z"
   },
   {
    "duration": 6,
    "start_time": "2024-03-27T10:05:18.717Z"
   },
   {
    "duration": 11,
    "start_time": "2024-03-27T10:05:18.724Z"
   },
   {
    "duration": 290,
    "start_time": "2024-03-27T10:05:18.740Z"
   },
   {
    "duration": 8,
    "start_time": "2024-03-27T10:05:19.032Z"
   },
   {
    "duration": 18,
    "start_time": "2024-03-27T10:05:19.041Z"
   },
   {
    "duration": 24,
    "start_time": "2024-03-27T10:05:19.060Z"
   },
   {
    "duration": 766,
    "start_time": "2024-03-27T10:05:19.086Z"
   },
   {
    "duration": 8,
    "start_time": "2024-03-27T10:05:19.854Z"
   },
   {
    "duration": 7,
    "start_time": "2024-03-27T10:05:19.863Z"
   },
   {
    "duration": 13,
    "start_time": "2024-03-27T10:05:19.872Z"
   },
   {
    "duration": 37,
    "start_time": "2024-03-27T10:05:19.887Z"
   },
   {
    "duration": 151,
    "start_time": "2024-03-27T10:05:19.926Z"
   },
   {
    "duration": 11,
    "start_time": "2024-03-27T10:05:20.079Z"
   },
   {
    "duration": 27,
    "start_time": "2024-03-27T10:05:20.091Z"
   },
   {
    "duration": 19,
    "start_time": "2024-03-27T10:05:20.120Z"
   },
   {
    "duration": 28,
    "start_time": "2024-03-27T10:05:20.141Z"
   },
   {
    "duration": 20,
    "start_time": "2024-03-27T10:05:20.171Z"
   },
   {
    "duration": 185,
    "start_time": "2024-03-27T10:05:20.217Z"
   },
   {
    "duration": 173,
    "start_time": "2024-03-27T10:05:20.404Z"
   },
   {
    "duration": 174,
    "start_time": "2024-03-27T10:05:20.578Z"
   },
   {
    "duration": 158,
    "start_time": "2024-03-27T10:05:20.754Z"
   },
   {
    "duration": 824,
    "start_time": "2024-03-27T10:05:20.917Z"
   },
   {
    "duration": 837,
    "start_time": "2024-03-27T10:05:28.056Z"
   },
   {
    "duration": 5,
    "start_time": "2024-03-27T10:05:45.211Z"
   },
   {
    "duration": 3,
    "start_time": "2024-03-27T10:05:55.222Z"
   },
   {
    "duration": 12,
    "start_time": "2024-03-27T10:06:05.881Z"
   },
   {
    "duration": 12,
    "start_time": "2024-03-27T10:06:26.636Z"
   },
   {
    "duration": 42,
    "start_time": "2024-03-27T10:07:37.544Z"
   },
   {
    "duration": 832,
    "start_time": "2024-03-27T10:10:37.369Z"
   },
   {
    "duration": 3,
    "start_time": "2024-03-27T10:10:50.339Z"
   },
   {
    "duration": 3,
    "start_time": "2024-03-27T10:11:05.701Z"
   },
   {
    "duration": 13,
    "start_time": "2024-03-27T10:11:36.971Z"
   },
   {
    "duration": 11,
    "start_time": "2024-03-27T10:12:55.081Z"
   },
   {
    "duration": 1015,
    "start_time": "2024-03-27T10:20:38.324Z"
   },
   {
    "duration": 1048,
    "start_time": "2024-03-27T10:21:12.650Z"
   },
   {
    "duration": 65,
    "start_time": "2024-03-27T10:21:13.700Z"
   },
   {
    "duration": 13,
    "start_time": "2024-03-27T10:21:13.767Z"
   },
   {
    "duration": 178,
    "start_time": "2024-03-27T10:21:13.782Z"
   },
   {
    "duration": 6,
    "start_time": "2024-03-27T10:21:13.961Z"
   },
   {
    "duration": 5,
    "start_time": "2024-03-27T10:21:13.968Z"
   },
   {
    "duration": 27,
    "start_time": "2024-03-27T10:21:13.975Z"
   },
   {
    "duration": 14,
    "start_time": "2024-03-27T10:21:14.003Z"
   },
   {
    "duration": 10,
    "start_time": "2024-03-27T10:21:14.019Z"
   },
   {
    "duration": 26,
    "start_time": "2024-03-27T10:21:14.031Z"
   },
   {
    "duration": 20,
    "start_time": "2024-03-27T10:21:14.058Z"
   },
   {
    "duration": 20,
    "start_time": "2024-03-27T10:21:14.079Z"
   },
   {
    "duration": 19,
    "start_time": "2024-03-27T10:21:14.100Z"
   },
   {
    "duration": 19,
    "start_time": "2024-03-27T10:21:14.120Z"
   },
   {
    "duration": 24,
    "start_time": "2024-03-27T10:21:14.140Z"
   },
   {
    "duration": 21,
    "start_time": "2024-03-27T10:21:14.166Z"
   },
   {
    "duration": 16,
    "start_time": "2024-03-27T10:21:14.188Z"
   },
   {
    "duration": 31,
    "start_time": "2024-03-27T10:21:14.206Z"
   },
   {
    "duration": 14,
    "start_time": "2024-03-27T10:21:14.239Z"
   },
   {
    "duration": 28,
    "start_time": "2024-03-27T10:21:14.254Z"
   },
   {
    "duration": 15,
    "start_time": "2024-03-27T10:21:14.284Z"
   },
   {
    "duration": 34,
    "start_time": "2024-03-27T10:21:14.301Z"
   },
   {
    "duration": 20,
    "start_time": "2024-03-27T10:21:14.337Z"
   },
   {
    "duration": 204,
    "start_time": "2024-03-27T10:21:14.359Z"
   },
   {
    "duration": 168,
    "start_time": "2024-03-27T10:21:14.565Z"
   },
   {
    "duration": 5,
    "start_time": "2024-03-27T10:21:14.735Z"
   },
   {
    "duration": 28,
    "start_time": "2024-03-27T10:21:14.742Z"
   },
   {
    "duration": 303,
    "start_time": "2024-03-27T10:21:14.774Z"
   },
   {
    "duration": 8,
    "start_time": "2024-03-27T10:21:15.079Z"
   },
   {
    "duration": 23,
    "start_time": "2024-03-27T10:21:15.089Z"
   },
   {
    "duration": 10,
    "start_time": "2024-03-27T10:21:15.118Z"
   },
   {
    "duration": 845,
    "start_time": "2024-03-27T10:21:15.130Z"
   },
   {
    "duration": 8,
    "start_time": "2024-03-27T10:21:15.977Z"
   },
   {
    "duration": 27,
    "start_time": "2024-03-27T10:21:15.986Z"
   },
   {
    "duration": 33,
    "start_time": "2024-03-27T10:21:16.015Z"
   },
   {
    "duration": 18,
    "start_time": "2024-03-27T10:21:16.050Z"
   },
   {
    "duration": 162,
    "start_time": "2024-03-27T10:21:16.070Z"
   },
   {
    "duration": 11,
    "start_time": "2024-03-27T10:21:16.234Z"
   },
   {
    "duration": 9,
    "start_time": "2024-03-27T10:21:16.247Z"
   },
   {
    "duration": 17,
    "start_time": "2024-03-27T10:21:16.257Z"
   },
   {
    "duration": 19,
    "start_time": "2024-03-27T10:21:16.276Z"
   },
   {
    "duration": 39,
    "start_time": "2024-03-27T10:21:16.296Z"
   },
   {
    "duration": 197,
    "start_time": "2024-03-27T10:21:16.336Z"
   },
   {
    "duration": 184,
    "start_time": "2024-03-27T10:21:16.535Z"
   },
   {
    "duration": 202,
    "start_time": "2024-03-27T10:21:16.721Z"
   },
   {
    "duration": 173,
    "start_time": "2024-03-27T10:21:16.925Z"
   },
   {
    "duration": 864,
    "start_time": "2024-03-27T10:21:17.100Z"
   },
   {
    "duration": 4,
    "start_time": "2024-03-27T10:21:17.965Z"
   },
   {
    "duration": 11,
    "start_time": "2024-03-27T10:21:17.971Z"
   },
   {
    "duration": 13,
    "start_time": "2024-03-27T10:21:17.984Z"
   },
   {
    "duration": 24,
    "start_time": "2024-03-27T10:21:17.999Z"
   },
   {
    "duration": 946,
    "start_time": "2024-03-27T10:21:18.024Z"
   },
   {
    "duration": 14,
    "start_time": "2024-03-27T10:25:57.514Z"
   },
   {
    "duration": 18,
    "start_time": "2024-03-27T10:26:07.527Z"
   },
   {
    "duration": 980,
    "start_time": "2024-03-27T10:26:30.653Z"
   },
   {
    "duration": 821,
    "start_time": "2024-03-27T10:26:53.576Z"
   },
   {
    "duration": 849,
    "start_time": "2024-03-27T10:27:03.738Z"
   },
   {
    "duration": 863,
    "start_time": "2024-03-27T10:27:13.704Z"
   },
   {
    "duration": 1001,
    "start_time": "2024-03-27T10:27:28.663Z"
   },
   {
    "duration": 65,
    "start_time": "2024-03-27T10:27:29.665Z"
   },
   {
    "duration": 12,
    "start_time": "2024-03-27T10:27:29.732Z"
   },
   {
    "duration": 147,
    "start_time": "2024-03-27T10:27:29.746Z"
   },
   {
    "duration": 5,
    "start_time": "2024-03-27T10:27:29.895Z"
   },
   {
    "duration": 6,
    "start_time": "2024-03-27T10:27:29.901Z"
   },
   {
    "duration": 16,
    "start_time": "2024-03-27T10:27:29.908Z"
   },
   {
    "duration": 9,
    "start_time": "2024-03-27T10:27:29.926Z"
   },
   {
    "duration": 5,
    "start_time": "2024-03-27T10:27:29.937Z"
   },
   {
    "duration": 10,
    "start_time": "2024-03-27T10:27:29.944Z"
   },
   {
    "duration": 8,
    "start_time": "2024-03-27T10:27:29.955Z"
   },
   {
    "duration": 9,
    "start_time": "2024-03-27T10:27:29.964Z"
   },
   {
    "duration": 15,
    "start_time": "2024-03-27T10:27:29.974Z"
   },
   {
    "duration": 34,
    "start_time": "2024-03-27T10:27:29.991Z"
   },
   {
    "duration": 34,
    "start_time": "2024-03-27T10:27:30.027Z"
   },
   {
    "duration": 51,
    "start_time": "2024-03-27T10:27:30.063Z"
   },
   {
    "duration": 77,
    "start_time": "2024-03-27T10:27:30.115Z"
   },
   {
    "duration": 83,
    "start_time": "2024-03-27T10:27:30.194Z"
   },
   {
    "duration": 34,
    "start_time": "2024-03-27T10:27:30.280Z"
   },
   {
    "duration": 42,
    "start_time": "2024-03-27T10:27:30.316Z"
   },
   {
    "duration": 39,
    "start_time": "2024-03-27T10:27:30.359Z"
   },
   {
    "duration": 28,
    "start_time": "2024-03-27T10:27:30.400Z"
   },
   {
    "duration": 35,
    "start_time": "2024-03-27T10:27:30.430Z"
   },
   {
    "duration": 200,
    "start_time": "2024-03-27T10:27:30.467Z"
   },
   {
    "duration": 166,
    "start_time": "2024-03-27T10:27:30.669Z"
   },
   {
    "duration": 5,
    "start_time": "2024-03-27T10:27:30.836Z"
   },
   {
    "duration": 60,
    "start_time": "2024-03-27T10:27:30.843Z"
   },
   {
    "duration": 296,
    "start_time": "2024-03-27T10:27:30.906Z"
   },
   {
    "duration": 14,
    "start_time": "2024-03-27T10:27:31.204Z"
   },
   {
    "duration": 24,
    "start_time": "2024-03-27T10:27:31.219Z"
   },
   {
    "duration": 56,
    "start_time": "2024-03-27T10:27:31.244Z"
   },
   {
    "duration": 833,
    "start_time": "2024-03-27T10:27:31.302Z"
   },
   {
    "duration": 8,
    "start_time": "2024-03-27T10:27:32.136Z"
   },
   {
    "duration": 37,
    "start_time": "2024-03-27T10:27:32.145Z"
   },
   {
    "duration": 38,
    "start_time": "2024-03-27T10:27:32.183Z"
   },
   {
    "duration": 13,
    "start_time": "2024-03-27T10:27:32.223Z"
   },
   {
    "duration": 166,
    "start_time": "2024-03-27T10:27:32.238Z"
   },
   {
    "duration": 13,
    "start_time": "2024-03-27T10:27:32.406Z"
   },
   {
    "duration": 29,
    "start_time": "2024-03-27T10:27:32.421Z"
   },
   {
    "duration": 22,
    "start_time": "2024-03-27T10:27:32.451Z"
   },
   {
    "duration": 50,
    "start_time": "2024-03-27T10:27:32.475Z"
   },
   {
    "duration": 18,
    "start_time": "2024-03-27T10:27:32.527Z"
   },
   {
    "duration": 189,
    "start_time": "2024-03-27T10:27:32.547Z"
   },
   {
    "duration": 173,
    "start_time": "2024-03-27T10:27:32.738Z"
   },
   {
    "duration": 187,
    "start_time": "2024-03-27T10:27:32.912Z"
   },
   {
    "duration": 167,
    "start_time": "2024-03-27T10:27:33.100Z"
   },
   {
    "duration": 805,
    "start_time": "2024-03-27T10:27:33.269Z"
   },
   {
    "duration": 3,
    "start_time": "2024-03-27T10:27:34.076Z"
   },
   {
    "duration": 8,
    "start_time": "2024-03-27T10:27:34.080Z"
   },
   {
    "duration": 30,
    "start_time": "2024-03-27T10:27:34.089Z"
   },
   {
    "duration": 11,
    "start_time": "2024-03-27T10:27:34.120Z"
   },
   {
    "duration": 940,
    "start_time": "2024-03-27T10:27:34.133Z"
   },
   {
    "duration": 895,
    "start_time": "2024-03-27T10:28:04.204Z"
   },
   {
    "duration": 888,
    "start_time": "2024-03-27T10:32:24.644Z"
   },
   {
    "duration": 19,
    "start_time": "2024-03-27T10:32:38.529Z"
   },
   {
    "duration": 831,
    "start_time": "2024-03-27T10:33:39.277Z"
   },
   {
    "duration": 3,
    "start_time": "2024-03-27T10:33:40.839Z"
   },
   {
    "duration": 4,
    "start_time": "2024-03-27T10:33:40.959Z"
   },
   {
    "duration": 13,
    "start_time": "2024-03-27T10:33:42.889Z"
   },
   {
    "duration": 11,
    "start_time": "2024-03-27T10:34:04.171Z"
   },
   {
    "duration": 909,
    "start_time": "2024-03-27T10:34:07.871Z"
   },
   {
    "duration": 1045,
    "start_time": "2024-03-27T10:34:20.257Z"
   },
   {
    "duration": 65,
    "start_time": "2024-03-27T10:34:21.304Z"
   },
   {
    "duration": 12,
    "start_time": "2024-03-27T10:34:21.371Z"
   },
   {
    "duration": 151,
    "start_time": "2024-03-27T10:34:21.386Z"
   },
   {
    "duration": 5,
    "start_time": "2024-03-27T10:34:21.539Z"
   },
   {
    "duration": 9,
    "start_time": "2024-03-27T10:34:21.546Z"
   },
   {
    "duration": 10,
    "start_time": "2024-03-27T10:34:21.556Z"
   },
   {
    "duration": 21,
    "start_time": "2024-03-27T10:34:21.567Z"
   },
   {
    "duration": 5,
    "start_time": "2024-03-27T10:34:21.591Z"
   },
   {
    "duration": 12,
    "start_time": "2024-03-27T10:34:21.619Z"
   },
   {
    "duration": 8,
    "start_time": "2024-03-27T10:34:21.632Z"
   },
   {
    "duration": 11,
    "start_time": "2024-03-27T10:34:21.642Z"
   },
   {
    "duration": 12,
    "start_time": "2024-03-27T10:34:21.655Z"
   },
   {
    "duration": 9,
    "start_time": "2024-03-27T10:34:21.668Z"
   },
   {
    "duration": 6,
    "start_time": "2024-03-27T10:34:21.679Z"
   },
   {
    "duration": 6,
    "start_time": "2024-03-27T10:34:21.718Z"
   },
   {
    "duration": 15,
    "start_time": "2024-03-27T10:34:21.726Z"
   },
   {
    "duration": 21,
    "start_time": "2024-03-27T10:34:21.743Z"
   },
   {
    "duration": 6,
    "start_time": "2024-03-27T10:34:21.765Z"
   },
   {
    "duration": 7,
    "start_time": "2024-03-27T10:34:21.772Z"
   },
   {
    "duration": 5,
    "start_time": "2024-03-27T10:34:21.781Z"
   },
   {
    "duration": 6,
    "start_time": "2024-03-27T10:34:21.787Z"
   },
   {
    "duration": 3,
    "start_time": "2024-03-27T10:34:21.794Z"
   },
   {
    "duration": 201,
    "start_time": "2024-03-27T10:34:21.819Z"
   },
   {
    "duration": 178,
    "start_time": "2024-03-27T10:34:22.022Z"
   },
   {
    "duration": 17,
    "start_time": "2024-03-27T10:34:22.201Z"
   },
   {
    "duration": 19,
    "start_time": "2024-03-27T10:34:22.219Z"
   },
   {
    "duration": 283,
    "start_time": "2024-03-27T10:34:22.241Z"
   },
   {
    "duration": 6,
    "start_time": "2024-03-27T10:34:22.526Z"
   },
   {
    "duration": 10,
    "start_time": "2024-03-27T10:34:22.534Z"
   },
   {
    "duration": 7,
    "start_time": "2024-03-27T10:34:22.546Z"
   },
   {
    "duration": 777,
    "start_time": "2024-03-27T10:34:22.554Z"
   },
   {
    "duration": 6,
    "start_time": "2024-03-27T10:34:23.333Z"
   },
   {
    "duration": 7,
    "start_time": "2024-03-27T10:34:23.341Z"
   },
   {
    "duration": 13,
    "start_time": "2024-03-27T10:34:23.349Z"
   },
   {
    "duration": 8,
    "start_time": "2024-03-27T10:34:23.363Z"
   },
   {
    "duration": 171,
    "start_time": "2024-03-27T10:34:23.372Z"
   },
   {
    "duration": 11,
    "start_time": "2024-03-27T10:34:23.544Z"
   },
   {
    "duration": 21,
    "start_time": "2024-03-27T10:34:23.556Z"
   },
   {
    "duration": 18,
    "start_time": "2024-03-27T10:34:23.579Z"
   },
   {
    "duration": 33,
    "start_time": "2024-03-27T10:34:23.599Z"
   },
   {
    "duration": 26,
    "start_time": "2024-03-27T10:34:23.634Z"
   },
   {
    "duration": 212,
    "start_time": "2024-03-27T10:34:23.662Z"
   },
   {
    "duration": 170,
    "start_time": "2024-03-27T10:34:23.875Z"
   },
   {
    "duration": 176,
    "start_time": "2024-03-27T10:34:24.046Z"
   },
   {
    "duration": 167,
    "start_time": "2024-03-27T10:34:24.224Z"
   },
   {
    "duration": 815,
    "start_time": "2024-03-27T10:34:24.392Z"
   },
   {
    "duration": 10,
    "start_time": "2024-03-27T10:34:25.209Z"
   },
   {
    "duration": 7,
    "start_time": "2024-03-27T10:34:25.220Z"
   },
   {
    "duration": 19,
    "start_time": "2024-03-27T10:34:25.228Z"
   },
   {
    "duration": 12,
    "start_time": "2024-03-27T10:34:25.249Z"
   },
   {
    "duration": 939,
    "start_time": "2024-03-27T10:34:25.263Z"
   },
   {
    "duration": 900,
    "start_time": "2024-03-27T10:35:23.861Z"
   },
   {
    "duration": 4,
    "start_time": "2024-03-27T10:35:24.894Z"
   },
   {
    "duration": 4,
    "start_time": "2024-03-27T10:35:25.613Z"
   },
   {
    "duration": 13,
    "start_time": "2024-03-27T10:35:26.936Z"
   },
   {
    "duration": 1143,
    "start_time": "2024-03-27T10:35:50.927Z"
   },
   {
    "duration": 66,
    "start_time": "2024-03-27T10:35:52.072Z"
   },
   {
    "duration": 12,
    "start_time": "2024-03-27T10:35:52.140Z"
   },
   {
    "duration": 152,
    "start_time": "2024-03-27T10:35:52.154Z"
   },
   {
    "duration": 19,
    "start_time": "2024-03-27T10:35:52.308Z"
   },
   {
    "duration": 8,
    "start_time": "2024-03-27T10:35:52.329Z"
   },
   {
    "duration": 16,
    "start_time": "2024-03-27T10:35:52.339Z"
   },
   {
    "duration": 12,
    "start_time": "2024-03-27T10:35:52.357Z"
   },
   {
    "duration": 10,
    "start_time": "2024-03-27T10:35:52.371Z"
   },
   {
    "duration": 36,
    "start_time": "2024-03-27T10:35:52.383Z"
   },
   {
    "duration": 8,
    "start_time": "2024-03-27T10:35:52.421Z"
   },
   {
    "duration": 12,
    "start_time": "2024-03-27T10:35:52.430Z"
   },
   {
    "duration": 32,
    "start_time": "2024-03-27T10:35:52.443Z"
   },
   {
    "duration": 11,
    "start_time": "2024-03-27T10:35:52.476Z"
   },
   {
    "duration": 7,
    "start_time": "2024-03-27T10:35:52.489Z"
   },
   {
    "duration": 22,
    "start_time": "2024-03-27T10:35:52.497Z"
   },
   {
    "duration": 6,
    "start_time": "2024-03-27T10:35:52.520Z"
   },
   {
    "duration": 13,
    "start_time": "2024-03-27T10:35:52.528Z"
   },
   {
    "duration": 18,
    "start_time": "2024-03-27T10:35:52.543Z"
   },
   {
    "duration": 9,
    "start_time": "2024-03-27T10:35:52.562Z"
   },
   {
    "duration": 7,
    "start_time": "2024-03-27T10:35:52.573Z"
   },
   {
    "duration": 14,
    "start_time": "2024-03-27T10:35:52.582Z"
   },
   {
    "duration": 20,
    "start_time": "2024-03-27T10:35:52.598Z"
   },
   {
    "duration": 199,
    "start_time": "2024-03-27T10:35:52.620Z"
   },
   {
    "duration": 161,
    "start_time": "2024-03-27T10:35:52.821Z"
   },
   {
    "duration": 6,
    "start_time": "2024-03-27T10:35:52.983Z"
   },
   {
    "duration": 7,
    "start_time": "2024-03-27T10:35:52.990Z"
   },
   {
    "duration": 298,
    "start_time": "2024-03-27T10:35:53.020Z"
   },
   {
    "duration": 7,
    "start_time": "2024-03-27T10:35:53.319Z"
   },
   {
    "duration": 17,
    "start_time": "2024-03-27T10:35:53.328Z"
   },
   {
    "duration": 9,
    "start_time": "2024-03-27T10:35:53.347Z"
   },
   {
    "duration": 793,
    "start_time": "2024-03-27T10:35:53.357Z"
   },
   {
    "duration": 8,
    "start_time": "2024-03-27T10:35:54.151Z"
   },
   {
    "duration": 7,
    "start_time": "2024-03-27T10:35:54.160Z"
   },
   {
    "duration": 13,
    "start_time": "2024-03-27T10:35:54.169Z"
   },
   {
    "duration": 40,
    "start_time": "2024-03-27T10:35:54.183Z"
   },
   {
    "duration": 155,
    "start_time": "2024-03-27T10:35:54.224Z"
   },
   {
    "duration": 12,
    "start_time": "2024-03-27T10:35:54.381Z"
   },
   {
    "duration": 26,
    "start_time": "2024-03-27T10:35:54.394Z"
   },
   {
    "duration": 18,
    "start_time": "2024-03-27T10:35:54.421Z"
   },
   {
    "duration": 20,
    "start_time": "2024-03-27T10:35:54.440Z"
   },
   {
    "duration": 19,
    "start_time": "2024-03-27T10:35:54.462Z"
   },
   {
    "duration": 204,
    "start_time": "2024-03-27T10:35:54.482Z"
   },
   {
    "duration": 169,
    "start_time": "2024-03-27T10:35:54.688Z"
   },
   {
    "duration": 178,
    "start_time": "2024-03-27T10:35:54.859Z"
   },
   {
    "duration": 171,
    "start_time": "2024-03-27T10:35:55.039Z"
   },
   {
    "duration": 864,
    "start_time": "2024-03-27T10:35:55.217Z"
   },
   {
    "duration": 3,
    "start_time": "2024-03-27T10:35:56.083Z"
   },
   {
    "duration": 13,
    "start_time": "2024-03-27T10:35:56.087Z"
   },
   {
    "duration": 23,
    "start_time": "2024-03-27T10:35:56.102Z"
   },
   {
    "duration": 32,
    "start_time": "2024-03-27T10:35:56.127Z"
   },
   {
    "duration": 104,
    "start_time": "2024-03-27T10:36:37.500Z"
   },
   {
    "duration": 86,
    "start_time": "2024-03-27T10:37:29.706Z"
   },
   {
    "duration": 4,
    "start_time": "2024-03-27T10:37:31.225Z"
   },
   {
    "duration": 4,
    "start_time": "2024-03-27T10:37:31.894Z"
   },
   {
    "duration": 1174,
    "start_time": "2024-03-27T10:37:40.069Z"
   },
   {
    "duration": 67,
    "start_time": "2024-03-27T10:37:41.245Z"
   },
   {
    "duration": 20,
    "start_time": "2024-03-27T10:37:41.314Z"
   },
   {
    "duration": 171,
    "start_time": "2024-03-27T10:37:41.336Z"
   },
   {
    "duration": 6,
    "start_time": "2024-03-27T10:37:41.509Z"
   },
   {
    "duration": 19,
    "start_time": "2024-03-27T10:37:41.516Z"
   },
   {
    "duration": 13,
    "start_time": "2024-03-27T10:37:41.536Z"
   },
   {
    "duration": 10,
    "start_time": "2024-03-27T10:37:41.551Z"
   },
   {
    "duration": 5,
    "start_time": "2024-03-27T10:37:41.563Z"
   },
   {
    "duration": 10,
    "start_time": "2024-03-27T10:37:41.570Z"
   },
   {
    "duration": 8,
    "start_time": "2024-03-27T10:37:41.581Z"
   },
   {
    "duration": 16,
    "start_time": "2024-03-27T10:37:41.620Z"
   },
   {
    "duration": 7,
    "start_time": "2024-03-27T10:37:41.638Z"
   },
   {
    "duration": 10,
    "start_time": "2024-03-27T10:37:41.648Z"
   },
   {
    "duration": 6,
    "start_time": "2024-03-27T10:37:41.660Z"
   },
   {
    "duration": 5,
    "start_time": "2024-03-27T10:37:41.668Z"
   },
   {
    "duration": 6,
    "start_time": "2024-03-27T10:37:41.675Z"
   },
   {
    "duration": 14,
    "start_time": "2024-03-27T10:37:41.722Z"
   },
   {
    "duration": 6,
    "start_time": "2024-03-27T10:37:41.738Z"
   },
   {
    "duration": 7,
    "start_time": "2024-03-27T10:37:41.745Z"
   },
   {
    "duration": 5,
    "start_time": "2024-03-27T10:37:41.754Z"
   },
   {
    "duration": 5,
    "start_time": "2024-03-27T10:37:41.760Z"
   },
   {
    "duration": 3,
    "start_time": "2024-03-27T10:37:41.767Z"
   },
   {
    "duration": 260,
    "start_time": "2024-03-27T10:37:41.771Z"
   },
   {
    "duration": 188,
    "start_time": "2024-03-27T10:37:42.033Z"
   },
   {
    "duration": 11,
    "start_time": "2024-03-27T10:37:42.223Z"
   },
   {
    "duration": 13,
    "start_time": "2024-03-27T10:37:42.235Z"
   },
   {
    "duration": 328,
    "start_time": "2024-03-27T10:37:42.250Z"
   },
   {
    "duration": 6,
    "start_time": "2024-03-27T10:37:42.580Z"
   },
   {
    "duration": 10,
    "start_time": "2024-03-27T10:37:42.588Z"
   },
   {
    "duration": 8,
    "start_time": "2024-03-27T10:37:42.599Z"
   },
   {
    "duration": 808,
    "start_time": "2024-03-27T10:37:42.621Z"
   },
   {
    "duration": 8,
    "start_time": "2024-03-27T10:37:43.433Z"
   },
   {
    "duration": 12,
    "start_time": "2024-03-27T10:37:43.442Z"
   },
   {
    "duration": 32,
    "start_time": "2024-03-27T10:37:43.456Z"
   },
   {
    "duration": 20,
    "start_time": "2024-03-27T10:37:43.489Z"
   },
   {
    "duration": 175,
    "start_time": "2024-03-27T10:37:43.511Z"
   },
   {
    "duration": 13,
    "start_time": "2024-03-27T10:37:43.688Z"
   },
   {
    "duration": 23,
    "start_time": "2024-03-27T10:37:43.703Z"
   },
   {
    "duration": 26,
    "start_time": "2024-03-27T10:37:43.728Z"
   },
   {
    "duration": 24,
    "start_time": "2024-03-27T10:37:43.757Z"
   },
   {
    "duration": 36,
    "start_time": "2024-03-27T10:37:43.783Z"
   },
   {
    "duration": 198,
    "start_time": "2024-03-27T10:37:43.821Z"
   },
   {
    "duration": 177,
    "start_time": "2024-03-27T10:37:44.020Z"
   },
   {
    "duration": 185,
    "start_time": "2024-03-27T10:37:44.199Z"
   },
   {
    "duration": 172,
    "start_time": "2024-03-27T10:37:44.386Z"
   },
   {
    "duration": 97,
    "start_time": "2024-03-27T10:37:44.560Z"
   },
   {
    "duration": 3,
    "start_time": "2024-03-27T10:37:44.659Z"
   },
   {
    "duration": 13,
    "start_time": "2024-03-27T10:37:44.663Z"
   },
   {
    "duration": 26,
    "start_time": "2024-03-27T10:37:44.678Z"
   },
   {
    "duration": 21,
    "start_time": "2024-03-27T10:37:44.705Z"
   },
   {
    "duration": 340,
    "start_time": "2024-03-27T10:39:36.098Z"
   },
   {
    "duration": 1134,
    "start_time": "2024-03-27T10:39:51.147Z"
   },
   {
    "duration": 66,
    "start_time": "2024-03-27T10:39:52.282Z"
   },
   {
    "duration": 13,
    "start_time": "2024-03-27T10:39:52.350Z"
   },
   {
    "duration": 152,
    "start_time": "2024-03-27T10:39:52.366Z"
   },
   {
    "duration": 6,
    "start_time": "2024-03-27T10:39:52.519Z"
   },
   {
    "duration": 14,
    "start_time": "2024-03-27T10:39:52.526Z"
   },
   {
    "duration": 17,
    "start_time": "2024-03-27T10:39:52.541Z"
   },
   {
    "duration": 18,
    "start_time": "2024-03-27T10:39:52.559Z"
   },
   {
    "duration": 7,
    "start_time": "2024-03-27T10:39:52.579Z"
   },
   {
    "duration": 15,
    "start_time": "2024-03-27T10:39:52.589Z"
   },
   {
    "duration": 22,
    "start_time": "2024-03-27T10:39:52.605Z"
   },
   {
    "duration": 14,
    "start_time": "2024-03-27T10:39:52.628Z"
   },
   {
    "duration": 10,
    "start_time": "2024-03-27T10:39:52.643Z"
   },
   {
    "duration": 21,
    "start_time": "2024-03-27T10:39:52.655Z"
   },
   {
    "duration": 6,
    "start_time": "2024-03-27T10:39:52.678Z"
   },
   {
    "duration": 6,
    "start_time": "2024-03-27T10:39:52.685Z"
   },
   {
    "duration": 11,
    "start_time": "2024-03-27T10:39:52.692Z"
   },
   {
    "duration": 15,
    "start_time": "2024-03-27T10:39:52.704Z"
   },
   {
    "duration": 22,
    "start_time": "2024-03-27T10:39:52.720Z"
   },
   {
    "duration": 7,
    "start_time": "2024-03-27T10:39:52.744Z"
   },
   {
    "duration": 5,
    "start_time": "2024-03-27T10:39:52.753Z"
   },
   {
    "duration": 30,
    "start_time": "2024-03-27T10:39:52.759Z"
   },
   {
    "duration": 16,
    "start_time": "2024-03-27T10:39:52.790Z"
   },
   {
    "duration": 189,
    "start_time": "2024-03-27T10:39:52.807Z"
   },
   {
    "duration": 167,
    "start_time": "2024-03-27T10:39:52.997Z"
   },
   {
    "duration": 5,
    "start_time": "2024-03-27T10:39:53.165Z"
   },
   {
    "duration": 11,
    "start_time": "2024-03-27T10:39:53.172Z"
   },
   {
    "duration": 314,
    "start_time": "2024-03-27T10:39:53.186Z"
   },
   {
    "duration": 16,
    "start_time": "2024-03-27T10:39:53.502Z"
   },
   {
    "duration": 8,
    "start_time": "2024-03-27T10:39:53.520Z"
   },
   {
    "duration": 27,
    "start_time": "2024-03-27T10:39:53.529Z"
   },
   {
    "duration": 853,
    "start_time": "2024-03-27T10:39:53.558Z"
   },
   {
    "duration": 8,
    "start_time": "2024-03-27T10:39:54.413Z"
   },
   {
    "duration": 7,
    "start_time": "2024-03-27T10:39:54.423Z"
   },
   {
    "duration": 13,
    "start_time": "2024-03-27T10:39:54.431Z"
   },
   {
    "duration": 7,
    "start_time": "2024-03-27T10:39:54.446Z"
   },
   {
    "duration": 172,
    "start_time": "2024-03-27T10:39:54.455Z"
   },
   {
    "duration": 10,
    "start_time": "2024-03-27T10:39:54.629Z"
   },
   {
    "duration": 27,
    "start_time": "2024-03-27T10:39:54.641Z"
   },
   {
    "duration": 23,
    "start_time": "2024-03-27T10:39:54.670Z"
   },
   {
    "duration": 33,
    "start_time": "2024-03-27T10:39:54.695Z"
   },
   {
    "duration": 20,
    "start_time": "2024-03-27T10:39:54.729Z"
   },
   {
    "duration": 189,
    "start_time": "2024-03-27T10:39:54.751Z"
   },
   {
    "duration": 190,
    "start_time": "2024-03-27T10:39:54.942Z"
   },
   {
    "duration": 203,
    "start_time": "2024-03-27T10:39:55.134Z"
   },
   {
    "duration": 178,
    "start_time": "2024-03-27T10:39:55.339Z"
   },
   {
    "duration": 83,
    "start_time": "2024-03-27T10:39:55.519Z"
   },
   {
    "duration": 3,
    "start_time": "2024-03-27T10:39:55.603Z"
   },
   {
    "duration": 4,
    "start_time": "2024-03-27T10:39:55.617Z"
   },
   {
    "duration": 339,
    "start_time": "2024-03-27T10:39:55.623Z"
   },
   {
    "duration": 0,
    "start_time": "2024-03-27T10:39:55.964Z"
   },
   {
    "duration": 0,
    "start_time": "2024-03-27T10:39:55.965Z"
   },
   {
    "duration": 53,
    "start_time": "2024-03-27T10:41:48.870Z"
   },
   {
    "duration": 43,
    "start_time": "2024-03-27T10:43:04.379Z"
   },
   {
    "duration": 8,
    "start_time": "2024-03-27T10:45:26.353Z"
   },
   {
    "duration": 5,
    "start_time": "2024-03-27T10:46:53.009Z"
   },
   {
    "duration": 6,
    "start_time": "2024-03-27T10:47:45.046Z"
   },
   {
    "duration": 9,
    "start_time": "2024-03-27T10:47:58.997Z"
   },
   {
    "duration": 13,
    "start_time": "2024-03-27T10:50:30.394Z"
   },
   {
    "duration": 11,
    "start_time": "2024-03-27T10:51:24.993Z"
   },
   {
    "duration": 46,
    "start_time": "2024-03-27T10:56:34.025Z"
   },
   {
    "duration": 12,
    "start_time": "2024-03-27T10:56:36.912Z"
   },
   {
    "duration": 15,
    "start_time": "2024-03-27T10:56:55.789Z"
   },
   {
    "duration": 15,
    "start_time": "2024-03-27T10:57:46.429Z"
   },
   {
    "duration": 1134,
    "start_time": "2024-03-27T10:58:05.592Z"
   },
   {
    "duration": 66,
    "start_time": "2024-03-27T10:58:06.728Z"
   },
   {
    "duration": 12,
    "start_time": "2024-03-27T10:58:06.796Z"
   },
   {
    "duration": 153,
    "start_time": "2024-03-27T10:58:06.810Z"
   },
   {
    "duration": 5,
    "start_time": "2024-03-27T10:58:06.965Z"
   },
   {
    "duration": 6,
    "start_time": "2024-03-27T10:58:06.972Z"
   },
   {
    "duration": 12,
    "start_time": "2024-03-27T10:58:06.980Z"
   },
   {
    "duration": 26,
    "start_time": "2024-03-27T10:58:06.994Z"
   },
   {
    "duration": 5,
    "start_time": "2024-03-27T10:58:07.022Z"
   },
   {
    "duration": 9,
    "start_time": "2024-03-27T10:58:07.030Z"
   },
   {
    "duration": 8,
    "start_time": "2024-03-27T10:58:07.041Z"
   },
   {
    "duration": 14,
    "start_time": "2024-03-27T10:58:07.050Z"
   },
   {
    "duration": 17,
    "start_time": "2024-03-27T10:58:07.066Z"
   },
   {
    "duration": 31,
    "start_time": "2024-03-27T10:58:07.084Z"
   },
   {
    "duration": 15,
    "start_time": "2024-03-27T10:58:07.118Z"
   },
   {
    "duration": 5,
    "start_time": "2024-03-27T10:58:07.135Z"
   },
   {
    "duration": 8,
    "start_time": "2024-03-27T10:58:07.142Z"
   },
   {
    "duration": 14,
    "start_time": "2024-03-27T10:58:07.151Z"
   },
   {
    "duration": 5,
    "start_time": "2024-03-27T10:58:07.166Z"
   },
   {
    "duration": 10,
    "start_time": "2024-03-27T10:58:07.172Z"
   },
   {
    "duration": 13,
    "start_time": "2024-03-27T10:58:07.183Z"
   },
   {
    "duration": 18,
    "start_time": "2024-03-27T10:58:07.197Z"
   },
   {
    "duration": 14,
    "start_time": "2024-03-27T10:58:07.217Z"
   },
   {
    "duration": 182,
    "start_time": "2024-03-27T10:58:07.233Z"
   },
   {
    "duration": 150,
    "start_time": "2024-03-27T10:58:07.418Z"
   },
   {
    "duration": 5,
    "start_time": "2024-03-27T10:58:07.569Z"
   },
   {
    "duration": 5,
    "start_time": "2024-03-27T10:58:07.575Z"
   },
   {
    "duration": 309,
    "start_time": "2024-03-27T10:58:07.583Z"
   },
   {
    "duration": 7,
    "start_time": "2024-03-27T10:58:07.893Z"
   },
   {
    "duration": 19,
    "start_time": "2024-03-27T10:58:07.901Z"
   },
   {
    "duration": 9,
    "start_time": "2024-03-27T10:58:07.921Z"
   },
   {
    "duration": 802,
    "start_time": "2024-03-27T10:58:07.932Z"
   },
   {
    "duration": 8,
    "start_time": "2024-03-27T10:58:08.735Z"
   },
   {
    "duration": 15,
    "start_time": "2024-03-27T10:58:08.744Z"
   },
   {
    "duration": 16,
    "start_time": "2024-03-27T10:58:08.761Z"
   },
   {
    "duration": 9,
    "start_time": "2024-03-27T10:58:08.778Z"
   },
   {
    "duration": 154,
    "start_time": "2024-03-27T10:58:08.788Z"
   },
   {
    "duration": 11,
    "start_time": "2024-03-27T10:58:08.943Z"
   },
   {
    "duration": 10,
    "start_time": "2024-03-27T10:58:08.955Z"
   },
   {
    "duration": 18,
    "start_time": "2024-03-27T10:58:08.967Z"
   },
   {
    "duration": 44,
    "start_time": "2024-03-27T10:58:08.987Z"
   },
   {
    "duration": 18,
    "start_time": "2024-03-27T10:58:09.033Z"
   },
   {
    "duration": 199,
    "start_time": "2024-03-27T10:58:09.053Z"
   },
   {
    "duration": 190,
    "start_time": "2024-03-27T10:58:09.254Z"
   },
   {
    "duration": 188,
    "start_time": "2024-03-27T10:58:09.445Z"
   },
   {
    "duration": 168,
    "start_time": "2024-03-27T10:58:09.635Z"
   },
   {
    "duration": 51,
    "start_time": "2024-03-27T10:58:09.804Z"
   },
   {
    "duration": 13,
    "start_time": "2024-03-27T10:58:09.857Z"
   },
   {
    "duration": 6,
    "start_time": "2024-03-27T11:07:59.100Z"
   },
   {
    "duration": 6,
    "start_time": "2024-03-27T11:16:31.130Z"
   },
   {
    "duration": 5,
    "start_time": "2024-03-27T11:22:13.067Z"
   },
   {
    "duration": 8,
    "start_time": "2024-03-27T11:24:05.414Z"
   },
   {
    "duration": 10,
    "start_time": "2024-03-27T11:45:32.830Z"
   },
   {
    "duration": 1014,
    "start_time": "2024-03-27T11:45:54.051Z"
   },
   {
    "duration": 67,
    "start_time": "2024-03-27T11:45:55.066Z"
   },
   {
    "duration": 11,
    "start_time": "2024-03-27T11:45:55.135Z"
   },
   {
    "duration": 152,
    "start_time": "2024-03-27T11:45:55.148Z"
   },
   {
    "duration": 20,
    "start_time": "2024-03-27T11:45:55.301Z"
   },
   {
    "duration": 10,
    "start_time": "2024-03-27T11:45:55.322Z"
   },
   {
    "duration": 9,
    "start_time": "2024-03-27T11:45:55.334Z"
   },
   {
    "duration": 12,
    "start_time": "2024-03-27T11:45:55.345Z"
   },
   {
    "duration": 15,
    "start_time": "2024-03-27T11:45:55.358Z"
   },
   {
    "duration": 7,
    "start_time": "2024-03-27T11:45:55.375Z"
   },
   {
    "duration": 5,
    "start_time": "2024-03-27T11:45:55.384Z"
   },
   {
    "duration": 7,
    "start_time": "2024-03-27T11:45:55.419Z"
   },
   {
    "duration": 11,
    "start_time": "2024-03-27T11:45:55.427Z"
   },
   {
    "duration": 7,
    "start_time": "2024-03-27T11:45:55.439Z"
   },
   {
    "duration": 8,
    "start_time": "2024-03-27T11:45:55.447Z"
   },
   {
    "duration": 5,
    "start_time": "2024-03-27T11:45:55.456Z"
   },
   {
    "duration": 5,
    "start_time": "2024-03-27T11:45:55.462Z"
   },
   {
    "duration": 8,
    "start_time": "2024-03-27T11:45:55.468Z"
   },
   {
    "duration": 218,
    "start_time": "2024-03-27T11:45:55.477Z"
   },
   {
    "duration": 155,
    "start_time": "2024-03-27T11:45:55.696Z"
   },
   {
    "duration": 5,
    "start_time": "2024-03-27T11:45:55.853Z"
   },
   {
    "duration": 6,
    "start_time": "2024-03-27T11:45:55.859Z"
   },
   {
    "duration": 277,
    "start_time": "2024-03-27T11:45:55.866Z"
   },
   {
    "duration": 6,
    "start_time": "2024-03-27T11:45:56.144Z"
   },
   {
    "duration": 6,
    "start_time": "2024-03-27T11:45:56.152Z"
   },
   {
    "duration": 8,
    "start_time": "2024-03-27T11:45:56.160Z"
   },
   {
    "duration": 797,
    "start_time": "2024-03-27T11:45:56.170Z"
   },
   {
    "duration": 8,
    "start_time": "2024-03-27T11:45:56.971Z"
   },
   {
    "duration": 8,
    "start_time": "2024-03-27T11:45:56.980Z"
   },
   {
    "duration": 45,
    "start_time": "2024-03-27T11:45:56.989Z"
   },
   {
    "duration": 9,
    "start_time": "2024-03-27T11:45:57.036Z"
   },
   {
    "duration": 145,
    "start_time": "2024-03-27T11:45:57.047Z"
   },
   {
    "duration": 11,
    "start_time": "2024-03-27T11:45:57.194Z"
   },
   {
    "duration": 12,
    "start_time": "2024-03-27T11:45:57.217Z"
   },
   {
    "duration": 21,
    "start_time": "2024-03-27T11:45:57.231Z"
   },
   {
    "duration": 22,
    "start_time": "2024-03-27T11:45:57.254Z"
   },
   {
    "duration": 52,
    "start_time": "2024-03-27T11:45:57.278Z"
   },
   {
    "duration": 189,
    "start_time": "2024-03-27T11:45:57.331Z"
   },
   {
    "duration": 177,
    "start_time": "2024-03-27T11:45:57.522Z"
   },
   {
    "duration": 179,
    "start_time": "2024-03-27T11:45:57.700Z"
   },
   {
    "duration": 192,
    "start_time": "2024-03-27T11:45:57.881Z"
   },
   {
    "duration": 49,
    "start_time": "2024-03-27T11:45:58.075Z"
   },
   {
    "duration": 14,
    "start_time": "2024-03-27T11:45:58.125Z"
   },
   {
    "duration": 8,
    "start_time": "2024-03-27T11:45:58.140Z"
   },
   {
    "duration": 6,
    "start_time": "2024-03-27T11:45:58.150Z"
   },
   {
    "duration": 7,
    "start_time": "2024-03-27T11:45:58.158Z"
   },
   {
    "duration": 1056,
    "start_time": "2024-03-27T11:51:02.313Z"
   },
   {
    "duration": 66,
    "start_time": "2024-03-27T11:51:03.371Z"
   },
   {
    "duration": 13,
    "start_time": "2024-03-27T11:51:03.439Z"
   },
   {
    "duration": 170,
    "start_time": "2024-03-27T11:51:03.454Z"
   },
   {
    "duration": 14,
    "start_time": "2024-03-27T11:51:03.627Z"
   },
   {
    "duration": 22,
    "start_time": "2024-03-27T11:51:03.643Z"
   },
   {
    "duration": 24,
    "start_time": "2024-03-27T11:51:03.667Z"
   },
   {
    "duration": 18,
    "start_time": "2024-03-27T11:51:03.693Z"
   },
   {
    "duration": 18,
    "start_time": "2024-03-27T11:51:03.712Z"
   },
   {
    "duration": 11,
    "start_time": "2024-03-27T11:51:03.732Z"
   },
   {
    "duration": 6,
    "start_time": "2024-03-27T11:51:03.745Z"
   },
   {
    "duration": 15,
    "start_time": "2024-03-27T11:51:03.752Z"
   },
   {
    "duration": 16,
    "start_time": "2024-03-27T11:51:03.768Z"
   },
   {
    "duration": 12,
    "start_time": "2024-03-27T11:51:03.785Z"
   },
   {
    "duration": 23,
    "start_time": "2024-03-27T11:51:03.798Z"
   },
   {
    "duration": 13,
    "start_time": "2024-03-27T11:51:03.823Z"
   },
   {
    "duration": 30,
    "start_time": "2024-03-27T11:51:03.838Z"
   },
   {
    "duration": 214,
    "start_time": "2024-03-27T11:51:03.870Z"
   },
   {
    "duration": 151,
    "start_time": "2024-03-27T11:51:04.085Z"
   },
   {
    "duration": 5,
    "start_time": "2024-03-27T11:51:04.237Z"
   },
   {
    "duration": 29,
    "start_time": "2024-03-27T11:51:04.244Z"
   },
   {
    "duration": 301,
    "start_time": "2024-03-27T11:51:04.274Z"
   },
   {
    "duration": 6,
    "start_time": "2024-03-27T11:51:04.577Z"
   },
   {
    "duration": 19,
    "start_time": "2024-03-27T11:51:04.584Z"
   },
   {
    "duration": 25,
    "start_time": "2024-03-27T11:51:04.604Z"
   },
   {
    "duration": 759,
    "start_time": "2024-03-27T11:51:04.631Z"
   },
   {
    "duration": 9,
    "start_time": "2024-03-27T11:51:05.392Z"
   },
   {
    "duration": 16,
    "start_time": "2024-03-27T11:51:05.417Z"
   },
   {
    "duration": 23,
    "start_time": "2024-03-27T11:51:05.434Z"
   },
   {
    "duration": 21,
    "start_time": "2024-03-27T11:51:05.459Z"
   },
   {
    "duration": 157,
    "start_time": "2024-03-27T11:51:05.482Z"
   },
   {
    "duration": 12,
    "start_time": "2024-03-27T11:51:05.640Z"
   },
   {
    "duration": 34,
    "start_time": "2024-03-27T11:51:05.653Z"
   },
   {
    "duration": 24,
    "start_time": "2024-03-27T11:51:05.688Z"
   },
   {
    "duration": 32,
    "start_time": "2024-03-27T11:51:05.714Z"
   },
   {
    "duration": 18,
    "start_time": "2024-03-27T11:51:05.748Z"
   },
   {
    "duration": 176,
    "start_time": "2024-03-27T11:51:05.767Z"
   },
   {
    "duration": 168,
    "start_time": "2024-03-27T11:51:05.945Z"
   },
   {
    "duration": 166,
    "start_time": "2024-03-27T11:51:06.117Z"
   },
   {
    "duration": 169,
    "start_time": "2024-03-27T11:51:06.284Z"
   },
   {
    "duration": 43,
    "start_time": "2024-03-27T11:51:06.455Z"
   },
   {
    "duration": 29,
    "start_time": "2024-03-27T11:51:06.499Z"
   },
   {
    "duration": 16,
    "start_time": "2024-03-27T11:51:06.530Z"
   },
   {
    "duration": 28,
    "start_time": "2024-03-27T11:51:06.547Z"
   },
   {
    "duration": 19,
    "start_time": "2024-03-27T11:51:06.576Z"
   },
   {
    "duration": 7,
    "start_time": "2024-03-27T11:52:04.513Z"
   },
   {
    "duration": 7,
    "start_time": "2024-03-27T11:52:18.684Z"
   },
   {
    "duration": 9,
    "start_time": "2024-03-27T11:52:49.476Z"
   },
   {
    "duration": 1395,
    "start_time": "2024-03-27T12:45:20.767Z"
   },
   {
    "duration": 327,
    "start_time": "2024-03-27T12:45:22.164Z"
   },
   {
    "duration": 13,
    "start_time": "2024-03-27T12:45:22.493Z"
   },
   {
    "duration": 166,
    "start_time": "2024-03-27T12:45:22.508Z"
   },
   {
    "duration": 11,
    "start_time": "2024-03-27T12:45:22.676Z"
   },
   {
    "duration": 30,
    "start_time": "2024-03-27T12:45:22.689Z"
   },
   {
    "duration": 10,
    "start_time": "2024-03-27T12:45:22.721Z"
   },
   {
    "duration": 16,
    "start_time": "2024-03-27T12:45:22.732Z"
   },
   {
    "duration": 23,
    "start_time": "2024-03-27T12:45:22.749Z"
   },
   {
    "duration": 7,
    "start_time": "2024-03-27T12:45:22.774Z"
   },
   {
    "duration": 14,
    "start_time": "2024-03-27T12:45:22.782Z"
   },
   {
    "duration": 6,
    "start_time": "2024-03-27T12:45:22.798Z"
   },
   {
    "duration": 8,
    "start_time": "2024-03-27T12:45:22.805Z"
   },
   {
    "duration": 6,
    "start_time": "2024-03-27T12:45:22.814Z"
   },
   {
    "duration": 21,
    "start_time": "2024-03-27T12:45:22.821Z"
   },
   {
    "duration": 7,
    "start_time": "2024-03-27T12:45:22.844Z"
   },
   {
    "duration": 21,
    "start_time": "2024-03-27T12:45:22.853Z"
   },
   {
    "duration": 213,
    "start_time": "2024-03-27T12:45:22.876Z"
   },
   {
    "duration": 177,
    "start_time": "2024-03-27T12:45:23.091Z"
   },
   {
    "duration": 5,
    "start_time": "2024-03-27T12:45:23.272Z"
   },
   {
    "duration": 22,
    "start_time": "2024-03-27T12:45:23.279Z"
   },
   {
    "duration": 330,
    "start_time": "2024-03-27T12:45:23.302Z"
   },
   {
    "duration": 8,
    "start_time": "2024-03-27T12:45:23.634Z"
   },
   {
    "duration": 11,
    "start_time": "2024-03-27T12:45:23.644Z"
   },
   {
    "duration": 23,
    "start_time": "2024-03-27T12:45:23.657Z"
   },
   {
    "duration": 879,
    "start_time": "2024-03-27T12:45:23.682Z"
   },
   {
    "duration": 15,
    "start_time": "2024-03-27T12:45:24.563Z"
   },
   {
    "duration": 7,
    "start_time": "2024-03-27T12:45:24.581Z"
   },
   {
    "duration": 13,
    "start_time": "2024-03-27T12:45:24.590Z"
   },
   {
    "duration": 8,
    "start_time": "2024-03-27T12:45:24.605Z"
   },
   {
    "duration": 175,
    "start_time": "2024-03-27T12:45:24.614Z"
   },
   {
    "duration": 11,
    "start_time": "2024-03-27T12:45:24.790Z"
   },
   {
    "duration": 25,
    "start_time": "2024-03-27T12:45:24.802Z"
   },
   {
    "duration": 28,
    "start_time": "2024-03-27T12:45:24.829Z"
   },
   {
    "duration": 28,
    "start_time": "2024-03-27T12:45:24.858Z"
   },
   {
    "duration": 21,
    "start_time": "2024-03-27T12:45:24.888Z"
   },
   {
    "duration": 219,
    "start_time": "2024-03-27T12:45:24.910Z"
   },
   {
    "duration": 198,
    "start_time": "2024-03-27T12:45:25.131Z"
   },
   {
    "duration": 198,
    "start_time": "2024-03-27T12:45:25.331Z"
   },
   {
    "duration": 186,
    "start_time": "2024-03-27T12:45:25.531Z"
   },
   {
    "duration": 60,
    "start_time": "2024-03-27T12:45:25.718Z"
   },
   {
    "duration": 15,
    "start_time": "2024-03-27T12:45:25.779Z"
   },
   {
    "duration": 7,
    "start_time": "2024-03-27T12:45:25.796Z"
   },
   {
    "duration": 12,
    "start_time": "2024-03-27T12:45:25.804Z"
   },
   {
    "duration": 8,
    "start_time": "2024-03-27T12:45:25.818Z"
   },
   {
    "duration": 8,
    "start_time": "2024-03-27T12:52:07.570Z"
   },
   {
    "duration": 6,
    "start_time": "2024-03-27T12:52:14.278Z"
   },
   {
    "duration": 1139,
    "start_time": "2024-03-27T12:55:08.008Z"
   },
   {
    "duration": 74,
    "start_time": "2024-03-27T12:55:09.149Z"
   },
   {
    "duration": 14,
    "start_time": "2024-03-27T12:55:09.224Z"
   },
   {
    "duration": 170,
    "start_time": "2024-03-27T12:55:09.239Z"
   },
   {
    "duration": 12,
    "start_time": "2024-03-27T12:55:09.411Z"
   },
   {
    "duration": 25,
    "start_time": "2024-03-27T12:55:09.425Z"
   },
   {
    "duration": 10,
    "start_time": "2024-03-27T12:55:09.451Z"
   },
   {
    "duration": 14,
    "start_time": "2024-03-27T12:55:09.462Z"
   },
   {
    "duration": 11,
    "start_time": "2024-03-27T12:55:09.477Z"
   },
   {
    "duration": 7,
    "start_time": "2024-03-27T12:55:09.491Z"
   },
   {
    "duration": 6,
    "start_time": "2024-03-27T12:55:09.499Z"
   },
   {
    "duration": 7,
    "start_time": "2024-03-27T12:55:09.507Z"
   },
   {
    "duration": 8,
    "start_time": "2024-03-27T12:55:09.515Z"
   },
   {
    "duration": 5,
    "start_time": "2024-03-27T12:55:09.525Z"
   },
   {
    "duration": 47,
    "start_time": "2024-03-27T12:55:09.532Z"
   },
   {
    "duration": 7,
    "start_time": "2024-03-27T12:55:09.581Z"
   },
   {
    "duration": 5,
    "start_time": "2024-03-27T12:55:09.590Z"
   },
   {
    "duration": 217,
    "start_time": "2024-03-27T12:55:09.597Z"
   },
   {
    "duration": 173,
    "start_time": "2024-03-27T12:55:09.816Z"
   },
   {
    "duration": 5,
    "start_time": "2024-03-27T12:55:09.991Z"
   },
   {
    "duration": 34,
    "start_time": "2024-03-27T12:55:09.997Z"
   },
   {
    "duration": 336,
    "start_time": "2024-03-27T12:55:10.033Z"
   },
   {
    "duration": 11,
    "start_time": "2024-03-27T12:55:10.373Z"
   },
   {
    "duration": 20,
    "start_time": "2024-03-27T12:55:10.385Z"
   },
   {
    "duration": 18,
    "start_time": "2024-03-27T12:55:10.407Z"
   },
   {
    "duration": 852,
    "start_time": "2024-03-27T12:55:10.427Z"
   },
   {
    "duration": 7,
    "start_time": "2024-03-27T12:55:11.280Z"
   },
   {
    "duration": 10,
    "start_time": "2024-03-27T12:55:11.291Z"
   },
   {
    "duration": 22,
    "start_time": "2024-03-27T12:55:11.303Z"
   },
   {
    "duration": 17,
    "start_time": "2024-03-27T12:55:11.326Z"
   },
   {
    "duration": 164,
    "start_time": "2024-03-27T12:55:11.345Z"
   },
   {
    "duration": 11,
    "start_time": "2024-03-27T12:55:11.510Z"
   },
   {
    "duration": 16,
    "start_time": "2024-03-27T12:55:11.522Z"
   },
   {
    "duration": 32,
    "start_time": "2024-03-27T12:55:11.540Z"
   },
   {
    "duration": 31,
    "start_time": "2024-03-27T12:55:11.574Z"
   },
   {
    "duration": 18,
    "start_time": "2024-03-27T12:55:11.607Z"
   },
   {
    "duration": 211,
    "start_time": "2024-03-27T12:55:11.627Z"
   },
   {
    "duration": 193,
    "start_time": "2024-03-27T12:55:11.839Z"
   },
   {
    "duration": 211,
    "start_time": "2024-03-27T12:55:12.034Z"
   },
   {
    "duration": 180,
    "start_time": "2024-03-27T12:55:12.247Z"
   },
   {
    "duration": 56,
    "start_time": "2024-03-27T12:55:12.429Z"
   },
   {
    "duration": 19,
    "start_time": "2024-03-27T12:55:12.487Z"
   },
   {
    "duration": 7,
    "start_time": "2024-03-27T12:55:12.508Z"
   },
   {
    "duration": 6,
    "start_time": "2024-03-27T12:55:12.517Z"
   },
   {
    "duration": 12,
    "start_time": "2024-03-27T12:55:12.524Z"
   },
   {
    "duration": 60,
    "start_time": "2024-03-27T13:20:54.422Z"
   },
   {
    "duration": 1320,
    "start_time": "2024-03-27T13:21:07.041Z"
   },
   {
    "duration": 317,
    "start_time": "2024-03-27T13:21:08.363Z"
   },
   {
    "duration": 20,
    "start_time": "2024-03-27T13:21:08.682Z"
   },
   {
    "duration": 164,
    "start_time": "2024-03-27T13:21:08.703Z"
   },
   {
    "duration": 19,
    "start_time": "2024-03-27T13:21:08.869Z"
   },
   {
    "duration": 9,
    "start_time": "2024-03-27T13:21:08.890Z"
   },
   {
    "duration": 11,
    "start_time": "2024-03-27T13:21:08.900Z"
   },
   {
    "duration": 19,
    "start_time": "2024-03-27T13:21:08.913Z"
   },
   {
    "duration": 26,
    "start_time": "2024-03-27T13:21:08.933Z"
   },
   {
    "duration": 7,
    "start_time": "2024-03-27T13:21:08.960Z"
   },
   {
    "duration": 32,
    "start_time": "2024-03-27T13:21:08.968Z"
   },
   {
    "duration": 8,
    "start_time": "2024-03-27T13:21:09.002Z"
   },
   {
    "duration": 8,
    "start_time": "2024-03-27T13:21:09.012Z"
   },
   {
    "duration": 11,
    "start_time": "2024-03-27T13:21:09.022Z"
   },
   {
    "duration": 10,
    "start_time": "2024-03-27T13:21:09.035Z"
   },
   {
    "duration": 8,
    "start_time": "2024-03-27T13:21:09.046Z"
   },
   {
    "duration": 9,
    "start_time": "2024-03-27T13:21:09.056Z"
   },
   {
    "duration": 222,
    "start_time": "2024-03-27T13:21:09.066Z"
   },
   {
    "duration": 165,
    "start_time": "2024-03-27T13:21:09.290Z"
   },
   {
    "duration": 7,
    "start_time": "2024-03-27T13:21:09.457Z"
   },
   {
    "duration": 8,
    "start_time": "2024-03-27T13:21:09.465Z"
   },
   {
    "duration": 305,
    "start_time": "2024-03-27T13:21:09.488Z"
   },
   {
    "duration": 7,
    "start_time": "2024-03-27T13:21:09.795Z"
   },
   {
    "duration": 8,
    "start_time": "2024-03-27T13:21:09.804Z"
   },
   {
    "duration": 9,
    "start_time": "2024-03-27T13:21:09.813Z"
   },
   {
    "duration": 870,
    "start_time": "2024-03-27T13:21:09.823Z"
   },
   {
    "duration": 7,
    "start_time": "2024-03-27T13:21:10.694Z"
   },
   {
    "duration": 9,
    "start_time": "2024-03-27T13:21:10.703Z"
   },
   {
    "duration": 13,
    "start_time": "2024-03-27T13:21:10.713Z"
   },
   {
    "duration": 7,
    "start_time": "2024-03-27T13:21:10.727Z"
   },
   {
    "duration": 172,
    "start_time": "2024-03-27T13:21:10.736Z"
   },
   {
    "duration": 10,
    "start_time": "2024-03-27T13:21:10.910Z"
   },
   {
    "duration": 9,
    "start_time": "2024-03-27T13:21:10.922Z"
   },
   {
    "duration": 17,
    "start_time": "2024-03-27T13:21:10.933Z"
   },
   {
    "duration": 42,
    "start_time": "2024-03-27T13:21:10.952Z"
   },
   {
    "duration": 20,
    "start_time": "2024-03-27T13:21:10.995Z"
   },
   {
    "duration": 200,
    "start_time": "2024-03-27T13:21:11.017Z"
   },
   {
    "duration": 207,
    "start_time": "2024-03-27T13:21:11.219Z"
   },
   {
    "duration": 198,
    "start_time": "2024-03-27T13:21:11.428Z"
   },
   {
    "duration": 177,
    "start_time": "2024-03-27T13:21:11.628Z"
   },
   {
    "duration": 44,
    "start_time": "2024-03-27T13:21:11.809Z"
   },
   {
    "duration": 14,
    "start_time": "2024-03-27T13:21:11.855Z"
   },
   {
    "duration": 5,
    "start_time": "2024-03-27T13:21:11.888Z"
   },
   {
    "duration": 7,
    "start_time": "2024-03-27T13:21:11.894Z"
   },
   {
    "duration": 14,
    "start_time": "2024-03-27T13:21:11.902Z"
   },
   {
    "duration": 6,
    "start_time": "2024-03-27T13:40:48.743Z"
   },
   {
    "duration": 164,
    "start_time": "2024-03-27T13:42:20.858Z"
   },
   {
    "duration": 159,
    "start_time": "2024-03-27T13:42:46.819Z"
   },
   {
    "duration": 105,
    "start_time": "2024-03-27T13:44:02.998Z"
   },
   {
    "duration": 158,
    "start_time": "2024-03-27T13:44:08.125Z"
   },
   {
    "duration": 249,
    "start_time": "2024-03-27T13:44:37.737Z"
   },
   {
    "duration": 47,
    "start_time": "2024-03-28T10:58:09.393Z"
   },
   {
    "duration": 6,
    "start_time": "2024-03-28T10:58:16.157Z"
   },
   {
    "duration": 1283,
    "start_time": "2024-03-28T10:58:22.352Z"
   },
   {
    "duration": 305,
    "start_time": "2024-03-28T10:58:23.637Z"
   },
   {
    "duration": 22,
    "start_time": "2024-03-28T10:58:23.943Z"
   },
   {
    "duration": 17,
    "start_time": "2024-03-28T10:58:23.967Z"
   },
   {
    "duration": 9,
    "start_time": "2024-03-28T10:58:23.985Z"
   },
   {
    "duration": 14,
    "start_time": "2024-03-28T10:58:23.996Z"
   },
   {
    "duration": 10,
    "start_time": "2024-03-28T10:58:24.011Z"
   },
   {
    "duration": 7,
    "start_time": "2024-03-28T10:58:24.022Z"
   },
   {
    "duration": 6,
    "start_time": "2024-03-28T10:58:24.030Z"
   },
   {
    "duration": 6,
    "start_time": "2024-03-28T10:58:24.038Z"
   },
   {
    "duration": 41,
    "start_time": "2024-03-28T10:58:24.045Z"
   },
   {
    "duration": 6,
    "start_time": "2024-03-28T10:58:24.087Z"
   },
   {
    "duration": 7,
    "start_time": "2024-03-28T10:58:24.094Z"
   },
   {
    "duration": 16,
    "start_time": "2024-03-28T10:58:24.103Z"
   },
   {
    "duration": 6,
    "start_time": "2024-03-28T10:58:24.120Z"
   },
   {
    "duration": 11,
    "start_time": "2024-03-28T10:58:24.127Z"
   },
   {
    "duration": 168,
    "start_time": "2024-03-28T10:58:24.140Z"
   },
   {
    "duration": 6,
    "start_time": "2024-03-28T10:58:24.310Z"
   },
   {
    "duration": 18,
    "start_time": "2024-03-28T10:58:24.317Z"
   },
   {
    "duration": 283,
    "start_time": "2024-03-28T10:58:24.336Z"
   },
   {
    "duration": 8,
    "start_time": "2024-03-28T10:58:24.621Z"
   },
   {
    "duration": 8,
    "start_time": "2024-03-28T10:58:24.631Z"
   },
   {
    "duration": 8,
    "start_time": "2024-03-28T10:58:24.641Z"
   },
   {
    "duration": 713,
    "start_time": "2024-03-28T10:58:24.651Z"
   },
   {
    "duration": 17,
    "start_time": "2024-03-28T10:58:25.365Z"
   },
   {
    "duration": 8,
    "start_time": "2024-03-28T10:58:25.383Z"
   },
   {
    "duration": 23,
    "start_time": "2024-03-28T10:58:25.392Z"
   },
   {
    "duration": 8,
    "start_time": "2024-03-28T10:58:25.419Z"
   },
   {
    "duration": 233,
    "start_time": "2024-03-28T10:58:25.428Z"
   },
   {
    "duration": 18,
    "start_time": "2024-03-28T10:58:25.663Z"
   },
   {
    "duration": 10,
    "start_time": "2024-03-28T10:58:25.682Z"
   },
   {
    "duration": 18,
    "start_time": "2024-03-28T10:58:25.694Z"
   },
   {
    "duration": 20,
    "start_time": "2024-03-28T10:58:25.713Z"
   },
   {
    "duration": 47,
    "start_time": "2024-03-28T10:58:25.735Z"
   },
   {
    "duration": 179,
    "start_time": "2024-03-28T10:58:25.784Z"
   },
   {
    "duration": 179,
    "start_time": "2024-03-28T10:58:25.965Z"
   },
   {
    "duration": 179,
    "start_time": "2024-03-28T10:58:26.146Z"
   },
   {
    "duration": 178,
    "start_time": "2024-03-28T10:58:26.326Z"
   },
   {
    "duration": 43,
    "start_time": "2024-03-28T10:58:26.506Z"
   },
   {
    "duration": 13,
    "start_time": "2024-03-28T10:58:26.550Z"
   },
   {
    "duration": 20,
    "start_time": "2024-03-28T10:58:26.564Z"
   },
   {
    "duration": 22,
    "start_time": "2024-03-28T10:58:26.585Z"
   },
   {
    "duration": 29,
    "start_time": "2024-03-28T10:58:26.609Z"
   },
   {
    "duration": 14,
    "start_time": "2024-03-28T11:00:39.700Z"
   },
   {
    "duration": 13,
    "start_time": "2024-03-28T11:00:43.765Z"
   },
   {
    "duration": 19,
    "start_time": "2024-03-28T11:01:52.756Z"
   },
   {
    "duration": 14,
    "start_time": "2024-03-28T11:02:13.506Z"
   },
   {
    "duration": 1031,
    "start_time": "2024-03-28T11:08:11.920Z"
   },
   {
    "duration": 66,
    "start_time": "2024-03-28T11:08:12.952Z"
   },
   {
    "duration": 21,
    "start_time": "2024-03-28T11:08:13.020Z"
   },
   {
    "duration": 23,
    "start_time": "2024-03-28T11:08:13.044Z"
   },
   {
    "duration": 13,
    "start_time": "2024-03-28T11:08:13.069Z"
   },
   {
    "duration": 25,
    "start_time": "2024-03-28T11:08:13.083Z"
   },
   {
    "duration": 6,
    "start_time": "2024-03-28T11:08:13.110Z"
   },
   {
    "duration": 6,
    "start_time": "2024-03-28T11:08:13.117Z"
   },
   {
    "duration": 9,
    "start_time": "2024-03-28T11:08:13.125Z"
   },
   {
    "duration": 8,
    "start_time": "2024-03-28T11:08:13.136Z"
   },
   {
    "duration": 19,
    "start_time": "2024-03-28T11:08:13.146Z"
   },
   {
    "duration": 15,
    "start_time": "2024-03-28T11:08:13.167Z"
   },
   {
    "duration": 5,
    "start_time": "2024-03-28T11:08:13.184Z"
   },
   {
    "duration": 16,
    "start_time": "2024-03-28T11:08:13.190Z"
   },
   {
    "duration": 34,
    "start_time": "2024-03-28T11:08:13.208Z"
   },
   {
    "duration": 183,
    "start_time": "2024-03-28T11:08:13.244Z"
   },
   {
    "duration": 6,
    "start_time": "2024-03-28T11:08:13.429Z"
   },
   {
    "duration": 6,
    "start_time": "2024-03-28T11:08:13.437Z"
   },
   {
    "duration": 303,
    "start_time": "2024-03-28T11:08:13.445Z"
   },
   {
    "duration": 8,
    "start_time": "2024-03-28T11:08:13.750Z"
   },
   {
    "duration": 23,
    "start_time": "2024-03-28T11:08:13.759Z"
   },
   {
    "duration": 9,
    "start_time": "2024-03-28T11:08:13.783Z"
   },
   {
    "duration": 713,
    "start_time": "2024-03-28T11:08:13.794Z"
   },
   {
    "duration": 8,
    "start_time": "2024-03-28T11:08:14.509Z"
   },
   {
    "duration": 7,
    "start_time": "2024-03-28T11:08:14.519Z"
   },
   {
    "duration": 14,
    "start_time": "2024-03-28T11:08:14.528Z"
   },
   {
    "duration": 40,
    "start_time": "2024-03-28T11:08:14.544Z"
   },
   {
    "duration": 215,
    "start_time": "2024-03-28T11:08:14.587Z"
   },
   {
    "duration": 9,
    "start_time": "2024-03-28T11:08:14.803Z"
   },
   {
    "duration": 17,
    "start_time": "2024-03-28T11:08:14.813Z"
   },
   {
    "duration": 24,
    "start_time": "2024-03-28T11:08:14.832Z"
   },
   {
    "duration": 29,
    "start_time": "2024-03-28T11:08:14.857Z"
   },
   {
    "duration": 25,
    "start_time": "2024-03-28T11:08:14.887Z"
   },
   {
    "duration": 203,
    "start_time": "2024-03-28T11:08:14.913Z"
   },
   {
    "duration": 180,
    "start_time": "2024-03-28T11:08:15.118Z"
   },
   {
    "duration": 185,
    "start_time": "2024-03-28T11:08:15.300Z"
   },
   {
    "duration": 175,
    "start_time": "2024-03-28T11:08:15.487Z"
   },
   {
    "duration": 52,
    "start_time": "2024-03-28T11:08:15.664Z"
   },
   {
    "duration": 13,
    "start_time": "2024-03-28T11:08:15.717Z"
   },
   {
    "duration": 27,
    "start_time": "2024-03-28T11:08:15.732Z"
   },
   {
    "duration": 17,
    "start_time": "2024-03-28T11:08:15.760Z"
   },
   {
    "duration": 13,
    "start_time": "2024-03-28T11:08:15.778Z"
   },
   {
    "duration": 92,
    "start_time": "2024-03-28T11:10:59.968Z"
   },
   {
    "duration": 6,
    "start_time": "2024-03-28T11:20:38.560Z"
   },
   {
    "duration": 1081,
    "start_time": "2024-03-28T11:20:46.752Z"
   },
   {
    "duration": 67,
    "start_time": "2024-03-28T11:20:47.835Z"
   },
   {
    "duration": 21,
    "start_time": "2024-03-28T11:20:47.904Z"
   },
   {
    "duration": 30,
    "start_time": "2024-03-28T11:20:47.928Z"
   },
   {
    "duration": 13,
    "start_time": "2024-03-28T11:20:47.959Z"
   },
   {
    "duration": 18,
    "start_time": "2024-03-28T11:20:47.973Z"
   },
   {
    "duration": 12,
    "start_time": "2024-03-28T11:20:47.992Z"
   },
   {
    "duration": 32,
    "start_time": "2024-03-28T11:20:48.005Z"
   },
   {
    "duration": 23,
    "start_time": "2024-03-28T11:20:48.039Z"
   },
   {
    "duration": 23,
    "start_time": "2024-03-28T11:20:48.065Z"
   },
   {
    "duration": 9,
    "start_time": "2024-03-28T11:20:48.090Z"
   },
   {
    "duration": 15,
    "start_time": "2024-03-28T11:20:48.100Z"
   },
   {
    "duration": 14,
    "start_time": "2024-03-28T11:20:48.117Z"
   },
   {
    "duration": 18,
    "start_time": "2024-03-28T11:20:48.133Z"
   },
   {
    "duration": 17,
    "start_time": "2024-03-28T11:20:48.153Z"
   },
   {
    "duration": 23,
    "start_time": "2024-03-28T11:20:48.171Z"
   },
   {
    "duration": 192,
    "start_time": "2024-03-28T11:20:48.196Z"
   },
   {
    "duration": 6,
    "start_time": "2024-03-28T11:20:48.389Z"
   },
   {
    "duration": 5,
    "start_time": "2024-03-28T11:20:48.397Z"
   },
   {
    "duration": 296,
    "start_time": "2024-03-28T11:20:48.404Z"
   },
   {
    "duration": 8,
    "start_time": "2024-03-28T11:20:48.701Z"
   },
   {
    "duration": 9,
    "start_time": "2024-03-28T11:20:48.710Z"
   },
   {
    "duration": 8,
    "start_time": "2024-03-28T11:20:48.720Z"
   },
   {
    "duration": 733,
    "start_time": "2024-03-28T11:20:48.729Z"
   },
   {
    "duration": 7,
    "start_time": "2024-03-28T11:20:49.463Z"
   },
   {
    "duration": 8,
    "start_time": "2024-03-28T11:20:49.481Z"
   },
   {
    "duration": 13,
    "start_time": "2024-03-28T11:20:49.491Z"
   },
   {
    "duration": 8,
    "start_time": "2024-03-28T11:20:49.507Z"
   },
   {
    "duration": 243,
    "start_time": "2024-03-28T11:20:49.516Z"
   },
   {
    "duration": 10,
    "start_time": "2024-03-28T11:20:49.760Z"
   },
   {
    "duration": 9,
    "start_time": "2024-03-28T11:20:49.780Z"
   },
   {
    "duration": 17,
    "start_time": "2024-03-28T11:20:49.791Z"
   },
   {
    "duration": 21,
    "start_time": "2024-03-28T11:20:49.809Z"
   },
   {
    "duration": 20,
    "start_time": "2024-03-28T11:20:49.831Z"
   },
   {
    "duration": 214,
    "start_time": "2024-03-28T11:20:49.852Z"
   },
   {
    "duration": 204,
    "start_time": "2024-03-28T11:20:50.068Z"
   },
   {
    "duration": 187,
    "start_time": "2024-03-28T11:20:50.274Z"
   },
   {
    "duration": 190,
    "start_time": "2024-03-28T11:20:50.463Z"
   },
   {
    "duration": 53,
    "start_time": "2024-03-28T11:20:50.655Z"
   },
   {
    "duration": 14,
    "start_time": "2024-03-28T11:20:50.710Z"
   },
   {
    "duration": 6,
    "start_time": "2024-03-28T11:20:50.726Z"
   },
   {
    "duration": 13,
    "start_time": "2024-03-28T11:20:50.733Z"
   },
   {
    "duration": 33,
    "start_time": "2024-03-28T11:20:50.748Z"
   },
   {
    "duration": 143,
    "start_time": "2024-03-28T11:37:00.660Z"
   },
   {
    "duration": 145,
    "start_time": "2024-03-28T11:37:09.318Z"
   },
   {
    "duration": 143,
    "start_time": "2024-03-28T11:38:32.315Z"
   },
   {
    "duration": 142,
    "start_time": "2024-03-28T11:38:43.406Z"
   },
   {
    "duration": 163,
    "start_time": "2024-03-28T11:40:31.487Z"
   },
   {
    "duration": 147,
    "start_time": "2024-03-28T11:40:54.566Z"
   },
   {
    "duration": 256,
    "start_time": "2024-03-28T11:40:59.906Z"
   },
   {
    "duration": 151,
    "start_time": "2024-03-28T11:41:05.164Z"
   },
   {
    "duration": 161,
    "start_time": "2024-03-28T11:41:37.487Z"
   },
   {
    "duration": 156,
    "start_time": "2024-03-28T11:41:45.773Z"
   },
   {
    "duration": 146,
    "start_time": "2024-03-28T11:41:51.445Z"
   },
   {
    "duration": 1084,
    "start_time": "2024-03-28T11:46:21.241Z"
   },
   {
    "duration": 65,
    "start_time": "2024-03-28T11:46:22.327Z"
   },
   {
    "duration": 20,
    "start_time": "2024-03-28T11:46:22.393Z"
   },
   {
    "duration": 19,
    "start_time": "2024-03-28T11:46:22.415Z"
   },
   {
    "duration": 12,
    "start_time": "2024-03-28T11:46:22.435Z"
   },
   {
    "duration": 16,
    "start_time": "2024-03-28T11:46:22.449Z"
   },
   {
    "duration": 16,
    "start_time": "2024-03-28T11:46:22.466Z"
   },
   {
    "duration": 7,
    "start_time": "2024-03-28T11:46:22.484Z"
   },
   {
    "duration": 22,
    "start_time": "2024-03-28T11:46:22.492Z"
   },
   {
    "duration": 17,
    "start_time": "2024-03-28T11:46:22.517Z"
   },
   {
    "duration": 14,
    "start_time": "2024-03-28T11:46:22.536Z"
   },
   {
    "duration": 6,
    "start_time": "2024-03-28T11:46:22.552Z"
   },
   {
    "duration": 19,
    "start_time": "2024-03-28T11:46:22.559Z"
   },
   {
    "duration": 6,
    "start_time": "2024-03-28T11:46:22.579Z"
   },
   {
    "duration": 12,
    "start_time": "2024-03-28T11:46:22.586Z"
   },
   {
    "duration": 6,
    "start_time": "2024-03-28T11:46:22.600Z"
   },
   {
    "duration": 169,
    "start_time": "2024-03-28T11:46:22.607Z"
   },
   {
    "duration": 6,
    "start_time": "2024-03-28T11:46:22.777Z"
   },
   {
    "duration": 7,
    "start_time": "2024-03-28T11:46:22.785Z"
   },
   {
    "duration": 288,
    "start_time": "2024-03-28T11:46:22.793Z"
   },
   {
    "duration": 6,
    "start_time": "2024-03-28T11:46:23.083Z"
   },
   {
    "duration": 6,
    "start_time": "2024-03-28T11:46:23.091Z"
   },
   {
    "duration": 8,
    "start_time": "2024-03-28T11:46:23.098Z"
   },
   {
    "duration": 732,
    "start_time": "2024-03-28T11:46:23.107Z"
   },
   {
    "duration": 7,
    "start_time": "2024-03-28T11:46:23.841Z"
   },
   {
    "duration": 7,
    "start_time": "2024-03-28T11:46:23.849Z"
   },
   {
    "duration": 32,
    "start_time": "2024-03-28T11:46:23.858Z"
   },
   {
    "duration": 40,
    "start_time": "2024-03-28T11:46:23.893Z"
   },
   {
    "duration": 213,
    "start_time": "2024-03-28T11:46:23.935Z"
   },
   {
    "duration": 9,
    "start_time": "2024-03-28T11:46:24.149Z"
   },
   {
    "duration": 13,
    "start_time": "2024-03-28T11:46:24.159Z"
   },
   {
    "duration": 22,
    "start_time": "2024-03-28T11:46:24.173Z"
   },
   {
    "duration": 20,
    "start_time": "2024-03-28T11:46:24.196Z"
   },
   {
    "duration": 26,
    "start_time": "2024-03-28T11:46:24.218Z"
   },
   {
    "duration": 197,
    "start_time": "2024-03-28T11:46:24.246Z"
   },
   {
    "duration": 174,
    "start_time": "2024-03-28T11:46:24.444Z"
   },
   {
    "duration": 186,
    "start_time": "2024-03-28T11:46:24.619Z"
   },
   {
    "duration": 164,
    "start_time": "2024-03-28T11:46:24.807Z"
   },
   {
    "duration": 43,
    "start_time": "2024-03-28T11:46:24.980Z"
   },
   {
    "duration": 14,
    "start_time": "2024-03-28T11:46:25.025Z"
   },
   {
    "duration": 37,
    "start_time": "2024-03-28T11:46:25.040Z"
   },
   {
    "duration": 20,
    "start_time": "2024-03-28T11:46:25.079Z"
   },
   {
    "duration": 8,
    "start_time": "2024-03-28T11:46:25.100Z"
   },
   {
    "duration": 7,
    "start_time": "2024-03-28T11:47:50.242Z"
   },
   {
    "duration": 293,
    "start_time": "2024-03-28T11:57:58.381Z"
   },
   {
    "duration": 292,
    "start_time": "2024-03-28T11:58:06.616Z"
   },
   {
    "duration": 299,
    "start_time": "2024-03-28T11:58:10.867Z"
   },
   {
    "duration": 301,
    "start_time": "2024-03-28T11:58:15.309Z"
   },
   {
    "duration": 351,
    "start_time": "2024-03-28T11:58:21.030Z"
   },
   {
    "duration": 283,
    "start_time": "2024-03-28T11:58:28.569Z"
   },
   {
    "duration": 283,
    "start_time": "2024-03-28T11:58:38.606Z"
   },
   {
    "duration": 9,
    "start_time": "2024-03-28T12:05:00.206Z"
   },
   {
    "duration": 145,
    "start_time": "2024-03-28T12:11:05.223Z"
   },
   {
    "duration": 159,
    "start_time": "2024-03-28T12:11:16.284Z"
   },
   {
    "duration": 145,
    "start_time": "2024-03-28T12:11:31.705Z"
   },
   {
    "duration": 194,
    "start_time": "2024-03-28T12:11:44.999Z"
   },
   {
    "duration": 196,
    "start_time": "2024-03-28T12:12:02.000Z"
   },
   {
    "duration": 280,
    "start_time": "2024-03-28T12:12:05.581Z"
   },
   {
    "duration": 177,
    "start_time": "2024-03-28T12:12:11.773Z"
   },
   {
    "duration": 1099,
    "start_time": "2024-03-28T12:40:14.540Z"
   },
   {
    "duration": 67,
    "start_time": "2024-03-28T12:40:15.641Z"
   },
   {
    "duration": 21,
    "start_time": "2024-03-28T12:40:15.709Z"
   },
   {
    "duration": 29,
    "start_time": "2024-03-28T12:40:15.732Z"
   },
   {
    "duration": 37,
    "start_time": "2024-03-28T12:40:15.762Z"
   },
   {
    "duration": 27,
    "start_time": "2024-03-28T12:40:15.801Z"
   },
   {
    "duration": 29,
    "start_time": "2024-03-28T12:40:15.829Z"
   },
   {
    "duration": 37,
    "start_time": "2024-03-28T12:40:15.859Z"
   },
   {
    "duration": 27,
    "start_time": "2024-03-28T12:40:15.897Z"
   },
   {
    "duration": 18,
    "start_time": "2024-03-28T12:40:15.927Z"
   },
   {
    "duration": 10,
    "start_time": "2024-03-28T12:40:15.947Z"
   },
   {
    "duration": 28,
    "start_time": "2024-03-28T12:40:15.959Z"
   },
   {
    "duration": 26,
    "start_time": "2024-03-28T12:40:15.989Z"
   },
   {
    "duration": 40,
    "start_time": "2024-03-28T12:40:16.017Z"
   },
   {
    "duration": 33,
    "start_time": "2024-03-28T12:40:16.059Z"
   },
   {
    "duration": 28,
    "start_time": "2024-03-28T12:40:16.094Z"
   },
   {
    "duration": 187,
    "start_time": "2024-03-28T12:40:16.123Z"
   },
   {
    "duration": 8,
    "start_time": "2024-03-28T12:40:16.312Z"
   },
   {
    "duration": 302,
    "start_time": "2024-03-28T12:40:16.322Z"
   },
   {
    "duration": 8,
    "start_time": "2024-03-28T12:40:16.626Z"
   },
   {
    "duration": 729,
    "start_time": "2024-03-28T12:40:16.636Z"
   },
   {
    "duration": 16,
    "start_time": "2024-03-28T12:40:17.366Z"
   },
   {
    "duration": 287,
    "start_time": "2024-03-28T12:40:17.383Z"
   },
   {
    "duration": 16,
    "start_time": "2024-03-28T12:40:17.671Z"
   },
   {
    "duration": 36,
    "start_time": "2024-03-28T12:40:17.689Z"
   },
   {
    "duration": 39,
    "start_time": "2024-03-28T12:40:17.726Z"
   },
   {
    "duration": 20,
    "start_time": "2024-03-28T12:40:17.767Z"
   },
   {
    "duration": 29,
    "start_time": "2024-03-28T12:40:17.790Z"
   },
   {
    "duration": 186,
    "start_time": "2024-03-28T12:40:17.820Z"
   },
   {
    "duration": 173,
    "start_time": "2024-03-28T12:40:18.008Z"
   },
   {
    "duration": 176,
    "start_time": "2024-03-28T12:40:18.182Z"
   },
   {
    "duration": 169,
    "start_time": "2024-03-28T12:40:18.360Z"
   },
   {
    "duration": 3,
    "start_time": "2024-03-28T12:40:18.531Z"
   },
   {
    "duration": 87,
    "start_time": "2024-03-28T12:40:18.535Z"
   },
   {
    "duration": 13,
    "start_time": "2024-03-28T12:40:18.624Z"
   },
   {
    "duration": 5,
    "start_time": "2024-03-28T12:40:18.639Z"
   },
   {
    "duration": 16,
    "start_time": "2024-03-28T12:40:18.645Z"
   },
   {
    "duration": 19,
    "start_time": "2024-03-28T12:40:18.662Z"
   },
   {
    "duration": 3,
    "start_time": "2024-03-28T12:41:22.515Z"
   },
   {
    "duration": 40,
    "start_time": "2024-03-28T12:41:23.706Z"
   },
   {
    "duration": 5,
    "start_time": "2024-03-28T12:42:25.808Z"
   },
   {
    "duration": 43,
    "start_time": "2024-03-28T12:42:26.990Z"
   },
   {
    "duration": 65,
    "start_time": "2024-03-28T12:42:57.982Z"
   },
   {
    "duration": 447,
    "start_time": "2024-03-28T12:43:40.152Z"
   },
   {
    "duration": 377,
    "start_time": "2024-03-28T12:43:56.627Z"
   },
   {
    "duration": 86,
    "start_time": "2024-03-28T12:44:40.359Z"
   },
   {
    "duration": 77,
    "start_time": "2024-03-28T12:45:28.542Z"
   },
   {
    "duration": 75,
    "start_time": "2024-03-28T12:47:08.197Z"
   },
   {
    "duration": 75,
    "start_time": "2024-03-28T12:47:16.272Z"
   },
   {
    "duration": 45,
    "start_time": "2024-03-28T12:47:45.641Z"
   },
   {
    "duration": 20,
    "start_time": "2024-03-28T12:50:41.754Z"
   },
   {
    "duration": 20,
    "start_time": "2024-03-28T12:51:06.443Z"
   },
   {
    "duration": 4,
    "start_time": "2024-03-28T12:51:45.861Z"
   },
   {
    "duration": 14,
    "start_time": "2024-03-28T12:51:56.350Z"
   },
   {
    "duration": 1155,
    "start_time": "2024-03-28T12:52:05.293Z"
   },
   {
    "duration": 67,
    "start_time": "2024-03-28T12:52:06.450Z"
   },
   {
    "duration": 23,
    "start_time": "2024-03-28T12:52:06.518Z"
   },
   {
    "duration": 20,
    "start_time": "2024-03-28T12:52:06.543Z"
   },
   {
    "duration": 14,
    "start_time": "2024-03-28T12:52:06.565Z"
   },
   {
    "duration": 20,
    "start_time": "2024-03-28T12:52:06.581Z"
   },
   {
    "duration": 8,
    "start_time": "2024-03-28T12:52:06.602Z"
   },
   {
    "duration": 21,
    "start_time": "2024-03-28T12:52:06.612Z"
   },
   {
    "duration": 9,
    "start_time": "2024-03-28T12:52:06.635Z"
   },
   {
    "duration": 8,
    "start_time": "2024-03-28T12:52:06.647Z"
   },
   {
    "duration": 13,
    "start_time": "2024-03-28T12:52:06.656Z"
   },
   {
    "duration": 8,
    "start_time": "2024-03-28T12:52:06.680Z"
   },
   {
    "duration": 10,
    "start_time": "2024-03-28T12:52:06.690Z"
   },
   {
    "duration": 5,
    "start_time": "2024-03-28T12:52:06.701Z"
   },
   {
    "duration": 9,
    "start_time": "2024-03-28T12:52:06.707Z"
   },
   {
    "duration": 17,
    "start_time": "2024-03-28T12:52:06.718Z"
   },
   {
    "duration": 181,
    "start_time": "2024-03-28T12:52:06.737Z"
   },
   {
    "duration": 8,
    "start_time": "2024-03-28T12:52:06.919Z"
   },
   {
    "duration": 300,
    "start_time": "2024-03-28T12:52:06.929Z"
   },
   {
    "duration": 9,
    "start_time": "2024-03-28T12:52:07.231Z"
   },
   {
    "duration": 774,
    "start_time": "2024-03-28T12:52:07.242Z"
   },
   {
    "duration": 9,
    "start_time": "2024-03-28T12:52:08.018Z"
   },
   {
    "duration": 295,
    "start_time": "2024-03-28T12:52:08.029Z"
   },
   {
    "duration": 9,
    "start_time": "2024-03-28T12:52:08.326Z"
   },
   {
    "duration": 17,
    "start_time": "2024-03-28T12:52:08.337Z"
   },
   {
    "duration": 31,
    "start_time": "2024-03-28T12:52:08.356Z"
   },
   {
    "duration": 21,
    "start_time": "2024-03-28T12:52:08.388Z"
   },
   {
    "duration": 19,
    "start_time": "2024-03-28T12:52:08.412Z"
   },
   {
    "duration": 208,
    "start_time": "2024-03-28T12:52:08.432Z"
   },
   {
    "duration": 188,
    "start_time": "2024-03-28T12:52:08.642Z"
   },
   {
    "duration": 192,
    "start_time": "2024-03-28T12:52:08.833Z"
   },
   {
    "duration": 172,
    "start_time": "2024-03-28T12:52:09.026Z"
   },
   {
    "duration": 14,
    "start_time": "2024-03-28T12:52:09.200Z"
   },
   {
    "duration": 43,
    "start_time": "2024-03-28T12:52:09.215Z"
   },
   {
    "duration": 33,
    "start_time": "2024-03-28T12:52:09.259Z"
   },
   {
    "duration": 5,
    "start_time": "2024-03-28T12:52:09.293Z"
   },
   {
    "duration": 22,
    "start_time": "2024-03-28T12:52:09.299Z"
   },
   {
    "duration": 18,
    "start_time": "2024-03-28T12:52:09.323Z"
   },
   {
    "duration": 14,
    "start_time": "2024-03-28T12:53:29.493Z"
   },
   {
    "duration": 44,
    "start_time": "2024-03-28T12:53:31.544Z"
   },
   {
    "duration": 4,
    "start_time": "2024-03-28T12:55:26.749Z"
   },
   {
    "duration": 1116,
    "start_time": "2024-03-28T12:55:32.746Z"
   },
   {
    "duration": 67,
    "start_time": "2024-03-28T12:55:33.864Z"
   },
   {
    "duration": 22,
    "start_time": "2024-03-28T12:55:33.933Z"
   },
   {
    "duration": 19,
    "start_time": "2024-03-28T12:55:33.957Z"
   },
   {
    "duration": 39,
    "start_time": "2024-03-28T12:55:33.977Z"
   },
   {
    "duration": 87,
    "start_time": "2024-03-28T12:55:34.018Z"
   },
   {
    "duration": 15,
    "start_time": "2024-03-28T12:55:34.107Z"
   },
   {
    "duration": 26,
    "start_time": "2024-03-28T12:55:34.123Z"
   },
   {
    "duration": 10,
    "start_time": "2024-03-28T12:55:34.151Z"
   },
   {
    "duration": 15,
    "start_time": "2024-03-28T12:55:34.163Z"
   },
   {
    "duration": 30,
    "start_time": "2024-03-28T12:55:34.179Z"
   },
   {
    "duration": 70,
    "start_time": "2024-03-28T12:55:34.211Z"
   },
   {
    "duration": 30,
    "start_time": "2024-03-28T12:55:34.282Z"
   },
   {
    "duration": 25,
    "start_time": "2024-03-28T12:55:34.314Z"
   },
   {
    "duration": 48,
    "start_time": "2024-03-28T12:55:34.340Z"
   },
   {
    "duration": 27,
    "start_time": "2024-03-28T12:55:34.390Z"
   },
   {
    "duration": 18,
    "start_time": "2024-03-28T12:55:34.418Z"
   },
   {
    "duration": 182,
    "start_time": "2024-03-28T12:55:34.437Z"
   },
   {
    "duration": 8,
    "start_time": "2024-03-28T12:55:34.621Z"
   },
   {
    "duration": 302,
    "start_time": "2024-03-28T12:55:34.630Z"
   },
   {
    "duration": 10,
    "start_time": "2024-03-28T12:55:34.934Z"
   },
   {
    "duration": 764,
    "start_time": "2024-03-28T12:55:34.945Z"
   },
   {
    "duration": 8,
    "start_time": "2024-03-28T12:55:35.710Z"
   },
   {
    "duration": 383,
    "start_time": "2024-03-28T12:55:35.720Z"
   },
   {
    "duration": 10,
    "start_time": "2024-03-28T12:55:36.105Z"
   },
   {
    "duration": 29,
    "start_time": "2024-03-28T12:55:36.117Z"
   },
   {
    "duration": 28,
    "start_time": "2024-03-28T12:55:36.148Z"
   },
   {
    "duration": 42,
    "start_time": "2024-03-28T12:55:36.179Z"
   },
   {
    "duration": 38,
    "start_time": "2024-03-28T12:55:36.222Z"
   },
   {
    "duration": 200,
    "start_time": "2024-03-28T12:55:36.262Z"
   },
   {
    "duration": 176,
    "start_time": "2024-03-28T12:55:36.464Z"
   },
   {
    "duration": 194,
    "start_time": "2024-03-28T12:55:36.642Z"
   },
   {
    "duration": 193,
    "start_time": "2024-03-28T12:55:36.838Z"
   },
   {
    "duration": 61,
    "start_time": "2024-03-28T12:55:37.032Z"
   },
   {
    "duration": 13,
    "start_time": "2024-03-28T12:55:37.095Z"
   },
   {
    "duration": 17,
    "start_time": "2024-03-28T12:55:37.109Z"
   },
   {
    "duration": 5,
    "start_time": "2024-03-28T12:55:37.127Z"
   },
   {
    "duration": 11,
    "start_time": "2024-03-28T12:55:37.134Z"
   },
   {
    "duration": 1382,
    "start_time": "2024-03-29T09:23:46.296Z"
   },
   {
    "duration": 292,
    "start_time": "2024-03-29T09:23:47.680Z"
   },
   {
    "duration": 22,
    "start_time": "2024-03-29T09:23:47.974Z"
   },
   {
    "duration": 20,
    "start_time": "2024-03-29T09:23:47.998Z"
   },
   {
    "duration": 18,
    "start_time": "2024-03-29T09:23:48.020Z"
   },
   {
    "duration": 11,
    "start_time": "2024-03-29T09:23:48.040Z"
   },
   {
    "duration": 38,
    "start_time": "2024-03-29T09:23:48.053Z"
   },
   {
    "duration": 20,
    "start_time": "2024-03-29T09:23:48.092Z"
   },
   {
    "duration": 33,
    "start_time": "2024-03-29T09:23:48.113Z"
   },
   {
    "duration": 8,
    "start_time": "2024-03-29T09:23:48.149Z"
   },
   {
    "duration": 12,
    "start_time": "2024-03-29T09:23:48.158Z"
   },
   {
    "duration": 19,
    "start_time": "2024-03-29T09:23:48.172Z"
   },
   {
    "duration": 10,
    "start_time": "2024-03-29T09:23:48.193Z"
   },
   {
    "duration": 5,
    "start_time": "2024-03-29T09:23:48.205Z"
   },
   {
    "duration": 10,
    "start_time": "2024-03-29T09:23:48.212Z"
   },
   {
    "duration": 11,
    "start_time": "2024-03-29T09:23:48.224Z"
   },
   {
    "duration": 196,
    "start_time": "2024-03-29T09:23:48.237Z"
   },
   {
    "duration": 9,
    "start_time": "2024-03-29T09:23:48.435Z"
   },
   {
    "duration": 324,
    "start_time": "2024-03-29T09:23:48.446Z"
   },
   {
    "duration": 18,
    "start_time": "2024-03-29T09:23:48.772Z"
   },
   {
    "duration": 814,
    "start_time": "2024-03-29T09:23:48.792Z"
   },
   {
    "duration": 10,
    "start_time": "2024-03-29T09:23:49.608Z"
   },
   {
    "duration": 308,
    "start_time": "2024-03-29T09:23:49.620Z"
   },
   {
    "duration": 10,
    "start_time": "2024-03-29T09:23:49.930Z"
   },
   {
    "duration": 47,
    "start_time": "2024-03-29T09:23:49.942Z"
   },
   {
    "duration": 72,
    "start_time": "2024-03-29T09:23:49.990Z"
   },
   {
    "duration": 96,
    "start_time": "2024-03-29T09:23:50.064Z"
   },
   {
    "duration": 21,
    "start_time": "2024-03-29T09:23:50.163Z"
   },
   {
    "duration": 218,
    "start_time": "2024-03-29T09:23:50.186Z"
   },
   {
    "duration": 195,
    "start_time": "2024-03-29T09:23:50.405Z"
   },
   {
    "duration": 200,
    "start_time": "2024-03-29T09:23:50.602Z"
   },
   {
    "duration": 188,
    "start_time": "2024-03-29T09:23:50.804Z"
   },
   {
    "duration": 45,
    "start_time": "2024-03-29T09:23:50.994Z"
   },
   {
    "duration": 24,
    "start_time": "2024-03-29T09:23:51.041Z"
   },
   {
    "duration": 32,
    "start_time": "2024-03-29T09:23:51.067Z"
   },
   {
    "duration": 57,
    "start_time": "2024-03-29T09:23:51.101Z"
   },
   {
    "duration": 34,
    "start_time": "2024-03-29T09:23:51.160Z"
   },
   {
    "duration": 45,
    "start_time": "2024-03-29T09:24:15.533Z"
   },
   {
    "duration": 1196,
    "start_time": "2024-03-29T09:24:23.492Z"
   },
   {
    "duration": 67,
    "start_time": "2024-03-29T09:24:24.690Z"
   },
   {
    "duration": 23,
    "start_time": "2024-03-29T09:24:24.759Z"
   },
   {
    "duration": 18,
    "start_time": "2024-03-29T09:24:24.785Z"
   },
   {
    "duration": 15,
    "start_time": "2024-03-29T09:24:24.805Z"
   },
   {
    "duration": 18,
    "start_time": "2024-03-29T09:24:24.822Z"
   },
   {
    "duration": 9,
    "start_time": "2024-03-29T09:24:24.841Z"
   },
   {
    "duration": 8,
    "start_time": "2024-03-29T09:24:24.851Z"
   },
   {
    "duration": 28,
    "start_time": "2024-03-29T09:24:24.861Z"
   },
   {
    "duration": 21,
    "start_time": "2024-03-29T09:24:24.892Z"
   },
   {
    "duration": 17,
    "start_time": "2024-03-29T09:24:24.915Z"
   },
   {
    "duration": 19,
    "start_time": "2024-03-29T09:24:24.933Z"
   },
   {
    "duration": 16,
    "start_time": "2024-03-29T09:24:24.953Z"
   },
   {
    "duration": 7,
    "start_time": "2024-03-29T09:24:24.971Z"
   },
   {
    "duration": 21,
    "start_time": "2024-03-29T09:24:24.979Z"
   },
   {
    "duration": 30,
    "start_time": "2024-03-29T09:24:25.002Z"
   },
   {
    "duration": 221,
    "start_time": "2024-03-29T09:24:25.034Z"
   },
   {
    "duration": 9,
    "start_time": "2024-03-29T09:24:25.258Z"
   },
   {
    "duration": 318,
    "start_time": "2024-03-29T09:24:25.269Z"
   },
   {
    "duration": 10,
    "start_time": "2024-03-29T09:24:25.589Z"
   },
   {
    "duration": 794,
    "start_time": "2024-03-29T09:24:25.600Z"
   },
   {
    "duration": 9,
    "start_time": "2024-03-29T09:24:26.396Z"
   },
   {
    "duration": 285,
    "start_time": "2024-03-29T09:24:26.406Z"
   },
   {
    "duration": 10,
    "start_time": "2024-03-29T09:24:26.693Z"
   },
   {
    "duration": 11,
    "start_time": "2024-03-29T09:24:26.705Z"
   },
   {
    "duration": 40,
    "start_time": "2024-03-29T09:24:26.717Z"
   },
   {
    "duration": 24,
    "start_time": "2024-03-29T09:24:26.759Z"
   },
   {
    "duration": 19,
    "start_time": "2024-03-29T09:24:26.787Z"
   },
   {
    "duration": 208,
    "start_time": "2024-03-29T09:24:26.807Z"
   },
   {
    "duration": 198,
    "start_time": "2024-03-29T09:24:27.017Z"
   },
   {
    "duration": 202,
    "start_time": "2024-03-29T09:24:27.217Z"
   },
   {
    "duration": 190,
    "start_time": "2024-03-29T09:24:27.421Z"
   },
   {
    "duration": 46,
    "start_time": "2024-03-29T09:24:27.612Z"
   },
   {
    "duration": 32,
    "start_time": "2024-03-29T09:24:27.659Z"
   },
   {
    "duration": 19,
    "start_time": "2024-03-29T09:24:27.692Z"
   },
   {
    "duration": 6,
    "start_time": "2024-03-29T09:24:27.712Z"
   },
   {
    "duration": 13,
    "start_time": "2024-03-29T09:24:27.719Z"
   },
   {
    "duration": 10,
    "start_time": "2024-03-29T09:37:59.054Z"
   },
   {
    "duration": 71,
    "start_time": "2024-03-29T09:40:31.692Z"
   },
   {
    "duration": 12,
    "start_time": "2024-03-29T09:41:01.575Z"
   },
   {
    "duration": 103,
    "start_time": "2024-03-29T09:58:56.560Z"
   },
   {
    "duration": 12,
    "start_time": "2024-03-29T10:00:56.230Z"
   },
   {
    "duration": 196,
    "start_time": "2024-03-29T10:01:56.998Z"
   },
   {
    "duration": 7,
    "start_time": "2024-03-29T10:02:15.887Z"
   },
   {
    "duration": 122,
    "start_time": "2024-03-29T10:03:32.668Z"
   },
   {
    "duration": 117,
    "start_time": "2024-03-29T10:03:37.458Z"
   },
   {
    "duration": 122,
    "start_time": "2024-03-29T10:03:44.021Z"
   },
   {
    "duration": 16,
    "start_time": "2024-03-29T10:21:31.103Z"
   },
   {
    "duration": 25,
    "start_time": "2024-03-29T10:21:43.153Z"
   },
   {
    "duration": 22,
    "start_time": "2024-03-29T10:22:03.335Z"
   },
   {
    "duration": 74,
    "start_time": "2024-03-29T10:22:08.642Z"
   },
   {
    "duration": 9,
    "start_time": "2024-03-29T10:23:03.337Z"
   },
   {
    "duration": 1188,
    "start_time": "2024-03-29T10:23:51.377Z"
   },
   {
    "duration": 68,
    "start_time": "2024-03-29T10:23:52.567Z"
   },
   {
    "duration": 23,
    "start_time": "2024-03-29T10:23:52.637Z"
   },
   {
    "duration": 19,
    "start_time": "2024-03-29T10:23:52.662Z"
   },
   {
    "duration": 14,
    "start_time": "2024-03-29T10:23:52.682Z"
   },
   {
    "duration": 11,
    "start_time": "2024-03-29T10:23:52.698Z"
   },
   {
    "duration": 6,
    "start_time": "2024-03-29T10:23:52.710Z"
   },
   {
    "duration": 8,
    "start_time": "2024-03-29T10:23:52.717Z"
   },
   {
    "duration": 6,
    "start_time": "2024-03-29T10:23:52.726Z"
   },
   {
    "duration": 5,
    "start_time": "2024-03-29T10:23:52.735Z"
   },
   {
    "duration": 14,
    "start_time": "2024-03-29T10:23:52.741Z"
   },
   {
    "duration": 8,
    "start_time": "2024-03-29T10:23:52.788Z"
   },
   {
    "duration": 17,
    "start_time": "2024-03-29T10:23:52.798Z"
   },
   {
    "duration": 14,
    "start_time": "2024-03-29T10:23:52.817Z"
   },
   {
    "duration": 28,
    "start_time": "2024-03-29T10:23:52.832Z"
   },
   {
    "duration": 18,
    "start_time": "2024-03-29T10:23:52.862Z"
   },
   {
    "duration": 180,
    "start_time": "2024-03-29T10:23:52.881Z"
   },
   {
    "duration": 9,
    "start_time": "2024-03-29T10:23:53.062Z"
   },
   {
    "duration": 348,
    "start_time": "2024-03-29T10:23:53.073Z"
   },
   {
    "duration": 10,
    "start_time": "2024-03-29T10:23:53.423Z"
   },
   {
    "duration": 815,
    "start_time": "2024-03-29T10:23:53.434Z"
   },
   {
    "duration": 9,
    "start_time": "2024-03-29T10:23:54.250Z"
   },
   {
    "duration": 363,
    "start_time": "2024-03-29T10:23:54.261Z"
   },
   {
    "duration": 135,
    "start_time": "2024-03-29T10:23:54.625Z"
   },
   {
    "duration": 12,
    "start_time": "2024-03-29T10:23:54.761Z"
   },
   {
    "duration": 19,
    "start_time": "2024-03-29T10:23:54.787Z"
   },
   {
    "duration": 21,
    "start_time": "2024-03-29T10:23:54.808Z"
   },
   {
    "duration": 11,
    "start_time": "2024-03-29T10:23:54.833Z"
   },
   {
    "duration": 11,
    "start_time": "2024-03-29T10:23:54.846Z"
   },
   {
    "duration": 48,
    "start_time": "2024-03-29T10:23:54.859Z"
   },
   {
    "duration": 19,
    "start_time": "2024-03-29T10:23:54.908Z"
   },
   {
    "duration": 216,
    "start_time": "2024-03-29T10:23:54.929Z"
   },
   {
    "duration": 223,
    "start_time": "2024-03-29T10:23:55.147Z"
   },
   {
    "duration": 195,
    "start_time": "2024-03-29T10:23:55.371Z"
   },
   {
    "duration": 191,
    "start_time": "2024-03-29T10:23:55.568Z"
   },
   {
    "duration": 54,
    "start_time": "2024-03-29T10:23:55.761Z"
   },
   {
    "duration": 14,
    "start_time": "2024-03-29T10:23:55.816Z"
   },
   {
    "duration": 6,
    "start_time": "2024-03-29T10:23:55.831Z"
   },
   {
    "duration": 5,
    "start_time": "2024-03-29T10:23:55.839Z"
   },
   {
    "duration": 8,
    "start_time": "2024-03-29T10:23:55.846Z"
   },
   {
    "duration": 122,
    "start_time": "2024-03-29T10:25:47.267Z"
   },
   {
    "duration": 9,
    "start_time": "2024-03-29T10:33:28.327Z"
   },
   {
    "duration": 14,
    "start_time": "2024-03-29T10:34:26.817Z"
   },
   {
    "duration": 13,
    "start_time": "2024-03-29T10:34:44.940Z"
   },
   {
    "duration": 13,
    "start_time": "2024-03-29T10:34:58.850Z"
   },
   {
    "duration": 4,
    "start_time": "2024-03-29T10:35:34.885Z"
   },
   {
    "duration": 5,
    "start_time": "2024-03-29T10:35:37.562Z"
   },
   {
    "duration": 103,
    "start_time": "2024-03-29T10:36:22.099Z"
   },
   {
    "duration": 10,
    "start_time": "2024-03-29T10:36:48.511Z"
   },
   {
    "duration": 4,
    "start_time": "2024-03-29T10:37:01.132Z"
   },
   {
    "duration": 14,
    "start_time": "2024-03-29T10:37:04.098Z"
   },
   {
    "duration": 200,
    "start_time": "2024-03-29T10:38:00.847Z"
   },
   {
    "duration": 8,
    "start_time": "2024-03-29T10:38:48.392Z"
   },
   {
    "duration": 26,
    "start_time": "2024-03-29T10:39:55.229Z"
   },
   {
    "duration": 22,
    "start_time": "2024-03-29T10:40:41.680Z"
   },
   {
    "duration": 21,
    "start_time": "2024-03-29T10:40:48.379Z"
   },
   {
    "duration": 22,
    "start_time": "2024-03-29T10:40:52.391Z"
   },
   {
    "duration": 22,
    "start_time": "2024-03-29T10:40:55.724Z"
   },
   {
    "duration": 21,
    "start_time": "2024-03-29T10:41:43.395Z"
   },
   {
    "duration": 21,
    "start_time": "2024-03-29T10:41:50.480Z"
   },
   {
    "duration": 21,
    "start_time": "2024-03-29T10:42:29.940Z"
   },
   {
    "duration": 80,
    "start_time": "2024-03-29T10:46:00.727Z"
   },
   {
    "duration": 1205,
    "start_time": "2024-03-29T10:46:25.168Z"
   },
   {
    "duration": 66,
    "start_time": "2024-03-29T10:46:26.375Z"
   },
   {
    "duration": 22,
    "start_time": "2024-03-29T10:46:26.443Z"
   },
   {
    "duration": 19,
    "start_time": "2024-03-29T10:46:26.469Z"
   },
   {
    "duration": 24,
    "start_time": "2024-03-29T10:46:26.489Z"
   },
   {
    "duration": 9,
    "start_time": "2024-03-29T10:46:26.515Z"
   },
   {
    "duration": 12,
    "start_time": "2024-03-29T10:46:26.525Z"
   },
   {
    "duration": 7,
    "start_time": "2024-03-29T10:46:26.538Z"
   },
   {
    "duration": 6,
    "start_time": "2024-03-29T10:46:26.547Z"
   },
   {
    "duration": 33,
    "start_time": "2024-03-29T10:46:26.555Z"
   },
   {
    "duration": 10,
    "start_time": "2024-03-29T10:46:26.590Z"
   },
   {
    "duration": 7,
    "start_time": "2024-03-29T10:46:26.602Z"
   },
   {
    "duration": 17,
    "start_time": "2024-03-29T10:46:26.611Z"
   },
   {
    "duration": 11,
    "start_time": "2024-03-29T10:46:26.629Z"
   },
   {
    "duration": 10,
    "start_time": "2024-03-29T10:46:26.642Z"
   },
   {
    "duration": 7,
    "start_time": "2024-03-29T10:46:26.654Z"
   },
   {
    "duration": 190,
    "start_time": "2024-03-29T10:46:26.688Z"
   },
   {
    "duration": 8,
    "start_time": "2024-03-29T10:46:26.888Z"
   },
   {
    "duration": 318,
    "start_time": "2024-03-29T10:46:26.898Z"
   },
   {
    "duration": 10,
    "start_time": "2024-03-29T10:46:27.218Z"
   },
   {
    "duration": 834,
    "start_time": "2024-03-29T10:46:27.230Z"
   },
   {
    "duration": 210,
    "start_time": "2024-03-29T10:46:28.066Z"
   },
   {
    "duration": 16,
    "start_time": "2024-03-29T10:46:28.277Z"
   },
   {
    "duration": 202,
    "start_time": "2024-03-29T10:46:28.295Z"
   },
   {
    "duration": 142,
    "start_time": "2024-03-29T10:46:28.499Z"
   },
   {
    "duration": 11,
    "start_time": "2024-03-29T10:46:28.643Z"
   },
   {
    "duration": 39,
    "start_time": "2024-03-29T10:46:28.655Z"
   },
   {
    "duration": 44,
    "start_time": "2024-03-29T10:46:28.697Z"
   },
   {
    "duration": 10,
    "start_time": "2024-03-29T10:46:28.743Z"
   },
   {
    "duration": 10,
    "start_time": "2024-03-29T10:46:28.755Z"
   },
   {
    "duration": 26,
    "start_time": "2024-03-29T10:46:28.766Z"
   },
   {
    "duration": 22,
    "start_time": "2024-03-29T10:46:28.794Z"
   },
   {
    "duration": 217,
    "start_time": "2024-03-29T10:46:28.817Z"
   },
   {
    "duration": 201,
    "start_time": "2024-03-29T10:46:29.036Z"
   },
   {
    "duration": 206,
    "start_time": "2024-03-29T10:46:29.239Z"
   },
   {
    "duration": 189,
    "start_time": "2024-03-29T10:46:29.447Z"
   },
   {
    "duration": 55,
    "start_time": "2024-03-29T10:46:29.638Z"
   },
   {
    "duration": 18,
    "start_time": "2024-03-29T10:46:29.695Z"
   },
   {
    "duration": 6,
    "start_time": "2024-03-29T10:46:29.715Z"
   },
   {
    "duration": 16,
    "start_time": "2024-03-29T10:46:29.724Z"
   },
   {
    "duration": 10,
    "start_time": "2024-03-29T10:46:29.743Z"
   },
   {
    "duration": 35,
    "start_time": "2024-03-29T10:51:02.137Z"
   },
   {
    "duration": 8,
    "start_time": "2024-03-29T10:51:28.354Z"
   },
   {
    "duration": 9,
    "start_time": "2024-03-29T10:52:04.793Z"
   },
   {
    "duration": 10,
    "start_time": "2024-03-29T10:54:12.758Z"
   },
   {
    "duration": 9,
    "start_time": "2024-03-29T10:54:15.698Z"
   },
   {
    "duration": 88,
    "start_time": "2024-03-29T10:58:04.797Z"
   },
   {
    "duration": 132,
    "start_time": "2024-03-29T10:59:00.240Z"
   },
   {
    "duration": 912,
    "start_time": "2024-03-29T10:59:45.100Z"
   },
   {
    "duration": 76,
    "start_time": "2024-03-29T11:00:08.123Z"
   },
   {
    "duration": 5,
    "start_time": "2024-03-29T11:04:05.686Z"
   },
   {
    "duration": 7,
    "start_time": "2024-03-29T11:09:48.883Z"
   },
   {
    "duration": 7,
    "start_time": "2024-03-29T11:10:22.108Z"
   },
   {
    "duration": 7,
    "start_time": "2024-03-29T11:10:28.903Z"
   },
   {
    "duration": 82,
    "start_time": "2024-03-29T11:16:02.123Z"
   },
   {
    "duration": 1128,
    "start_time": "2024-03-29T11:43:47.239Z"
   },
   {
    "duration": 68,
    "start_time": "2024-03-29T11:43:48.369Z"
   },
   {
    "duration": 24,
    "start_time": "2024-03-29T11:43:48.438Z"
   },
   {
    "duration": 17,
    "start_time": "2024-03-29T11:43:48.465Z"
   },
   {
    "duration": 17,
    "start_time": "2024-03-29T11:43:48.484Z"
   },
   {
    "duration": 10,
    "start_time": "2024-03-29T11:43:48.503Z"
   },
   {
    "duration": 7,
    "start_time": "2024-03-29T11:43:48.515Z"
   },
   {
    "duration": 15,
    "start_time": "2024-03-29T11:43:48.524Z"
   },
   {
    "duration": 16,
    "start_time": "2024-03-29T11:43:48.541Z"
   },
   {
    "duration": 28,
    "start_time": "2024-03-29T11:43:48.560Z"
   },
   {
    "duration": 9,
    "start_time": "2024-03-29T11:43:48.590Z"
   },
   {
    "duration": 18,
    "start_time": "2024-03-29T11:43:48.601Z"
   },
   {
    "duration": 40,
    "start_time": "2024-03-29T11:43:48.621Z"
   },
   {
    "duration": 20,
    "start_time": "2024-03-29T11:43:48.663Z"
   },
   {
    "duration": 11,
    "start_time": "2024-03-29T11:43:48.685Z"
   },
   {
    "duration": 17,
    "start_time": "2024-03-29T11:43:48.698Z"
   },
   {
    "duration": 184,
    "start_time": "2024-03-29T11:43:48.717Z"
   },
   {
    "duration": 9,
    "start_time": "2024-03-29T11:43:48.902Z"
   },
   {
    "duration": 319,
    "start_time": "2024-03-29T11:43:48.912Z"
   },
   {
    "duration": 11,
    "start_time": "2024-03-29T11:43:49.234Z"
   },
   {
    "duration": 795,
    "start_time": "2024-03-29T11:43:49.247Z"
   },
   {
    "duration": 237,
    "start_time": "2024-03-29T11:43:50.045Z"
   },
   {
    "duration": 9,
    "start_time": "2024-03-29T11:43:50.288Z"
   },
   {
    "duration": 248,
    "start_time": "2024-03-29T11:43:50.301Z"
   },
   {
    "duration": 140,
    "start_time": "2024-03-29T11:43:50.551Z"
   },
   {
    "duration": 14,
    "start_time": "2024-03-29T11:43:50.693Z"
   },
   {
    "duration": 13,
    "start_time": "2024-03-29T11:43:50.709Z"
   },
   {
    "duration": 45,
    "start_time": "2024-03-29T11:43:50.726Z"
   },
   {
    "duration": 20,
    "start_time": "2024-03-29T11:43:50.773Z"
   },
   {
    "duration": 17,
    "start_time": "2024-03-29T11:43:50.794Z"
   },
   {
    "duration": 50,
    "start_time": "2024-03-29T11:43:50.812Z"
   },
   {
    "duration": 9,
    "start_time": "2024-03-29T11:43:50.864Z"
   },
   {
    "duration": 8,
    "start_time": "2024-03-29T11:43:50.875Z"
   },
   {
    "duration": 25,
    "start_time": "2024-03-29T11:43:50.885Z"
   },
   {
    "duration": 9,
    "start_time": "2024-03-29T11:43:50.911Z"
   },
   {
    "duration": 27,
    "start_time": "2024-03-29T11:43:50.922Z"
   },
   {
    "duration": 220,
    "start_time": "2024-03-29T11:43:50.951Z"
   },
   {
    "duration": 205,
    "start_time": "2024-03-29T11:43:51.173Z"
   },
   {
    "duration": 209,
    "start_time": "2024-03-29T11:43:51.380Z"
   },
   {
    "duration": 202,
    "start_time": "2024-03-29T11:43:51.591Z"
   },
   {
    "duration": 945,
    "start_time": "2024-03-29T11:43:51.795Z"
   },
   {
    "duration": 1400,
    "start_time": "2024-03-29T11:43:52.741Z"
   },
   {
    "duration": 0,
    "start_time": "2024-03-29T11:43:54.143Z"
   },
   {
    "duration": 0,
    "start_time": "2024-03-29T11:43:54.145Z"
   },
   {
    "duration": 0,
    "start_time": "2024-03-29T11:43:54.146Z"
   },
   {
    "duration": 20,
    "start_time": "2024-03-29T11:48:16.459Z"
   },
   {
    "duration": 1321,
    "start_time": "2024-03-29T11:48:30.619Z"
   },
   {
    "duration": 980,
    "start_time": "2024-03-29T11:49:33.203Z"
   },
   {
    "duration": 1164,
    "start_time": "2024-03-29T11:49:46.806Z"
   },
   {
    "duration": 67,
    "start_time": "2024-03-29T11:49:47.972Z"
   },
   {
    "duration": 23,
    "start_time": "2024-03-29T11:49:48.041Z"
   },
   {
    "duration": 29,
    "start_time": "2024-03-29T11:49:48.066Z"
   },
   {
    "duration": 14,
    "start_time": "2024-03-29T11:49:48.096Z"
   },
   {
    "duration": 20,
    "start_time": "2024-03-29T11:49:48.112Z"
   },
   {
    "duration": 7,
    "start_time": "2024-03-29T11:49:48.133Z"
   },
   {
    "duration": 9,
    "start_time": "2024-03-29T11:49:48.142Z"
   },
   {
    "duration": 9,
    "start_time": "2024-03-29T11:49:48.153Z"
   },
   {
    "duration": 6,
    "start_time": "2024-03-29T11:49:48.187Z"
   },
   {
    "duration": 9,
    "start_time": "2024-03-29T11:49:48.194Z"
   },
   {
    "duration": 14,
    "start_time": "2024-03-29T11:49:48.205Z"
   },
   {
    "duration": 8,
    "start_time": "2024-03-29T11:49:48.221Z"
   },
   {
    "duration": 6,
    "start_time": "2024-03-29T11:49:48.230Z"
   },
   {
    "duration": 5,
    "start_time": "2024-03-29T11:49:48.238Z"
   },
   {
    "duration": 7,
    "start_time": "2024-03-29T11:49:48.245Z"
   },
   {
    "duration": 213,
    "start_time": "2024-03-29T11:49:48.254Z"
   },
   {
    "duration": 8,
    "start_time": "2024-03-29T11:49:48.469Z"
   },
   {
    "duration": 341,
    "start_time": "2024-03-29T11:49:48.486Z"
   },
   {
    "duration": 10,
    "start_time": "2024-03-29T11:49:48.828Z"
   },
   {
    "duration": 790,
    "start_time": "2024-03-29T11:49:48.839Z"
   },
   {
    "duration": 214,
    "start_time": "2024-03-29T11:49:49.632Z"
   },
   {
    "duration": 9,
    "start_time": "2024-03-29T11:49:49.847Z"
   },
   {
    "duration": 221,
    "start_time": "2024-03-29T11:49:49.858Z"
   },
   {
    "duration": 138,
    "start_time": "2024-03-29T11:49:50.081Z"
   },
   {
    "duration": 11,
    "start_time": "2024-03-29T11:49:50.220Z"
   },
   {
    "duration": 12,
    "start_time": "2024-03-29T11:49:50.233Z"
   },
   {
    "duration": 28,
    "start_time": "2024-03-29T11:49:50.249Z"
   },
   {
    "duration": 12,
    "start_time": "2024-03-29T11:49:50.288Z"
   },
   {
    "duration": 12,
    "start_time": "2024-03-29T11:49:50.302Z"
   },
   {
    "duration": 29,
    "start_time": "2024-03-29T11:49:50.316Z"
   },
   {
    "duration": 8,
    "start_time": "2024-03-29T11:49:50.347Z"
   },
   {
    "duration": 16,
    "start_time": "2024-03-29T11:49:50.357Z"
   },
   {
    "duration": 33,
    "start_time": "2024-03-29T11:49:50.374Z"
   },
   {
    "duration": 8,
    "start_time": "2024-03-29T11:49:50.409Z"
   },
   {
    "duration": 19,
    "start_time": "2024-03-29T11:49:50.418Z"
   },
   {
    "duration": 208,
    "start_time": "2024-03-29T11:49:50.439Z"
   },
   {
    "duration": 198,
    "start_time": "2024-03-29T11:49:50.648Z"
   },
   {
    "duration": 200,
    "start_time": "2024-03-29T11:49:50.848Z"
   },
   {
    "duration": 211,
    "start_time": "2024-03-29T11:49:51.051Z"
   },
   {
    "duration": 867,
    "start_time": "2024-03-29T11:49:51.266Z"
   },
   {
    "duration": 14,
    "start_time": "2024-03-29T11:49:52.135Z"
   },
   {
    "duration": 13,
    "start_time": "2024-03-29T11:49:52.151Z"
   },
   {
    "duration": 12,
    "start_time": "2024-03-29T11:49:52.166Z"
   },
   {
    "duration": 17,
    "start_time": "2024-03-29T11:49:52.187Z"
   },
   {
    "duration": 1041,
    "start_time": "2024-03-29T12:38:55.178Z"
   },
   {
    "duration": 66,
    "start_time": "2024-03-29T12:38:56.221Z"
   },
   {
    "duration": 21,
    "start_time": "2024-03-29T12:38:56.289Z"
   },
   {
    "duration": 17,
    "start_time": "2024-03-29T12:38:56.312Z"
   },
   {
    "duration": 14,
    "start_time": "2024-03-29T12:38:56.331Z"
   },
   {
    "duration": 23,
    "start_time": "2024-03-29T12:38:56.347Z"
   },
   {
    "duration": 5,
    "start_time": "2024-03-29T12:38:56.372Z"
   },
   {
    "duration": 6,
    "start_time": "2024-03-29T12:38:56.379Z"
   },
   {
    "duration": 7,
    "start_time": "2024-03-29T12:38:56.387Z"
   },
   {
    "duration": 13,
    "start_time": "2024-03-29T12:38:56.397Z"
   },
   {
    "duration": 7,
    "start_time": "2024-03-29T12:38:56.412Z"
   },
   {
    "duration": 5,
    "start_time": "2024-03-29T12:38:56.421Z"
   },
   {
    "duration": 45,
    "start_time": "2024-03-29T12:38:56.428Z"
   },
   {
    "duration": 7,
    "start_time": "2024-03-29T12:38:56.476Z"
   },
   {
    "duration": 11,
    "start_time": "2024-03-29T12:38:56.485Z"
   },
   {
    "duration": 11,
    "start_time": "2024-03-29T12:38:56.498Z"
   },
   {
    "duration": 184,
    "start_time": "2024-03-29T12:38:56.511Z"
   },
   {
    "duration": 8,
    "start_time": "2024-03-29T12:38:56.696Z"
   },
   {
    "duration": 297,
    "start_time": "2024-03-29T12:38:56.705Z"
   },
   {
    "duration": 8,
    "start_time": "2024-03-29T12:38:57.004Z"
   },
   {
    "duration": 759,
    "start_time": "2024-03-29T12:38:57.013Z"
   },
   {
    "duration": 220,
    "start_time": "2024-03-29T12:38:57.774Z"
   },
   {
    "duration": 11,
    "start_time": "2024-03-29T12:38:57.997Z"
   },
   {
    "duration": 215,
    "start_time": "2024-03-29T12:38:58.009Z"
   },
   {
    "duration": 132,
    "start_time": "2024-03-29T12:38:58.226Z"
   },
   {
    "duration": 10,
    "start_time": "2024-03-29T12:38:58.364Z"
   },
   {
    "duration": 10,
    "start_time": "2024-03-29T12:38:58.375Z"
   },
   {
    "duration": 18,
    "start_time": "2024-03-29T12:38:58.388Z"
   },
   {
    "duration": 11,
    "start_time": "2024-03-29T12:38:58.407Z"
   },
   {
    "duration": 46,
    "start_time": "2024-03-29T12:38:58.419Z"
   },
   {
    "duration": 22,
    "start_time": "2024-03-29T12:38:58.467Z"
   },
   {
    "duration": 9,
    "start_time": "2024-03-29T12:38:58.491Z"
   },
   {
    "duration": 9,
    "start_time": "2024-03-29T12:38:58.502Z"
   },
   {
    "duration": 20,
    "start_time": "2024-03-29T12:38:58.512Z"
   },
   {
    "duration": 42,
    "start_time": "2024-03-29T12:38:58.534Z"
   },
   {
    "duration": 9,
    "start_time": "2024-03-29T12:38:58.578Z"
   },
   {
    "duration": 199,
    "start_time": "2024-03-29T12:38:58.589Z"
   },
   {
    "duration": 213,
    "start_time": "2024-03-29T12:38:58.790Z"
   },
   {
    "duration": 224,
    "start_time": "2024-03-29T12:38:59.005Z"
   },
   {
    "duration": 190,
    "start_time": "2024-03-29T12:38:59.230Z"
   },
   {
    "duration": 888,
    "start_time": "2024-03-29T12:38:59.422Z"
   },
   {
    "duration": 15,
    "start_time": "2024-03-29T12:39:00.311Z"
   },
   {
    "duration": 43,
    "start_time": "2024-03-29T12:39:00.327Z"
   },
   {
    "duration": 50,
    "start_time": "2024-03-29T12:39:00.371Z"
   },
   {
    "duration": 51,
    "start_time": "2024-03-29T12:39:00.423Z"
   },
   {
    "duration": 1192,
    "start_time": "2024-03-29T12:44:48.546Z"
   },
   {
    "duration": 68,
    "start_time": "2024-03-29T12:44:49.744Z"
   },
   {
    "duration": 22,
    "start_time": "2024-03-29T12:44:49.814Z"
   },
   {
    "duration": 18,
    "start_time": "2024-03-29T12:44:49.838Z"
   },
   {
    "duration": 18,
    "start_time": "2024-03-29T12:44:49.858Z"
   },
   {
    "duration": 10,
    "start_time": "2024-03-29T12:44:49.878Z"
   },
   {
    "duration": 8,
    "start_time": "2024-03-29T12:44:49.889Z"
   },
   {
    "duration": 13,
    "start_time": "2024-03-29T12:44:49.898Z"
   },
   {
    "duration": 6,
    "start_time": "2024-03-29T12:44:49.912Z"
   },
   {
    "duration": 12,
    "start_time": "2024-03-29T12:44:49.920Z"
   },
   {
    "duration": 7,
    "start_time": "2024-03-29T12:44:49.934Z"
   },
   {
    "duration": 6,
    "start_time": "2024-03-29T12:44:49.965Z"
   },
   {
    "duration": 10,
    "start_time": "2024-03-29T12:44:49.973Z"
   },
   {
    "duration": 5,
    "start_time": "2024-03-29T12:44:49.986Z"
   },
   {
    "duration": 7,
    "start_time": "2024-03-29T12:44:49.993Z"
   },
   {
    "duration": 28,
    "start_time": "2024-03-29T12:44:50.002Z"
   },
   {
    "duration": 175,
    "start_time": "2024-03-29T12:44:50.031Z"
   },
   {
    "duration": 8,
    "start_time": "2024-03-29T12:44:50.207Z"
   },
   {
    "duration": 295,
    "start_time": "2024-03-29T12:44:50.216Z"
   },
   {
    "duration": 9,
    "start_time": "2024-03-29T12:44:50.512Z"
   },
   {
    "duration": 744,
    "start_time": "2024-03-29T12:44:50.523Z"
   },
   {
    "duration": 220,
    "start_time": "2024-03-29T12:44:51.268Z"
   },
   {
    "duration": 7,
    "start_time": "2024-03-29T12:44:51.489Z"
   },
   {
    "duration": 182,
    "start_time": "2024-03-29T12:44:51.498Z"
   },
   {
    "duration": 194,
    "start_time": "2024-03-29T12:44:51.682Z"
   },
   {
    "duration": 9,
    "start_time": "2024-03-29T12:44:51.878Z"
   },
   {
    "duration": 10,
    "start_time": "2024-03-29T12:44:51.889Z"
   },
   {
    "duration": 65,
    "start_time": "2024-03-29T12:44:51.900Z"
   },
   {
    "duration": 10,
    "start_time": "2024-03-29T12:44:51.967Z"
   },
   {
    "duration": 7,
    "start_time": "2024-03-29T12:44:51.979Z"
   },
   {
    "duration": 23,
    "start_time": "2024-03-29T12:44:51.988Z"
   },
   {
    "duration": 7,
    "start_time": "2024-03-29T12:44:52.013Z"
   },
   {
    "duration": 50,
    "start_time": "2024-03-29T12:44:52.022Z"
   },
   {
    "duration": 35,
    "start_time": "2024-03-29T12:44:52.074Z"
   },
   {
    "duration": 7,
    "start_time": "2024-03-29T12:44:52.110Z"
   },
   {
    "duration": 7,
    "start_time": "2024-03-29T12:44:52.119Z"
   },
   {
    "duration": 178,
    "start_time": "2024-03-29T12:44:52.127Z"
   },
   {
    "duration": 215,
    "start_time": "2024-03-29T12:44:52.307Z"
   },
   {
    "duration": 186,
    "start_time": "2024-03-29T12:44:52.524Z"
   },
   {
    "duration": 184,
    "start_time": "2024-03-29T12:44:52.712Z"
   },
   {
    "duration": 849,
    "start_time": "2024-03-29T12:44:52.900Z"
   },
   {
    "duration": 21,
    "start_time": "2024-03-29T12:44:53.750Z"
   },
   {
    "duration": 7,
    "start_time": "2024-03-29T12:44:53.773Z"
   },
   {
    "duration": 13,
    "start_time": "2024-03-29T12:44:53.782Z"
   },
   {
    "duration": 15,
    "start_time": "2024-03-29T12:44:53.796Z"
   },
   {
    "duration": 1084,
    "start_time": "2024-03-29T13:04:22.533Z"
   },
   {
    "duration": 65,
    "start_time": "2024-03-29T13:04:23.619Z"
   },
   {
    "duration": 21,
    "start_time": "2024-03-29T13:04:23.686Z"
   },
   {
    "duration": 17,
    "start_time": "2024-03-29T13:04:23.709Z"
   },
   {
    "duration": 15,
    "start_time": "2024-03-29T13:04:23.727Z"
   },
   {
    "duration": 24,
    "start_time": "2024-03-29T13:04:23.744Z"
   },
   {
    "duration": 7,
    "start_time": "2024-03-29T13:04:23.769Z"
   },
   {
    "duration": 6,
    "start_time": "2024-03-29T13:04:23.778Z"
   },
   {
    "duration": 13,
    "start_time": "2024-03-29T13:04:23.786Z"
   },
   {
    "duration": 6,
    "start_time": "2024-03-29T13:04:23.801Z"
   },
   {
    "duration": 8,
    "start_time": "2024-03-29T13:04:23.808Z"
   },
   {
    "duration": 7,
    "start_time": "2024-03-29T13:04:23.818Z"
   },
   {
    "duration": 47,
    "start_time": "2024-03-29T13:04:23.826Z"
   },
   {
    "duration": 6,
    "start_time": "2024-03-29T13:04:23.874Z"
   },
   {
    "duration": 6,
    "start_time": "2024-03-29T13:04:23.882Z"
   },
   {
    "duration": 14,
    "start_time": "2024-03-29T13:04:23.890Z"
   },
   {
    "duration": 195,
    "start_time": "2024-03-29T13:04:23.906Z"
   },
   {
    "duration": 7,
    "start_time": "2024-03-29T13:04:24.102Z"
   },
   {
    "duration": 301,
    "start_time": "2024-03-29T13:04:24.111Z"
   },
   {
    "duration": 8,
    "start_time": "2024-03-29T13:04:24.413Z"
   },
   {
    "duration": 729,
    "start_time": "2024-03-29T13:04:24.423Z"
   },
   {
    "duration": 200,
    "start_time": "2024-03-29T13:04:25.154Z"
   },
   {
    "duration": 15,
    "start_time": "2024-03-29T13:04:25.355Z"
   },
   {
    "duration": 187,
    "start_time": "2024-03-29T13:04:25.372Z"
   },
   {
    "duration": 138,
    "start_time": "2024-03-29T13:04:25.560Z"
   },
   {
    "duration": 10,
    "start_time": "2024-03-29T13:04:25.699Z"
   },
   {
    "duration": 10,
    "start_time": "2024-03-29T13:04:25.710Z"
   },
   {
    "duration": 27,
    "start_time": "2024-03-29T13:04:25.723Z"
   },
   {
    "duration": 22,
    "start_time": "2024-03-29T13:04:25.752Z"
   },
   {
    "duration": 11,
    "start_time": "2024-03-29T13:04:25.775Z"
   },
   {
    "duration": 32,
    "start_time": "2024-03-29T13:04:25.787Z"
   },
   {
    "duration": 8,
    "start_time": "2024-03-29T13:04:25.821Z"
   },
   {
    "duration": 8,
    "start_time": "2024-03-29T13:04:25.830Z"
   },
   {
    "duration": 22,
    "start_time": "2024-03-29T13:04:25.865Z"
   },
   {
    "duration": 7,
    "start_time": "2024-03-29T13:04:25.888Z"
   },
   {
    "duration": 32,
    "start_time": "2024-03-29T13:04:25.897Z"
   },
   {
    "duration": 179,
    "start_time": "2024-03-29T13:04:25.930Z"
   },
   {
    "duration": 168,
    "start_time": "2024-03-29T13:04:26.110Z"
   },
   {
    "duration": 177,
    "start_time": "2024-03-29T13:04:26.280Z"
   },
   {
    "duration": 164,
    "start_time": "2024-03-29T13:04:26.459Z"
   },
   {
    "duration": 789,
    "start_time": "2024-03-29T13:04:26.624Z"
   },
   {
    "duration": 15,
    "start_time": "2024-03-29T13:04:27.414Z"
   },
   {
    "duration": 31,
    "start_time": "2024-03-29T13:04:27.430Z"
   },
   {
    "duration": 20,
    "start_time": "2024-03-29T13:04:27.463Z"
   },
   {
    "duration": 38,
    "start_time": "2024-03-29T13:04:27.484Z"
   }
  ],
  "kernelspec": {
   "display_name": "Python 3 (ipykernel)",
   "language": "python",
   "name": "python3"
  },
  "language_info": {
   "codemirror_mode": {
    "name": "ipython",
    "version": 3
   },
   "file_extension": ".py",
   "mimetype": "text/x-python",
   "name": "python",
   "nbconvert_exporter": "python",
   "pygments_lexer": "ipython3",
   "version": "3.9.5"
  },
  "toc": {
   "base_numbering": 1,
   "nav_menu": {},
   "number_sections": true,
   "sideBar": true,
   "skip_h1_title": true,
   "title_cell": "Table of Contents",
   "title_sidebar": "Contents",
   "toc_cell": false,
   "toc_position": {},
   "toc_section_display": true,
   "toc_window_display": false
  }
 },
 "nbformat": 4,
 "nbformat_minor": 5
}
