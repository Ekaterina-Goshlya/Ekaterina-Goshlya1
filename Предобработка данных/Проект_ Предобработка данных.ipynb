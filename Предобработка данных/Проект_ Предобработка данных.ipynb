{
 "cells": [
  {
   "cell_type": "markdown",
   "id": "be580817",
   "metadata": {},
   "source": [
    "<div style=\"border:solid steelblue 3px; padding: 20px; border-radius: 10px\">\n",
    "\n",
    "**Екатерина, привет!** 👋\n",
    "\n",
    "Меня зовут Алексей Манелюк, я буду проверять твой проект. В Яндекс Практикуме принято общаться на \"ты\", но если некомфортно - скажи и перейдем на \"Вы\".\n",
    "\n",
    "Моя основная цель - не указать на ошибки, а поделиться опытом и помочь в освоении анализа данных.\n",
    "\n",
    "В тетрадке ты увидишь мои комментарии, пожалуйста, не удаляй, не перемещай и не изменяй их. У комментариев могут быть приписки **2**, **3** и так далее, которые соответствуют каждой версии проверки. Напомню, что у тебя **6** попыток для успешной сдачи проекта.\n",
    "\n",
    "Я буду использовать цветовую разметку:\n",
    "<p>\n",
    "<div class=\"alert-danger\" style=\"padding: 20px; border-radius: 10px\">\n",
    "<b>Комментарий ревьюера ❌</b>\n",
    "\n",
    "Так выделены критические замечания. Без их отработки я не смогу принять проект. </div>\n",
    "\n",
    "<div class=\"alert-warning\" style=\"padding: 20px; border-radius: 10px\">\n",
    "<b>  Комментарий ревьюера ⚠️</b>\n",
    "\n",
    "Так выделены небольшие замечания или полезные советы. Постарайся учесть их.</div>\n",
    "<p>\n",
    "<div class=\"alert-success\" style=\"padding: 20px; border-radius: 10px\">\n",
    "<b>Комментарий ревьюера ✔️</b>\n",
    "\n",
    "Так выделены правильные решения.</div>\n",
    "\n",
    "Предлагаю работать в диалоге: если что-то дорабатываешь или отвечаешь на мой комментарий - пиши об этом. Мне будет удобней, если ты выделишь свои комментарии:\n",
    "<p>\n",
    "<div class=\"alert-info\" style=\"padding: 20px; border-radius: 10px\">\n",
    "<b>Комментарий студента 💎</b>\n",
    "\n",
    "Здесь исправил.</div>\n",
    "\n",
    "Все это поможет мне быстрее принять твой проект."
   ]
  },
  {
   "cell_type": "markdown",
   "id": "76fc28d5",
   "metadata": {},
   "source": [
    "<div class=\"alert-info\" style=\"padding: 20px; border-radius: 10px\">\n",
    "<b>Комментарий студента 💎</b>\n",
    "\n",
    "Ты можешь написать свой комментарий, если скопируешь этот блок в ячейку Markdown.</div>"
   ]
  },
  {
   "cell_type": "markdown",
   "id": "386f2ae7",
   "metadata": {
    "deletable": false,
    "editable": false,
    "id": "386f2ae7"
   },
   "source": [
    "# Исследование надежности заемщиков\n"
   ]
  },
  {
   "cell_type": "markdown",
   "id": "ffe86f65",
   "metadata": {
    "deletable": false,
    "editable": false,
    "id": "ffe86f65"
   },
   "source": [
    "Во второй части проекта вы выполните шаги 3 и 4. Их вручную проверит ревьюер.\n",
    "Чтобы вам не пришлось писать код заново для шагов 1 и 2, мы добавили авторские решения в ячейки с кодом. \n",
    "\n"
   ]
  },
  {
   "cell_type": "markdown",
   "id": "3960f0e1",
   "metadata": {},
   "source": [
    "<div class=\"alert-success\" style=\"padding: 20px; border-radius: 10px\">\n",
    "<b>Комментарий ревьюера ✔️</b>\n",
    "\n",
    "Первая часть этого проекта проверяется автоматизрованно, но дам по ней пару советов - они пригодятся тебе в следующих проектах.\n",
    "\n",
    "📌 Начать проект стоит с описания (цели исследования, описание данных и краткий план работы), а каждый раздел закончить промежуточным выводом.\n",
    "\n",
    "Как правильно оформить проект ты можешь прочитать в материалах курса:\n",
    "\n",
    "`Полезные инструкции для учёбы - Оформление проекта - Рекомендации по выполнению проектов`"
   ]
  },
  {
   "cell_type": "markdown",
   "id": "26613308",
   "metadata": {
    "deletable": false,
    "editable": false,
    "id": "26613308"
   },
   "source": [
    "## Откройте таблицу и изучите общую информацию о данных"
   ]
  },
  {
   "cell_type": "markdown",
   "id": "3c9f838e",
   "metadata": {
    "deletable": false,
    "editable": false,
    "id": "3c9f838e"
   },
   "source": [
    "**Задание 1. Импортируйте библиотеку pandas. Считайте данные из csv-файла в датафрейм и сохраните в переменную `data`. Путь к файлу:**\n",
    "\n",
    "`/datasets/data.csv`"
   ]
  },
  {
   "cell_type": "code",
   "execution_count": 1,
   "id": "77a68a90",
   "metadata": {
    "deletable": false,
    "id": "77a68a90"
   },
   "outputs": [],
   "source": [
    "import pandas as pd\n",
    "\n",
    "try:\n",
    "    data = pd.read_csv('/datasets/data.csv')\n",
    "except:\n",
    "    data = pd.read_csv('https://code.s3.yandex.net/datasets/data.csv')"
   ]
  },
  {
   "cell_type": "markdown",
   "id": "45365635",
   "metadata": {
    "deletable": false,
    "editable": false,
    "id": "45365635"
   },
   "source": [
    "**Задание 2. Выведите первые 20 строчек датафрейма `data` на экран.**"
   ]
  },
  {
   "cell_type": "code",
   "execution_count": 2,
   "id": "b0451a9a",
   "metadata": {
    "deletable": false,
    "id": "b0451a9a",
    "outputId": "1a8f3ef2-d323-4ec2-ddf7-89670b5944c4"
   },
   "outputs": [
    {
     "data": {
      "text/html": [
       "<div>\n",
       "<style scoped>\n",
       "    .dataframe tbody tr th:only-of-type {\n",
       "        vertical-align: middle;\n",
       "    }\n",
       "\n",
       "    .dataframe tbody tr th {\n",
       "        vertical-align: top;\n",
       "    }\n",
       "\n",
       "    .dataframe thead th {\n",
       "        text-align: right;\n",
       "    }\n",
       "</style>\n",
       "<table border=\"1\" class=\"dataframe\">\n",
       "  <thead>\n",
       "    <tr style=\"text-align: right;\">\n",
       "      <th></th>\n",
       "      <th>children</th>\n",
       "      <th>days_employed</th>\n",
       "      <th>dob_years</th>\n",
       "      <th>education</th>\n",
       "      <th>education_id</th>\n",
       "      <th>family_status</th>\n",
       "      <th>family_status_id</th>\n",
       "      <th>gender</th>\n",
       "      <th>income_type</th>\n",
       "      <th>debt</th>\n",
       "      <th>total_income</th>\n",
       "      <th>purpose</th>\n",
       "    </tr>\n",
       "  </thead>\n",
       "  <tbody>\n",
       "    <tr>\n",
       "      <th>0</th>\n",
       "      <td>1</td>\n",
       "      <td>-8437.673028</td>\n",
       "      <td>42</td>\n",
       "      <td>высшее</td>\n",
       "      <td>0</td>\n",
       "      <td>женат / замужем</td>\n",
       "      <td>0</td>\n",
       "      <td>F</td>\n",
       "      <td>сотрудник</td>\n",
       "      <td>0</td>\n",
       "      <td>253875.639453</td>\n",
       "      <td>покупка жилья</td>\n",
       "    </tr>\n",
       "    <tr>\n",
       "      <th>1</th>\n",
       "      <td>1</td>\n",
       "      <td>-4024.803754</td>\n",
       "      <td>36</td>\n",
       "      <td>среднее</td>\n",
       "      <td>1</td>\n",
       "      <td>женат / замужем</td>\n",
       "      <td>0</td>\n",
       "      <td>F</td>\n",
       "      <td>сотрудник</td>\n",
       "      <td>0</td>\n",
       "      <td>112080.014102</td>\n",
       "      <td>приобретение автомобиля</td>\n",
       "    </tr>\n",
       "    <tr>\n",
       "      <th>2</th>\n",
       "      <td>0</td>\n",
       "      <td>-5623.422610</td>\n",
       "      <td>33</td>\n",
       "      <td>Среднее</td>\n",
       "      <td>1</td>\n",
       "      <td>женат / замужем</td>\n",
       "      <td>0</td>\n",
       "      <td>M</td>\n",
       "      <td>сотрудник</td>\n",
       "      <td>0</td>\n",
       "      <td>145885.952297</td>\n",
       "      <td>покупка жилья</td>\n",
       "    </tr>\n",
       "    <tr>\n",
       "      <th>3</th>\n",
       "      <td>3</td>\n",
       "      <td>-4124.747207</td>\n",
       "      <td>32</td>\n",
       "      <td>среднее</td>\n",
       "      <td>1</td>\n",
       "      <td>женат / замужем</td>\n",
       "      <td>0</td>\n",
       "      <td>M</td>\n",
       "      <td>сотрудник</td>\n",
       "      <td>0</td>\n",
       "      <td>267628.550329</td>\n",
       "      <td>дополнительное образование</td>\n",
       "    </tr>\n",
       "    <tr>\n",
       "      <th>4</th>\n",
       "      <td>0</td>\n",
       "      <td>340266.072047</td>\n",
       "      <td>53</td>\n",
       "      <td>среднее</td>\n",
       "      <td>1</td>\n",
       "      <td>гражданский брак</td>\n",
       "      <td>1</td>\n",
       "      <td>F</td>\n",
       "      <td>пенсионер</td>\n",
       "      <td>0</td>\n",
       "      <td>158616.077870</td>\n",
       "      <td>сыграть свадьбу</td>\n",
       "    </tr>\n",
       "    <tr>\n",
       "      <th>5</th>\n",
       "      <td>0</td>\n",
       "      <td>-926.185831</td>\n",
       "      <td>27</td>\n",
       "      <td>высшее</td>\n",
       "      <td>0</td>\n",
       "      <td>гражданский брак</td>\n",
       "      <td>1</td>\n",
       "      <td>M</td>\n",
       "      <td>компаньон</td>\n",
       "      <td>0</td>\n",
       "      <td>255763.565419</td>\n",
       "      <td>покупка жилья</td>\n",
       "    </tr>\n",
       "    <tr>\n",
       "      <th>6</th>\n",
       "      <td>0</td>\n",
       "      <td>-2879.202052</td>\n",
       "      <td>43</td>\n",
       "      <td>высшее</td>\n",
       "      <td>0</td>\n",
       "      <td>женат / замужем</td>\n",
       "      <td>0</td>\n",
       "      <td>F</td>\n",
       "      <td>компаньон</td>\n",
       "      <td>0</td>\n",
       "      <td>240525.971920</td>\n",
       "      <td>операции с жильем</td>\n",
       "    </tr>\n",
       "    <tr>\n",
       "      <th>7</th>\n",
       "      <td>0</td>\n",
       "      <td>-152.779569</td>\n",
       "      <td>50</td>\n",
       "      <td>СРЕДНЕЕ</td>\n",
       "      <td>1</td>\n",
       "      <td>женат / замужем</td>\n",
       "      <td>0</td>\n",
       "      <td>M</td>\n",
       "      <td>сотрудник</td>\n",
       "      <td>0</td>\n",
       "      <td>135823.934197</td>\n",
       "      <td>образование</td>\n",
       "    </tr>\n",
       "    <tr>\n",
       "      <th>8</th>\n",
       "      <td>2</td>\n",
       "      <td>-6929.865299</td>\n",
       "      <td>35</td>\n",
       "      <td>ВЫСШЕЕ</td>\n",
       "      <td>0</td>\n",
       "      <td>гражданский брак</td>\n",
       "      <td>1</td>\n",
       "      <td>F</td>\n",
       "      <td>сотрудник</td>\n",
       "      <td>0</td>\n",
       "      <td>95856.832424</td>\n",
       "      <td>на проведение свадьбы</td>\n",
       "    </tr>\n",
       "    <tr>\n",
       "      <th>9</th>\n",
       "      <td>0</td>\n",
       "      <td>-2188.756445</td>\n",
       "      <td>41</td>\n",
       "      <td>среднее</td>\n",
       "      <td>1</td>\n",
       "      <td>женат / замужем</td>\n",
       "      <td>0</td>\n",
       "      <td>M</td>\n",
       "      <td>сотрудник</td>\n",
       "      <td>0</td>\n",
       "      <td>144425.938277</td>\n",
       "      <td>покупка жилья для семьи</td>\n",
       "    </tr>\n",
       "    <tr>\n",
       "      <th>10</th>\n",
       "      <td>2</td>\n",
       "      <td>-4171.483647</td>\n",
       "      <td>36</td>\n",
       "      <td>высшее</td>\n",
       "      <td>0</td>\n",
       "      <td>женат / замужем</td>\n",
       "      <td>0</td>\n",
       "      <td>M</td>\n",
       "      <td>компаньон</td>\n",
       "      <td>0</td>\n",
       "      <td>113943.491460</td>\n",
       "      <td>покупка недвижимости</td>\n",
       "    </tr>\n",
       "    <tr>\n",
       "      <th>11</th>\n",
       "      <td>0</td>\n",
       "      <td>-792.701887</td>\n",
       "      <td>40</td>\n",
       "      <td>среднее</td>\n",
       "      <td>1</td>\n",
       "      <td>женат / замужем</td>\n",
       "      <td>0</td>\n",
       "      <td>F</td>\n",
       "      <td>сотрудник</td>\n",
       "      <td>0</td>\n",
       "      <td>77069.234271</td>\n",
       "      <td>покупка коммерческой недвижимости</td>\n",
       "    </tr>\n",
       "    <tr>\n",
       "      <th>12</th>\n",
       "      <td>0</td>\n",
       "      <td>NaN</td>\n",
       "      <td>65</td>\n",
       "      <td>среднее</td>\n",
       "      <td>1</td>\n",
       "      <td>гражданский брак</td>\n",
       "      <td>1</td>\n",
       "      <td>M</td>\n",
       "      <td>пенсионер</td>\n",
       "      <td>0</td>\n",
       "      <td>NaN</td>\n",
       "      <td>сыграть свадьбу</td>\n",
       "    </tr>\n",
       "    <tr>\n",
       "      <th>13</th>\n",
       "      <td>0</td>\n",
       "      <td>-1846.641941</td>\n",
       "      <td>54</td>\n",
       "      <td>неоконченное высшее</td>\n",
       "      <td>2</td>\n",
       "      <td>женат / замужем</td>\n",
       "      <td>0</td>\n",
       "      <td>F</td>\n",
       "      <td>сотрудник</td>\n",
       "      <td>0</td>\n",
       "      <td>130458.228857</td>\n",
       "      <td>приобретение автомобиля</td>\n",
       "    </tr>\n",
       "    <tr>\n",
       "      <th>14</th>\n",
       "      <td>0</td>\n",
       "      <td>-1844.956182</td>\n",
       "      <td>56</td>\n",
       "      <td>высшее</td>\n",
       "      <td>0</td>\n",
       "      <td>гражданский брак</td>\n",
       "      <td>1</td>\n",
       "      <td>F</td>\n",
       "      <td>компаньон</td>\n",
       "      <td>1</td>\n",
       "      <td>165127.911772</td>\n",
       "      <td>покупка жилой недвижимости</td>\n",
       "    </tr>\n",
       "    <tr>\n",
       "      <th>15</th>\n",
       "      <td>1</td>\n",
       "      <td>-972.364419</td>\n",
       "      <td>26</td>\n",
       "      <td>среднее</td>\n",
       "      <td>1</td>\n",
       "      <td>женат / замужем</td>\n",
       "      <td>0</td>\n",
       "      <td>F</td>\n",
       "      <td>сотрудник</td>\n",
       "      <td>0</td>\n",
       "      <td>116820.904450</td>\n",
       "      <td>строительство собственной недвижимости</td>\n",
       "    </tr>\n",
       "    <tr>\n",
       "      <th>16</th>\n",
       "      <td>0</td>\n",
       "      <td>-1719.934226</td>\n",
       "      <td>35</td>\n",
       "      <td>среднее</td>\n",
       "      <td>1</td>\n",
       "      <td>женат / замужем</td>\n",
       "      <td>0</td>\n",
       "      <td>F</td>\n",
       "      <td>сотрудник</td>\n",
       "      <td>0</td>\n",
       "      <td>289202.704229</td>\n",
       "      <td>недвижимость</td>\n",
       "    </tr>\n",
       "    <tr>\n",
       "      <th>17</th>\n",
       "      <td>0</td>\n",
       "      <td>-2369.999720</td>\n",
       "      <td>33</td>\n",
       "      <td>высшее</td>\n",
       "      <td>0</td>\n",
       "      <td>гражданский брак</td>\n",
       "      <td>1</td>\n",
       "      <td>M</td>\n",
       "      <td>сотрудник</td>\n",
       "      <td>0</td>\n",
       "      <td>90410.586745</td>\n",
       "      <td>строительство недвижимости</td>\n",
       "    </tr>\n",
       "    <tr>\n",
       "      <th>18</th>\n",
       "      <td>0</td>\n",
       "      <td>400281.136913</td>\n",
       "      <td>53</td>\n",
       "      <td>среднее</td>\n",
       "      <td>1</td>\n",
       "      <td>вдовец / вдова</td>\n",
       "      <td>2</td>\n",
       "      <td>F</td>\n",
       "      <td>пенсионер</td>\n",
       "      <td>0</td>\n",
       "      <td>56823.777243</td>\n",
       "      <td>на покупку подержанного автомобиля</td>\n",
       "    </tr>\n",
       "    <tr>\n",
       "      <th>19</th>\n",
       "      <td>0</td>\n",
       "      <td>-10038.818549</td>\n",
       "      <td>48</td>\n",
       "      <td>СРЕДНЕЕ</td>\n",
       "      <td>1</td>\n",
       "      <td>в разводе</td>\n",
       "      <td>3</td>\n",
       "      <td>F</td>\n",
       "      <td>сотрудник</td>\n",
       "      <td>0</td>\n",
       "      <td>242831.107982</td>\n",
       "      <td>на покупку своего автомобиля</td>\n",
       "    </tr>\n",
       "  </tbody>\n",
       "</table>\n",
       "</div>"
      ],
      "text/plain": [
       "    children  days_employed  dob_years            education  education_id  \\\n",
       "0          1   -8437.673028         42               высшее             0   \n",
       "1          1   -4024.803754         36              среднее             1   \n",
       "2          0   -5623.422610         33              Среднее             1   \n",
       "3          3   -4124.747207         32              среднее             1   \n",
       "4          0  340266.072047         53              среднее             1   \n",
       "5          0    -926.185831         27               высшее             0   \n",
       "6          0   -2879.202052         43               высшее             0   \n",
       "7          0    -152.779569         50              СРЕДНЕЕ             1   \n",
       "8          2   -6929.865299         35               ВЫСШЕЕ             0   \n",
       "9          0   -2188.756445         41              среднее             1   \n",
       "10         2   -4171.483647         36               высшее             0   \n",
       "11         0    -792.701887         40              среднее             1   \n",
       "12         0            NaN         65              среднее             1   \n",
       "13         0   -1846.641941         54  неоконченное высшее             2   \n",
       "14         0   -1844.956182         56               высшее             0   \n",
       "15         1    -972.364419         26              среднее             1   \n",
       "16         0   -1719.934226         35              среднее             1   \n",
       "17         0   -2369.999720         33               высшее             0   \n",
       "18         0  400281.136913         53              среднее             1   \n",
       "19         0  -10038.818549         48              СРЕДНЕЕ             1   \n",
       "\n",
       "       family_status  family_status_id gender income_type  debt  \\\n",
       "0    женат / замужем                 0      F   сотрудник     0   \n",
       "1    женат / замужем                 0      F   сотрудник     0   \n",
       "2    женат / замужем                 0      M   сотрудник     0   \n",
       "3    женат / замужем                 0      M   сотрудник     0   \n",
       "4   гражданский брак                 1      F   пенсионер     0   \n",
       "5   гражданский брак                 1      M   компаньон     0   \n",
       "6    женат / замужем                 0      F   компаньон     0   \n",
       "7    женат / замужем                 0      M   сотрудник     0   \n",
       "8   гражданский брак                 1      F   сотрудник     0   \n",
       "9    женат / замужем                 0      M   сотрудник     0   \n",
       "10   женат / замужем                 0      M   компаньон     0   \n",
       "11   женат / замужем                 0      F   сотрудник     0   \n",
       "12  гражданский брак                 1      M   пенсионер     0   \n",
       "13   женат / замужем                 0      F   сотрудник     0   \n",
       "14  гражданский брак                 1      F   компаньон     1   \n",
       "15   женат / замужем                 0      F   сотрудник     0   \n",
       "16   женат / замужем                 0      F   сотрудник     0   \n",
       "17  гражданский брак                 1      M   сотрудник     0   \n",
       "18    вдовец / вдова                 2      F   пенсионер     0   \n",
       "19         в разводе                 3      F   сотрудник     0   \n",
       "\n",
       "     total_income                                 purpose  \n",
       "0   253875.639453                           покупка жилья  \n",
       "1   112080.014102                 приобретение автомобиля  \n",
       "2   145885.952297                           покупка жилья  \n",
       "3   267628.550329              дополнительное образование  \n",
       "4   158616.077870                         сыграть свадьбу  \n",
       "5   255763.565419                           покупка жилья  \n",
       "6   240525.971920                       операции с жильем  \n",
       "7   135823.934197                             образование  \n",
       "8    95856.832424                   на проведение свадьбы  \n",
       "9   144425.938277                 покупка жилья для семьи  \n",
       "10  113943.491460                    покупка недвижимости  \n",
       "11   77069.234271       покупка коммерческой недвижимости  \n",
       "12            NaN                         сыграть свадьбу  \n",
       "13  130458.228857                 приобретение автомобиля  \n",
       "14  165127.911772              покупка жилой недвижимости  \n",
       "15  116820.904450  строительство собственной недвижимости  \n",
       "16  289202.704229                            недвижимость  \n",
       "17   90410.586745              строительство недвижимости  \n",
       "18   56823.777243      на покупку подержанного автомобиля  \n",
       "19  242831.107982            на покупку своего автомобиля  "
      ]
     },
     "execution_count": 2,
     "metadata": {},
     "output_type": "execute_result"
    }
   ],
   "source": [
    "data.head(20)"
   ]
  },
  {
   "cell_type": "markdown",
   "id": "0ed8f27f",
   "metadata": {
    "deletable": false,
    "editable": false,
    "id": "0ed8f27f"
   },
   "source": [
    "**Задание 3. Выведите основную информацию о датафрейме с помощью метода `info()`.**"
   ]
  },
  {
   "cell_type": "code",
   "execution_count": 3,
   "id": "ab3f863b",
   "metadata": {
    "deletable": false,
    "id": "ab3f863b",
    "outputId": "15376089-8dad-46c9-b520-c05248d43158"
   },
   "outputs": [
    {
     "name": "stdout",
     "output_type": "stream",
     "text": [
      "<class 'pandas.core.frame.DataFrame'>\n",
      "RangeIndex: 21525 entries, 0 to 21524\n",
      "Data columns (total 12 columns):\n",
      " #   Column            Non-Null Count  Dtype  \n",
      "---  ------            --------------  -----  \n",
      " 0   children          21525 non-null  int64  \n",
      " 1   days_employed     19351 non-null  float64\n",
      " 2   dob_years         21525 non-null  int64  \n",
      " 3   education         21525 non-null  object \n",
      " 4   education_id      21525 non-null  int64  \n",
      " 5   family_status     21525 non-null  object \n",
      " 6   family_status_id  21525 non-null  int64  \n",
      " 7   gender            21525 non-null  object \n",
      " 8   income_type       21525 non-null  object \n",
      " 9   debt              21525 non-null  int64  \n",
      " 10  total_income      19351 non-null  float64\n",
      " 11  purpose           21525 non-null  object \n",
      "dtypes: float64(2), int64(5), object(5)\n",
      "memory usage: 2.0+ MB\n"
     ]
    }
   ],
   "source": [
    "data.info()"
   ]
  },
  {
   "cell_type": "markdown",
   "id": "60e3e22d",
   "metadata": {
    "deletable": false,
    "editable": false,
    "id": "60e3e22d"
   },
   "source": [
    "## Предобработка данных"
   ]
  },
  {
   "cell_type": "markdown",
   "id": "03dc170c",
   "metadata": {
    "deletable": false,
    "editable": false,
    "id": "03dc170c"
   },
   "source": [
    "### Удаление пропусков"
   ]
  },
  {
   "cell_type": "markdown",
   "id": "a4f54eef",
   "metadata": {
    "deletable": false,
    "editable": false,
    "id": "a4f54eef"
   },
   "source": [
    "**Задание 4. Выведите количество пропущенных значений для каждого столбца. Используйте комбинацию двух методов.**"
   ]
  },
  {
   "cell_type": "code",
   "execution_count": 4,
   "id": "2dc372b2",
   "metadata": {
    "deletable": false,
    "id": "2dc372b2",
    "outputId": "81f4d817-781c-465c-ed15-91ce4446810d"
   },
   "outputs": [
    {
     "data": {
      "text/plain": [
       "children               0\n",
       "days_employed       2174\n",
       "dob_years              0\n",
       "education              0\n",
       "education_id           0\n",
       "family_status          0\n",
       "family_status_id       0\n",
       "gender                 0\n",
       "income_type            0\n",
       "debt                   0\n",
       "total_income        2174\n",
       "purpose                0\n",
       "dtype: int64"
      ]
     },
     "execution_count": 4,
     "metadata": {},
     "output_type": "execute_result"
    }
   ],
   "source": [
    "data.isna().sum()"
   ]
  },
  {
   "cell_type": "markdown",
   "id": "14f011b1",
   "metadata": {
    "deletable": false,
    "editable": false,
    "id": "14f011b1"
   },
   "source": [
    "**Задание 5. В двух столбцах есть пропущенные значения. Один из них — `days_employed`. Пропуски в этом столбце вы обработаете на следующем этапе. Другой столбец с пропущенными значениями — `total_income` — хранит данные о доходах. На сумму дохода сильнее всего влияет тип занятости, поэтому заполнить пропуски в этом столбце нужно медианным значением по каждому типу из столбца `income_type`. Например, у человека с типом занятости `сотрудник` пропуск в столбце `total_income` должен быть заполнен медианным доходом среди всех записей с тем же типом.**"
   ]
  },
  {
   "cell_type": "code",
   "execution_count": 5,
   "id": "bdabfb6e",
   "metadata": {
    "deletable": false,
    "id": "bdabfb6e"
   },
   "outputs": [],
   "source": [
    "for t in data['income_type'].unique():\n",
    "    data.loc[(data['income_type'] == t) & (data['total_income'].isna()), 'total_income'] = \\\n",
    "    data.loc[(data['income_type'] == t), 'total_income'].median()"
   ]
  },
  {
   "cell_type": "markdown",
   "id": "5be34059",
   "metadata": {
    "deletable": false,
    "editable": false,
    "id": "5be34059"
   },
   "source": [
    "### Обработка аномальных значений"
   ]
  },
  {
   "cell_type": "markdown",
   "id": "a87606cb",
   "metadata": {
    "deletable": false,
    "editable": false,
    "id": "a87606cb"
   },
   "source": [
    "**Задание 6. В данных могут встречаться артефакты (аномалии) — значения, которые не отражают действительность и появились по какой-то ошибке. таким артефактом будет отрицательное количество дней трудового стажа в столбце `days_employed`. Для реальных данных это нормально. Обработайте значения в этом столбце: замените все отрицательные значения положительными с помощью метода `abs()`.**"
   ]
  },
  {
   "cell_type": "code",
   "execution_count": 6,
   "id": "020c46cc",
   "metadata": {
    "deletable": false,
    "id": "020c46cc"
   },
   "outputs": [],
   "source": [
    "data['days_employed'] = data['days_employed'].abs()"
   ]
  },
  {
   "cell_type": "markdown",
   "id": "45538a3a",
   "metadata": {
    "deletable": false,
    "editable": false,
    "id": "45538a3a"
   },
   "source": [
    "**Задание 7. Для каждого типа занятости выведите медианное значение трудового стажа `days_employed` в днях.**"
   ]
  },
  {
   "cell_type": "code",
   "execution_count": 7,
   "id": "cd3e6328",
   "metadata": {
    "deletable": false,
    "id": "cd3e6328",
    "outputId": "801ef80e-522b-4668-f34e-565af7432bcf"
   },
   "outputs": [
    {
     "data": {
      "text/plain": [
       "income_type\n",
       "безработный        366413.652744\n",
       "в декрете            3296.759962\n",
       "госслужащий          2689.368353\n",
       "компаньон            1547.382223\n",
       "пенсионер          365213.306266\n",
       "предприниматель       520.848083\n",
       "сотрудник            1574.202821\n",
       "студент               578.751554\n",
       "Name: days_employed, dtype: float64"
      ]
     },
     "execution_count": 7,
     "metadata": {},
     "output_type": "execute_result"
    }
   ],
   "source": [
    "data.groupby('income_type')['days_employed'].agg('median')"
   ]
  },
  {
   "cell_type": "markdown",
   "id": "90c5f058",
   "metadata": {
    "deletable": false,
    "editable": false,
    "id": "90c5f058"
   },
   "source": [
    "У двух типов (безработные и пенсионеры) получатся аномально большие значения. Исправить такие значения сложно, поэтому оставьте их как есть."
   ]
  },
  {
   "cell_type": "markdown",
   "id": "9652e50d",
   "metadata": {
    "deletable": false,
    "editable": false,
    "id": "9652e50d"
   },
   "source": [
    "**Задание 8. Выведите перечень уникальных значений столбца `children`.**"
   ]
  },
  {
   "cell_type": "code",
   "execution_count": 8,
   "id": "dbb37b8e",
   "metadata": {
    "deletable": false,
    "id": "dbb37b8e",
    "outputId": "6975b15c-7f95-4697-d16d-a0c79b657b03"
   },
   "outputs": [
    {
     "data": {
      "text/plain": [
       "array([ 1,  0,  3,  2, -1,  4, 20,  5])"
      ]
     },
     "execution_count": 8,
     "metadata": {},
     "output_type": "execute_result"
    }
   ],
   "source": [
    "data['children'].unique()"
   ]
  },
  {
   "cell_type": "markdown",
   "id": "2b8b0715",
   "metadata": {
    "deletable": false,
    "editable": false,
    "id": "2b8b0715"
   },
   "source": [
    "**Задание 9. В столбце `children` есть два аномальных значения. Удалите строки, в которых встречаются такие аномальные значения из датафрейма `data`.**"
   ]
  },
  {
   "cell_type": "code",
   "execution_count": 9,
   "id": "20009df8",
   "metadata": {
    "deletable": false,
    "id": "20009df8"
   },
   "outputs": [],
   "source": [
    "data = data[(data['children'] != -1) & (data['children'] != 20)]"
   ]
  },
  {
   "cell_type": "markdown",
   "id": "8c6ac9f1",
   "metadata": {
    "deletable": false,
    "editable": false,
    "id": "8c6ac9f1"
   },
   "source": [
    "**Задание 10. Ещё раз выведите перечень уникальных значений столбца `children`, чтобы убедиться, что артефакты удалены.**"
   ]
  },
  {
   "cell_type": "code",
   "execution_count": 10,
   "id": "07337b81",
   "metadata": {
    "deletable": false,
    "id": "07337b81",
    "outputId": "b2097101-d49d-44d9-901b-32a65c9463d1"
   },
   "outputs": [
    {
     "data": {
      "text/plain": [
       "array([1, 0, 3, 2, 4, 5])"
      ]
     },
     "execution_count": 10,
     "metadata": {},
     "output_type": "execute_result"
    }
   ],
   "source": [
    "data['children'].unique()"
   ]
  },
  {
   "cell_type": "markdown",
   "id": "ee3f52d4",
   "metadata": {
    "deletable": false,
    "editable": false,
    "id": "ee3f52d4"
   },
   "source": [
    "### Удаление пропусков (продолжение)"
   ]
  },
  {
   "cell_type": "markdown",
   "id": "a700b0e4",
   "metadata": {
    "deletable": false,
    "editable": false,
    "id": "a700b0e4"
   },
   "source": [
    "**Задание 11. Заполните пропуски в столбце `days_employed` медианными значениями по каждого типа занятости `income_type`.**"
   ]
  },
  {
   "cell_type": "code",
   "execution_count": 11,
   "id": "61946b83",
   "metadata": {
    "deletable": false,
    "id": "61946b83"
   },
   "outputs": [],
   "source": [
    "for t in data['income_type'].unique():\n",
    "    data.loc[(data['income_type'] == t) & (data['days_employed'].isna()), 'days_employed'] = \\\n",
    "    data.loc[(data['income_type'] == t), 'days_employed'].median()"
   ]
  },
  {
   "cell_type": "markdown",
   "id": "550dcd9b",
   "metadata": {
    "deletable": false,
    "editable": false,
    "id": "550dcd9b"
   },
   "source": [
    "**Задание 12. Убедитесь, что все пропуски заполнены. Проверьте себя и ещё раз выведите количество пропущенных значений для каждого столбца с помощью двух методов.**"
   ]
  },
  {
   "cell_type": "code",
   "execution_count": 12,
   "id": "937c7014",
   "metadata": {
    "deletable": false,
    "id": "937c7014",
    "outputId": "8da1e4e1-358e-4e87-98c9-f261bce0a7b2"
   },
   "outputs": [
    {
     "data": {
      "text/plain": [
       "children            0\n",
       "days_employed       0\n",
       "dob_years           0\n",
       "education           0\n",
       "education_id        0\n",
       "family_status       0\n",
       "family_status_id    0\n",
       "gender              0\n",
       "income_type         0\n",
       "debt                0\n",
       "total_income        0\n",
       "purpose             0\n",
       "dtype: int64"
      ]
     },
     "execution_count": 12,
     "metadata": {},
     "output_type": "execute_result"
    }
   ],
   "source": [
    "data.isna().sum()"
   ]
  },
  {
   "cell_type": "markdown",
   "id": "d522e295",
   "metadata": {
    "deletable": false,
    "editable": false,
    "id": "d522e295"
   },
   "source": [
    "### Изменение типов данных"
   ]
  },
  {
   "cell_type": "markdown",
   "id": "c229c581",
   "metadata": {
    "deletable": false,
    "editable": false,
    "id": "c229c581"
   },
   "source": [
    "**Задание 13. Замените вещественный тип данных в столбце `total_income` на целочисленный с помощью метода `astype()`.**"
   ]
  },
  {
   "cell_type": "code",
   "execution_count": 13,
   "id": "31036462",
   "metadata": {
    "deletable": false,
    "id": "31036462"
   },
   "outputs": [],
   "source": [
    "data['total_income'] = data['total_income'].astype(int)"
   ]
  },
  {
   "cell_type": "markdown",
   "id": "b8e3d1d9",
   "metadata": {
    "deletable": false,
    "editable": false,
    "id": "b8e3d1d9"
   },
   "source": [
    "### Обработка дубликатов"
   ]
  },
  {
   "cell_type": "markdown",
   "id": "9be53c49",
   "metadata": {
    "deletable": false,
    "editable": false,
    "id": "9be53c49"
   },
   "source": [
    "**Задание 14. Обработайте неявные дубликаты в столбце `education`. В этом столбце есть одни и те же значения, но записанные по-разному: с использованием заглавных и строчных букв. Приведите их к нижнему регистру.**"
   ]
  },
  {
   "cell_type": "code",
   "execution_count": 14,
   "id": "d89e73e1",
   "metadata": {
    "deletable": false,
    "id": "d89e73e1"
   },
   "outputs": [],
   "source": [
    "data['education'] = data['education'].str.lower()"
   ]
  },
  {
   "cell_type": "markdown",
   "id": "01d4500e",
   "metadata": {
    "deletable": false,
    "editable": false,
    "id": "01d4500e"
   },
   "source": [
    "**Задание 15. Выведите на экран количество строк-дубликатов в данных. Если такие строки присутствуют, удалите их.**"
   ]
  },
  {
   "cell_type": "code",
   "execution_count": 15,
   "id": "e10efb23",
   "metadata": {
    "deletable": false,
    "id": "e10efb23",
    "outputId": "9684deba-1934-42d1-99e1-cda61740f822"
   },
   "outputs": [
    {
     "data": {
      "text/plain": [
       "71"
      ]
     },
     "execution_count": 15,
     "metadata": {},
     "output_type": "execute_result"
    }
   ],
   "source": [
    "data.duplicated().sum()"
   ]
  },
  {
   "cell_type": "code",
   "execution_count": 16,
   "id": "df853f20",
   "metadata": {
    "deletable": false,
    "id": "df853f20"
   },
   "outputs": [],
   "source": [
    "data = data.drop_duplicates()"
   ]
  },
  {
   "cell_type": "markdown",
   "id": "627be38f",
   "metadata": {
    "deletable": false,
    "editable": false,
    "id": "627be38f"
   },
   "source": [
    "### Категоризация данных"
   ]
  },
  {
   "cell_type": "markdown",
   "id": "4684c3e0",
   "metadata": {
    "deletable": false,
    "editable": false,
    "id": "4684c3e0"
   },
   "source": [
    "**Задание 16. На основании диапазонов, указанных ниже, создайте в датафрейме `data` столбец `total_income_category` с категориями:**\n",
    "\n",
    "- 0–30000 — `'E'`;\n",
    "- 30001–50000 — `'D'`;\n",
    "- 50001–200000 — `'C'`;\n",
    "- 200001–1000000 — `'B'`;\n",
    "- 1000001 и выше — `'A'`.\n",
    "\n",
    "\n",
    "**Например, кредитополучателю с доходом 25000 нужно назначить категорию `'E'`, а клиенту, получающему 235000, — `'B'`. Используйте собственную функцию с именем `categorize_income()` и метод `apply()`.**"
   ]
  },
  {
   "cell_type": "code",
   "execution_count": 17,
   "id": "78965238",
   "metadata": {
    "deletable": false,
    "id": "78965238"
   },
   "outputs": [],
   "source": [
    "def categorize_income(income):\n",
    "    try:\n",
    "        if 0 <= income <= 30000:\n",
    "            return 'E'\n",
    "        elif 30001 <= income <= 50000:\n",
    "            return 'D'\n",
    "        elif 50001 <= income <= 200000:\n",
    "            return 'C'\n",
    "        elif 200001 <= income <= 1000000:\n",
    "            return 'B'\n",
    "        elif income >= 1000001:\n",
    "            return 'A'\n",
    "    except:\n",
    "        pass"
   ]
  },
  {
   "cell_type": "code",
   "execution_count": 18,
   "id": "0980ada1",
   "metadata": {
    "deletable": false,
    "id": "0980ada1"
   },
   "outputs": [],
   "source": [
    "data['total_income_category'] = data['total_income'].apply(categorize_income)"
   ]
  },
  {
   "cell_type": "markdown",
   "id": "9917bba0",
   "metadata": {
    "deletable": false,
    "editable": false,
    "id": "9917bba0"
   },
   "source": [
    "**Задание 17. Выведите на экран перечень уникальных целей взятия кредита из столбца `purpose`.**"
   ]
  },
  {
   "cell_type": "code",
   "execution_count": 19,
   "id": "ee07b65e",
   "metadata": {
    "deletable": false,
    "id": "ee07b65e",
    "outputId": "673c12d9-7d7e-4ae0-9812-c622c89dd244"
   },
   "outputs": [
    {
     "data": {
      "text/plain": [
       "array(['покупка жилья', 'приобретение автомобиля',\n",
       "       'дополнительное образование', 'сыграть свадьбу',\n",
       "       'операции с жильем', 'образование', 'на проведение свадьбы',\n",
       "       'покупка жилья для семьи', 'покупка недвижимости',\n",
       "       'покупка коммерческой недвижимости', 'покупка жилой недвижимости',\n",
       "       'строительство собственной недвижимости', 'недвижимость',\n",
       "       'строительство недвижимости', 'на покупку подержанного автомобиля',\n",
       "       'на покупку своего автомобиля',\n",
       "       'операции с коммерческой недвижимостью',\n",
       "       'строительство жилой недвижимости', 'жилье',\n",
       "       'операции со своей недвижимостью', 'автомобили',\n",
       "       'заняться образованием', 'сделка с подержанным автомобилем',\n",
       "       'получение образования', 'автомобиль', 'свадьба',\n",
       "       'получение дополнительного образования', 'покупка своего жилья',\n",
       "       'операции с недвижимостью', 'получение высшего образования',\n",
       "       'свой автомобиль', 'сделка с автомобилем',\n",
       "       'профильное образование', 'высшее образование',\n",
       "       'покупка жилья для сдачи', 'на покупку автомобиля', 'ремонт жилью',\n",
       "       'заняться высшим образованием'], dtype=object)"
      ]
     },
     "execution_count": 19,
     "metadata": {},
     "output_type": "execute_result"
    }
   ],
   "source": [
    "data['purpose'].unique()"
   ]
  },
  {
   "cell_type": "markdown",
   "id": "52b79d56",
   "metadata": {
    "deletable": false,
    "editable": false,
    "id": "52b79d56"
   },
   "source": [
    "**Задание 18. Создайте функцию, которая на основании данных из столбца `purpose` сформирует новый столбец `purpose_category`, в который войдут следующие категории:**\n",
    "\n",
    "- `'операции с автомобилем'`,\n",
    "- `'операции с недвижимостью'`,\n",
    "- `'проведение свадьбы'`,\n",
    "- `'получение образования'`.\n",
    "\n",
    "**Например, если в столбце `purpose` находится подстрока `'на покупку автомобиля'`, то в столбце `purpose_category` должна появиться строка `'операции с автомобилем'`.**\n",
    "\n",
    "**Используйте собственную функцию с именем `categorize_purpose()` и метод `apply()`. Изучите данные в столбце `purpose` и определите, какие подстроки помогут вам правильно определить категорию.**"
   ]
  },
  {
   "cell_type": "code",
   "execution_count": 20,
   "id": "be41da5d",
   "metadata": {
    "deletable": false,
    "id": "be41da5d"
   },
   "outputs": [],
   "source": [
    "def categorize_purpose(row):\n",
    "    try:\n",
    "        if 'автом' in row:\n",
    "            return 'операции с автомобилем'\n",
    "        elif 'жил' in row or 'недвиж' in row:\n",
    "            return 'операции с недвижимостью'\n",
    "        elif 'свад' in row:\n",
    "            return 'проведение свадьбы'\n",
    "        elif 'образов' in row:\n",
    "            return 'получение образования'\n",
    "    except:\n",
    "        return 'нет категории'"
   ]
  },
  {
   "cell_type": "code",
   "execution_count": 21,
   "id": "94c4a19a",
   "metadata": {
    "deletable": false,
    "id": "94c4a19a"
   },
   "outputs": [],
   "source": [
    "data['purpose_category'] = data['purpose'].apply(categorize_purpose)"
   ]
  },
  {
   "cell_type": "markdown",
   "id": "3d596c34",
   "metadata": {
    "deletable": false,
    "editable": false,
    "id": "3d596c34"
   },
   "source": [
    "### Шаг 3. Исследуйте данные и ответьте на вопросы"
   ]
  },
  {
   "cell_type": "markdown",
   "id": "648db036",
   "metadata": {
    "deletable": false,
    "editable": false,
    "id": "648db036"
   },
   "source": [
    "#### 3.1 Есть ли зависимость между количеством детей и возвратом кредита в срок?"
   ]
  },
  {
   "cell_type": "code",
   "execution_count": 22,
   "id": "7fcff25e",
   "metadata": {
    "deletable": false,
    "id": "7fcff25e"
   },
   "outputs": [
    {
     "data": {
      "text/html": [
       "<div>\n",
       "<style scoped>\n",
       "    .dataframe tbody tr th:only-of-type {\n",
       "        vertical-align: middle;\n",
       "    }\n",
       "\n",
       "    .dataframe tbody tr th {\n",
       "        vertical-align: top;\n",
       "    }\n",
       "\n",
       "    .dataframe thead th {\n",
       "        text-align: right;\n",
       "    }\n",
       "</style>\n",
       "<table border=\"1\" class=\"dataframe\">\n",
       "  <thead>\n",
       "    <tr style=\"text-align: right;\">\n",
       "      <th></th>\n",
       "      <th>count</th>\n",
       "      <th>sum</th>\n",
       "      <th>mean</th>\n",
       "    </tr>\n",
       "    <tr>\n",
       "      <th>children</th>\n",
       "      <th></th>\n",
       "      <th></th>\n",
       "      <th></th>\n",
       "    </tr>\n",
       "  </thead>\n",
       "  <tbody>\n",
       "    <tr>\n",
       "      <th>0</th>\n",
       "      <td>14091</td>\n",
       "      <td>1063</td>\n",
       "      <td>0.075438</td>\n",
       "    </tr>\n",
       "    <tr>\n",
       "      <th>1</th>\n",
       "      <td>4808</td>\n",
       "      <td>444</td>\n",
       "      <td>0.092346</td>\n",
       "    </tr>\n",
       "    <tr>\n",
       "      <th>2</th>\n",
       "      <td>2052</td>\n",
       "      <td>194</td>\n",
       "      <td>0.094542</td>\n",
       "    </tr>\n",
       "    <tr>\n",
       "      <th>3</th>\n",
       "      <td>330</td>\n",
       "      <td>27</td>\n",
       "      <td>0.081818</td>\n",
       "    </tr>\n",
       "    <tr>\n",
       "      <th>4</th>\n",
       "      <td>41</td>\n",
       "      <td>4</td>\n",
       "      <td>0.097561</td>\n",
       "    </tr>\n",
       "    <tr>\n",
       "      <th>5</th>\n",
       "      <td>9</td>\n",
       "      <td>0</td>\n",
       "      <td>0.000000</td>\n",
       "    </tr>\n",
       "  </tbody>\n",
       "</table>\n",
       "</div>"
      ],
      "text/plain": [
       "          count   sum      mean\n",
       "children                       \n",
       "0         14091  1063  0.075438\n",
       "1          4808   444  0.092346\n",
       "2          2052   194  0.094542\n",
       "3           330    27  0.081818\n",
       "4            41     4  0.097561\n",
       "5             9     0  0.000000"
      ]
     },
     "execution_count": 22,
     "metadata": {},
     "output_type": "execute_result"
    }
   ],
   "source": [
    "data.groupby('children')['debt'].agg(['count', 'sum', 'mean']) "
   ]
  },
  {
   "cell_type": "markdown",
   "id": "b08eb60e",
   "metadata": {},
   "source": [
    "<div class=\"alert-success\" style=\"padding: 20px; border-radius: 10px\">\n",
    "<b>Комментарий ревьюера ✔️</b>\n",
    "\n",
    "Отличный способ вывода сводной таблицы! 🔥</div>"
   ]
  },
  {
   "cell_type": "markdown",
   "id": "2eb9088e",
   "metadata": {
    "deletable": false,
    "id": "2eb9088e"
   },
   "source": [
    "**Вывод:*Люди, у которых 3 или 5 детей, и люди, у которых детей нет, либо не допускают вовсе, либо допускают незначительно просрочку кредита. Объясняться это может тем, что первые более ответственны, а вторые - более платежеспособны, так как имеют меньшую финансовую нагрузку. Люди, у которых 1-2 ребенка, в целом допускают практически одинаковую просрочку по кредитам. При этом семьи с 2 детьми, допускают такое чаще, что может быть подтверждением гипотезы. Семьи с 4 детьми допускают наибольший процент невозвратности кредитов, возможно, ввиду серьезной финансовой нагрузки на семью.* "
   ]
  },
  {
   "cell_type": "markdown",
   "id": "2f06d30a",
   "metadata": {},
   "source": [
    "<div class=\"alert-info\" style=\"padding: 20px; border-radius: 10px\">\n",
    "<b>Комментарий студента 💎</b>\n",
    "\n",
    "Если сравнивать категории с 0, 1 и 2 детьми, то можно сделать вывод: Наличие детей повышает вероятность задолжености. Вероятно, это связано с дополнительными расходами на детей. Для категории граждан без детей самый низкий показатель должников.</div>"
   ]
  },
  {
   "cell_type": "markdown",
   "id": "0aa038c2",
   "metadata": {},
   "source": [
    "<div class=\"alert-success\" style=\"padding: 20px; border-radius: 10px\">\n",
    "<b>Комментарий ревьюера 2 ✔️</b>\n",
    "\n",
    "Все правильно!"
   ]
  },
  {
   "cell_type": "markdown",
   "id": "ea1d51e3",
   "metadata": {},
   "source": [
    "<div class=\"alert-warning\" style=\"padding: 20px; border-radius: 10px\">\n",
    "<b>Комментарий ревьюера ⚠️</b>\n",
    "\n",
    "<s>Обрати внимание на то, что выборки несбалансированы. Поэтому выявлять зависимость стоит, сравнивая доли должников в самых больших, сопоставимых по размеру категориях заемщиков. Как можно сформулировать зависимость, сравнив категории с 0, 1 и 2 детьми?</div>"
   ]
  },
  {
   "cell_type": "markdown",
   "id": "74c9b3a7",
   "metadata": {
    "deletable": false,
    "editable": false,
    "id": "74c9b3a7"
   },
   "source": [
    "#### 3.2 Есть ли зависимость между семейным положением и возвратом кредита в срок?"
   ]
  },
  {
   "cell_type": "code",
   "execution_count": 23,
   "id": "8098ab3b",
   "metadata": {
    "deletable": false,
    "id": "8098ab3b"
   },
   "outputs": [
    {
     "data": {
      "text/html": [
       "<div>\n",
       "<style scoped>\n",
       "    .dataframe tbody tr th:only-of-type {\n",
       "        vertical-align: middle;\n",
       "    }\n",
       "\n",
       "    .dataframe tbody tr th {\n",
       "        vertical-align: top;\n",
       "    }\n",
       "\n",
       "    .dataframe thead th {\n",
       "        text-align: right;\n",
       "    }\n",
       "</style>\n",
       "<table border=\"1\" class=\"dataframe\">\n",
       "  <thead>\n",
       "    <tr style=\"text-align: right;\">\n",
       "      <th></th>\n",
       "      <th>count</th>\n",
       "      <th>sum</th>\n",
       "      <th>mean</th>\n",
       "    </tr>\n",
       "    <tr>\n",
       "      <th>family_status</th>\n",
       "      <th></th>\n",
       "      <th></th>\n",
       "      <th></th>\n",
       "    </tr>\n",
       "  </thead>\n",
       "  <tbody>\n",
       "    <tr>\n",
       "      <th>Не женат / не замужем</th>\n",
       "      <td>2796</td>\n",
       "      <td>273</td>\n",
       "      <td>0.097639</td>\n",
       "    </tr>\n",
       "    <tr>\n",
       "      <th>в разводе</th>\n",
       "      <td>1189</td>\n",
       "      <td>84</td>\n",
       "      <td>0.070648</td>\n",
       "    </tr>\n",
       "    <tr>\n",
       "      <th>вдовец / вдова</th>\n",
       "      <td>951</td>\n",
       "      <td>63</td>\n",
       "      <td>0.066246</td>\n",
       "    </tr>\n",
       "    <tr>\n",
       "      <th>гражданский брак</th>\n",
       "      <td>4134</td>\n",
       "      <td>385</td>\n",
       "      <td>0.093130</td>\n",
       "    </tr>\n",
       "    <tr>\n",
       "      <th>женат / замужем</th>\n",
       "      <td>12261</td>\n",
       "      <td>927</td>\n",
       "      <td>0.075606</td>\n",
       "    </tr>\n",
       "  </tbody>\n",
       "</table>\n",
       "</div>"
      ],
      "text/plain": [
       "                       count  sum      mean\n",
       "family_status                              \n",
       "Не женат / не замужем   2796  273  0.097639\n",
       "в разводе               1189   84  0.070648\n",
       "вдовец / вдова           951   63  0.066246\n",
       "гражданский брак        4134  385  0.093130\n",
       "женат / замужем        12261  927  0.075606"
      ]
     },
     "execution_count": 23,
     "metadata": {},
     "output_type": "execute_result"
    }
   ],
   "source": [
    "data.groupby('family_status')['debt'].agg(['count', 'sum', 'mean']) "
   ]
  },
  {
   "cell_type": "markdown",
   "id": "c389ca63",
   "metadata": {
    "deletable": false,
    "id": "c389ca63"
   },
   "source": [
    "**Вывод:*Здесь наблюдается высокая вероятность возврата кредита в срок у людей, не состоящих в браке(которые в разводе или вдовец\\вдова). Здесь может быть ряд причин: возраст, чувство ответственности, финансовая состоятельность. Люди, которые находятся в браке, имеют не плохую, но и не хорошую кредитную историю. Здесь возможны такие факторы, как наличие детей и финансовые трудности. Люди в гражданском браке и люди, не состоящие в браке, более подвержены риску стать должниками. Причины этому могут быть также разные: наличие детей, молодой возраст, недостаточный доход и пр. В целом, зависимость есть. * "
   ]
  },
  {
   "cell_type": "markdown",
   "id": "09cdee6b",
   "metadata": {},
   "source": [
    "<div class=\"alert-success\" style=\"padding: 20px; border-radius: 10px\">\n",
    "<b>Комментарий ревьюера ✔️</b>\n",
    "\n",
    "Верно, можно сказать, что состоящие или состоявшие в браке заемщики реже допускают просрочки. Хорошая гипотеза на счет влияния возраста."
   ]
  },
  {
   "cell_type": "markdown",
   "id": "9529de68",
   "metadata": {
    "deletable": false,
    "editable": false,
    "id": "9529de68"
   },
   "source": [
    "#### 3.3 Есть ли зависимость между уровнем дохода и возвратом кредита в срок?"
   ]
  },
  {
   "cell_type": "code",
   "execution_count": 24,
   "id": "8787f44a",
   "metadata": {
    "deletable": false,
    "id": "8787f44a"
   },
   "outputs": [],
   "source": [
    "def categorize_income(income): \n",
    "    if 0<= income <= 30000:\n",
    "        return 'E'\n",
    "    if 30001 <= income <= 50000:\n",
    "        return 'D'\n",
    "    if 50001 <= income <= 200000:\n",
    "        return 'C'\n",
    "    if 200001 <= income <= 1000000:\n",
    "        return 'B'\n",
    "    if income >= 1000001:\n",
    "        return 'A'\n",
    "data['income'] = data['total_income'].apply(categorize_income)"
   ]
  },
  {
   "cell_type": "markdown",
   "id": "859e1d3d",
   "metadata": {},
   "source": [
    "<div class=\"alert-warning\" style=\"padding: 20px; border-radius: 10px\">\n",
    "<b>Комментарий ревьюера ⚠️</b>\n",
    "\n",
    "А зачем ты еще раз категоризируешь заемщиков по уровню дохода, это уже было сделано в п. 16?"
   ]
  },
  {
   "cell_type": "code",
   "execution_count": 25,
   "id": "48ef8bf6",
   "metadata": {
    "scrolled": true
   },
   "outputs": [
    {
     "data": {
      "text/html": [
       "<div>\n",
       "<style scoped>\n",
       "    .dataframe tbody tr th:only-of-type {\n",
       "        vertical-align: middle;\n",
       "    }\n",
       "\n",
       "    .dataframe tbody tr th {\n",
       "        vertical-align: top;\n",
       "    }\n",
       "\n",
       "    .dataframe thead th {\n",
       "        text-align: right;\n",
       "    }\n",
       "</style>\n",
       "<table border=\"1\" class=\"dataframe\">\n",
       "  <thead>\n",
       "    <tr style=\"text-align: right;\">\n",
       "      <th></th>\n",
       "      <th>count</th>\n",
       "      <th>sum</th>\n",
       "      <th>mean</th>\n",
       "    </tr>\n",
       "    <tr>\n",
       "      <th>income</th>\n",
       "      <th></th>\n",
       "      <th></th>\n",
       "      <th></th>\n",
       "    </tr>\n",
       "  </thead>\n",
       "  <tbody>\n",
       "    <tr>\n",
       "      <th>A</th>\n",
       "      <td>25</td>\n",
       "      <td>2</td>\n",
       "      <td>0.080000</td>\n",
       "    </tr>\n",
       "    <tr>\n",
       "      <th>B</th>\n",
       "      <td>5014</td>\n",
       "      <td>354</td>\n",
       "      <td>0.070602</td>\n",
       "    </tr>\n",
       "    <tr>\n",
       "      <th>C</th>\n",
       "      <td>15921</td>\n",
       "      <td>1353</td>\n",
       "      <td>0.084982</td>\n",
       "    </tr>\n",
       "    <tr>\n",
       "      <th>D</th>\n",
       "      <td>349</td>\n",
       "      <td>21</td>\n",
       "      <td>0.060172</td>\n",
       "    </tr>\n",
       "    <tr>\n",
       "      <th>E</th>\n",
       "      <td>22</td>\n",
       "      <td>2</td>\n",
       "      <td>0.090909</td>\n",
       "    </tr>\n",
       "  </tbody>\n",
       "</table>\n",
       "</div>"
      ],
      "text/plain": [
       "        count   sum      mean\n",
       "income                       \n",
       "A          25     2  0.080000\n",
       "B        5014   354  0.070602\n",
       "C       15921  1353  0.084982\n",
       "D         349    21  0.060172\n",
       "E          22     2  0.090909"
      ]
     },
     "execution_count": 25,
     "metadata": {},
     "output_type": "execute_result"
    }
   ],
   "source": [
    "data.groupby('income')['debt'].agg(['count', 'sum', 'mean'])"
   ]
  },
  {
   "cell_type": "markdown",
   "id": "6dd14b57",
   "metadata": {
    "deletable": false,
    "id": "6dd14b57"
   },
   "source": [
    "**Вывод:*Категория граждан (E) имеют наивысшую вероятность не вернуть кредит. Категория граждан (С) со средним доходом (50001–200000) больше подвержены риску стать должниками. Категория граждан (D) с доходом (30001–50000) меньше подвержены риску стать должниками.* "
   ]
  },
  {
   "cell_type": "markdown",
   "id": "90c8a85c",
   "metadata": {},
   "source": [
    "<div class=\"alert-warning\" style=\"border-radius: 10px; padding: 20px\">\n",
    "<b>Комментарий ревьюера 2 ⚠️</b>\n",
    "\n",
    "Если сравнить только две самые большие категории C (50 - 200) и B (200 - 1 млн), выходит что заемщики с более высоким доходом являются более надежными.\n",
    "\n",
    "Также в качестве рекомендации можно предложить банку изменить градацию дохода, чтобы получить более сбалансированные выборки.</div>"
   ]
  },
  {
   "cell_type": "markdown",
   "id": "54cdbb32",
   "metadata": {},
   "source": [
    "<div class=\"alert-info\" style=\"padding: 20px; border-radius: 10px\">\n",
    "<b>Комментарий студента 💎</b>\n",
    "\n",
    "Не прослеживается явная зависимость между уровнем дохода и возвратом кредита в срок, поскольку размеры групп не позволяют нам сделать корректный вывод. Категория граждан (С) со средним доходом (50001–200000) больше подвержены риску стать должниками.  Категории \"A\", \"D\", \"E\" мы не берем в расчет из-за маленькой выборки, а выводы делаем опираясь на категории B и C. Сравнивая эти категории делаем вывод, что наибольший риск стать должниками у категории C, а наименьший у категории B. Скорее всего, у граждан категории C, D, E потребности превышают их доход. Категории E и D, возможно, редко одобряют кредит в связи с низким доходом. Категории C одобряют кредит значительно чаще. Категории A и B берут кредит на дорогостоящие покупки или развитие бизнеса.</div>"
   ]
  },
  {
   "cell_type": "markdown",
   "id": "da354166",
   "metadata": {},
   "source": [
    "<div class=\"alert-danger\" style=\"padding: 20px; border-radius: 10px\">\n",
    "<b>Комментарий ревьюера ❌</b></h5>\n",
    "\n",
    "<s>Посмотри, как сильно отличаются группы по количеству участников.\n",
    "\n",
    "Какую можно выявить зависимость, если сравнить только две самые многочисленные выборки? И какую рекомендацию можно предложить заказчику по данному фактору?"
   ]
  },
  {
   "cell_type": "markdown",
   "id": "1dcc9b12",
   "metadata": {
    "deletable": false,
    "editable": false,
    "id": "1dcc9b12"
   },
   "source": [
    "#### 3.4 Как разные цели кредита влияют на его возврат в срок?"
   ]
  },
  {
   "cell_type": "code",
   "execution_count": 26,
   "id": "c602bc8b",
   "metadata": {
    "deletable": false,
    "id": "c602bc8b"
   },
   "outputs": [],
   "source": [
    "def categorize_purpose(row):\n",
    "    try:\n",
    "        if 'автом' in row:\n",
    "            return 'операции с автомобилем'\n",
    "        elif 'жил' in row or 'недвиж' in row:\n",
    "            return 'операции с недвижимостью'\n",
    "        elif 'свад' in row:\n",
    "            return 'проведение свадьбы'\n",
    "        elif 'образов' in row:\n",
    "            return 'получение образования'\n",
    "    except:\n",
    "        return 'нет категории'"
   ]
  },
  {
   "cell_type": "code",
   "execution_count": 27,
   "id": "489ce4e2",
   "metadata": {},
   "outputs": [],
   "source": [
    "data['purpose_category'] = data['purpose'].apply(categorize_purpose)"
   ]
  },
  {
   "cell_type": "markdown",
   "id": "890f9e3d",
   "metadata": {},
   "source": [
    "<div class=\"alert-warning\" style=\"padding: 20px; border-radius: 10px\">\n",
    "<b>Комментарий ревьюера ⚠️</b>\n",
    "\n",
    "Категоризация по целям кредита уже была сделана в п. 18."
   ]
  },
  {
   "cell_type": "code",
   "execution_count": 28,
   "id": "841476dd",
   "metadata": {},
   "outputs": [
    {
     "data": {
      "text/html": [
       "<div>\n",
       "<style scoped>\n",
       "    .dataframe tbody tr th:only-of-type {\n",
       "        vertical-align: middle;\n",
       "    }\n",
       "\n",
       "    .dataframe tbody tr th {\n",
       "        vertical-align: top;\n",
       "    }\n",
       "\n",
       "    .dataframe thead th {\n",
       "        text-align: right;\n",
       "    }\n",
       "</style>\n",
       "<table border=\"1\" class=\"dataframe\">\n",
       "  <thead>\n",
       "    <tr style=\"text-align: right;\">\n",
       "      <th></th>\n",
       "      <th>count</th>\n",
       "      <th>sum</th>\n",
       "      <th>mean</th>\n",
       "    </tr>\n",
       "    <tr>\n",
       "      <th>purpose_category</th>\n",
       "      <th></th>\n",
       "      <th></th>\n",
       "      <th></th>\n",
       "    </tr>\n",
       "  </thead>\n",
       "  <tbody>\n",
       "    <tr>\n",
       "      <th>операции с автомобилем</th>\n",
       "      <td>4279</td>\n",
       "      <td>400</td>\n",
       "      <td>0.093480</td>\n",
       "    </tr>\n",
       "    <tr>\n",
       "      <th>операции с недвижимостью</th>\n",
       "      <td>10751</td>\n",
       "      <td>780</td>\n",
       "      <td>0.072551</td>\n",
       "    </tr>\n",
       "    <tr>\n",
       "      <th>получение образования</th>\n",
       "      <td>3988</td>\n",
       "      <td>369</td>\n",
       "      <td>0.092528</td>\n",
       "    </tr>\n",
       "    <tr>\n",
       "      <th>проведение свадьбы</th>\n",
       "      <td>2313</td>\n",
       "      <td>183</td>\n",
       "      <td>0.079118</td>\n",
       "    </tr>\n",
       "  </tbody>\n",
       "</table>\n",
       "</div>"
      ],
      "text/plain": [
       "                          count  sum      mean\n",
       "purpose_category                              \n",
       "операции с автомобилем     4279  400  0.093480\n",
       "операции с недвижимостью  10751  780  0.072551\n",
       "получение образования      3988  369  0.092528\n",
       "проведение свадьбы         2313  183  0.079118"
      ]
     },
     "execution_count": 28,
     "metadata": {},
     "output_type": "execute_result"
    }
   ],
   "source": [
    "data.groupby('purpose_category')['debt'].agg(['count', 'sum', 'mean'])"
   ]
  },
  {
   "cell_type": "markdown",
   "id": "cf05ed63",
   "metadata": {
    "deletable": false,
    "id": "cf05ed63"
   },
   "source": [
    "**Вывод:*Граждане, берущие кредиты на получение образования и операции с автомобилем больше подвержены риску стать должниками. Граждане, которые берут кредит для проведения операций с недвижимостью более отвественно подходят к его погашению.* "
   ]
  },
  {
   "cell_type": "markdown",
   "id": "109076a1",
   "metadata": {},
   "source": [
    "<div class=\"alert-success\" style=\"padding: 20px; border-radius: 10px\">\n",
    "<b>Комментарий ревьюера ✔️</b>\n",
    "\n",
    "Все верно!"
   ]
  },
  {
   "cell_type": "markdown",
   "id": "46c1f10b",
   "metadata": {
    "deletable": false,
    "editable": false,
    "id": "46c1f10b"
   },
   "source": [
    "#### 3.5 Приведите возможные причины появления пропусков в исходных данных."
   ]
  },
  {
   "cell_type": "markdown",
   "id": "3697d2a9",
   "metadata": {
    "deletable": false,
    "id": "3697d2a9"
   },
   "source": [
    "*Ответ:*Причинами могут быть: неверный ввод данных, ошибки в обработке данных, повреждение файла данных при сохранении, технические проблемы. "
   ]
  },
  {
   "cell_type": "markdown",
   "id": "770b5576",
   "metadata": {},
   "source": [
    "<div class=\"alert-success\" style=\"padding: 20px; border-radius: 10px\">\n",
    "<b>Комментарий ревьюера ✔️</b>\n",
    "\n",
    "Предположения о причинах возникновении пропусков правильные: либо человеческий фактор, либо техническая ошибка. </div>"
   ]
  },
  {
   "cell_type": "markdown",
   "id": "3137d257",
   "metadata": {
    "deletable": false,
    "editable": false,
    "id": "3137d257"
   },
   "source": [
    "#### 3.6 Объясните, почему заполнить пропуски медианным значением — лучшее решение для количественных переменных."
   ]
  },
  {
   "cell_type": "markdown",
   "id": "cf40012a",
   "metadata": {
    "deletable": false,
    "id": "cf40012a"
   },
   "source": [
    "*Ответ:*Медиана устойчива к выбросам и аномальным значениям"
   ]
  },
  {
   "cell_type": "markdown",
   "id": "5c6ab87f",
   "metadata": {},
   "source": [
    "<div class=\"alert-success\" style=\"padding: 20px; border-radius: 10px\">\n",
    "<b>Комментарий ревьюера ✔️</b>\n",
    "\n",
    "Точно!"
   ]
  },
  {
   "cell_type": "markdown",
   "id": "57bc304e",
   "metadata": {
    "deletable": false,
    "editable": false,
    "id": "57bc304e"
   },
   "source": [
    "### Шаг 4: общий вывод."
   ]
  },
  {
   "cell_type": "markdown",
   "id": "1ab75d1c",
   "metadata": {
    "deletable": false,
    "id": "1ab75d1c"
   },
   "source": [
    "1.\n",
    "Наличие детей повышает вероятность задолжености.\n",
    "Люди в гражданском браке и люди, не состоящие в браке, больше подвержены риску стать должниками.\n",
    "Категория граждан с самым низким доходом (<30000 руб.) и со средним доходом (50001-2000000) больше подвержены риску стать должниками.\n",
    "Граждане, берущие кредиты на получение образования и операции с автомобилем больше подвержены риску стать должниками.\n",
    "2.\n",
    "Причинами появления пропусков в данных могут быть: неверный ввод данных, ошибки в обработке данных, повреждение файла данных при сохранении, технические проблемы.\n",
    "Заполнение пропусков для количественных переменных медианой является лучшим решением из-за устойчивости медианы к выбросам и аномальным значениям."
   ]
  },
  {
   "cell_type": "markdown",
   "id": "9961de4d",
   "metadata": {},
   "source": [
    "<div class=\"alert-info\" style=\"padding: 20px; border-radius: 10px\">\n",
    "<b>Комментарий студента 💎</b>\n",
    "\n",
    "В ходе исследования надёжности заемщиков были изучены полученные данные, обработаны и заполнены пропуски, удалены дубликаты и заёмщики были объединены в группы по разным параметрам. По итогам проделанной работы по поставленным вопросам можно сделать следующие выводы:\n",
    "Наличие детей у заёмщиков увеличивает вероятность возникновения задолженности. Люди в гражданском браке и люди, не состоящие в браке, больше подвержены риску стать должниками. Люди с доходом от 50001 до 200000 также сталкиваются с повышенным риском задолженности. Граждане, берущие кредиты на получение образования и операции с автомобилем больше подвержены риску стать должниками. Причинами появления пропусков в данных могут быть: неверный ввод данных, ошибки в обработке данных, повреждение файла данных при сохранении, технические проблемы. Заполнение пропусков для количественных переменных медианой является лучшим решением из-за устойчивости медианы к выбросам и аномальным значениям.\n",
    "\n",
    "</div>"
   ]
  },
  {
   "cell_type": "markdown",
   "id": "c74fcc76",
   "metadata": {},
   "source": [
    "<div class=\"alert-success\" style=\"padding: 20px; border-radius: 10px\">\n",
    "<b>Комментарий ревьюера 2 ✔️</b>\n",
    "\n",
    "Хорошо. Можно разбить вывод на смысловые абзацы для легкости чтения."
   ]
  },
  {
   "cell_type": "markdown",
   "id": "934ff3fd",
   "metadata": {},
   "source": [
    "<div class=\"alert-warning\" style=\"padding: 20px; border-radius: 10px\">\n",
    "<b>Комментарий ревьюера ⚠️</b>\n",
    "\n",
    "<s>Я бы предложил немного скорректировать итоговый вывод:\n",
    "    \n",
    "- начать с абзаца с описания исходных данных и что было сделано на стадии предобработки\n",
    "- поправить формулировки зависимостей после доработки проекта\n",
    "- завершить вывод какой-то рекомендацией заказчику (например, посоветовать отобрать определенные признаки для прогнозирования в будущем, или дать рекомендации о том, как избежать появления пропущенных значений при сборе данных)."
   ]
  },
  {
   "cell_type": "markdown",
   "id": "df45e648",
   "metadata": {},
   "source": [
    "<div style=\"border:solid steelblue 3px; padding: 20px; border-radius: 10px\">\n",
    "\n",
    "<h5><b>🏁 Общий комментарий ревьюера:</b></h5>\n",
    "\n",
    "Ты хорошо поработала над проектом, но нужно кое-что исправить, чтобы я его принял.\n",
    "\n",
    "У меня только одно критическое замечание - касательно выявления зависимости просрочки от уровня дохода.\n",
    "\n",
    "Также, постарайся отработать желтые комментарии.\n",
    "\n",
    "Буду ждать твой доработанный проект. ⌛️</div>"
   ]
  },
  {
   "cell_type": "markdown",
   "id": "3cbb310e",
   "metadata": {},
   "source": [
    "<div style=\"border:solid steelblue 3px; padding: 20px; border-radius: 10px\">\n",
    "\n",
    "<h5><b>🏁 Общий комментарий ревьюера 2</b></h5>\n",
    "\n",
    "Спасибо, что доработала проект! Критических замечаний больше нет, получилась очень хорошая работа.\n",
    "\n",
    "Успехов в дальнейшем обучении! 🏆\n",
    "\n",
    "</div>"
   ]
  },
  {
   "cell_type": "code",
   "execution_count": null,
   "id": "79581f32",
   "metadata": {},
   "outputs": [],
   "source": []
  }
 ],
 "metadata": {
  "ExecuteTimeLog": [
   {
    "duration": 50,
    "start_time": "2024-01-30T15:21:27.392Z"
   },
   {
    "duration": 7,
    "start_time": "2024-01-30T15:21:47.760Z"
   },
   {
    "duration": 6,
    "start_time": "2024-01-30T15:22:24.531Z"
   },
   {
    "duration": 7,
    "start_time": "2024-01-30T15:22:44.043Z"
   },
   {
    "duration": 47,
    "start_time": "2024-02-08T09:30:01.195Z"
   },
   {
    "duration": 5,
    "start_time": "2024-02-08T09:30:02.413Z"
   },
   {
    "duration": 5,
    "start_time": "2024-02-08T09:30:04.818Z"
   },
   {
    "duration": 6,
    "start_time": "2024-02-08T09:30:28.264Z"
   },
   {
    "duration": 504,
    "start_time": "2024-02-08T09:37:06.919Z"
   },
   {
    "duration": 21,
    "start_time": "2024-02-08T09:37:07.424Z"
   },
   {
    "duration": 13,
    "start_time": "2024-02-08T09:37:07.447Z"
   },
   {
    "duration": 9,
    "start_time": "2024-02-08T09:37:07.462Z"
   },
   {
    "duration": 39,
    "start_time": "2024-02-08T09:37:07.472Z"
   },
   {
    "duration": 3,
    "start_time": "2024-02-08T09:37:07.512Z"
   },
   {
    "duration": 11,
    "start_time": "2024-02-08T09:37:07.516Z"
   },
   {
    "duration": 3,
    "start_time": "2024-02-08T09:37:07.528Z"
   },
   {
    "duration": 7,
    "start_time": "2024-02-08T09:37:07.532Z"
   },
   {
    "duration": 4,
    "start_time": "2024-02-08T09:37:07.542Z"
   },
   {
    "duration": 55,
    "start_time": "2024-02-08T09:37:07.547Z"
   },
   {
    "duration": 9,
    "start_time": "2024-02-08T09:37:07.604Z"
   },
   {
    "duration": 40,
    "start_time": "2024-02-08T09:37:07.614Z"
   },
   {
    "duration": 24,
    "start_time": "2024-02-08T09:37:07.655Z"
   },
   {
    "duration": 27,
    "start_time": "2024-02-08T09:37:07.680Z"
   },
   {
    "duration": 16,
    "start_time": "2024-02-08T09:37:07.708Z"
   },
   {
    "duration": 28,
    "start_time": "2024-02-08T09:37:07.725Z"
   },
   {
    "duration": 44,
    "start_time": "2024-02-08T09:37:07.754Z"
   },
   {
    "duration": 5,
    "start_time": "2024-02-08T09:37:07.800Z"
   },
   {
    "duration": 3,
    "start_time": "2024-02-08T09:37:07.807Z"
   },
   {
    "duration": 11,
    "start_time": "2024-02-08T09:37:07.811Z"
   },
   {
    "duration": 19,
    "start_time": "2024-02-08T09:37:07.824Z"
   },
   {
    "duration": 15,
    "start_time": "2024-02-08T09:37:07.844Z"
   },
   {
    "duration": 9,
    "start_time": "2024-02-08T09:37:07.861Z"
   },
   {
    "duration": 12,
    "start_time": "2024-02-08T09:37:07.871Z"
   },
   {
    "duration": 11,
    "start_time": "2024-02-08T09:43:42.694Z"
   },
   {
    "duration": 61,
    "start_time": "2024-02-08T09:47:44.978Z"
   },
   {
    "duration": 449,
    "start_time": "2024-02-08T09:48:21.011Z"
   },
   {
    "duration": 21,
    "start_time": "2024-02-08T09:48:21.462Z"
   },
   {
    "duration": 16,
    "start_time": "2024-02-08T09:48:21.485Z"
   },
   {
    "duration": 11,
    "start_time": "2024-02-08T09:48:21.503Z"
   },
   {
    "duration": 35,
    "start_time": "2024-02-08T09:48:21.515Z"
   },
   {
    "duration": 3,
    "start_time": "2024-02-08T09:48:21.552Z"
   },
   {
    "duration": 12,
    "start_time": "2024-02-08T09:48:21.557Z"
   },
   {
    "duration": 17,
    "start_time": "2024-02-08T09:48:21.571Z"
   },
   {
    "duration": 8,
    "start_time": "2024-02-08T09:48:21.589Z"
   },
   {
    "duration": 5,
    "start_time": "2024-02-08T09:48:21.600Z"
   },
   {
    "duration": 34,
    "start_time": "2024-02-08T09:48:21.606Z"
   },
   {
    "duration": 11,
    "start_time": "2024-02-08T09:48:21.642Z"
   },
   {
    "duration": 3,
    "start_time": "2024-02-08T09:48:21.687Z"
   },
   {
    "duration": 15,
    "start_time": "2024-02-08T09:48:21.691Z"
   },
   {
    "duration": 33,
    "start_time": "2024-02-08T09:48:21.708Z"
   },
   {
    "duration": 17,
    "start_time": "2024-02-08T09:48:21.742Z"
   },
   {
    "duration": 3,
    "start_time": "2024-02-08T09:48:21.760Z"
   },
   {
    "duration": 12,
    "start_time": "2024-02-08T09:48:21.764Z"
   },
   {
    "duration": 14,
    "start_time": "2024-02-08T09:48:21.777Z"
   },
   {
    "duration": 3,
    "start_time": "2024-02-08T09:48:21.792Z"
   },
   {
    "duration": 9,
    "start_time": "2024-02-08T09:48:21.796Z"
   },
   {
    "duration": 10,
    "start_time": "2024-02-08T09:48:21.806Z"
   },
   {
    "duration": 10,
    "start_time": "2024-02-08T09:48:21.817Z"
   },
   {
    "duration": 83,
    "start_time": "2024-02-08T09:48:21.828Z"
   },
   {
    "duration": 0,
    "start_time": "2024-02-08T09:48:21.913Z"
   },
   {
    "duration": 0,
    "start_time": "2024-02-08T09:48:21.914Z"
   },
   {
    "duration": 420,
    "start_time": "2024-02-08T09:51:34.637Z"
   },
   {
    "duration": 20,
    "start_time": "2024-02-08T09:51:35.059Z"
   },
   {
    "duration": 13,
    "start_time": "2024-02-08T09:51:35.081Z"
   },
   {
    "duration": 9,
    "start_time": "2024-02-08T09:51:35.095Z"
   },
   {
    "duration": 42,
    "start_time": "2024-02-08T09:51:35.106Z"
   },
   {
    "duration": 3,
    "start_time": "2024-02-08T09:51:35.150Z"
   },
   {
    "duration": 13,
    "start_time": "2024-02-08T09:51:35.154Z"
   },
   {
    "duration": 4,
    "start_time": "2024-02-08T09:51:35.168Z"
   },
   {
    "duration": 15,
    "start_time": "2024-02-08T09:51:35.173Z"
   },
   {
    "duration": 3,
    "start_time": "2024-02-08T09:51:35.190Z"
   },
   {
    "duration": 52,
    "start_time": "2024-02-08T09:51:35.195Z"
   },
   {
    "duration": 12,
    "start_time": "2024-02-08T09:51:35.248Z"
   },
   {
    "duration": 6,
    "start_time": "2024-02-08T09:51:35.261Z"
   },
   {
    "duration": 19,
    "start_time": "2024-02-08T09:51:35.268Z"
   },
   {
    "duration": 21,
    "start_time": "2024-02-08T09:51:35.288Z"
   },
   {
    "duration": 16,
    "start_time": "2024-02-08T09:51:35.310Z"
   },
   {
    "duration": 3,
    "start_time": "2024-02-08T09:51:35.327Z"
   },
   {
    "duration": 11,
    "start_time": "2024-02-08T09:51:35.331Z"
   },
   {
    "duration": 4,
    "start_time": "2024-02-08T09:51:35.344Z"
   },
   {
    "duration": 3,
    "start_time": "2024-02-08T09:51:35.350Z"
   },
   {
    "duration": 36,
    "start_time": "2024-02-08T09:51:35.354Z"
   },
   {
    "duration": 9,
    "start_time": "2024-02-08T09:51:35.391Z"
   },
   {
    "duration": 16,
    "start_time": "2024-02-08T09:51:35.401Z"
   },
   {
    "duration": 69,
    "start_time": "2024-02-08T09:51:35.419Z"
   },
   {
    "duration": 0,
    "start_time": "2024-02-08T09:51:35.489Z"
   },
   {
    "duration": 0,
    "start_time": "2024-02-08T09:51:35.490Z"
   },
   {
    "duration": 11,
    "start_time": "2024-02-08T09:57:29.517Z"
   },
   {
    "duration": 423,
    "start_time": "2024-02-08T09:57:51.636Z"
   },
   {
    "duration": 20,
    "start_time": "2024-02-08T09:57:52.060Z"
   },
   {
    "duration": 15,
    "start_time": "2024-02-08T09:57:52.081Z"
   },
   {
    "duration": 10,
    "start_time": "2024-02-08T09:57:52.097Z"
   },
   {
    "duration": 33,
    "start_time": "2024-02-08T09:57:52.108Z"
   },
   {
    "duration": 3,
    "start_time": "2024-02-08T09:57:52.142Z"
   },
   {
    "duration": 9,
    "start_time": "2024-02-08T09:57:52.146Z"
   },
   {
    "duration": 4,
    "start_time": "2024-02-08T09:57:52.156Z"
   },
   {
    "duration": 6,
    "start_time": "2024-02-08T09:57:52.161Z"
   },
   {
    "duration": 3,
    "start_time": "2024-02-08T09:57:52.189Z"
   },
   {
    "duration": 35,
    "start_time": "2024-02-08T09:57:52.194Z"
   },
   {
    "duration": 9,
    "start_time": "2024-02-08T09:57:52.231Z"
   },
   {
    "duration": 8,
    "start_time": "2024-02-08T09:57:52.242Z"
   },
   {
    "duration": 11,
    "start_time": "2024-02-08T09:57:52.252Z"
   },
   {
    "duration": 29,
    "start_time": "2024-02-08T09:57:52.265Z"
   },
   {
    "duration": 16,
    "start_time": "2024-02-08T09:57:52.296Z"
   },
   {
    "duration": 3,
    "start_time": "2024-02-08T09:57:52.314Z"
   },
   {
    "duration": 11,
    "start_time": "2024-02-08T09:57:52.319Z"
   },
   {
    "duration": 6,
    "start_time": "2024-02-08T09:57:52.331Z"
   },
   {
    "duration": 4,
    "start_time": "2024-02-08T09:57:52.339Z"
   },
   {
    "duration": 10,
    "start_time": "2024-02-08T09:57:52.344Z"
   },
   {
    "duration": 12,
    "start_time": "2024-02-08T09:57:52.386Z"
   },
   {
    "duration": 15,
    "start_time": "2024-02-08T09:57:52.400Z"
   },
   {
    "duration": 71,
    "start_time": "2024-02-08T09:57:52.417Z"
   },
   {
    "duration": 0,
    "start_time": "2024-02-08T09:57:52.490Z"
   },
   {
    "duration": 0,
    "start_time": "2024-02-08T09:57:52.491Z"
   },
   {
    "duration": 0,
    "start_time": "2024-02-08T09:57:52.493Z"
   },
   {
    "duration": 11,
    "start_time": "2024-02-08T09:58:01.888Z"
   },
   {
    "duration": 11,
    "start_time": "2024-02-08T09:58:04.292Z"
   },
   {
    "duration": 12,
    "start_time": "2024-02-08T09:58:06.037Z"
   },
   {
    "duration": 6,
    "start_time": "2024-02-08T09:58:10.207Z"
   },
   {
    "duration": 6,
    "start_time": "2024-02-08T09:59:04.568Z"
   },
   {
    "duration": 11,
    "start_time": "2024-02-08T10:05:27.912Z"
   },
   {
    "duration": 73,
    "start_time": "2024-02-08T10:06:23.718Z"
   },
   {
    "duration": 70,
    "start_time": "2024-02-08T10:06:24.846Z"
   },
   {
    "duration": 48,
    "start_time": "2024-02-08T10:06:25.812Z"
   },
   {
    "duration": 71,
    "start_time": "2024-02-08T10:06:26.467Z"
   },
   {
    "duration": 50,
    "start_time": "2024-02-08T10:06:27.312Z"
   },
   {
    "duration": 481,
    "start_time": "2024-02-08T15:41:50.029Z"
   },
   {
    "duration": 22,
    "start_time": "2024-02-08T15:41:50.511Z"
   },
   {
    "duration": 43,
    "start_time": "2024-02-08T15:41:50.537Z"
   },
   {
    "duration": 17,
    "start_time": "2024-02-08T15:41:50.582Z"
   },
   {
    "duration": 57,
    "start_time": "2024-02-08T15:41:50.600Z"
   },
   {
    "duration": 3,
    "start_time": "2024-02-08T15:41:50.659Z"
   },
   {
    "duration": 17,
    "start_time": "2024-02-08T15:41:50.663Z"
   },
   {
    "duration": 9,
    "start_time": "2024-02-08T15:41:50.682Z"
   },
   {
    "duration": 42,
    "start_time": "2024-02-08T15:41:50.694Z"
   },
   {
    "duration": 19,
    "start_time": "2024-02-08T15:41:50.738Z"
   },
   {
    "duration": 64,
    "start_time": "2024-02-08T15:41:50.759Z"
   },
   {
    "duration": 9,
    "start_time": "2024-02-08T15:41:50.825Z"
   },
   {
    "duration": 72,
    "start_time": "2024-02-08T15:41:50.835Z"
   },
   {
    "duration": 129,
    "start_time": "2024-02-08T15:41:50.909Z"
   },
   {
    "duration": 61,
    "start_time": "2024-02-08T15:41:51.039Z"
   },
   {
    "duration": 60,
    "start_time": "2024-02-08T15:41:51.102Z"
   },
   {
    "duration": 16,
    "start_time": "2024-02-08T15:41:51.163Z"
   },
   {
    "duration": 33,
    "start_time": "2024-02-08T15:41:51.180Z"
   },
   {
    "duration": 31,
    "start_time": "2024-02-08T15:41:51.214Z"
   },
   {
    "duration": 7,
    "start_time": "2024-02-08T15:41:51.247Z"
   },
   {
    "duration": 13,
    "start_time": "2024-02-08T15:41:51.256Z"
   },
   {
    "duration": 55,
    "start_time": "2024-02-08T15:41:51.271Z"
   },
   {
    "duration": 37,
    "start_time": "2024-02-08T15:41:51.328Z"
   },
   {
    "duration": 23,
    "start_time": "2024-02-08T15:41:51.366Z"
   },
   {
    "duration": 40,
    "start_time": "2024-02-08T15:41:51.391Z"
   },
   {
    "duration": 55,
    "start_time": "2024-02-08T15:41:51.433Z"
   },
   {
    "duration": 34,
    "start_time": "2024-02-08T15:41:51.491Z"
   },
   {
    "duration": 109,
    "start_time": "2024-02-08T15:41:51.526Z"
   },
   {
    "duration": 99,
    "start_time": "2024-02-17T18:12:42.840Z"
   },
   {
    "duration": 611,
    "start_time": "2024-02-19T14:46:32.678Z"
   },
   {
    "duration": 29,
    "start_time": "2024-02-19T14:46:33.291Z"
   },
   {
    "duration": 237,
    "start_time": "2024-02-19T14:46:33.322Z"
   },
   {
    "duration": 12,
    "start_time": "2024-02-19T14:46:33.563Z"
   },
   {
    "duration": 46,
    "start_time": "2024-02-19T14:46:33.576Z"
   },
   {
    "duration": 4,
    "start_time": "2024-02-19T14:46:33.624Z"
   },
   {
    "duration": 11,
    "start_time": "2024-02-19T14:46:33.630Z"
   },
   {
    "duration": 6,
    "start_time": "2024-02-19T14:46:33.642Z"
   },
   {
    "duration": 9,
    "start_time": "2024-02-19T14:46:33.650Z"
   },
   {
    "duration": 5,
    "start_time": "2024-02-19T14:46:33.663Z"
   },
   {
    "duration": 67,
    "start_time": "2024-02-19T14:46:33.670Z"
   },
   {
    "duration": 11,
    "start_time": "2024-02-19T14:46:33.738Z"
   },
   {
    "duration": 9,
    "start_time": "2024-02-19T14:46:33.750Z"
   },
   {
    "duration": 22,
    "start_time": "2024-02-19T14:46:33.760Z"
   },
   {
    "duration": 26,
    "start_time": "2024-02-19T14:46:33.792Z"
   },
   {
    "duration": 18,
    "start_time": "2024-02-19T14:46:33.820Z"
   },
   {
    "duration": 4,
    "start_time": "2024-02-19T14:46:33.839Z"
   },
   {
    "duration": 16,
    "start_time": "2024-02-19T14:46:33.845Z"
   },
   {
    "duration": 33,
    "start_time": "2024-02-19T14:46:33.863Z"
   },
   {
    "duration": 6,
    "start_time": "2024-02-19T14:46:33.898Z"
   },
   {
    "duration": 28,
    "start_time": "2024-02-19T14:46:33.906Z"
   },
   {
    "duration": 15,
    "start_time": "2024-02-19T14:46:33.936Z"
   },
   {
    "duration": 19,
    "start_time": "2024-02-19T14:46:33.952Z"
   },
   {
    "duration": 11,
    "start_time": "2024-02-19T14:46:33.973Z"
   },
   {
    "duration": 26,
    "start_time": "2024-02-19T14:46:33.985Z"
   },
   {
    "duration": 4,
    "start_time": "2024-02-19T14:46:34.013Z"
   },
   {
    "duration": 20,
    "start_time": "2024-02-19T14:46:34.019Z"
   },
   {
    "duration": 17,
    "start_time": "2024-02-19T14:46:34.044Z"
   }
  ],
  "colab": {
   "provenance": []
  },
  "kernelspec": {
   "display_name": "Python 3 (ipykernel)",
   "language": "python",
   "name": "python3"
  },
  "language_info": {
   "codemirror_mode": {
    "name": "ipython",
    "version": 3
   },
   "file_extension": ".py",
   "mimetype": "text/x-python",
   "name": "python",
   "nbconvert_exporter": "python",
   "pygments_lexer": "ipython3",
   "version": "3.9.5"
  },
  "toc": {
   "base_numbering": 1,
   "nav_menu": {},
   "number_sections": true,
   "sideBar": true,
   "skip_h1_title": true,
   "title_cell": "Table of Contents",
   "title_sidebar": "Contents",
   "toc_cell": false,
   "toc_position": {},
   "toc_section_display": true,
   "toc_window_display": true
  }
 },
 "nbformat": 4,
 "nbformat_minor": 5
}
